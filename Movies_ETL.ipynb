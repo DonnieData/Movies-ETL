{
 "cells": [
  {
   "cell_type": "code",
   "execution_count": 10,
   "metadata": {
    "execution": {
     "iopub.execute_input": "2020-11-13T23:26:23.135274Z",
     "iopub.status.busy": "2020-11-13T23:26:23.135274Z",
     "iopub.status.idle": "2020-11-13T23:26:23.138270Z",
     "shell.execute_reply": "2020-11-13T23:26:23.137280Z",
     "shell.execute_reply.started": "2020-11-13T23:26:23.135274Z"
    }
   },
   "outputs": [],
   "source": [
    "import json \n",
    "import pandas as pd \n",
    "import numpy as np "
   ]
  },
  {
   "cell_type": "code",
   "execution_count": 18,
   "metadata": {
    "execution": {
     "iopub.execute_input": "2020-11-13T23:32:41.837758Z",
     "iopub.status.busy": "2020-11-13T23:32:41.837758Z",
     "iopub.status.idle": "2020-11-13T23:32:41.842743Z",
     "shell.execute_reply": "2020-11-13T23:32:41.842743Z",
     "shell.execute_reply.started": "2020-11-13T23:32:41.837758Z"
    }
   },
   "outputs": [
    {
     "data": {
      "text/plain": [
       "'../Resource/wikipedia-movies.json'"
      ]
     },
     "execution_count": 18,
     "metadata": {},
     "output_type": "execute_result"
    }
   ],
   "source": [
    "file_dir = '../Resource/'\n",
    "f'{file_dir}wikipedia-movies.json'"
   ]
  },
  {
   "cell_type": "markdown",
   "metadata": {},
   "source": [
    "## EXTRACT"
   ]
  },
  {
   "cell_type": "markdown",
   "metadata": {
    "execution": {
     "iopub.execute_input": "2020-11-13T19:39:21.570029Z",
     "iopub.status.busy": "2020-11-13T19:39:21.568993Z",
     "iopub.status.idle": "2020-11-13T19:39:21.575486Z",
     "shell.execute_reply": "2020-11-13T19:39:21.574542Z",
     "shell.execute_reply.started": "2020-11-13T19:39:21.570029Z"
    }
   },
   "source": [
    "> load josn file -- into list of dicitonaries"
   ]
  },
  {
   "cell_type": "code",
   "execution_count": 19,
   "metadata": {
    "execution": {
     "iopub.execute_input": "2020-11-13T23:32:43.075137Z",
     "iopub.status.busy": "2020-11-13T23:32:43.075137Z",
     "iopub.status.idle": "2020-11-13T23:32:43.197877Z",
     "shell.execute_reply": "2020-11-13T23:32:43.197877Z",
     "shell.execute_reply.started": "2020-11-13T23:32:43.075137Z"
    }
   },
   "outputs": [],
   "source": [
    "with open(f'{file_dir}wikipedia-movies.json', mode='r') as file:\n",
    "    wiki_movies_raw = json.load(file)"
   ]
  },
  {
   "cell_type": "code",
   "execution_count": 20,
   "metadata": {
    "execution": {
     "iopub.execute_input": "2020-11-13T23:32:45.526613Z",
     "iopub.status.busy": "2020-11-13T23:32:45.526613Z",
     "iopub.status.idle": "2020-11-13T23:32:45.532123Z",
     "shell.execute_reply": "2020-11-13T23:32:45.531599Z",
     "shell.execute_reply.started": "2020-11-13T23:32:45.526613Z"
    }
   },
   "outputs": [
    {
     "data": {
      "text/plain": [
       "7311"
      ]
     },
     "execution_count": 20,
     "metadata": {},
     "output_type": "execute_result"
    }
   ],
   "source": [
    "len(wiki_movies_raw)"
   ]
  },
  {
   "cell_type": "code",
   "execution_count": 21,
   "metadata": {
    "execution": {
     "iopub.execute_input": "2020-11-13T23:32:46.494747Z",
     "iopub.status.busy": "2020-11-13T23:32:46.494747Z",
     "iopub.status.idle": "2020-11-13T23:32:46.501728Z",
     "shell.execute_reply": "2020-11-13T23:32:46.500741Z",
     "shell.execute_reply.started": "2020-11-13T23:32:46.494747Z"
    }
   },
   "outputs": [
    {
     "data": {
      "text/plain": [
       "dict_keys(['url', 'year', 'imdb_link', 'title', 'Directed by', 'Produced by', 'Screenplay by', 'Story by', 'Based on', 'Starring', 'Narrated by', 'Music by', 'Cinematography', 'Edited by', 'Productioncompany ', 'Distributed by', 'Release date', 'Running time', 'Country', 'Language', 'Budget', 'Box office'])"
      ]
     },
     "execution_count": 21,
     "metadata": {},
     "output_type": "execute_result"
    }
   ],
   "source": [
    "wiki_movies_raw[0].keys()"
   ]
  },
  {
   "cell_type": "code",
   "execution_count": 22,
   "metadata": {
    "execution": {
     "iopub.execute_input": "2020-11-13T23:32:47.461636Z",
     "iopub.status.busy": "2020-11-13T23:32:47.461636Z",
     "iopub.status.idle": "2020-11-13T23:32:47.467144Z",
     "shell.execute_reply": "2020-11-13T23:32:47.466623Z",
     "shell.execute_reply.started": "2020-11-13T23:32:47.461636Z"
    }
   },
   "outputs": [
    {
     "data": {
      "text/plain": [
       "dict_keys(['url', 'year', 'imdb_link', 'title', 'Directed by', 'Produced by', 'Written by', 'Starring', 'Distributed by', 'Release date', 'Running time', 'Language', 'Box office'])"
      ]
     },
     "execution_count": 22,
     "metadata": {},
     "output_type": "execute_result"
    }
   ],
   "source": [
    "wiki_movies_raw[3609].keys()"
   ]
  },
  {
   "cell_type": "code",
   "execution_count": 23,
   "metadata": {
    "execution": {
     "iopub.execute_input": "2020-11-13T23:32:48.159402Z",
     "iopub.status.busy": "2020-11-13T23:32:48.159402Z",
     "iopub.status.idle": "2020-11-13T23:32:48.165597Z",
     "shell.execute_reply": "2020-11-13T23:32:48.165597Z",
     "shell.execute_reply.started": "2020-11-13T23:32:48.159402Z"
    }
   },
   "outputs": [
    {
     "data": {
      "text/plain": [
       "{'url': 'https://en.wikipedia.org/wiki/Book_of_Love_(2004_film)',\n",
       " 'year': 2004,\n",
       " 'imdb_link': 'https://www.imdb.com/title/tt0376006/',\n",
       " 'title': 'Book of Love',\n",
       " 'Directed by': 'Alan Brown',\n",
       " 'Produced by': 'Robert Ahrens',\n",
       " 'Written by': 'Alan Brown',\n",
       " 'Starring': [\"Frances O'Connor\",\n",
       "  'Bryce Dallas Howard',\n",
       "  'Simon Baker',\n",
       "  'Gregory Smith'],\n",
       " 'Distributed by': 'Sundance',\n",
       " 'Release date': ['January 18, 2004', '(', '2004-01-18', ')'],\n",
       " 'Running time': '83 min',\n",
       " 'Language': 'English',\n",
       " 'Box office': '$1,382,259'}"
      ]
     },
     "execution_count": 23,
     "metadata": {},
     "output_type": "execute_result"
    }
   ],
   "source": [
    "wiki_movies_raw[3609]"
   ]
  },
  {
   "cell_type": "code",
   "execution_count": 24,
   "metadata": {
    "execution": {
     "iopub.execute_input": "2020-11-13T23:32:49.735699Z",
     "iopub.status.busy": "2020-11-13T23:32:49.735699Z",
     "iopub.status.idle": "2020-11-13T23:32:49.742201Z",
     "shell.execute_reply": "2020-11-13T23:32:49.741683Z",
     "shell.execute_reply.started": "2020-11-13T23:32:49.735699Z"
    }
   },
   "outputs": [
    {
     "data": {
      "text/plain": [
       "dict_keys(['url', 'year', 'imdb_link', 'title', 'Directed by', 'Produced by', 'Screenplay by', 'Based on', 'Starring', 'Music by', 'Cinematography', 'Edited by', 'Productioncompanies ', 'Distributed by', 'Release date', 'Running time', 'Country', 'Language', 'Budget', 'Box office'])"
      ]
     },
     "execution_count": 24,
     "metadata": {},
     "output_type": "execute_result"
    }
   ],
   "source": [
    "wiki_movies_raw[-5].keys()"
   ]
  },
  {
   "cell_type": "code",
   "execution_count": 25,
   "metadata": {
    "execution": {
     "iopub.execute_input": "2020-11-13T23:32:52.636628Z",
     "iopub.status.busy": "2020-11-13T23:32:52.636628Z",
     "iopub.status.idle": "2020-11-13T23:32:52.642729Z",
     "shell.execute_reply": "2020-11-13T23:32:52.642729Z",
     "shell.execute_reply.started": "2020-11-13T23:32:52.636628Z"
    }
   },
   "outputs": [
    {
     "data": {
      "text/plain": [
       "{'url': 'https://en.wikipedia.org/wiki/Holmes_%26_Watson',\n",
       " 'year': 2018,\n",
       " 'imdb_link': 'https://www.imdb.com/title/tt1255919/',\n",
       " 'title': 'Holmes & Watson',\n",
       " 'Directed by': 'Etan Cohen',\n",
       " 'Produced by': ['Will Ferrell',\n",
       "  'Adam McKay',\n",
       "  'Jimmy Miller',\n",
       "  'Clayton Townsend'],\n",
       " 'Screenplay by': 'Etan Cohen',\n",
       " 'Based on': ['Sherlock Holmes',\n",
       "  'and',\n",
       "  'Dr. Watson',\n",
       "  'by',\n",
       "  'Sir Arthur Conan Doyle'],\n",
       " 'Starring': ['Will Ferrell',\n",
       "  'John C. Reilly',\n",
       "  'Rebecca Hall',\n",
       "  'Rob Brydon',\n",
       "  'Steve Coogan',\n",
       "  'Ralph Fiennes'],\n",
       " 'Music by': 'Mark Mothersbaugh',\n",
       " 'Cinematography': 'Oliver Wood',\n",
       " 'Edited by': 'Dean Zimmerman',\n",
       " 'Productioncompanies ': ['Columbia Pictures',\n",
       "  'Gary Sanchez Productions',\n",
       "  'Mosaic Media Group',\n",
       "  'Mimran Schur Pictures'],\n",
       " 'Distributed by': 'Sony Pictures Releasing',\n",
       " 'Release date': ['December 25, 2018',\n",
       "  '(',\n",
       "  '2018-12-25',\n",
       "  ')',\n",
       "  '(United States)'],\n",
       " 'Running time': '90 minutes',\n",
       " 'Country': 'United States',\n",
       " 'Language': 'English',\n",
       " 'Budget': '$42 million',\n",
       " 'Box office': '$41.9 million'}"
      ]
     },
     "execution_count": 25,
     "metadata": {},
     "output_type": "execute_result"
    }
   ],
   "source": [
    "wiki_movies_raw[-5]"
   ]
  },
  {
   "cell_type": "code",
   "execution_count": 34,
   "metadata": {
    "execution": {
     "iopub.execute_input": "2020-11-13T23:36:38.534842Z",
     "iopub.status.busy": "2020-11-13T23:36:38.534842Z",
     "iopub.status.idle": "2020-11-13T23:36:39.193081Z",
     "shell.execute_reply": "2020-11-13T23:36:39.192083Z",
     "shell.execute_reply.started": "2020-11-13T23:36:38.534842Z"
    }
   },
   "outputs": [
    {
     "name": "stderr",
     "output_type": "stream",
     "text": [
      "C:\\Users\\Donne\\AppData\\Roaming\\Python\\Python37\\site-packages\\IPython\\core\\interactiveshell.py:3146: DtypeWarning: Columns (10) have mixed types.Specify dtype option on import or set low_memory=False.\n",
      "  interactivity=interactivity, compiler=compiler, result=result)\n"
     ]
    }
   ],
   "source": [
    "kaggle_metadata = pd.read_csv('C:/Users/Donne/OneDrive/UT_Data_Analytics/Analysis Projects/Mod8_Movies_ETL/Resource/movies_metadata.csv')"
   ]
  },
  {
   "cell_type": "code",
   "execution_count": null,
   "metadata": {},
   "outputs": [],
   "source": []
  }
 ],
 "metadata": {
  "kernelspec": {
   "display_name": "PythonData",
   "language": "python",
   "name": "pythondata"
  },
  "language_info": {
   "codemirror_mode": {
    "name": "ipython",
    "version": 3
   },
   "file_extension": ".py",
   "mimetype": "text/x-python",
   "name": "python",
   "nbconvert_exporter": "python",
   "pygments_lexer": "ipython3",
   "version": "3.7.9"
  }
 },
 "nbformat": 4,
 "nbformat_minor": 4
}
