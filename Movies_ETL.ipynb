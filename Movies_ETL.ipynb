{
 "cells": [
  {
   "cell_type": "code",
   "execution_count": 1,
   "metadata": {
    "execution": {
     "iopub.execute_input": "2020-11-19T18:46:29.573028Z",
     "iopub.status.busy": "2020-11-19T18:46:29.573028Z",
     "iopub.status.idle": "2020-11-19T18:46:30.085661Z",
     "shell.execute_reply": "2020-11-19T18:46:30.085661Z",
     "shell.execute_reply.started": "2020-11-19T18:46:29.573028Z"
    }
   },
   "outputs": [],
   "source": [
    "import json \n",
    "import pandas as pd \n",
    "import numpy as np \n",
    "import re"
   ]
  },
  {
   "cell_type": "code",
   "execution_count": 2,
   "metadata": {
    "execution": {
     "iopub.execute_input": "2020-11-19T18:46:30.087620Z",
     "iopub.status.busy": "2020-11-19T18:46:30.087620Z",
     "iopub.status.idle": "2020-11-19T18:46:30.101603Z",
     "shell.execute_reply": "2020-11-19T18:46:30.101603Z",
     "shell.execute_reply.started": "2020-11-19T18:46:30.087620Z"
    }
   },
   "outputs": [
    {
     "data": {
      "text/plain": [
       "'../Resource/wikipedia-movies.json'"
      ]
     },
     "execution_count": 2,
     "metadata": {},
     "output_type": "execute_result"
    }
   ],
   "source": [
    "file_dir = '../Resource/'\n",
    "f'{file_dir}wikipedia-movies.json'"
   ]
  },
  {
   "cell_type": "markdown",
   "metadata": {},
   "source": [
    "## EXTRACT"
   ]
  },
  {
   "cell_type": "markdown",
   "metadata": {
    "execution": {
     "iopub.execute_input": "2020-11-13T19:39:21.570029Z",
     "iopub.status.busy": "2020-11-13T19:39:21.568993Z",
     "iopub.status.idle": "2020-11-13T19:39:21.575486Z",
     "shell.execute_reply": "2020-11-13T19:39:21.574542Z",
     "shell.execute_reply.started": "2020-11-13T19:39:21.570029Z"
    }
   },
   "source": [
    "> load josn file -- into list of dicitonaries"
   ]
  },
  {
   "cell_type": "code",
   "execution_count": 3,
   "metadata": {
    "execution": {
     "iopub.execute_input": "2020-11-19T18:46:30.103576Z",
     "iopub.status.busy": "2020-11-19T18:46:30.103576Z",
     "iopub.status.idle": "2020-11-19T18:46:30.213283Z",
     "shell.execute_reply": "2020-11-19T18:46:30.213283Z",
     "shell.execute_reply.started": "2020-11-19T18:46:30.103576Z"
    }
   },
   "outputs": [],
   "source": [
    "with open(f'{file_dir}wikipedia-movies.json', mode='r') as file:\n",
    "    wiki_movies_raw = json.load(file)"
   ]
  },
  {
   "cell_type": "code",
   "execution_count": 4,
   "metadata": {
    "execution": {
     "iopub.execute_input": "2020-11-19T18:46:30.215278Z",
     "iopub.status.busy": "2020-11-19T18:46:30.214280Z",
     "iopub.status.idle": "2020-11-19T18:46:30.221263Z",
     "shell.execute_reply": "2020-11-19T18:46:30.220265Z",
     "shell.execute_reply.started": "2020-11-19T18:46:30.215278Z"
    }
   },
   "outputs": [
    {
     "data": {
      "text/plain": [
       "7311"
      ]
     },
     "execution_count": 4,
     "metadata": {},
     "output_type": "execute_result"
    }
   ],
   "source": [
    "len(wiki_movies_raw)"
   ]
  },
  {
   "cell_type": "code",
   "execution_count": 5,
   "metadata": {
    "execution": {
     "iopub.execute_input": "2020-11-19T18:46:30.223259Z",
     "iopub.status.busy": "2020-11-19T18:46:30.222260Z",
     "iopub.status.idle": "2020-11-19T18:46:30.230275Z",
     "shell.execute_reply": "2020-11-19T18:46:30.230275Z",
     "shell.execute_reply.started": "2020-11-19T18:46:30.223259Z"
    }
   },
   "outputs": [
    {
     "data": {
      "text/plain": [
       "dict_keys(['url', 'year', 'imdb_link', 'title', 'Directed by', 'Produced by', 'Screenplay by', 'Story by', 'Based on', 'Starring', 'Narrated by', 'Music by', 'Cinematography', 'Edited by', 'Productioncompany ', 'Distributed by', 'Release date', 'Running time', 'Country', 'Language', 'Budget', 'Box office'])"
      ]
     },
     "execution_count": 5,
     "metadata": {},
     "output_type": "execute_result"
    }
   ],
   "source": [
    "wiki_movies_raw[0].keys()"
   ]
  },
  {
   "cell_type": "code",
   "execution_count": 6,
   "metadata": {
    "execution": {
     "iopub.execute_input": "2020-11-19T18:46:30.231236Z",
     "iopub.status.busy": "2020-11-19T18:46:30.231236Z",
     "iopub.status.idle": "2020-11-19T18:46:30.243204Z",
     "shell.execute_reply": "2020-11-19T18:46:30.242207Z",
     "shell.execute_reply.started": "2020-11-19T18:46:30.231236Z"
    }
   },
   "outputs": [
    {
     "data": {
      "text/plain": [
       "dict_keys(['url', 'year', 'imdb_link', 'title', 'Directed by', 'Produced by', 'Written by', 'Starring', 'Distributed by', 'Release date', 'Running time', 'Language', 'Box office'])"
      ]
     },
     "execution_count": 6,
     "metadata": {},
     "output_type": "execute_result"
    }
   ],
   "source": [
    "wiki_movies_raw[3609].keys()"
   ]
  },
  {
   "cell_type": "code",
   "execution_count": 7,
   "metadata": {
    "execution": {
     "iopub.execute_input": "2020-11-19T18:46:30.244201Z",
     "iopub.status.busy": "2020-11-19T18:46:30.244201Z",
     "iopub.status.idle": "2020-11-19T18:46:30.257172Z",
     "shell.execute_reply": "2020-11-19T18:46:30.257172Z",
     "shell.execute_reply.started": "2020-11-19T18:46:30.244201Z"
    }
   },
   "outputs": [
    {
     "data": {
      "text/plain": [
       "{'url': 'https://en.wikipedia.org/wiki/Book_of_Love_(2004_film)',\n",
       " 'year': 2004,\n",
       " 'imdb_link': 'https://www.imdb.com/title/tt0376006/',\n",
       " 'title': 'Book of Love',\n",
       " 'Directed by': 'Alan Brown',\n",
       " 'Produced by': 'Robert Ahrens',\n",
       " 'Written by': 'Alan Brown',\n",
       " 'Starring': [\"Frances O'Connor\",\n",
       "  'Bryce Dallas Howard',\n",
       "  'Simon Baker',\n",
       "  'Gregory Smith'],\n",
       " 'Distributed by': 'Sundance',\n",
       " 'Release date': ['January 18, 2004', '(', '2004-01-18', ')'],\n",
       " 'Running time': '83 min',\n",
       " 'Language': 'English',\n",
       " 'Box office': '$1,382,259'}"
      ]
     },
     "execution_count": 7,
     "metadata": {},
     "output_type": "execute_result"
    }
   ],
   "source": [
    "wiki_movies_raw[3609]"
   ]
  },
  {
   "cell_type": "code",
   "execution_count": 8,
   "metadata": {
    "execution": {
     "iopub.execute_input": "2020-11-19T18:46:30.261158Z",
     "iopub.status.busy": "2020-11-19T18:46:30.261158Z",
     "iopub.status.idle": "2020-11-19T18:46:30.271130Z",
     "shell.execute_reply": "2020-11-19T18:46:30.270131Z",
     "shell.execute_reply.started": "2020-11-19T18:46:30.261158Z"
    }
   },
   "outputs": [
    {
     "data": {
      "text/plain": [
       "dict_keys(['url', 'year', 'imdb_link', 'title', 'Directed by', 'Produced by', 'Screenplay by', 'Based on', 'Starring', 'Music by', 'Cinematography', 'Edited by', 'Productioncompanies ', 'Distributed by', 'Release date', 'Running time', 'Country', 'Language', 'Budget', 'Box office'])"
      ]
     },
     "execution_count": 8,
     "metadata": {},
     "output_type": "execute_result"
    }
   ],
   "source": [
    "wiki_movies_raw[-5].keys()"
   ]
  },
  {
   "cell_type": "code",
   "execution_count": 9,
   "metadata": {
    "execution": {
     "iopub.execute_input": "2020-11-19T18:46:30.274122Z",
     "iopub.status.busy": "2020-11-19T18:46:30.274122Z",
     "iopub.status.idle": "2020-11-19T18:46:30.284095Z",
     "shell.execute_reply": "2020-11-19T18:46:30.283102Z",
     "shell.execute_reply.started": "2020-11-19T18:46:30.274122Z"
    }
   },
   "outputs": [
    {
     "data": {
      "text/plain": [
       "{'url': 'https://en.wikipedia.org/wiki/Holmes_%26_Watson',\n",
       " 'year': 2018,\n",
       " 'imdb_link': 'https://www.imdb.com/title/tt1255919/',\n",
       " 'title': 'Holmes & Watson',\n",
       " 'Directed by': 'Etan Cohen',\n",
       " 'Produced by': ['Will Ferrell',\n",
       "  'Adam McKay',\n",
       "  'Jimmy Miller',\n",
       "  'Clayton Townsend'],\n",
       " 'Screenplay by': 'Etan Cohen',\n",
       " 'Based on': ['Sherlock Holmes',\n",
       "  'and',\n",
       "  'Dr. Watson',\n",
       "  'by',\n",
       "  'Sir Arthur Conan Doyle'],\n",
       " 'Starring': ['Will Ferrell',\n",
       "  'John C. Reilly',\n",
       "  'Rebecca Hall',\n",
       "  'Rob Brydon',\n",
       "  'Steve Coogan',\n",
       "  'Ralph Fiennes'],\n",
       " 'Music by': 'Mark Mothersbaugh',\n",
       " 'Cinematography': 'Oliver Wood',\n",
       " 'Edited by': 'Dean Zimmerman',\n",
       " 'Productioncompanies ': ['Columbia Pictures',\n",
       "  'Gary Sanchez Productions',\n",
       "  'Mosaic Media Group',\n",
       "  'Mimran Schur Pictures'],\n",
       " 'Distributed by': 'Sony Pictures Releasing',\n",
       " 'Release date': ['December 25, 2018',\n",
       "  '(',\n",
       "  '2018-12-25',\n",
       "  ')',\n",
       "  '(United States)'],\n",
       " 'Running time': '90 minutes',\n",
       " 'Country': 'United States',\n",
       " 'Language': 'English',\n",
       " 'Budget': '$42 million',\n",
       " 'Box office': '$41.9 million'}"
      ]
     },
     "execution_count": 9,
     "metadata": {},
     "output_type": "execute_result"
    }
   ],
   "source": [
    "wiki_movies_raw[-5]"
   ]
  },
  {
   "cell_type": "code",
   "execution_count": 10,
   "metadata": {
    "execution": {
     "iopub.execute_input": "2020-11-19T18:46:30.286090Z",
     "iopub.status.busy": "2020-11-19T18:46:30.285092Z",
     "iopub.status.idle": "2020-11-19T18:46:30.990204Z",
     "shell.execute_reply": "2020-11-19T18:46:30.990204Z",
     "shell.execute_reply.started": "2020-11-19T18:46:30.286090Z"
    }
   },
   "outputs": [],
   "source": [
    "kaggle_metadata = pd.read_csv('C:/Users/Donne/OneDrive/UT_Data_Analytics/Analysis Projects/Mod8_Movies_ETL/Resource/movies_metadata.csv', low_memory=False)"
   ]
  },
  {
   "cell_type": "code",
   "execution_count": 11,
   "metadata": {
    "execution": {
     "iopub.execute_input": "2020-11-19T18:46:30.991202Z",
     "iopub.status.busy": "2020-11-19T18:46:30.991202Z",
     "iopub.status.idle": "2020-11-19T18:46:38.709234Z",
     "shell.execute_reply": "2020-11-19T18:46:38.709234Z",
     "shell.execute_reply.started": "2020-11-19T18:46:30.991202Z"
    }
   },
   "outputs": [],
   "source": [
    "ratings = pd.read_csv('C:/users/Donne/OneDrive/UT_Data_Analytics/Analysis Projects/Mod8_Movies_ETL/Resource/ratings.csv')"
   ]
  },
  {
   "cell_type": "code",
   "execution_count": 12,
   "metadata": {
    "execution": {
     "iopub.execute_input": "2020-11-19T18:46:38.711230Z",
     "iopub.status.busy": "2020-11-19T18:46:38.710232Z",
     "iopub.status.idle": "2020-11-19T18:46:38.717771Z",
     "shell.execute_reply": "2020-11-19T18:46:38.717771Z",
     "shell.execute_reply.started": "2020-11-19T18:46:38.711230Z"
    }
   },
   "outputs": [
    {
     "data": {
      "text/plain": [
       "(45466, 24)"
      ]
     },
     "execution_count": 12,
     "metadata": {},
     "output_type": "execute_result"
    },
    {
     "data": {
      "text/plain": [
       "(26024289, 4)"
      ]
     },
     "execution_count": 12,
     "metadata": {},
     "output_type": "execute_result"
    }
   ],
   "source": [
    "kaggle_metadata.shape\n",
    "ratings.shape"
   ]
  },
  {
   "cell_type": "code",
   "execution_count": 13,
   "metadata": {
    "execution": {
     "iopub.execute_input": "2020-11-19T18:46:38.719716Z",
     "iopub.status.busy": "2020-11-19T18:46:38.718719Z",
     "iopub.status.idle": "2020-11-19T18:46:38.756641Z",
     "shell.execute_reply": "2020-11-19T18:46:38.755639Z",
     "shell.execute_reply.started": "2020-11-19T18:46:38.719716Z"
    }
   },
   "outputs": [
    {
     "data": {
      "text/plain": [
       "\"[{'iso_639_1': 'en', 'name': 'English'}, {'iso_639_1': 'fr', 'name': 'Français'}, {'iso_639_1': 'de', 'name': 'Deutsch'}, {'iso_639_1': 'it', 'name': 'Italiano'}]\""
      ]
     },
     "execution_count": 13,
     "metadata": {},
     "output_type": "execute_result"
    }
   ],
   "source": [
    "kaggle_metadata.loc[2076]['spoken_languages']"
   ]
  },
  {
   "cell_type": "code",
   "execution_count": 14,
   "metadata": {
    "execution": {
     "iopub.execute_input": "2020-11-19T18:46:38.758629Z",
     "iopub.status.busy": "2020-11-19T18:46:38.758629Z",
     "iopub.status.idle": "2020-11-19T18:46:38.798522Z",
     "shell.execute_reply": "2020-11-19T18:46:38.797525Z",
     "shell.execute_reply.started": "2020-11-19T18:46:38.758629Z"
    }
   },
   "outputs": [
    {
     "data": {
      "text/html": [
       "<div>\n",
       "<style scoped>\n",
       "    .dataframe tbody tr th:only-of-type {\n",
       "        vertical-align: middle;\n",
       "    }\n",
       "\n",
       "    .dataframe tbody tr th {\n",
       "        vertical-align: top;\n",
       "    }\n",
       "\n",
       "    .dataframe thead th {\n",
       "        text-align: right;\n",
       "    }\n",
       "</style>\n",
       "<table border=\"1\" class=\"dataframe\">\n",
       "  <thead>\n",
       "    <tr style=\"text-align: right;\">\n",
       "      <th></th>\n",
       "      <th>adult</th>\n",
       "      <th>belongs_to_collection</th>\n",
       "      <th>budget</th>\n",
       "      <th>genres</th>\n",
       "      <th>homepage</th>\n",
       "      <th>id</th>\n",
       "      <th>imdb_id</th>\n",
       "      <th>original_language</th>\n",
       "      <th>original_title</th>\n",
       "      <th>overview</th>\n",
       "      <th>...</th>\n",
       "      <th>release_date</th>\n",
       "      <th>revenue</th>\n",
       "      <th>runtime</th>\n",
       "      <th>spoken_languages</th>\n",
       "      <th>status</th>\n",
       "      <th>tagline</th>\n",
       "      <th>title</th>\n",
       "      <th>video</th>\n",
       "      <th>vote_average</th>\n",
       "      <th>vote_count</th>\n",
       "    </tr>\n",
       "  </thead>\n",
       "  <tbody>\n",
       "    <tr>\n",
       "      <th>16006</th>\n",
       "      <td>False</td>\n",
       "      <td>NaN</td>\n",
       "      <td>0</td>\n",
       "      <td>[]</td>\n",
       "      <td>NaN</td>\n",
       "      <td>201646</td>\n",
       "      <td>tt1611931</td>\n",
       "      <td>en</td>\n",
       "      <td>My Kidnapper</td>\n",
       "      <td>In 2003 Mark Henderson was one of eight backpa...</td>\n",
       "      <td>...</td>\n",
       "      <td>2010-10-12</td>\n",
       "      <td>0.0</td>\n",
       "      <td>83.0</td>\n",
       "      <td>[]</td>\n",
       "      <td>Released</td>\n",
       "      <td>NaN</td>\n",
       "      <td>My Kidnapper</td>\n",
       "      <td>False</td>\n",
       "      <td>0.0</td>\n",
       "      <td>0.0</td>\n",
       "    </tr>\n",
       "    <tr>\n",
       "      <th>36877</th>\n",
       "      <td>False</td>\n",
       "      <td>NaN</td>\n",
       "      <td>0</td>\n",
       "      <td>[{'id': 35, 'name': 'Comedy'}, {'id': 53, 'nam...</td>\n",
       "      <td>NaN</td>\n",
       "      <td>20145</td>\n",
       "      <td>tt0477252</td>\n",
       "      <td>hi</td>\n",
       "      <td>36 China Town</td>\n",
       "      <td>Sonia [Isha Koppikar] is the owner of a casino...</td>\n",
       "      <td>...</td>\n",
       "      <td>2006-05-05</td>\n",
       "      <td>0.0</td>\n",
       "      <td>147.0</td>\n",
       "      <td>[{'iso_639_1': 'hi', 'name': 'हिन्दी'}]</td>\n",
       "      <td>Released</td>\n",
       "      <td>NaN</td>\n",
       "      <td>36 China Town</td>\n",
       "      <td>False</td>\n",
       "      <td>5.5</td>\n",
       "      <td>11.0</td>\n",
       "    </tr>\n",
       "    <tr>\n",
       "      <th>11319</th>\n",
       "      <td>False</td>\n",
       "      <td>NaN</td>\n",
       "      <td>40000000</td>\n",
       "      <td>[{'id': 12, 'name': 'Adventure'}, {'id': 28, '...</td>\n",
       "      <td>NaN</td>\n",
       "      <td>9978</td>\n",
       "      <td>tt0457495</td>\n",
       "      <td>en</td>\n",
       "      <td>Stormbreaker</td>\n",
       "      <td>Alex Rider thinks he is a normal school boy, u...</td>\n",
       "      <td>...</td>\n",
       "      <td>2006-07-21</td>\n",
       "      <td>23937870.0</td>\n",
       "      <td>93.0</td>\n",
       "      <td>[{'iso_639_1': 'en', 'name': 'English'}]</td>\n",
       "      <td>Released</td>\n",
       "      <td>Rule the school. Save the world.</td>\n",
       "      <td>Stormbreaker</td>\n",
       "      <td>False</td>\n",
       "      <td>5.1</td>\n",
       "      <td>219.0</td>\n",
       "    </tr>\n",
       "  </tbody>\n",
       "</table>\n",
       "<p>3 rows × 24 columns</p>\n",
       "</div>"
      ],
      "text/plain": [
       "       adult belongs_to_collection    budget  \\\n",
       "16006  False                   NaN         0   \n",
       "36877  False                   NaN         0   \n",
       "11319  False                   NaN  40000000   \n",
       "\n",
       "                                                  genres homepage      id  \\\n",
       "16006                                                 []      NaN  201646   \n",
       "36877  [{'id': 35, 'name': 'Comedy'}, {'id': 53, 'nam...      NaN   20145   \n",
       "11319  [{'id': 12, 'name': 'Adventure'}, {'id': 28, '...      NaN    9978   \n",
       "\n",
       "         imdb_id original_language original_title  \\\n",
       "16006  tt1611931                en   My Kidnapper   \n",
       "36877  tt0477252                hi  36 China Town   \n",
       "11319  tt0457495                en   Stormbreaker   \n",
       "\n",
       "                                                overview  ... release_date  \\\n",
       "16006  In 2003 Mark Henderson was one of eight backpa...  ...   2010-10-12   \n",
       "36877  Sonia [Isha Koppikar] is the owner of a casino...  ...   2006-05-05   \n",
       "11319  Alex Rider thinks he is a normal school boy, u...  ...   2006-07-21   \n",
       "\n",
       "          revenue runtime                          spoken_languages    status  \\\n",
       "16006         0.0    83.0                                        []  Released   \n",
       "36877         0.0   147.0   [{'iso_639_1': 'hi', 'name': 'हिन्दी'}]  Released   \n",
       "11319  23937870.0    93.0  [{'iso_639_1': 'en', 'name': 'English'}]  Released   \n",
       "\n",
       "                                tagline          title  video vote_average  \\\n",
       "16006                               NaN   My Kidnapper  False          0.0   \n",
       "36877                               NaN  36 China Town  False          5.5   \n",
       "11319  Rule the school. Save the world.   Stormbreaker  False          5.1   \n",
       "\n",
       "      vote_count  \n",
       "16006        0.0  \n",
       "36877       11.0  \n",
       "11319      219.0  \n",
       "\n",
       "[3 rows x 24 columns]"
      ]
     },
     "execution_count": 14,
     "metadata": {},
     "output_type": "execute_result"
    }
   ],
   "source": [
    "kaggle_metadata.sample(3)"
   ]
  },
  {
   "cell_type": "code",
   "execution_count": 15,
   "metadata": {
    "execution": {
     "iopub.execute_input": "2020-11-19T18:46:38.800517Z",
     "iopub.status.busy": "2020-11-19T18:46:38.799519Z",
     "iopub.status.idle": "2020-11-19T18:46:40.361392Z",
     "shell.execute_reply": "2020-11-19T18:46:40.361392Z",
     "shell.execute_reply.started": "2020-11-19T18:46:38.800517Z"
    }
   },
   "outputs": [
    {
     "data": {
      "text/html": [
       "<div>\n",
       "<style scoped>\n",
       "    .dataframe tbody tr th:only-of-type {\n",
       "        vertical-align: middle;\n",
       "    }\n",
       "\n",
       "    .dataframe tbody tr th {\n",
       "        vertical-align: top;\n",
       "    }\n",
       "\n",
       "    .dataframe thead th {\n",
       "        text-align: right;\n",
       "    }\n",
       "</style>\n",
       "<table border=\"1\" class=\"dataframe\">\n",
       "  <thead>\n",
       "    <tr style=\"text-align: right;\">\n",
       "      <th></th>\n",
       "      <th>userId</th>\n",
       "      <th>movieId</th>\n",
       "      <th>rating</th>\n",
       "      <th>timestamp</th>\n",
       "    </tr>\n",
       "  </thead>\n",
       "  <tbody>\n",
       "    <tr>\n",
       "      <th>25345146</th>\n",
       "      <td>263868</td>\n",
       "      <td>1678</td>\n",
       "      <td>4.5</td>\n",
       "      <td>1131224066</td>\n",
       "    </tr>\n",
       "    <tr>\n",
       "      <th>13604325</th>\n",
       "      <td>141459</td>\n",
       "      <td>33679</td>\n",
       "      <td>3.0</td>\n",
       "      <td>1420242236</td>\n",
       "    </tr>\n",
       "    <tr>\n",
       "      <th>14515902</th>\n",
       "      <td>150880</td>\n",
       "      <td>50</td>\n",
       "      <td>4.5</td>\n",
       "      <td>1448029069</td>\n",
       "    </tr>\n",
       "    <tr>\n",
       "      <th>3807235</th>\n",
       "      <td>39691</td>\n",
       "      <td>122882</td>\n",
       "      <td>4.5</td>\n",
       "      <td>1471713031</td>\n",
       "    </tr>\n",
       "    <tr>\n",
       "      <th>7996805</th>\n",
       "      <td>82455</td>\n",
       "      <td>322</td>\n",
       "      <td>5.0</td>\n",
       "      <td>831903166</td>\n",
       "    </tr>\n",
       "  </tbody>\n",
       "</table>\n",
       "</div>"
      ],
      "text/plain": [
       "          userId  movieId  rating   timestamp\n",
       "25345146  263868     1678     4.5  1131224066\n",
       "13604325  141459    33679     3.0  1420242236\n",
       "14515902  150880       50     4.5  1448029069\n",
       "3807235    39691   122882     4.5  1471713031\n",
       "7996805    82455      322     5.0   831903166"
      ]
     },
     "execution_count": 15,
     "metadata": {},
     "output_type": "execute_result"
    }
   ],
   "source": [
    "ratings.sample(5)"
   ]
  },
  {
   "cell_type": "markdown",
   "metadata": {},
   "source": [
    ">##  Transform "
   ]
  },
  {
   "cell_type": "code",
   "execution_count": 16,
   "metadata": {
    "execution": {
     "iopub.execute_input": "2020-11-19T18:46:40.362388Z",
     "iopub.status.busy": "2020-11-19T18:46:40.362388Z",
     "iopub.status.idle": "2020-11-19T18:46:40.669800Z",
     "shell.execute_reply": "2020-11-19T18:46:40.669800Z",
     "shell.execute_reply.started": "2020-11-19T18:46:40.362388Z"
    }
   },
   "outputs": [],
   "source": [
    "wiki_movies_df = pd.DataFrame(wiki_movies_raw)"
   ]
  },
  {
   "cell_type": "code",
   "execution_count": 17,
   "metadata": {
    "execution": {
     "iopub.execute_input": "2020-11-19T18:46:40.671795Z",
     "iopub.status.busy": "2020-11-19T18:46:40.670797Z",
     "iopub.status.idle": "2020-11-19T18:46:40.678776Z",
     "shell.execute_reply": "2020-11-19T18:46:40.677780Z",
     "shell.execute_reply.started": "2020-11-19T18:46:40.671795Z"
    }
   },
   "outputs": [
    {
     "data": {
      "text/plain": [
       "(7311, 193)"
      ]
     },
     "execution_count": 17,
     "metadata": {},
     "output_type": "execute_result"
    }
   ],
   "source": [
    "wiki_movies_df.shape"
   ]
  },
  {
   "cell_type": "code",
   "execution_count": 18,
   "metadata": {
    "execution": {
     "iopub.execute_input": "2020-11-19T18:46:40.679779Z",
     "iopub.status.busy": "2020-11-19T18:46:40.679779Z",
     "iopub.status.idle": "2020-11-19T18:46:40.711693Z",
     "shell.execute_reply": "2020-11-19T18:46:40.710692Z",
     "shell.execute_reply.started": "2020-11-19T18:46:40.679779Z"
    }
   },
   "outputs": [
    {
     "data": {
      "text/html": [
       "<div>\n",
       "<style scoped>\n",
       "    .dataframe tbody tr th:only-of-type {\n",
       "        vertical-align: middle;\n",
       "    }\n",
       "\n",
       "    .dataframe tbody tr th {\n",
       "        vertical-align: top;\n",
       "    }\n",
       "\n",
       "    .dataframe thead th {\n",
       "        text-align: right;\n",
       "    }\n",
       "</style>\n",
       "<table border=\"1\" class=\"dataframe\">\n",
       "  <thead>\n",
       "    <tr style=\"text-align: right;\">\n",
       "      <th></th>\n",
       "      <th>url</th>\n",
       "      <th>year</th>\n",
       "      <th>imdb_link</th>\n",
       "      <th>title</th>\n",
       "      <th>Directed by</th>\n",
       "      <th>Produced by</th>\n",
       "      <th>Screenplay by</th>\n",
       "      <th>Story by</th>\n",
       "      <th>Based on</th>\n",
       "      <th>Starring</th>\n",
       "      <th>...</th>\n",
       "      <th>Predecessor</th>\n",
       "      <th>Founders</th>\n",
       "      <th>Area served</th>\n",
       "      <th>Products</th>\n",
       "      <th>Services</th>\n",
       "      <th>Russian</th>\n",
       "      <th>Hebrew</th>\n",
       "      <th>Revenue</th>\n",
       "      <th>Operating income</th>\n",
       "      <th>Polish</th>\n",
       "    </tr>\n",
       "  </thead>\n",
       "  <tbody>\n",
       "    <tr>\n",
       "      <th>0</th>\n",
       "      <td>https://en.wikipedia.org/wiki/The_Adventures_o...</td>\n",
       "      <td>1990.0</td>\n",
       "      <td>https://www.imdb.com/title/tt0098987/</td>\n",
       "      <td>The Adventures of Ford Fairlane</td>\n",
       "      <td>Renny Harlin</td>\n",
       "      <td>[Steve Perry, Joel Silver]</td>\n",
       "      <td>[David Arnott, James Cappe, Daniel Waters]</td>\n",
       "      <td>[David Arnott, James Cappe]</td>\n",
       "      <td>[Characters, by Rex Weiner]</td>\n",
       "      <td>[Andrew Dice Clay, Wayne Newton, Priscilla Pre...</td>\n",
       "      <td>...</td>\n",
       "      <td>NaN</td>\n",
       "      <td>NaN</td>\n",
       "      <td>NaN</td>\n",
       "      <td>NaN</td>\n",
       "      <td>NaN</td>\n",
       "      <td>NaN</td>\n",
       "      <td>NaN</td>\n",
       "      <td>NaN</td>\n",
       "      <td>NaN</td>\n",
       "      <td>NaN</td>\n",
       "    </tr>\n",
       "    <tr>\n",
       "      <th>1</th>\n",
       "      <td>https://en.wikipedia.org/wiki/After_Dark,_My_S...</td>\n",
       "      <td>1990.0</td>\n",
       "      <td>https://www.imdb.com/title/tt0098994/</td>\n",
       "      <td>After Dark, My Sweet</td>\n",
       "      <td>James Foley</td>\n",
       "      <td>[Ric Kidney, Robert Redlin]</td>\n",
       "      <td>[James Foley, Robert Redlin]</td>\n",
       "      <td>NaN</td>\n",
       "      <td>[the novel, After Dark, My Sweet, by, Jim Thom...</td>\n",
       "      <td>[Jason Patric, Rachel Ward, Bruce Dern, George...</td>\n",
       "      <td>...</td>\n",
       "      <td>NaN</td>\n",
       "      <td>NaN</td>\n",
       "      <td>NaN</td>\n",
       "      <td>NaN</td>\n",
       "      <td>NaN</td>\n",
       "      <td>NaN</td>\n",
       "      <td>NaN</td>\n",
       "      <td>NaN</td>\n",
       "      <td>NaN</td>\n",
       "      <td>NaN</td>\n",
       "    </tr>\n",
       "    <tr>\n",
       "      <th>2</th>\n",
       "      <td>https://en.wikipedia.org/wiki/Air_America_(film)</td>\n",
       "      <td>1990.0</td>\n",
       "      <td>https://www.imdb.com/title/tt0099005/</td>\n",
       "      <td>Air America</td>\n",
       "      <td>Roger Spottiswoode</td>\n",
       "      <td>Daniel Melnick</td>\n",
       "      <td>[John Eskow, Richard Rush]</td>\n",
       "      <td>NaN</td>\n",
       "      <td>[Air America, by, Christopher Robbins]</td>\n",
       "      <td>[Mel Gibson, Robert Downey Jr., Nancy Travis, ...</td>\n",
       "      <td>...</td>\n",
       "      <td>NaN</td>\n",
       "      <td>NaN</td>\n",
       "      <td>NaN</td>\n",
       "      <td>NaN</td>\n",
       "      <td>NaN</td>\n",
       "      <td>NaN</td>\n",
       "      <td>NaN</td>\n",
       "      <td>NaN</td>\n",
       "      <td>NaN</td>\n",
       "      <td>NaN</td>\n",
       "    </tr>\n",
       "    <tr>\n",
       "      <th>3</th>\n",
       "      <td>https://en.wikipedia.org/wiki/Alice_(1990_film)</td>\n",
       "      <td>1990.0</td>\n",
       "      <td>https://www.imdb.com/title/tt0099012/</td>\n",
       "      <td>Alice</td>\n",
       "      <td>Woody Allen</td>\n",
       "      <td>Robert Greenhut</td>\n",
       "      <td>NaN</td>\n",
       "      <td>NaN</td>\n",
       "      <td>NaN</td>\n",
       "      <td>[Alec Baldwin, Blythe Danner, Judy Davis, Mia ...</td>\n",
       "      <td>...</td>\n",
       "      <td>NaN</td>\n",
       "      <td>NaN</td>\n",
       "      <td>NaN</td>\n",
       "      <td>NaN</td>\n",
       "      <td>NaN</td>\n",
       "      <td>NaN</td>\n",
       "      <td>NaN</td>\n",
       "      <td>NaN</td>\n",
       "      <td>NaN</td>\n",
       "      <td>NaN</td>\n",
       "    </tr>\n",
       "    <tr>\n",
       "      <th>4</th>\n",
       "      <td>https://en.wikipedia.org/wiki/Almost_an_Angel</td>\n",
       "      <td>1990.0</td>\n",
       "      <td>https://www.imdb.com/title/tt0099018/</td>\n",
       "      <td>Almost an Angel</td>\n",
       "      <td>John Cornell</td>\n",
       "      <td>John Cornell</td>\n",
       "      <td>NaN</td>\n",
       "      <td>NaN</td>\n",
       "      <td>NaN</td>\n",
       "      <td>[Paul Hogan, Elias Koteas, Linda Kozlowski]</td>\n",
       "      <td>...</td>\n",
       "      <td>NaN</td>\n",
       "      <td>NaN</td>\n",
       "      <td>NaN</td>\n",
       "      <td>NaN</td>\n",
       "      <td>NaN</td>\n",
       "      <td>NaN</td>\n",
       "      <td>NaN</td>\n",
       "      <td>NaN</td>\n",
       "      <td>NaN</td>\n",
       "      <td>NaN</td>\n",
       "    </tr>\n",
       "  </tbody>\n",
       "</table>\n",
       "<p>5 rows × 193 columns</p>\n",
       "</div>"
      ],
      "text/plain": [
       "                                                 url    year  \\\n",
       "0  https://en.wikipedia.org/wiki/The_Adventures_o...  1990.0   \n",
       "1  https://en.wikipedia.org/wiki/After_Dark,_My_S...  1990.0   \n",
       "2   https://en.wikipedia.org/wiki/Air_America_(film)  1990.0   \n",
       "3    https://en.wikipedia.org/wiki/Alice_(1990_film)  1990.0   \n",
       "4      https://en.wikipedia.org/wiki/Almost_an_Angel  1990.0   \n",
       "\n",
       "                               imdb_link                            title  \\\n",
       "0  https://www.imdb.com/title/tt0098987/  The Adventures of Ford Fairlane   \n",
       "1  https://www.imdb.com/title/tt0098994/             After Dark, My Sweet   \n",
       "2  https://www.imdb.com/title/tt0099005/                      Air America   \n",
       "3  https://www.imdb.com/title/tt0099012/                            Alice   \n",
       "4  https://www.imdb.com/title/tt0099018/                  Almost an Angel   \n",
       "\n",
       "          Directed by                  Produced by  \\\n",
       "0        Renny Harlin   [Steve Perry, Joel Silver]   \n",
       "1         James Foley  [Ric Kidney, Robert Redlin]   \n",
       "2  Roger Spottiswoode               Daniel Melnick   \n",
       "3         Woody Allen              Robert Greenhut   \n",
       "4        John Cornell                 John Cornell   \n",
       "\n",
       "                                Screenplay by                     Story by  \\\n",
       "0  [David Arnott, James Cappe, Daniel Waters]  [David Arnott, James Cappe]   \n",
       "1                [James Foley, Robert Redlin]                          NaN   \n",
       "2                  [John Eskow, Richard Rush]                          NaN   \n",
       "3                                         NaN                          NaN   \n",
       "4                                         NaN                          NaN   \n",
       "\n",
       "                                            Based on  \\\n",
       "0                        [Characters, by Rex Weiner]   \n",
       "1  [the novel, After Dark, My Sweet, by, Jim Thom...   \n",
       "2             [Air America, by, Christopher Robbins]   \n",
       "3                                                NaN   \n",
       "4                                                NaN   \n",
       "\n",
       "                                            Starring  ... Predecessor  \\\n",
       "0  [Andrew Dice Clay, Wayne Newton, Priscilla Pre...  ...         NaN   \n",
       "1  [Jason Patric, Rachel Ward, Bruce Dern, George...  ...         NaN   \n",
       "2  [Mel Gibson, Robert Downey Jr., Nancy Travis, ...  ...         NaN   \n",
       "3  [Alec Baldwin, Blythe Danner, Judy Davis, Mia ...  ...         NaN   \n",
       "4        [Paul Hogan, Elias Koteas, Linda Kozlowski]  ...         NaN   \n",
       "\n",
       "  Founders Area served Products Services Russian Hebrew Revenue  \\\n",
       "0      NaN         NaN      NaN      NaN     NaN    NaN     NaN   \n",
       "1      NaN         NaN      NaN      NaN     NaN    NaN     NaN   \n",
       "2      NaN         NaN      NaN      NaN     NaN    NaN     NaN   \n",
       "3      NaN         NaN      NaN      NaN     NaN    NaN     NaN   \n",
       "4      NaN         NaN      NaN      NaN     NaN    NaN     NaN   \n",
       "\n",
       "  Operating income Polish  \n",
       "0              NaN    NaN  \n",
       "1              NaN    NaN  \n",
       "2              NaN    NaN  \n",
       "3              NaN    NaN  \n",
       "4              NaN    NaN  \n",
       "\n",
       "[5 rows x 193 columns]"
      ]
     },
     "execution_count": 18,
     "metadata": {},
     "output_type": "execute_result"
    }
   ],
   "source": [
    "wiki_movies_df.head()"
   ]
  },
  {
   "cell_type": "code",
   "execution_count": 19,
   "metadata": {
    "execution": {
     "iopub.execute_input": "2020-11-19T18:46:40.713684Z",
     "iopub.status.busy": "2020-11-19T18:46:40.712686Z",
     "iopub.status.idle": "2020-11-19T18:46:40.725651Z",
     "shell.execute_reply": "2020-11-19T18:46:40.724654Z",
     "shell.execute_reply.started": "2020-11-19T18:46:40.713684Z"
    }
   },
   "outputs": [
    {
     "name": "stdout",
     "output_type": "stream",
     "text": [
      "['url', 'year', 'imdb_link', 'title', 'Directed by', 'Produced by', 'Screenplay by', 'Story by', 'Based on', 'Starring', 'Narrated by', 'Music by', 'Cinematography', 'Edited by', 'Productioncompany ', 'Distributed by', 'Release date', 'Running time', 'Country', 'Language', 'Budget', 'Box office', 'Written by', 'Genre', 'Theme music composer', 'Country of origin', 'Original language(s)', 'Producer(s)', 'Editor(s)', 'Production company(s)', 'Original network', 'Original release', 'Productioncompanies ', 'Executive producer(s)', 'Production location(s)', 'Distributor', 'Picture format', 'Audio format', 'Voices of', 'Followed by', 'Composer(s)', 'Created by', 'Also known as', 'Opening theme', 'No. of episodes', 'Preceded by', 'Author', 'Publisher', 'Publication date', 'Media type', 'Pages', 'ISBN', 'OCLC', 'LC Class', 'Cover artist', 'Series', 'Set in', 'Adaptation by', 'Suggested by', 'Biographical data', 'Born', 'Died', 'Resting place', 'Occupation', 'Years active', 'Spouse(s)', 'Children', 'Parent(s)', 'Genres', 'Instruments', 'Labels', 'Website', 'Traditional', 'Mandarin', 'Type', 'Industry', 'Fate', 'Founded', 'Founder', 'Headquarters', 'Parent', 'Released', 'Recorded', 'Venue', 'Length', 'Label', 'Director', 'Producer', 'Area', 'Coordinates', 'Status', 'Opening date', 'Closing date', 'Replaced', 'Replaced by', 'Name', 'Attraction type', 'Music', 'Duration', 'Simplified Chinese', 'Traditional Chinese', 'Hanyu Pinyin', 'Literal meaning', 'Transcriptions', 'Bopomofo', 'Gwoyeu Romatzyh', 'Wade–Giles', 'IPA', 'Yale Romanization', 'Jyutping', 'Hokkien POJ', 'Animation by', 'Color process', 'Engine(s)', 'Genre(s)', 'Actor control', 'Production company', 'Release(s)', 'Format(s)', 'Simplified', 'Characters', 'Date premiered', 'Place premiered', 'Setting', 'Original language', 'Subject', 'Published', 'Dewey Decimal', 'Text', 'Illustrator', 'Original title', 'Published in English', 'French', 'Developed by', 'Ending theme', 'No. of seasons', 'Nationality', 'Portrayed by', 'Alias', 'Species', 'Gender', 'Family', 'Alma mater', 'Camera setup', 'Novel(s)', 'Comics', 'Film(s)', 'Screen story by', 'Hangul', 'Revised Romanization', 'McCune–Reischauer', 'Developer(s)', 'Publisher(s)', 'Designer(s)', 'Programmer(s)', 'Artist(s)', 'Writer(s)', 'Engine', 'Platform(s)', 'Release', 'Mode(s)', 'Original work', 'Television series', 'Japanese', 'Hepburn', 'Literally', 'Cantonese', 'Full name', 'Height', 'Seasons', 'Chinese', 'Other names', 'Relatives', 'Yiddish', 'Formerly', 'Key people', 'Total assets', 'Owner', 'Number of employees', 'Divisions', 'Subsidiaries', 'Arabic', 'Romanized', 'Predecessor', 'Founders', 'Area served', 'Products', 'Services', 'Russian', 'Hebrew', 'Revenue', 'Operating income', 'Polish']\n"
     ]
    }
   ],
   "source": [
    "# reviewing the 193 columns \n",
    "print(wiki_movies_df.columns.to_list())"
   ]
  },
  {
   "cell_type": "markdown",
   "metadata": {},
   "source": [
    "___"
   ]
  },
  {
   "cell_type": "markdown",
   "metadata": {},
   "source": [
    "> list comprehensin breakdown "
   ]
  },
  {
   "cell_type": "code",
   "execution_count": 20,
   "metadata": {
    "execution": {
     "iopub.execute_input": "2020-11-19T18:46:40.726649Z",
     "iopub.status.busy": "2020-11-19T18:46:40.726649Z",
     "iopub.status.idle": "2020-11-19T18:46:40.736622Z",
     "shell.execute_reply": "2020-11-19T18:46:40.735625Z",
     "shell.execute_reply.started": "2020-11-19T18:46:40.726649Z"
    }
   },
   "outputs": [
    {
     "data": {
      "text/plain": [
       "[True]"
      ]
     },
     "execution_count": 20,
     "metadata": {},
     "output_type": "execute_result"
    }
   ],
   "source": [
    "['year' in wiki_movies_raw[0]]"
   ]
  },
  {
   "cell_type": "code",
   "execution_count": 21,
   "metadata": {
    "execution": {
     "iopub.execute_input": "2020-11-19T18:46:40.738617Z",
     "iopub.status.busy": "2020-11-19T18:46:40.737619Z",
     "iopub.status.idle": "2020-11-19T18:46:40.746595Z",
     "shell.execute_reply": "2020-11-19T18:46:40.746595Z",
     "shell.execute_reply.started": "2020-11-19T18:46:40.738617Z"
    }
   },
   "outputs": [
    {
     "data": {
      "text/plain": [
       "[True]"
      ]
     },
     "execution_count": 21,
     "metadata": {},
     "output_type": "execute_result"
    }
   ],
   "source": [
    "['Budget' in wiki_movies_raw[0]]"
   ]
  },
  {
   "cell_type": "code",
   "execution_count": 22,
   "metadata": {
    "execution": {
     "iopub.execute_input": "2020-11-19T18:46:40.748591Z",
     "iopub.status.busy": "2020-11-19T18:46:40.748591Z",
     "iopub.status.idle": "2020-11-19T18:46:40.762552Z",
     "shell.execute_reply": "2020-11-19T18:46:40.761555Z",
     "shell.execute_reply.started": "2020-11-19T18:46:40.748591Z"
    }
   },
   "outputs": [
    {
     "data": {
      "text/plain": [
       "7153"
      ]
     },
     "execution_count": 22,
     "metadata": {},
     "output_type": "execute_result"
    }
   ],
   "source": [
    "samp_movie = [i for i in wiki_movies_raw if 'year' in i]\n",
    "len(samp_movie)"
   ]
  },
  {
   "cell_type": "markdown",
   "metadata": {},
   "source": [
    "-----"
   ]
  },
  {
   "cell_type": "code",
   "execution_count": 23,
   "metadata": {
    "execution": {
     "iopub.execute_input": "2020-11-19T18:46:40.763550Z",
     "iopub.status.busy": "2020-11-19T18:46:40.763550Z",
     "iopub.status.idle": "2020-11-19T18:46:40.774521Z",
     "shell.execute_reply": "2020-11-19T18:46:40.773523Z",
     "shell.execute_reply.started": "2020-11-19T18:46:40.763550Z"
    }
   },
   "outputs": [
    {
     "data": {
      "text/plain": [
       "7080"
      ]
     },
     "execution_count": 23,
     "metadata": {},
     "output_type": "execute_result"
    }
   ],
   "source": [
    "# use list comprehension to filter raw json data by criterias \n",
    "wiki_movies = [movie for movie in wiki_movies_raw\n",
    "               if ('Director' in movie or 'Directed by' in movie)\n",
    "                   and 'imdb_link' in movie]\n",
    "len(wiki_movies)"
   ]
  },
  {
   "cell_type": "code",
   "execution_count": 24,
   "metadata": {
    "execution": {
     "iopub.execute_input": "2020-11-19T18:46:40.775518Z",
     "iopub.status.busy": "2020-11-19T18:46:40.775518Z",
     "iopub.status.idle": "2020-11-19T18:46:40.918136Z",
     "shell.execute_reply": "2020-11-19T18:46:40.917143Z",
     "shell.execute_reply.started": "2020-11-19T18:46:40.775518Z"
    }
   },
   "outputs": [
    {
     "data": {
      "text/plain": [
       "(7080, 78)"
      ]
     },
     "execution_count": 24,
     "metadata": {},
     "output_type": "execute_result"
    }
   ],
   "source": [
    "# make the a gain data frame, with now reduced colums and rows\n",
    "wiki_movies_df = pd.DataFrame(wiki_movies)\n",
    "wiki_movies_df.shape"
   ]
  },
  {
   "cell_type": "code",
   "execution_count": 25,
   "metadata": {
    "execution": {
     "iopub.execute_input": "2020-11-19T18:46:40.919134Z",
     "iopub.status.busy": "2020-11-19T18:46:40.919134Z",
     "iopub.status.idle": "2020-11-19T18:46:41.046792Z",
     "shell.execute_reply": "2020-11-19T18:46:41.045795Z",
     "shell.execute_reply.started": "2020-11-19T18:46:40.919134Z"
    }
   },
   "outputs": [
    {
     "data": {
      "text/html": [
       "<div>\n",
       "<style scoped>\n",
       "    .dataframe tbody tr th:only-of-type {\n",
       "        vertical-align: middle;\n",
       "    }\n",
       "\n",
       "    .dataframe tbody tr th {\n",
       "        vertical-align: top;\n",
       "    }\n",
       "\n",
       "    .dataframe thead th {\n",
       "        text-align: right;\n",
       "    }\n",
       "</style>\n",
       "<table border=\"1\" class=\"dataframe\">\n",
       "  <thead>\n",
       "    <tr style=\"text-align: right;\">\n",
       "      <th></th>\n",
       "      <th>url</th>\n",
       "      <th>year</th>\n",
       "      <th>imdb_link</th>\n",
       "      <th>title</th>\n",
       "      <th>Directed by</th>\n",
       "      <th>Produced by</th>\n",
       "      <th>Screenplay by</th>\n",
       "      <th>Story by</th>\n",
       "      <th>Based on</th>\n",
       "      <th>Starring</th>\n",
       "      <th>Narrated by</th>\n",
       "      <th>Music by</th>\n",
       "      <th>Cinematography</th>\n",
       "      <th>Edited by</th>\n",
       "      <th>Productioncompany</th>\n",
       "      <th>Distributed by</th>\n",
       "      <th>Release date</th>\n",
       "      <th>Running time</th>\n",
       "    </tr>\n",
       "  </thead>\n",
       "  <tbody>\n",
       "    <tr>\n",
       "      <th>5151</th>\n",
       "      <td>https://en.wikipedia.org/wiki/Lottery_Ticket_(...</td>\n",
       "      <td>2010</td>\n",
       "      <td>https://www.imdb.com/title/tt0979434/</td>\n",
       "      <td>Lottery Ticket</td>\n",
       "      <td>Erik White</td>\n",
       "      <td>[Matt Alvarez, Mark Burg, Oren Koules, Andrew ...</td>\n",
       "      <td>Abdul Williams</td>\n",
       "      <td>[Erik White, Abdul Williams]</td>\n",
       "      <td>NaN</td>\n",
       "      <td>[Bow Wow, Brandon T. Jackson, Naturi Naughton,...</td>\n",
       "      <td>NaN</td>\n",
       "      <td>Teddy Castellucci</td>\n",
       "      <td>Patrick Cady</td>\n",
       "      <td>Harvey Rosenstock</td>\n",
       "      <td>[Alcon Entertainment, Burg/Koules Productions,...</td>\n",
       "      <td>Warner Bros. Pictures</td>\n",
       "      <td>[August 20, 2010, (, 2010-08-20, )]</td>\n",
       "      <td>99 minutes</td>\n",
       "    </tr>\n",
       "    <tr>\n",
       "      <th>4860</th>\n",
       "      <td>https://en.wikipedia.org/wiki/Crossing_Over_(f...</td>\n",
       "      <td>2009</td>\n",
       "      <td>https://www.imdb.com/title/tt0924129/</td>\n",
       "      <td>Crossing Over</td>\n",
       "      <td>Wayne Kramer</td>\n",
       "      <td>[Wayne Kramer, Frank Marshall]</td>\n",
       "      <td>NaN</td>\n",
       "      <td>NaN</td>\n",
       "      <td>NaN</td>\n",
       "      <td>[Harrison Ford, Ray Liotta, Jim Sturgess, Ashl...</td>\n",
       "      <td>NaN</td>\n",
       "      <td>Mark Isham</td>\n",
       "      <td>James Whitaker</td>\n",
       "      <td>Arthur Coburn</td>\n",
       "      <td>Kennedy/Marshall</td>\n",
       "      <td>The Weinstein Company</td>\n",
       "      <td>[February 27, 2009, (, 2009-02-27, ), (United ...</td>\n",
       "      <td>113 minutes</td>\n",
       "    </tr>\n",
       "  </tbody>\n",
       "</table>\n",
       "</div>"
      ],
      "text/plain": [
       "                                                    url  year  \\\n",
       "5151  https://en.wikipedia.org/wiki/Lottery_Ticket_(...  2010   \n",
       "4860  https://en.wikipedia.org/wiki/Crossing_Over_(f...  2009   \n",
       "\n",
       "                                  imdb_link           title   Directed by  \\\n",
       "5151  https://www.imdb.com/title/tt0979434/  Lottery Ticket    Erik White   \n",
       "4860  https://www.imdb.com/title/tt0924129/   Crossing Over  Wayne Kramer   \n",
       "\n",
       "                                            Produced by   Screenplay by  \\\n",
       "5151  [Matt Alvarez, Mark Burg, Oren Koules, Andrew ...  Abdul Williams   \n",
       "4860                     [Wayne Kramer, Frank Marshall]             NaN   \n",
       "\n",
       "                          Story by Based on  \\\n",
       "5151  [Erik White, Abdul Williams]      NaN   \n",
       "4860                           NaN      NaN   \n",
       "\n",
       "                                               Starring Narrated by  \\\n",
       "5151  [Bow Wow, Brandon T. Jackson, Naturi Naughton,...         NaN   \n",
       "4860  [Harrison Ford, Ray Liotta, Jim Sturgess, Ashl...         NaN   \n",
       "\n",
       "               Music by  Cinematography          Edited by  \\\n",
       "5151  Teddy Castellucci    Patrick Cady  Harvey Rosenstock   \n",
       "4860         Mark Isham  James Whitaker      Arthur Coburn   \n",
       "\n",
       "                                     Productioncompany   \\\n",
       "5151  [Alcon Entertainment, Burg/Koules Productions,...   \n",
       "4860                                   Kennedy/Marshall   \n",
       "\n",
       "             Distributed by  \\\n",
       "5151  Warner Bros. Pictures   \n",
       "4860  The Weinstein Company   \n",
       "\n",
       "                                           Release date Running time  \n",
       "5151                [August 20, 2010, (, 2010-08-20, )]   99 minutes  \n",
       "4860  [February 27, 2009, (, 2009-02-27, ), (United ...  113 minutes  "
      ]
     },
     "execution_count": 25,
     "metadata": {},
     "output_type": "execute_result"
    },
    {
     "data": {
      "text/html": [
       "<div>\n",
       "<style scoped>\n",
       "    .dataframe tbody tr th:only-of-type {\n",
       "        vertical-align: middle;\n",
       "    }\n",
       "\n",
       "    .dataframe tbody tr th {\n",
       "        vertical-align: top;\n",
       "    }\n",
       "\n",
       "    .dataframe thead th {\n",
       "        text-align: right;\n",
       "    }\n",
       "</style>\n",
       "<table border=\"1\" class=\"dataframe\">\n",
       "  <thead>\n",
       "    <tr style=\"text-align: right;\">\n",
       "      <th></th>\n",
       "      <th>Language</th>\n",
       "      <th>Budget</th>\n",
       "      <th>Box office</th>\n",
       "      <th>Written by</th>\n",
       "      <th>Genre</th>\n",
       "      <th>Theme music composer</th>\n",
       "      <th>Country of origin</th>\n",
       "      <th>Original language(s)</th>\n",
       "      <th>Producer(s)</th>\n",
       "      <th>Editor(s)</th>\n",
       "      <th>Production company(s)</th>\n",
       "      <th>Original network</th>\n",
       "      <th>Original release</th>\n",
       "      <th>Productioncompanies</th>\n",
       "      <th>Executive producer(s)</th>\n",
       "      <th>Production location(s)</th>\n",
       "      <th>Distributor</th>\n",
       "      <th>Picture format</th>\n",
       "      <th>Audio format</th>\n",
       "    </tr>\n",
       "  </thead>\n",
       "  <tbody>\n",
       "    <tr>\n",
       "      <th>1914</th>\n",
       "      <td>English</td>\n",
       "      <td>$8.5 million</td>\n",
       "      <td>$23.7 million</td>\n",
       "      <td>[Dan Schneider, Kevin Kopelow, Heath Seifert]</td>\n",
       "      <td>NaN</td>\n",
       "      <td>NaN</td>\n",
       "      <td>NaN</td>\n",
       "      <td>NaN</td>\n",
       "      <td>NaN</td>\n",
       "      <td>NaN</td>\n",
       "      <td>NaN</td>\n",
       "      <td>NaN</td>\n",
       "      <td>NaN</td>\n",
       "      <td>NaN</td>\n",
       "      <td>NaN</td>\n",
       "      <td>NaN</td>\n",
       "      <td>NaN</td>\n",
       "      <td>NaN</td>\n",
       "      <td>NaN</td>\n",
       "    </tr>\n",
       "    <tr>\n",
       "      <th>419</th>\n",
       "      <td>English</td>\n",
       "      <td>$3 million</td>\n",
       "      <td>$9,563,393 (US)</td>\n",
       "      <td>[Roger L. Simon, Paul Mazursky]</td>\n",
       "      <td>NaN</td>\n",
       "      <td>NaN</td>\n",
       "      <td>NaN</td>\n",
       "      <td>NaN</td>\n",
       "      <td>NaN</td>\n",
       "      <td>NaN</td>\n",
       "      <td>NaN</td>\n",
       "      <td>NaN</td>\n",
       "      <td>NaN</td>\n",
       "      <td>NaN</td>\n",
       "      <td>NaN</td>\n",
       "      <td>NaN</td>\n",
       "      <td>NaN</td>\n",
       "      <td>NaN</td>\n",
       "      <td>NaN</td>\n",
       "    </tr>\n",
       "  </tbody>\n",
       "</table>\n",
       "</div>"
      ],
      "text/plain": [
       "     Language        Budget       Box office  \\\n",
       "1914  English  $8.5 million    $23.7 million   \n",
       "419   English    $3 million  $9,563,393 (US)   \n",
       "\n",
       "                                         Written by Genre  \\\n",
       "1914  [Dan Schneider, Kevin Kopelow, Heath Seifert]   NaN   \n",
       "419                 [Roger L. Simon, Paul Mazursky]   NaN   \n",
       "\n",
       "     Theme music composer Country of origin Original language(s) Producer(s)  \\\n",
       "1914                  NaN               NaN                  NaN         NaN   \n",
       "419                   NaN               NaN                  NaN         NaN   \n",
       "\n",
       "     Editor(s) Production company(s) Original network Original release  \\\n",
       "1914       NaN                   NaN              NaN              NaN   \n",
       "419        NaN                   NaN              NaN              NaN   \n",
       "\n",
       "     Productioncompanies  Executive producer(s) Production location(s)  \\\n",
       "1914                  NaN                   NaN                    NaN   \n",
       "419                   NaN                   NaN                    NaN   \n",
       "\n",
       "     Distributor Picture format Audio format  \n",
       "1914         NaN            NaN          NaN  \n",
       "419          NaN            NaN          NaN  "
      ]
     },
     "execution_count": 25,
     "metadata": {},
     "output_type": "execute_result"
    },
    {
     "data": {
      "text/html": [
       "<div>\n",
       "<style scoped>\n",
       "    .dataframe tbody tr th:only-of-type {\n",
       "        vertical-align: middle;\n",
       "    }\n",
       "\n",
       "    .dataframe tbody tr th {\n",
       "        vertical-align: top;\n",
       "    }\n",
       "\n",
       "    .dataframe thead th {\n",
       "        text-align: right;\n",
       "    }\n",
       "</style>\n",
       "<table border=\"1\" class=\"dataframe\">\n",
       "  <thead>\n",
       "    <tr style=\"text-align: right;\">\n",
       "      <th></th>\n",
       "      <th>Followed by</th>\n",
       "      <th>Composer(s)</th>\n",
       "      <th>Created by</th>\n",
       "      <th>Also known as</th>\n",
       "      <th>Opening theme</th>\n",
       "      <th>No. of episodes</th>\n",
       "      <th>Preceded by</th>\n",
       "      <th>Adaptation by</th>\n",
       "      <th>Suggested by</th>\n",
       "      <th>Traditional</th>\n",
       "      <th>Mandarin</th>\n",
       "      <th>Released</th>\n",
       "      <th>Recorded</th>\n",
       "      <th>Venue</th>\n",
       "      <th>Length</th>\n",
       "      <th>Label</th>\n",
       "      <th>Director</th>\n",
       "      <th>Producer</th>\n",
       "      <th>Animation by</th>\n",
       "    </tr>\n",
       "  </thead>\n",
       "  <tbody>\n",
       "    <tr>\n",
       "      <th>4665</th>\n",
       "      <td>NaN</td>\n",
       "      <td>NaN</td>\n",
       "      <td>NaN</td>\n",
       "      <td>NaN</td>\n",
       "      <td>NaN</td>\n",
       "      <td>NaN</td>\n",
       "      <td>NaN</td>\n",
       "      <td>NaN</td>\n",
       "      <td>NaN</td>\n",
       "      <td>NaN</td>\n",
       "      <td>NaN</td>\n",
       "      <td>NaN</td>\n",
       "      <td>NaN</td>\n",
       "      <td>NaN</td>\n",
       "      <td>NaN</td>\n",
       "      <td>NaN</td>\n",
       "      <td>NaN</td>\n",
       "      <td>NaN</td>\n",
       "      <td>NaN</td>\n",
       "    </tr>\n",
       "    <tr>\n",
       "      <th>3188</th>\n",
       "      <td>NaN</td>\n",
       "      <td>NaN</td>\n",
       "      <td>NaN</td>\n",
       "      <td>NaN</td>\n",
       "      <td>NaN</td>\n",
       "      <td>NaN</td>\n",
       "      <td>NaN</td>\n",
       "      <td>NaN</td>\n",
       "      <td>NaN</td>\n",
       "      <td>NaN</td>\n",
       "      <td>NaN</td>\n",
       "      <td>NaN</td>\n",
       "      <td>NaN</td>\n",
       "      <td>NaN</td>\n",
       "      <td>NaN</td>\n",
       "      <td>NaN</td>\n",
       "      <td>NaN</td>\n",
       "      <td>NaN</td>\n",
       "      <td>NaN</td>\n",
       "    </tr>\n",
       "  </tbody>\n",
       "</table>\n",
       "</div>"
      ],
      "text/plain": [
       "     Followed by Composer(s) Created by Also known as Opening theme  \\\n",
       "4665         NaN         NaN        NaN           NaN           NaN   \n",
       "3188         NaN         NaN        NaN           NaN           NaN   \n",
       "\n",
       "     No. of episodes Preceded by Adaptation by Suggested by Traditional  \\\n",
       "4665             NaN         NaN           NaN          NaN         NaN   \n",
       "3188             NaN         NaN           NaN          NaN         NaN   \n",
       "\n",
       "     Mandarin Released Recorded Venue Length Label Director Producer  \\\n",
       "4665      NaN      NaN      NaN   NaN    NaN   NaN      NaN      NaN   \n",
       "3188      NaN      NaN      NaN   NaN    NaN   NaN      NaN      NaN   \n",
       "\n",
       "     Animation by  \n",
       "4665          NaN  \n",
       "3188          NaN  "
      ]
     },
     "execution_count": 25,
     "metadata": {},
     "output_type": "execute_result"
    },
    {
     "data": {
      "text/html": [
       "<div>\n",
       "<style scoped>\n",
       "    .dataframe tbody tr th:only-of-type {\n",
       "        vertical-align: middle;\n",
       "    }\n",
       "\n",
       "    .dataframe tbody tr th {\n",
       "        vertical-align: top;\n",
       "    }\n",
       "\n",
       "    .dataframe thead th {\n",
       "        text-align: right;\n",
       "    }\n",
       "</style>\n",
       "<table border=\"1\" class=\"dataframe\">\n",
       "  <thead>\n",
       "    <tr style=\"text-align: right;\">\n",
       "      <th></th>\n",
       "      <th>Simplified</th>\n",
       "      <th>French</th>\n",
       "      <th>Camera setup</th>\n",
       "      <th>Screen story by</th>\n",
       "      <th>Hangul</th>\n",
       "      <th>Revised Romanization</th>\n",
       "      <th>McCune–Reischauer</th>\n",
       "      <th>Original title</th>\n",
       "      <th>Japanese</th>\n",
       "      <th>Hepburn</th>\n",
       "      <th>Literally</th>\n",
       "      <th>Cantonese</th>\n",
       "      <th>Chinese</th>\n",
       "      <th>Yiddish</th>\n",
       "      <th>Arabic</th>\n",
       "      <th>Romanized</th>\n",
       "      <th>Russian</th>\n",
       "      <th>Hebrew</th>\n",
       "      <th>Polish</th>\n",
       "    </tr>\n",
       "  </thead>\n",
       "  <tbody>\n",
       "    <tr>\n",
       "      <th>4030</th>\n",
       "      <td>NaN</td>\n",
       "      <td>NaN</td>\n",
       "      <td>NaN</td>\n",
       "      <td>NaN</td>\n",
       "      <td>NaN</td>\n",
       "      <td>NaN</td>\n",
       "      <td>NaN</td>\n",
       "      <td>NaN</td>\n",
       "      <td>NaN</td>\n",
       "      <td>NaN</td>\n",
       "      <td>NaN</td>\n",
       "      <td>NaN</td>\n",
       "      <td>NaN</td>\n",
       "      <td>NaN</td>\n",
       "      <td>NaN</td>\n",
       "      <td>NaN</td>\n",
       "      <td>NaN</td>\n",
       "      <td>NaN</td>\n",
       "      <td>NaN</td>\n",
       "    </tr>\n",
       "    <tr>\n",
       "      <th>6939</th>\n",
       "      <td>NaN</td>\n",
       "      <td>NaN</td>\n",
       "      <td>NaN</td>\n",
       "      <td>NaN</td>\n",
       "      <td>NaN</td>\n",
       "      <td>NaN</td>\n",
       "      <td>NaN</td>\n",
       "      <td>NaN</td>\n",
       "      <td>NaN</td>\n",
       "      <td>NaN</td>\n",
       "      <td>NaN</td>\n",
       "      <td>NaN</td>\n",
       "      <td>NaN</td>\n",
       "      <td>NaN</td>\n",
       "      <td>NaN</td>\n",
       "      <td>NaN</td>\n",
       "      <td>NaN</td>\n",
       "      <td>NaN</td>\n",
       "      <td>NaN</td>\n",
       "    </tr>\n",
       "  </tbody>\n",
       "</table>\n",
       "</div>"
      ],
      "text/plain": [
       "     Simplified French Camera setup Screen story by Hangul  \\\n",
       "4030        NaN    NaN          NaN             NaN    NaN   \n",
       "6939        NaN    NaN          NaN             NaN    NaN   \n",
       "\n",
       "     Revised Romanization McCune–Reischauer Original title Japanese Hepburn  \\\n",
       "4030                  NaN               NaN            NaN      NaN     NaN   \n",
       "6939                  NaN               NaN            NaN      NaN     NaN   \n",
       "\n",
       "     Literally Cantonese Chinese Yiddish Arabic Romanized Russian Hebrew  \\\n",
       "4030       NaN       NaN     NaN     NaN    NaN       NaN     NaN    NaN   \n",
       "6939       NaN       NaN     NaN     NaN    NaN       NaN     NaN    NaN   \n",
       "\n",
       "     Polish  \n",
       "4030    NaN  \n",
       "6939    NaN  "
      ]
     },
     "execution_count": 25,
     "metadata": {},
     "output_type": "execute_result"
    }
   ],
   "source": [
    "wiki_movies_df[wiki_movies_df.columns[0:18]].sample(2)\n",
    "wiki_movies_df[wiki_movies_df.columns[19:38]].sample(2)\n",
    "wiki_movies_df[wiki_movies_df.columns[39:58]].sample(2)\n",
    "wiki_movies_df[wiki_movies_df.columns[59:78]].sample(2)"
   ]
  },
  {
   "cell_type": "code",
   "execution_count": 26,
   "metadata": {
    "execution": {
     "iopub.execute_input": "2020-11-19T18:46:41.053774Z",
     "iopub.status.busy": "2020-11-19T18:46:41.053774Z",
     "iopub.status.idle": "2020-11-19T18:46:41.063748Z",
     "shell.execute_reply": "2020-11-19T18:46:41.062751Z",
     "shell.execute_reply.started": "2020-11-19T18:46:41.053774Z"
    }
   },
   "outputs": [],
   "source": [
    "# adding another layer to list comprehension filter based on results\n",
    "wiki_movies = [movie for movie in wiki_movies_raw\n",
    "               if ('Director' in movie or 'Directed by' in movie)\n",
    "                   and 'imdb_link' in movie\n",
    "                   and 'No. of episodes' not in movie]"
   ]
  },
  {
   "cell_type": "code",
   "execution_count": 27,
   "metadata": {
    "execution": {
     "iopub.execute_input": "2020-11-19T18:46:41.069732Z",
     "iopub.status.busy": "2020-11-19T18:46:41.068735Z",
     "iopub.status.idle": "2020-11-19T18:46:41.076712Z",
     "shell.execute_reply": "2020-11-19T18:46:41.075716Z",
     "shell.execute_reply.started": "2020-11-19T18:46:41.069732Z"
    }
   },
   "outputs": [],
   "source": [
    "# only local version of movie will be returned, not the golbal orignal \n",
    "def clean_movie(movie):\n",
    "    movie = dict(movie) #create a non-destructive copy\n",
    "    return movie"
   ]
  },
  {
   "cell_type": "code",
   "execution_count": 28,
   "metadata": {
    "execution": {
     "iopub.execute_input": "2020-11-19T18:46:41.080702Z",
     "iopub.status.busy": "2020-11-19T18:46:41.079705Z",
     "iopub.status.idle": "2020-11-19T18:46:41.096659Z",
     "shell.execute_reply": "2020-11-19T18:46:41.095661Z",
     "shell.execute_reply.started": "2020-11-19T18:46:41.080702Z"
    }
   },
   "outputs": [
    {
     "data": {
      "text/plain": [
       "6838    https://en.wikipedia.org/wiki/The_Insult_(film)\n",
       "7062     https://en.wikipedia.org/wiki/Capernaum_(film)\n",
       "Name: url, dtype: object"
      ]
     },
     "execution_count": 28,
     "metadata": {},
     "output_type": "execute_result"
    }
   ],
   "source": [
    "wiki_movies_df[wiki_movies_df['Arabic'].notnull()]['url']"
   ]
  },
  {
   "cell_type": "markdown",
   "metadata": {},
   "source": [
    "> Cleaning alternate titles / combing columns"
   ]
  },
  {
   "cell_type": "code",
   "execution_count": 29,
   "metadata": {
    "execution": {
     "iopub.execute_input": "2020-11-19T18:46:41.098654Z",
     "iopub.status.busy": "2020-11-19T18:46:41.097657Z",
     "iopub.status.idle": "2020-11-19T18:46:41.107630Z",
     "shell.execute_reply": "2020-11-19T18:46:41.106639Z",
     "shell.execute_reply.started": "2020-11-19T18:46:41.098654Z"
    }
   },
   "outputs": [
    {
     "name": "stdout",
     "output_type": "stream",
     "text": [
      "['Adaptation by', 'Also known as', 'Animation by', 'Arabic', 'Audio format', 'Based on', 'Box office', 'Budget', 'Camera setup', 'Cantonese', 'Chinese', 'Cinematography', 'Color process', 'Composer(s)', 'Country', 'Country of origin', 'Created by', 'Directed by', 'Director', 'Distributed by', 'Distributor', 'Edited by', 'Editor(s)', 'Executive producer(s)', 'Followed by', 'French', 'Genre', 'Hangul', 'Hebrew', 'Hepburn', 'Japanese', 'Label', 'Language', 'Length', 'Literally', 'Mandarin', 'McCune–Reischauer', 'Music by', 'Narrated by', 'No. of episodes', 'Opening theme', 'Original language(s)', 'Original network', 'Original release', 'Original title', 'Picture format', 'Polish', 'Preceded by', 'Produced by', 'Producer', 'Producer(s)', 'Production company(s)', 'Production location(s)', 'Productioncompanies ', 'Productioncompany ', 'Recorded', 'Release date', 'Released', 'Revised Romanization', 'Romanized', 'Running time', 'Russian', 'Screen story by', 'Screenplay by', 'Simplified', 'Starring', 'Story by', 'Suggested by', 'Theme music composer', 'Traditional', 'Venue', 'Voices of', 'Written by', 'Yiddish', 'imdb_link', 'title', 'url', 'year']\n"
     ]
    }
   ],
   "source": [
    "print(sorted(wiki_movies_df.columns.tolist()))"
   ]
  },
  {
   "cell_type": "code",
   "execution_count": 30,
   "metadata": {
    "execution": {
     "iopub.execute_input": "2020-11-19T18:46:41.109625Z",
     "iopub.status.busy": "2020-11-19T18:46:41.108628Z",
     "iopub.status.idle": "2020-11-19T18:46:41.120595Z",
     "shell.execute_reply": "2020-11-19T18:46:41.119598Z",
     "shell.execute_reply.started": "2020-11-19T18:46:41.109625Z"
    }
   },
   "outputs": [],
   "source": [
    "def clean_movie(movie):\n",
    "    movie = dict(movie) #create a non-destructive copy\n",
    "    alt_titles = {}\n",
    "    for key in ['Also known as','Arabic','Cantonese','Chinese','French',\n",
    "                'Hangul','Hebrew','Hepburn','Japanese','Literally',\n",
    "                'Mandarin','McCune–Reischauer','Original title','Polish',\n",
    "                'Revised Romanization','Romanized','Russian',\n",
    "                'Simplified','Traditional','Yiddish']:\n",
    "        if key in movie:\n",
    "            alt_titles[key] = movie[key]\n",
    "            movie.pop(key)\n",
    "    if len(alt_titles) > 0:\n",
    "        movie['alt_titles'] = alt_titles\n",
    "\n",
    "    return movie"
   ]
  },
  {
   "cell_type": "markdown",
   "metadata": {
    "execution": {
     "iopub.execute_input": "2020-11-14T21:27:12.353039Z",
     "iopub.status.busy": "2020-11-14T21:27:12.352041Z",
     "iopub.status.idle": "2020-11-14T21:27:12.359027Z",
     "shell.execute_reply": "2020-11-14T21:27:12.358080Z",
     "shell.execute_reply.started": "2020-11-14T21:27:12.353039Z"
    }
   },
   "source": [
    "<div class=\"alert alert-block alert-info\">\n",
    "<b>Note:</b></div>\n",
    "\n",
    ">  When converting dataframe to dictionary, columns become keys.<br>\n",
    ">\n",
    "> ```alt_titles``` will be a dictonary of dictionaries e.g a column with eah index having multiple values.<br>\n",
    ">\n",
    "> The provided list contains alternate columns(keys) thatt can be combined into one (theryre all languages)<br>\n",
    "> ```if key in movie: alt_titles[key] = movie[key] ``` if \"key\" from list is in dictionary then add key and its values (```movie[key]```) to the alt_titles dictinary<br>\n",
    "> ```movie.pop(key)``` then remove key from movies dictionary (which is the converted data frame)<br>\n",
    "> ```if len(alt_titles) > 0: movie['alt_titles'] = alt_titles ``` if key,vlaues are present within ```alt_titles``` then add them (which would be a combination of all alt titles from a previous step) to the movies dictionary, as its own combined key, value pairing (ultimatly becoming a singular alt_titles column once converted to a dataframe). "
   ]
  },
  {
   "cell_type": "code",
   "execution_count": 31,
   "metadata": {
    "execution": {
     "iopub.execute_input": "2020-11-19T18:46:41.122594Z",
     "iopub.status.busy": "2020-11-19T18:46:41.121594Z",
     "iopub.status.idle": "2020-11-19T18:46:41.160488Z",
     "shell.execute_reply": "2020-11-19T18:46:41.159492Z",
     "shell.execute_reply.started": "2020-11-19T18:46:41.122594Z"
    }
   },
   "outputs": [],
   "source": [
    "# make a list of ceaned movies with a list comprenhension \n",
    "# using clenaing function on \"wiki_movies\" which is in dicitonary format from previosuly imported json data\n",
    "clean_movies = [clean_movie(movie) for movie in wiki_movies]"
   ]
  },
  {
   "cell_type": "code",
   "execution_count": 32,
   "metadata": {
    "execution": {
     "iopub.execute_input": "2020-11-19T18:46:41.161488Z",
     "iopub.status.busy": "2020-11-19T18:46:41.161488Z",
     "iopub.status.idle": "2020-11-19T18:46:41.255237Z",
     "shell.execute_reply": "2020-11-19T18:46:41.255237Z",
     "shell.execute_reply.started": "2020-11-19T18:46:41.161488Z"
    }
   },
   "outputs": [],
   "source": [
    "wiki_movies_df = pd.DataFrame(clean_movies)"
   ]
  },
  {
   "cell_type": "code",
   "execution_count": 33,
   "metadata": {
    "execution": {
     "iopub.execute_input": "2020-11-19T18:46:41.257231Z",
     "iopub.status.busy": "2020-11-19T18:46:41.257231Z",
     "iopub.status.idle": "2020-11-19T18:46:41.273190Z",
     "shell.execute_reply": "2020-11-19T18:46:41.272191Z",
     "shell.execute_reply.started": "2020-11-19T18:46:41.257231Z"
    }
   },
   "outputs": [
    {
     "data": {
      "text/html": [
       "<div>\n",
       "<style scoped>\n",
       "    .dataframe tbody tr th:only-of-type {\n",
       "        vertical-align: middle;\n",
       "    }\n",
       "\n",
       "    .dataframe tbody tr th {\n",
       "        vertical-align: top;\n",
       "    }\n",
       "\n",
       "    .dataframe thead th {\n",
       "        text-align: right;\n",
       "    }\n",
       "</style>\n",
       "<table border=\"1\" class=\"dataframe\">\n",
       "  <thead>\n",
       "    <tr style=\"text-align: right;\">\n",
       "      <th></th>\n",
       "      <th>alt_titles</th>\n",
       "    </tr>\n",
       "  </thead>\n",
       "  <tbody>\n",
       "    <tr>\n",
       "      <th>7058</th>\n",
       "      <td>{'Arabic': 'کفرناحوم‎'}</td>\n",
       "    </tr>\n",
       "    <tr>\n",
       "      <th>4790</th>\n",
       "      <td>{'Original title': 'ואלס עם באשיר'}</td>\n",
       "    </tr>\n",
       "    <tr>\n",
       "      <th>6834</th>\n",
       "      <td>{'Arabic': 'قضية رقم ٢٣', 'Literally': 'Case N...</td>\n",
       "    </tr>\n",
       "    <tr>\n",
       "      <th>7009</th>\n",
       "      <td>{'Hepburn': 'Boku no Hīrō Akademia THE MOVIE: ...</td>\n",
       "    </tr>\n",
       "    <tr>\n",
       "      <th>6719</th>\n",
       "      <td>{'Yiddish': 'מנשה'}</td>\n",
       "    </tr>\n",
       "    <tr>\n",
       "      <th>6613</th>\n",
       "      <td>{'Mandarin': 'Cháng Chéng', 'Simplified': '长城'...</td>\n",
       "    </tr>\n",
       "    <tr>\n",
       "      <th>6620</th>\n",
       "      <td>{'Chinese': '摇滚藏獒'}</td>\n",
       "    </tr>\n",
       "  </tbody>\n",
       "</table>\n",
       "</div>"
      ],
      "text/plain": [
       "                                             alt_titles\n",
       "7058                            {'Arabic': 'کفرناحوم‎'}\n",
       "4790                {'Original title': 'ואלס עם באשיר'}\n",
       "6834  {'Arabic': 'قضية رقم ٢٣', 'Literally': 'Case N...\n",
       "7009  {'Hepburn': 'Boku no Hīrō Akademia THE MOVIE: ...\n",
       "6719                                {'Yiddish': 'מנשה'}\n",
       "6613  {'Mandarin': 'Cháng Chéng', 'Simplified': '长城'...\n",
       "6620                                {'Chinese': '摇滚藏獒'}"
      ]
     },
     "execution_count": 33,
     "metadata": {},
     "output_type": "execute_result"
    }
   ],
   "source": [
    "wiki_movies_df[wiki_movies_df['alt_titles'].notnull()][['alt_titles']].sample(7)"
   ]
  },
  {
   "cell_type": "code",
   "execution_count": 34,
   "metadata": {
    "execution": {
     "iopub.execute_input": "2020-11-19T18:46:41.275183Z",
     "iopub.status.busy": "2020-11-19T18:46:41.274186Z",
     "iopub.status.idle": "2020-11-19T18:46:41.284157Z",
     "shell.execute_reply": "2020-11-19T18:46:41.283189Z",
     "shell.execute_reply.started": "2020-11-19T18:46:41.274186Z"
    }
   },
   "outputs": [
    {
     "data": {
      "text/plain": [
       "'원더풀 데이즈'"
      ]
     },
     "execution_count": 34,
     "metadata": {},
     "output_type": "execute_result"
    }
   ],
   "source": [
    "wiki_movies_df.iloc[3413]['alt_titles']['Hangul']             "
   ]
  },
  {
   "cell_type": "markdown",
   "metadata": {
    "execution": {
     "iopub.execute_input": "2020-11-15T03:33:24.909992Z",
     "iopub.status.busy": "2020-11-15T03:33:24.909992Z",
     "iopub.status.idle": "2020-11-15T03:33:24.917972Z",
     "shell.execute_reply": "2020-11-15T03:33:24.914981Z",
     "shell.execute_reply.started": "2020-11-15T03:33:24.909992Z"
    }
   },
   "source": [
    "> cleaning columns/ column consildation "
   ]
  },
  {
   "cell_type": "code",
   "execution_count": 35,
   "metadata": {
    "execution": {
     "iopub.execute_input": "2020-11-19T18:46:41.285155Z",
     "iopub.status.busy": "2020-11-19T18:46:41.285155Z",
     "iopub.status.idle": "2020-11-19T18:46:41.294131Z",
     "shell.execute_reply": "2020-11-19T18:46:41.293133Z",
     "shell.execute_reply.started": "2020-11-19T18:46:41.285155Z"
    }
   },
   "outputs": [],
   "source": [
    "    def change_column_name(old_name, new_name):\n",
    "        if old_name in movie:\n",
    "            movie[new_name] = movie.pop(old_name)"
   ]
  },
  {
   "cell_type": "markdown",
   "metadata": {},
   "source": [
    "> adding to cleaning funciton "
   ]
  },
  {
   "cell_type": "code",
   "execution_count": 36,
   "metadata": {
    "execution": {
     "iopub.execute_input": "2020-11-19T18:46:41.296126Z",
     "iopub.status.busy": "2020-11-19T18:46:41.296126Z",
     "iopub.status.idle": "2020-11-19T18:46:41.314078Z",
     "shell.execute_reply": "2020-11-19T18:46:41.312085Z",
     "shell.execute_reply.started": "2020-11-19T18:46:41.296126Z"
    }
   },
   "outputs": [],
   "source": [
    "def clean_movie(movie):\n",
    "    movie = dict(movie) #create a non-destructive copy\n",
    "    alt_titles = {}\n",
    "    # combine alternate titles into one list\n",
    "    for key in ['Also known as','Arabic','Cantonese','Chinese','French',\n",
    "                'Hangul','Hebrew','Hepburn','Japanese','Literally',\n",
    "                'Mandarin','McCune-Reischauer','Original title','Polish',\n",
    "                'Revised Romanization','Romanized','Russian',\n",
    "                'Simplified','Traditional','Yiddish']:\n",
    "        if key in movie:\n",
    "            alt_titles[key] = movie[key]\n",
    "            movie.pop(key)\n",
    "    if len(alt_titles) > 0:\n",
    "        movie['alt_titles'] = alt_titles\n",
    "\n",
    "    # merge column names\n",
    "    def change_column_name(old_name, new_name):\n",
    "        if old_name in movie:\n",
    "            movie[new_name] = movie.pop(old_name)\n",
    "    change_column_name('Adaptation by', 'Writer(s)')\n",
    "    change_column_name('Country of origin', 'Country')\n",
    "    change_column_name('Directed by', 'Director')\n",
    "    change_column_name('Distributed by', 'Distributor')\n",
    "    change_column_name('Edited by', 'Editor(s)')\n",
    "    change_column_name('Length', 'Running time')\n",
    "    change_column_name('Original release', 'Release date')\n",
    "    change_column_name('Music by', 'Composer(s)')\n",
    "    change_column_name('Produced by', 'Producer(s)')\n",
    "    change_column_name('Producer', 'Producer(s)')\n",
    "    change_column_name('Productioncompanies ', 'Production company(s)')\n",
    "    change_column_name('Productioncompany ', 'Production company(s)')\n",
    "    change_column_name('Released', 'Release Date')\n",
    "    change_column_name('Release Date', 'Release date')\n",
    "    change_column_name('Screen story by', 'Writer(s)')\n",
    "    change_column_name('Screenplay by', 'Writer(s)')\n",
    "    change_column_name('Story by', 'Writer(s)')\n",
    "    change_column_name('Theme music composer', 'Composer(s)')\n",
    "    change_column_name('Written by', 'Writer(s)')\n",
    "\n",
    "    return movie"
   ]
  },
  {
   "cell_type": "code",
   "execution_count": 37,
   "metadata": {
    "execution": {
     "iopub.execute_input": "2020-11-19T18:46:41.316073Z",
     "iopub.status.busy": "2020-11-19T18:46:41.315077Z",
     "iopub.status.idle": "2020-11-19T18:46:41.461713Z",
     "shell.execute_reply": "2020-11-19T18:46:41.461713Z",
     "shell.execute_reply.started": "2020-11-19T18:46:41.316073Z"
    }
   },
   "outputs": [],
   "source": [
    "clean_movies = [clean_movie(movie) for movie in wiki_movies]\n",
    "wiki_movies_df = pd.DataFrame(clean_movies)"
   ]
  },
  {
   "cell_type": "code",
   "execution_count": 38,
   "metadata": {
    "execution": {
     "iopub.execute_input": "2020-11-19T18:46:41.463677Z",
     "iopub.status.busy": "2020-11-19T18:46:41.463677Z",
     "iopub.status.idle": "2020-11-19T18:46:41.469661Z",
     "shell.execute_reply": "2020-11-19T18:46:41.468664Z",
     "shell.execute_reply.started": "2020-11-19T18:46:41.463677Z"
    }
   },
   "outputs": [
    {
     "name": "stdout",
     "output_type": "stream",
     "text": [
      "['Animation by', 'Audio format', 'Based on', 'Box office', 'Budget', 'Cinematography', 'Color process', 'Composer(s)', 'Country', 'Created by', 'Director', 'Distributor', 'Editor(s)', 'Executive producer(s)', 'Followed by', 'Genre', 'Label', 'Language', 'McCune–Reischauer', 'Narrated by', 'Original language(s)', 'Original network', 'Picture format', 'Preceded by', 'Producer(s)', 'Production company(s)', 'Production location(s)', 'Recorded', 'Release date', 'Running time', 'Starring', 'Suggested by', 'Venue', 'Voices of', 'Writer(s)', 'alt_titles', 'imdb_link', 'title', 'url', 'year']\n"
     ]
    }
   ],
   "source": [
    "print(sorted(wiki_movies_df.columns.tolist()))"
   ]
  },
  {
   "cell_type": "markdown",
   "metadata": {
    "execution": {
     "iopub.execute_input": "2020-11-15T18:12:56.856693Z",
     "iopub.status.busy": "2020-11-15T18:12:56.855696Z",
     "iopub.status.idle": "2020-11-15T18:12:56.868197Z",
     "shell.execute_reply": "2020-11-15T18:12:56.867200Z",
     "shell.execute_reply.started": "2020-11-15T18:12:56.856693Z"
    }
   },
   "source": [
    "> removing duplicate rows"
   ]
  },
  {
   "cell_type": "code",
   "execution_count": 39,
   "metadata": {
    "execution": {
     "iopub.execute_input": "2020-11-19T18:46:41.471656Z",
     "iopub.status.busy": "2020-11-19T18:46:41.471656Z",
     "iopub.status.idle": "2020-11-19T18:46:41.512547Z",
     "shell.execute_reply": "2020-11-19T18:46:41.510552Z",
     "shell.execute_reply.started": "2020-11-19T18:46:41.471656Z"
    }
   },
   "outputs": [
    {
     "data": {
      "text/html": [
       "<div>\n",
       "<style scoped>\n",
       "    .dataframe tbody tr th:only-of-type {\n",
       "        vertical-align: middle;\n",
       "    }\n",
       "\n",
       "    .dataframe tbody tr th {\n",
       "        vertical-align: top;\n",
       "    }\n",
       "\n",
       "    .dataframe thead th {\n",
       "        text-align: right;\n",
       "    }\n",
       "</style>\n",
       "<table border=\"1\" class=\"dataframe\">\n",
       "  <thead>\n",
       "    <tr style=\"text-align: right;\">\n",
       "      <th></th>\n",
       "      <th>url</th>\n",
       "      <th>year</th>\n",
       "      <th>imdb_link</th>\n",
       "      <th>title</th>\n",
       "      <th>Based on</th>\n",
       "      <th>Starring</th>\n",
       "      <th>Narrated by</th>\n",
       "      <th>Cinematography</th>\n",
       "      <th>Release date</th>\n",
       "      <th>Running time</th>\n",
       "      <th>...</th>\n",
       "      <th>Created by</th>\n",
       "      <th>Preceded by</th>\n",
       "      <th>Suggested by</th>\n",
       "      <th>alt_titles</th>\n",
       "      <th>Recorded</th>\n",
       "      <th>Venue</th>\n",
       "      <th>Label</th>\n",
       "      <th>Animation by</th>\n",
       "      <th>Color process</th>\n",
       "      <th>McCune–Reischauer</th>\n",
       "    </tr>\n",
       "  </thead>\n",
       "  <tbody>\n",
       "    <tr>\n",
       "      <th>6282</th>\n",
       "      <td>https://en.wikipedia.org/wiki/Foxcatcher</td>\n",
       "      <td>2014</td>\n",
       "      <td>https://www.imdb.com/title/tt1100089/</td>\n",
       "      <td>Foxcatcher</td>\n",
       "      <td>NaN</td>\n",
       "      <td>[Steve Carell, Channing Tatum, Mark Ruffalo, V...</td>\n",
       "      <td>NaN</td>\n",
       "      <td>Greig Fraser</td>\n",
       "      <td>[May 19, 2014, (, 2014-05-19, ), (, Cannes Fil...</td>\n",
       "      <td>134 minutes</td>\n",
       "      <td>...</td>\n",
       "      <td>NaN</td>\n",
       "      <td>NaN</td>\n",
       "      <td>NaN</td>\n",
       "      <td>NaN</td>\n",
       "      <td>NaN</td>\n",
       "      <td>NaN</td>\n",
       "      <td>NaN</td>\n",
       "      <td>NaN</td>\n",
       "      <td>NaN</td>\n",
       "      <td>NaN</td>\n",
       "    </tr>\n",
       "    <tr>\n",
       "      <th>5062</th>\n",
       "      <td>https://en.wikipedia.org/wiki/Countdown_to_Zero</td>\n",
       "      <td>2010</td>\n",
       "      <td>https://www.imdb.com/title/tt1572769/</td>\n",
       "      <td>Countdown to Zero</td>\n",
       "      <td>NaN</td>\n",
       "      <td>NaN</td>\n",
       "      <td>[Gary Oldman, [2], (prologue)]</td>\n",
       "      <td>[Robert Chappell, Gary Clarke, Bryan Donnell, ...</td>\n",
       "      <td>[January 25, 2010, (, 2010-01-25, ), (, Sundan...</td>\n",
       "      <td>90 minutes</td>\n",
       "      <td>...</td>\n",
       "      <td>NaN</td>\n",
       "      <td>NaN</td>\n",
       "      <td>NaN</td>\n",
       "      <td>NaN</td>\n",
       "      <td>NaN</td>\n",
       "      <td>NaN</td>\n",
       "      <td>NaN</td>\n",
       "      <td>NaN</td>\n",
       "      <td>NaN</td>\n",
       "      <td>NaN</td>\n",
       "    </tr>\n",
       "  </tbody>\n",
       "</table>\n",
       "<p>2 rows × 40 columns</p>\n",
       "</div>"
      ],
      "text/plain": [
       "                                                  url  year  \\\n",
       "6282         https://en.wikipedia.org/wiki/Foxcatcher  2014   \n",
       "5062  https://en.wikipedia.org/wiki/Countdown_to_Zero  2010   \n",
       "\n",
       "                                  imdb_link              title Based on  \\\n",
       "6282  https://www.imdb.com/title/tt1100089/         Foxcatcher      NaN   \n",
       "5062  https://www.imdb.com/title/tt1572769/  Countdown to Zero      NaN   \n",
       "\n",
       "                                               Starring  \\\n",
       "6282  [Steve Carell, Channing Tatum, Mark Ruffalo, V...   \n",
       "5062                                                NaN   \n",
       "\n",
       "                         Narrated by  \\\n",
       "6282                             NaN   \n",
       "5062  [Gary Oldman, [2], (prologue)]   \n",
       "\n",
       "                                         Cinematography  \\\n",
       "6282                                       Greig Fraser   \n",
       "5062  [Robert Chappell, Gary Clarke, Bryan Donnell, ...   \n",
       "\n",
       "                                           Release date Running time  ...  \\\n",
       "6282  [May 19, 2014, (, 2014-05-19, ), (, Cannes Fil...  134 minutes  ...   \n",
       "5062  [January 25, 2010, (, 2010-01-25, ), (, Sundan...   90 minutes  ...   \n",
       "\n",
       "     Created by Preceded by Suggested by alt_titles Recorded Venue Label  \\\n",
       "6282        NaN         NaN          NaN        NaN      NaN   NaN   NaN   \n",
       "5062        NaN         NaN          NaN        NaN      NaN   NaN   NaN   \n",
       "\n",
       "     Animation by Color process McCune–Reischauer  \n",
       "6282          NaN           NaN               NaN  \n",
       "5062          NaN           NaN               NaN  \n",
       "\n",
       "[2 rows x 40 columns]"
      ]
     },
     "execution_count": 39,
     "metadata": {},
     "output_type": "execute_result"
    }
   ],
   "source": [
    "wiki_movies_df.sample(2)"
   ]
  },
  {
   "cell_type": "code",
   "execution_count": 40,
   "metadata": {
    "execution": {
     "iopub.execute_input": "2020-11-19T18:46:41.513572Z",
     "iopub.status.busy": "2020-11-19T18:46:41.513572Z",
     "iopub.status.idle": "2020-11-19T18:46:41.544462Z",
     "shell.execute_reply": "2020-11-19T18:46:41.543466Z",
     "shell.execute_reply.started": "2020-11-19T18:46:41.513572Z"
    }
   },
   "outputs": [],
   "source": [
    "# use regex to extract imdb id from the url column \n",
    "wiki_movies_df['imdb_id'] = wiki_movies_df['imdb_link'].str.extract(r'(tt\\d{7})')"
   ]
  },
  {
   "cell_type": "code",
   "execution_count": null,
   "metadata": {},
   "outputs": [],
   "source": []
  },
  {
   "cell_type": "code",
   "execution_count": 41,
   "metadata": {
    "execution": {
     "iopub.execute_input": "2020-11-19T18:46:41.546455Z",
     "iopub.status.busy": "2020-11-19T18:46:41.546455Z",
     "iopub.status.idle": "2020-11-19T18:46:41.587346Z",
     "shell.execute_reply": "2020-11-19T18:46:41.586349Z",
     "shell.execute_reply.started": "2020-11-19T18:46:41.546455Z"
    }
   },
   "outputs": [
    {
     "data": {
      "text/html": [
       "<div>\n",
       "<style scoped>\n",
       "    .dataframe tbody tr th:only-of-type {\n",
       "        vertical-align: middle;\n",
       "    }\n",
       "\n",
       "    .dataframe tbody tr th {\n",
       "        vertical-align: top;\n",
       "    }\n",
       "\n",
       "    .dataframe thead th {\n",
       "        text-align: right;\n",
       "    }\n",
       "</style>\n",
       "<table border=\"1\" class=\"dataframe\">\n",
       "  <thead>\n",
       "    <tr style=\"text-align: right;\">\n",
       "      <th></th>\n",
       "      <th>url</th>\n",
       "      <th>year</th>\n",
       "      <th>imdb_link</th>\n",
       "      <th>title</th>\n",
       "      <th>Based on</th>\n",
       "      <th>Starring</th>\n",
       "      <th>Narrated by</th>\n",
       "      <th>Cinematography</th>\n",
       "      <th>Release date</th>\n",
       "      <th>Running time</th>\n",
       "      <th>...</th>\n",
       "      <th>Preceded by</th>\n",
       "      <th>Suggested by</th>\n",
       "      <th>alt_titles</th>\n",
       "      <th>Recorded</th>\n",
       "      <th>Venue</th>\n",
       "      <th>Label</th>\n",
       "      <th>Animation by</th>\n",
       "      <th>Color process</th>\n",
       "      <th>McCune–Reischauer</th>\n",
       "      <th>imdb_id</th>\n",
       "    </tr>\n",
       "  </thead>\n",
       "  <tbody>\n",
       "    <tr>\n",
       "      <th>6417</th>\n",
       "      <td>https://en.wikipedia.org/wiki/She%27s_Funny_Th...</td>\n",
       "      <td>2015</td>\n",
       "      <td>https://www.imdb.com/title/tt1767372/</td>\n",
       "      <td>She’s Funny That Way</td>\n",
       "      <td>NaN</td>\n",
       "      <td>[Owen Wilson, Imogen Poots, Kathryn Hahn, Will...</td>\n",
       "      <td>NaN</td>\n",
       "      <td>Yaron Orbach</td>\n",
       "      <td>[August 29, 2014, (, 2014-08-29, ), (, Venice,...</td>\n",
       "      <td>94 minutes</td>\n",
       "      <td>...</td>\n",
       "      <td>NaN</td>\n",
       "      <td>NaN</td>\n",
       "      <td>NaN</td>\n",
       "      <td>NaN</td>\n",
       "      <td>NaN</td>\n",
       "      <td>NaN</td>\n",
       "      <td>NaN</td>\n",
       "      <td>NaN</td>\n",
       "      <td>NaN</td>\n",
       "      <td>tt1767372</td>\n",
       "    </tr>\n",
       "    <tr>\n",
       "      <th>4434</th>\n",
       "      <td>https://en.wikipedia.org/wiki/I_Am_Legend_(film)</td>\n",
       "      <td>2007</td>\n",
       "      <td>https://www.imdb.com/title/tt0480249/</td>\n",
       "      <td>I Am Legend</td>\n",
       "      <td>[I Am Legend, by, Richard Matheson]</td>\n",
       "      <td>[Will Smith, Alice Braga, Dash Mihok]</td>\n",
       "      <td>NaN</td>\n",
       "      <td>Andrew Lesnie</td>\n",
       "      <td>[December 14, 2007, (, 2007-12-14, )]</td>\n",
       "      <td>101 minutes</td>\n",
       "      <td>...</td>\n",
       "      <td>NaN</td>\n",
       "      <td>NaN</td>\n",
       "      <td>NaN</td>\n",
       "      <td>NaN</td>\n",
       "      <td>NaN</td>\n",
       "      <td>NaN</td>\n",
       "      <td>NaN</td>\n",
       "      <td>NaN</td>\n",
       "      <td>NaN</td>\n",
       "      <td>tt0480249</td>\n",
       "    </tr>\n",
       "  </tbody>\n",
       "</table>\n",
       "<p>2 rows × 41 columns</p>\n",
       "</div>"
      ],
      "text/plain": [
       "                                                    url  year  \\\n",
       "6417  https://en.wikipedia.org/wiki/She%27s_Funny_Th...  2015   \n",
       "4434   https://en.wikipedia.org/wiki/I_Am_Legend_(film)  2007   \n",
       "\n",
       "                                  imdb_link                 title  \\\n",
       "6417  https://www.imdb.com/title/tt1767372/  She’s Funny That Way   \n",
       "4434  https://www.imdb.com/title/tt0480249/           I Am Legend   \n",
       "\n",
       "                                 Based on  \\\n",
       "6417                                  NaN   \n",
       "4434  [I Am Legend, by, Richard Matheson]   \n",
       "\n",
       "                                               Starring Narrated by  \\\n",
       "6417  [Owen Wilson, Imogen Poots, Kathryn Hahn, Will...         NaN   \n",
       "4434              [Will Smith, Alice Braga, Dash Mihok]         NaN   \n",
       "\n",
       "     Cinematography                                       Release date  \\\n",
       "6417   Yaron Orbach  [August 29, 2014, (, 2014-08-29, ), (, Venice,...   \n",
       "4434  Andrew Lesnie              [December 14, 2007, (, 2007-12-14, )]   \n",
       "\n",
       "     Running time  ... Preceded by Suggested by alt_titles Recorded Venue  \\\n",
       "6417   94 minutes  ...         NaN          NaN        NaN      NaN   NaN   \n",
       "4434  101 minutes  ...         NaN          NaN        NaN      NaN   NaN   \n",
       "\n",
       "     Label Animation by Color process McCune–Reischauer    imdb_id  \n",
       "6417   NaN          NaN           NaN               NaN  tt1767372  \n",
       "4434   NaN          NaN           NaN               NaN  tt0480249  \n",
       "\n",
       "[2 rows x 41 columns]"
      ]
     },
     "execution_count": 41,
     "metadata": {},
     "output_type": "execute_result"
    }
   ],
   "source": [
    "wiki_movies_df.sample(2)"
   ]
  },
  {
   "cell_type": "code",
   "execution_count": 42,
   "metadata": {
    "execution": {
     "iopub.execute_input": "2020-11-19T18:46:41.588343Z",
     "iopub.status.busy": "2020-11-19T18:46:41.588343Z",
     "iopub.status.idle": "2020-11-19T18:46:41.607294Z",
     "shell.execute_reply": "2020-11-19T18:46:41.607294Z",
     "shell.execute_reply.started": "2020-11-19T18:46:41.588343Z"
    }
   },
   "outputs": [
    {
     "name": "stdout",
     "output_type": "stream",
     "text": [
      "7033\n"
     ]
    }
   ],
   "source": [
    "wiki_movies_df.drop_duplicates(subset='imdb_id', inplace=True)\n",
    "print(len(wiki_movies_df))"
   ]
  },
  {
   "cell_type": "code",
   "execution_count": 43,
   "metadata": {
    "execution": {
     "iopub.execute_input": "2020-11-19T18:46:41.609288Z",
     "iopub.status.busy": "2020-11-19T18:46:41.609288Z",
     "iopub.status.idle": "2020-11-19T18:46:41.641232Z",
     "shell.execute_reply": "2020-11-19T18:46:41.641232Z",
     "shell.execute_reply.started": "2020-11-19T18:46:41.609288Z"
    }
   },
   "outputs": [
    {
     "data": {
      "text/plain": [
       "(7033, 41)"
      ]
     },
     "execution_count": 43,
     "metadata": {},
     "output_type": "execute_result"
    },
    {
     "data": {
      "text/html": [
       "<div>\n",
       "<style scoped>\n",
       "    .dataframe tbody tr th:only-of-type {\n",
       "        vertical-align: middle;\n",
       "    }\n",
       "\n",
       "    .dataframe tbody tr th {\n",
       "        vertical-align: top;\n",
       "    }\n",
       "\n",
       "    .dataframe thead th {\n",
       "        text-align: right;\n",
       "    }\n",
       "</style>\n",
       "<table border=\"1\" class=\"dataframe\">\n",
       "  <thead>\n",
       "    <tr style=\"text-align: right;\">\n",
       "      <th></th>\n",
       "      <th>url</th>\n",
       "      <th>year</th>\n",
       "      <th>imdb_link</th>\n",
       "      <th>title</th>\n",
       "      <th>Based on</th>\n",
       "      <th>Starring</th>\n",
       "      <th>Narrated by</th>\n",
       "      <th>Cinematography</th>\n",
       "      <th>Release date</th>\n",
       "      <th>Running time</th>\n",
       "      <th>...</th>\n",
       "      <th>Preceded by</th>\n",
       "      <th>Suggested by</th>\n",
       "      <th>alt_titles</th>\n",
       "      <th>Recorded</th>\n",
       "      <th>Venue</th>\n",
       "      <th>Label</th>\n",
       "      <th>Animation by</th>\n",
       "      <th>Color process</th>\n",
       "      <th>McCune–Reischauer</th>\n",
       "      <th>imdb_id</th>\n",
       "    </tr>\n",
       "  </thead>\n",
       "  <tbody>\n",
       "    <tr>\n",
       "      <th>4149</th>\n",
       "      <td>https://en.wikipedia.org/wiki/Lucky_Number_Slevin</td>\n",
       "      <td>2006</td>\n",
       "      <td>https://www.imdb.com/title/tt0425210/</td>\n",
       "      <td>Lucky Number Slevin</td>\n",
       "      <td>NaN</td>\n",
       "      <td>[Josh Hartnett, Morgan Freeman, Ben Kingsley, ...</td>\n",
       "      <td>NaN</td>\n",
       "      <td>Peter Sova</td>\n",
       "      <td>[February 24, 2006, (, 2006-02-24, ), (United ...</td>\n",
       "      <td>110 minutes</td>\n",
       "      <td>...</td>\n",
       "      <td>NaN</td>\n",
       "      <td>NaN</td>\n",
       "      <td>NaN</td>\n",
       "      <td>NaN</td>\n",
       "      <td>NaN</td>\n",
       "      <td>NaN</td>\n",
       "      <td>NaN</td>\n",
       "      <td>NaN</td>\n",
       "      <td>NaN</td>\n",
       "      <td>tt0425210</td>\n",
       "    </tr>\n",
       "    <tr>\n",
       "      <th>3090</th>\n",
       "      <td>https://en.wikipedia.org/wiki/High_Crimes</td>\n",
       "      <td>2002</td>\n",
       "      <td>https://www.imdb.com/title/tt0257756/</td>\n",
       "      <td>High Crimes</td>\n",
       "      <td>[High Crimes, by, Joseph Finder]</td>\n",
       "      <td>[Ashley Judd, Morgan Freeman, Jim Caviezel]</td>\n",
       "      <td>NaN</td>\n",
       "      <td>Theo van de Sande</td>\n",
       "      <td>[April 5, 2002, (, 2002-04-05, )]</td>\n",
       "      <td>115 minutes</td>\n",
       "      <td>...</td>\n",
       "      <td>NaN</td>\n",
       "      <td>NaN</td>\n",
       "      <td>NaN</td>\n",
       "      <td>NaN</td>\n",
       "      <td>NaN</td>\n",
       "      <td>NaN</td>\n",
       "      <td>NaN</td>\n",
       "      <td>NaN</td>\n",
       "      <td>NaN</td>\n",
       "      <td>tt0257756</td>\n",
       "    </tr>\n",
       "    <tr>\n",
       "      <th>4381</th>\n",
       "      <td>https://en.wikipedia.org/wiki/The_Diving_Bell_...</td>\n",
       "      <td>2007</td>\n",
       "      <td>https://www.imdb.com/title/tt0401383/</td>\n",
       "      <td>The Diving Bell and the Butterfly</td>\n",
       "      <td>[The Diving Bell and the Butterfly, by, Jean-D...</td>\n",
       "      <td>[Mathieu Amalric, Emmanuelle Seigner, Marie-Jo...</td>\n",
       "      <td>NaN</td>\n",
       "      <td>Janusz Kamiński</td>\n",
       "      <td>[22 May 2007, (, 2007-05-22, ), (Cannes Film F...</td>\n",
       "      <td>112 minutes</td>\n",
       "      <td>...</td>\n",
       "      <td>NaN</td>\n",
       "      <td>NaN</td>\n",
       "      <td>NaN</td>\n",
       "      <td>NaN</td>\n",
       "      <td>NaN</td>\n",
       "      <td>NaN</td>\n",
       "      <td>NaN</td>\n",
       "      <td>NaN</td>\n",
       "      <td>NaN</td>\n",
       "      <td>tt0401383</td>\n",
       "    </tr>\n",
       "  </tbody>\n",
       "</table>\n",
       "<p>3 rows × 41 columns</p>\n",
       "</div>"
      ],
      "text/plain": [
       "                                                    url  year  \\\n",
       "4149  https://en.wikipedia.org/wiki/Lucky_Number_Slevin  2006   \n",
       "3090          https://en.wikipedia.org/wiki/High_Crimes  2002   \n",
       "4381  https://en.wikipedia.org/wiki/The_Diving_Bell_...  2007   \n",
       "\n",
       "                                  imdb_link  \\\n",
       "4149  https://www.imdb.com/title/tt0425210/   \n",
       "3090  https://www.imdb.com/title/tt0257756/   \n",
       "4381  https://www.imdb.com/title/tt0401383/   \n",
       "\n",
       "                                  title  \\\n",
       "4149                Lucky Number Slevin   \n",
       "3090                        High Crimes   \n",
       "4381  The Diving Bell and the Butterfly   \n",
       "\n",
       "                                               Based on  \\\n",
       "4149                                                NaN   \n",
       "3090                   [High Crimes, by, Joseph Finder]   \n",
       "4381  [The Diving Bell and the Butterfly, by, Jean-D...   \n",
       "\n",
       "                                               Starring Narrated by  \\\n",
       "4149  [Josh Hartnett, Morgan Freeman, Ben Kingsley, ...         NaN   \n",
       "3090        [Ashley Judd, Morgan Freeman, Jim Caviezel]         NaN   \n",
       "4381  [Mathieu Amalric, Emmanuelle Seigner, Marie-Jo...         NaN   \n",
       "\n",
       "         Cinematography                                       Release date  \\\n",
       "4149         Peter Sova  [February 24, 2006, (, 2006-02-24, ), (United ...   \n",
       "3090  Theo van de Sande                  [April 5, 2002, (, 2002-04-05, )]   \n",
       "4381    Janusz Kamiński  [22 May 2007, (, 2007-05-22, ), (Cannes Film F...   \n",
       "\n",
       "     Running time  ... Preceded by Suggested by alt_titles Recorded Venue  \\\n",
       "4149  110 minutes  ...         NaN          NaN        NaN      NaN   NaN   \n",
       "3090  115 minutes  ...         NaN          NaN        NaN      NaN   NaN   \n",
       "4381  112 minutes  ...         NaN          NaN        NaN      NaN   NaN   \n",
       "\n",
       "     Label Animation by Color process McCune–Reischauer    imdb_id  \n",
       "4149   NaN          NaN           NaN               NaN  tt0425210  \n",
       "3090   NaN          NaN           NaN               NaN  tt0257756  \n",
       "4381   NaN          NaN           NaN               NaN  tt0401383  \n",
       "\n",
       "[3 rows x 41 columns]"
      ]
     },
     "execution_count": 43,
     "metadata": {},
     "output_type": "execute_result"
    }
   ],
   "source": [
    "wiki_movies_df.shape\n",
    "wiki_movies_df.sample(3)"
   ]
  },
  {
   "cell_type": "markdown",
   "metadata": {
    "execution": {
     "iopub.execute_input": "2020-11-15T20:17:14.810733Z",
     "iopub.status.busy": "2020-11-15T20:17:14.809735Z",
     "iopub.status.idle": "2020-11-15T20:17:14.853038Z",
     "shell.execute_reply": "2020-11-15T20:17:14.851037Z",
     "shell.execute_reply.started": "2020-11-15T20:17:14.810733Z"
    }
   },
   "source": [
    "> Removing Mostly Null Columns "
   ]
  },
  {
   "cell_type": "code",
   "execution_count": 44,
   "metadata": {
    "execution": {
     "iopub.execute_input": "2020-11-19T18:46:41.643197Z",
     "iopub.status.busy": "2020-11-19T18:46:41.643197Z",
     "iopub.status.idle": "2020-11-19T18:46:41.669127Z",
     "shell.execute_reply": "2020-11-19T18:46:41.669127Z",
     "shell.execute_reply.started": "2020-11-19T18:46:41.643197Z"
    }
   },
   "outputs": [
    {
     "data": {
      "text/plain": [
       "url                          0\n",
       "year                         0\n",
       "imdb_link                    0\n",
       "title                        1\n",
       "Based on                  4852\n",
       "Starring                   184\n",
       "Narrated by               6752\n",
       "Cinematography             691\n",
       "Release date                32\n",
       "Running time               139\n",
       "Country                    236\n",
       "Language                   244\n",
       "Budget                    2295\n",
       "Box office                1548\n",
       "Director                     0\n",
       "Distributor                357\n",
       "Editor(s)                  548\n",
       "Composer(s)                518\n",
       "Producer(s)                202\n",
       "Production company(s)     1678\n",
       "Writer(s)                  199\n",
       "Genre                     6923\n",
       "Original language(s)      6875\n",
       "Original network          6908\n",
       "Executive producer(s)     6936\n",
       "Production location(s)    6986\n",
       "Picture format            6969\n",
       "Audio format              6972\n",
       "Voices of                 7031\n",
       "Followed by               7024\n",
       "Created by                7023\n",
       "Preceded by               7023\n",
       "Suggested by              7032\n",
       "alt_titles                7012\n",
       "Recorded                  7031\n",
       "Venue                     7032\n",
       "Label                     7031\n",
       "Animation by              7031\n",
       "Color process             7032\n",
       "McCune–Reischauer         7031\n",
       "imdb_id                      0\n",
       "dtype: int64"
      ]
     },
     "execution_count": 44,
     "metadata": {},
     "output_type": "execute_result"
    }
   ],
   "source": [
    "wiki_movies_df.isnull().sum()"
   ]
  },
  {
   "cell_type": "code",
   "execution_count": 45,
   "metadata": {
    "execution": {
     "iopub.execute_input": "2020-11-19T18:46:41.671122Z",
     "iopub.status.busy": "2020-11-19T18:46:41.671122Z",
     "iopub.status.idle": "2020-11-19T18:46:41.721986Z",
     "shell.execute_reply": "2020-11-19T18:46:41.720989Z",
     "shell.execute_reply.started": "2020-11-19T18:46:41.671122Z"
    }
   },
   "outputs": [
    {
     "name": "stdout",
     "output_type": "stream",
     "text": [
      "[['url', 0], ['year', 0], ['imdb_link', 0], ['title', 1], ['Based on', 4852], ['Starring', 184], ['Narrated by', 6752], ['Cinematography', 691], ['Release date', 32], ['Running time', 139], ['Country', 236], ['Language', 244], ['Budget', 2295], ['Box office', 1548], ['Director', 0], ['Distributor', 357], ['Editor(s)', 548], ['Composer(s)', 518], ['Producer(s)', 202], ['Production company(s)', 1678], ['Writer(s)', 199], ['Genre', 6923], ['Original language(s)', 6875], ['Original network', 6908], ['Executive producer(s)', 6936], ['Production location(s)', 6986], ['Picture format', 6969], ['Audio format', 6972], ['Voices of', 7031], ['Followed by', 7024], ['Created by', 7023], ['Preceded by', 7023], ['Suggested by', 7032], ['alt_titles', 7012], ['Recorded', 7031], ['Venue', 7032], ['Label', 7031], ['Animation by', 7031], ['Color process', 7032], ['McCune–Reischauer', 7031], ['imdb_id', 0]]\n"
     ]
    }
   ],
   "source": [
    "print([[column,wiki_movies_df[column].isnull().sum()] for column in wiki_movies_df.columns])"
   ]
  },
  {
   "cell_type": "code",
   "execution_count": 46,
   "metadata": {
    "execution": {
     "iopub.execute_input": "2020-11-19T18:46:41.723980Z",
     "iopub.status.busy": "2020-11-19T18:46:41.722984Z",
     "iopub.status.idle": "2020-11-19T18:46:41.763875Z",
     "shell.execute_reply": "2020-11-19T18:46:41.762878Z",
     "shell.execute_reply.started": "2020-11-19T18:46:41.723980Z"
    }
   },
   "outputs": [
    {
     "name": "stdout",
     "output_type": "stream",
     "text": [
      "['url', 'year', 'imdb_link', 'title', 'Based on', 'Starring', 'Cinematography', 'Release date', 'Running time', 'Country', 'Language', 'Budget', 'Box office', 'Director', 'Distributor', 'Editor(s)', 'Composer(s)', 'Producer(s)', 'Production company(s)', 'Writer(s)', 'imdb_id']\n"
     ]
    }
   ],
   "source": [
    "# make a list of columns that have less than 90% null values and use those to trim down our dataset.\n",
    "wiki_columns_to_keep = [column for column in wiki_movies_df.columns if wiki_movies_df[column].isnull().sum() < len(wiki_movies_df) * 0.9]\n",
    "print(wiki_columns_to_keep)"
   ]
  },
  {
   "cell_type": "code",
   "execution_count": 47,
   "metadata": {
    "execution": {
     "iopub.execute_input": "2020-11-19T18:46:41.765868Z",
     "iopub.status.busy": "2020-11-19T18:46:41.764872Z",
     "iopub.status.idle": "2020-11-19T18:46:41.781828Z",
     "shell.execute_reply": "2020-11-19T18:46:41.780860Z",
     "shell.execute_reply.started": "2020-11-19T18:46:41.765868Z"
    }
   },
   "outputs": [],
   "source": [
    "wiki_movies_df = wiki_movies_df[wiki_columns_to_keep]"
   ]
  },
  {
   "cell_type": "code",
   "execution_count": 48,
   "metadata": {
    "execution": {
     "iopub.execute_input": "2020-11-19T18:46:41.783820Z",
     "iopub.status.busy": "2020-11-19T18:46:41.782825Z",
     "iopub.status.idle": "2020-11-19T18:46:41.792796Z",
     "shell.execute_reply": "2020-11-19T18:46:41.791798Z",
     "shell.execute_reply.started": "2020-11-19T18:46:41.783820Z"
    }
   },
   "outputs": [
    {
     "data": {
      "text/plain": [
       "(7033, 21)"
      ]
     },
     "execution_count": 48,
     "metadata": {},
     "output_type": "execute_result"
    }
   ],
   "source": [
    "wiki_movies_df.shape"
   ]
  },
  {
   "cell_type": "markdown",
   "metadata": {
    "execution": {
     "iopub.execute_input": "2020-11-15T23:26:05.266655Z",
     "iopub.status.busy": "2020-11-15T23:26:05.266655Z",
     "iopub.status.idle": "2020-11-15T23:26:05.318489Z",
     "shell.execute_reply": "2020-11-15T23:26:05.314533Z",
     "shell.execute_reply.started": "2020-11-15T23:26:05.266655Z"
    }
   },
   "source": [
    "> Converting data / parsing "
   ]
  },
  {
   "cell_type": "code",
   "execution_count": 49,
   "metadata": {
    "execution": {
     "iopub.execute_input": "2020-11-19T18:46:41.794791Z",
     "iopub.status.busy": "2020-11-19T18:46:41.793794Z",
     "iopub.status.idle": "2020-11-19T18:46:41.805763Z",
     "shell.execute_reply": "2020-11-19T18:46:41.804766Z",
     "shell.execute_reply.started": "2020-11-19T18:46:41.794791Z"
    }
   },
   "outputs": [
    {
     "data": {
      "text/plain": [
       "url                      object\n",
       "year                      int64\n",
       "imdb_link                object\n",
       "title                    object\n",
       "Based on                 object\n",
       "Starring                 object\n",
       "Cinematography           object\n",
       "Release date             object\n",
       "Running time             object\n",
       "Country                  object\n",
       "Language                 object\n",
       "Budget                   object\n",
       "Box office               object\n",
       "Director                 object\n",
       "Distributor              object\n",
       "Editor(s)                object\n",
       "Composer(s)              object\n",
       "Producer(s)              object\n",
       "Production company(s)    object\n",
       "Writer(s)                object\n",
       "imdb_id                  object\n",
       "dtype: object"
      ]
     },
     "execution_count": 49,
     "metadata": {},
     "output_type": "execute_result"
    }
   ],
   "source": [
    "wiki_movies_df.dtypes"
   ]
  },
  {
   "cell_type": "code",
   "execution_count": 50,
   "metadata": {
    "execution": {
     "iopub.execute_input": "2020-11-19T18:46:41.806761Z",
     "iopub.status.busy": "2020-11-19T18:46:41.806761Z",
     "iopub.status.idle": "2020-11-19T18:46:41.818757Z",
     "shell.execute_reply": "2020-11-19T18:46:41.818757Z",
     "shell.execute_reply.started": "2020-11-19T18:46:41.806761Z"
    }
   },
   "outputs": [
    {
     "data": {
      "text/plain": [
       "0          $21.4 million\n",
       "1           $2.7 million\n",
       "2            $57,718,089\n",
       "3             $7,331,647\n",
       "4       $6,939,946 (USA)\n",
       "              ...       \n",
       "7071       $41.9 million\n",
       "7072       $76.1 million\n",
       "7073       $38.4 million\n",
       "7074        $5.5 million\n",
       "7075                 NaN\n",
       "Name: Box office, Length: 7033, dtype: object"
      ]
     },
     "execution_count": 50,
     "metadata": {},
     "output_type": "execute_result"
    }
   ],
   "source": [
    "wiki_movies_df['Box office']"
   ]
  },
  {
   "cell_type": "code",
   "execution_count": 51,
   "metadata": {
    "execution": {
     "iopub.execute_input": "2020-11-19T18:46:41.820723Z",
     "iopub.status.busy": "2020-11-19T18:46:41.819725Z",
     "iopub.status.idle": "2020-11-19T18:46:41.833688Z",
     "shell.execute_reply": "2020-11-19T18:46:41.832713Z",
     "shell.execute_reply.started": "2020-11-19T18:46:41.819725Z"
    }
   },
   "outputs": [
    {
     "data": {
      "text/plain": [
       "5485"
      ]
     },
     "execution_count": 51,
     "metadata": {},
     "output_type": "execute_result"
    },
    {
     "data": {
      "text/plain": [
       "0       $21.4 million\n",
       "1        $2.7 million\n",
       "2         $57,718,089\n",
       "3          $7,331,647\n",
       "4    $6,939,946 (USA)\n",
       "Name: Box office, dtype: object"
      ]
     },
     "execution_count": 51,
     "metadata": {},
     "output_type": "execute_result"
    }
   ],
   "source": [
    "box_office = wiki_movies_df['Box office'].dropna()\n",
    "box_office.size\n",
    "box_office.head()"
   ]
  },
  {
   "cell_type": "markdown",
   "metadata": {
    "execution": {
     "iopub.execute_input": "2020-11-17T17:31:00.571680Z",
     "iopub.status.busy": "2020-11-17T17:31:00.571680Z",
     "iopub.status.idle": "2020-11-17T17:31:00.579169Z",
     "shell.execute_reply": "2020-11-17T17:31:00.577664Z",
     "shell.execute_reply.started": "2020-11-17T17:31:00.571680Z"
    }
   },
   "source": [
    "> regular expressions & filters"
   ]
  },
  {
   "cell_type": "code",
   "execution_count": 52,
   "metadata": {
    "execution": {
     "iopub.execute_input": "2020-11-19T18:46:41.834684Z",
     "iopub.status.busy": "2020-11-19T18:46:41.834684Z",
     "iopub.status.idle": "2020-11-19T18:46:41.840671Z",
     "shell.execute_reply": "2020-11-19T18:46:41.839674Z",
     "shell.execute_reply.started": "2020-11-19T18:46:41.834684Z"
    }
   },
   "outputs": [],
   "source": [
    "def is_not_a_string(x):\n",
    "    return type(x) != str"
   ]
  },
  {
   "cell_type": "code",
   "execution_count": 53,
   "metadata": {
    "execution": {
     "iopub.execute_input": "2020-11-19T18:46:41.842663Z",
     "iopub.status.busy": "2020-11-19T18:46:41.841666Z",
     "iopub.status.idle": "2020-11-19T18:46:41.858621Z",
     "shell.execute_reply": "2020-11-19T18:46:41.857652Z",
     "shell.execute_reply.started": "2020-11-19T18:46:41.842663Z"
    }
   },
   "outputs": [
    {
     "data": {
      "text/plain": [
       "34                           [US$, 4,212,828]\n",
       "54      [$6,698,361 (, United States, ), [2]]\n",
       "74                    [$6,488,144, (US), [1]]\n",
       "126                [US$1,531,489, (domestic)]\n",
       "130                          [US$, 4,803,039]\n",
       "                        ...                  \n",
       "6980               [$99.6, million, [4], [5]]\n",
       "6994                   [$365.6, million, [1]]\n",
       "6995                         [$53.8, million]\n",
       "7015                     [$435, million, [7]]\n",
       "7048                   [$529.3, million, [4]]\n",
       "Name: Box office, Length: 135, dtype: object"
      ]
     },
     "execution_count": 53,
     "metadata": {},
     "output_type": "execute_result"
    }
   ],
   "source": [
    "box_office[box_office.map(is_not_a_string)]"
   ]
  },
  {
   "cell_type": "code",
   "execution_count": 54,
   "metadata": {
    "execution": {
     "iopub.execute_input": "2020-11-19T18:46:41.860617Z",
     "iopub.status.busy": "2020-11-19T18:46:41.859620Z",
     "iopub.status.idle": "2020-11-19T18:46:41.866601Z",
     "shell.execute_reply": "2020-11-19T18:46:41.865604Z",
     "shell.execute_reply.started": "2020-11-19T18:46:41.860617Z"
    }
   },
   "outputs": [],
   "source": [
    "#wiki_movies_df = pd.read_pickle('wiki_0.pk1')"
   ]
  },
  {
   "cell_type": "code",
   "execution_count": 55,
   "metadata": {
    "execution": {
     "iopub.execute_input": "2020-11-19T18:46:41.868594Z",
     "iopub.status.busy": "2020-11-19T18:46:41.867599Z",
     "iopub.status.idle": "2020-11-19T18:46:41.879564Z",
     "shell.execute_reply": "2020-11-19T18:46:41.878567Z",
     "shell.execute_reply.started": "2020-11-19T18:46:41.868594Z"
    }
   },
   "outputs": [
    {
     "data": {
      "text/plain": [
       "5485"
      ]
     },
     "execution_count": 55,
     "metadata": {},
     "output_type": "execute_result"
    }
   ],
   "source": [
    "len(box_office)"
   ]
  },
  {
   "cell_type": "code",
   "execution_count": 56,
   "metadata": {
    "execution": {
     "iopub.execute_input": "2020-11-19T18:46:41.880562Z",
     "iopub.status.busy": "2020-11-19T18:46:41.880562Z",
     "iopub.status.idle": "2020-11-19T18:46:41.900509Z",
     "shell.execute_reply": "2020-11-19T18:46:41.899515Z",
     "shell.execute_reply.started": "2020-11-19T18:46:41.880562Z"
    }
   },
   "outputs": [
    {
     "data": {
      "text/plain": [
       "34                           [US$, 4,212,828]\n",
       "54      [$6,698,361 (, United States, ), [2]]\n",
       "74                    [$6,488,144, (US), [1]]\n",
       "126                [US$1,531,489, (domestic)]\n",
       "130                          [US$, 4,803,039]\n",
       "                        ...                  \n",
       "6980               [$99.6, million, [4], [5]]\n",
       "6994                   [$365.6, million, [1]]\n",
       "6995                         [$53.8, million]\n",
       "7015                     [$435, million, [7]]\n",
       "7048                   [$529.3, million, [4]]\n",
       "Name: Box office, Length: 135, dtype: object"
      ]
     },
     "execution_count": 56,
     "metadata": {},
     "output_type": "execute_result"
    }
   ],
   "source": [
    "# funciton returns values that are not string type\n",
    "box_office[box_office.map(lambda x: type(x) != str)]"
   ]
  },
  {
   "cell_type": "code",
   "execution_count": 57,
   "metadata": {
    "execution": {
     "iopub.execute_input": "2020-11-19T18:46:41.903513Z",
     "iopub.status.busy": "2020-11-19T18:46:41.902504Z",
     "iopub.status.idle": "2020-11-19T18:46:41.913477Z",
     "shell.execute_reply": "2020-11-19T18:46:41.913477Z",
     "shell.execute_reply.started": "2020-11-19T18:46:41.903513Z"
    }
   },
   "outputs": [],
   "source": [
    "# combining lsit values as one \n",
    "box_office = box_office.apply(lambda x: ' '.join(x) if type(x) == list else x)"
   ]
  },
  {
   "cell_type": "code",
   "execution_count": 58,
   "metadata": {
    "execution": {
     "iopub.execute_input": "2020-11-19T18:46:41.915498Z",
     "iopub.status.busy": "2020-11-19T18:46:41.915498Z",
     "iopub.status.idle": "2020-11-19T18:46:41.928434Z",
     "shell.execute_reply": "2020-11-19T18:46:41.927464Z",
     "shell.execute_reply.started": "2020-11-19T18:46:41.915498Z"
    }
   },
   "outputs": [
    {
     "data": {
      "text/plain": [
       "5061     $55.6 million\n",
       "6537    $415.5 million\n",
       "3466      $8.4 million\n",
       "909       $7.9 million\n",
       "2529     $83.1 million\n",
       "2685    $546.4 million\n",
       "4925     $45.2 million\n",
       "3463     US$14,339,171\n",
       "2698          $769,272\n",
       "5077           $55,125\n",
       "Name: Box office, dtype: object"
      ]
     },
     "execution_count": 58,
     "metadata": {},
     "output_type": "execute_result"
    }
   ],
   "source": [
    "box_office.sample(10)"
   ]
  },
  {
   "cell_type": "code",
   "execution_count": 59,
   "metadata": {
    "execution": {
     "iopub.execute_input": "2020-11-19T18:46:41.929432Z",
     "iopub.status.busy": "2020-11-19T18:46:41.929432Z",
     "iopub.status.idle": "2020-11-19T18:46:41.941399Z",
     "shell.execute_reply": "2020-11-19T18:46:41.940402Z",
     "shell.execute_reply.started": "2020-11-19T18:46:41.929432Z"
    }
   },
   "outputs": [
    {
     "name": "stdout",
     "output_type": "stream",
     "text": [
      "Example 1: $21.4 million\n",
      "Example 2: $9 million\n"
     ]
    }
   ],
   "source": [
    "print('Example 1:', box_office.iloc[0])\n",
    "print('Example 2:', box_office.iloc[1986])"
   ]
  },
  {
   "cell_type": "markdown",
   "metadata": {},
   "source": [
    "<div class=\"alert alert-block alert-info\">\n",
    "<b>Note:</b></div>\n",
    "<li> dollar sign is a special character in regular expressions, so we'll need to escape it.\n",
    "<li> \\d specicify digits only + modifier to capture one or more digits\n",
    "<li> decimal point is a special character, so it needs to be escaped with a backslash.\n",
    "<li> \\d character to specify digits only, but now with the * modifier because there may be no more digits after the decimal point.\n",
    "<li> \\s character to match whitespace characters. To be safe, we'll match any number of whitespace characters with the * modifier.\n",
    "<li> Since \"million\" and \"billion\" only differ by one letter, we can match it with a character set for the first letter"
   ]
  },
  {
   "cell_type": "code",
   "execution_count": 60,
   "metadata": {
    "execution": {
     "iopub.execute_input": "2020-11-19T18:46:41.943393Z",
     "iopub.status.busy": "2020-11-19T18:46:41.942396Z",
     "iopub.status.idle": "2020-11-19T18:46:41.954393Z",
     "shell.execute_reply": "2020-11-19T18:46:41.954393Z",
     "shell.execute_reply.started": "2020-11-19T18:46:41.942396Z"
    }
   },
   "outputs": [],
   "source": [
    "# creating first regex for string forms in box office series \n",
    "form_one = r'\\$\\d+\\.?\\d*\\s*[mb]illion'"
   ]
  },
  {
   "cell_type": "code",
   "execution_count": 61,
   "metadata": {
    "execution": {
     "iopub.execute_input": "2020-11-19T18:46:41.956358Z",
     "iopub.status.busy": "2020-11-19T18:46:41.956358Z",
     "iopub.status.idle": "2020-11-19T18:46:41.979297Z",
     "shell.execute_reply": "2020-11-19T18:46:41.978330Z",
     "shell.execute_reply.started": "2020-11-19T18:46:41.956358Z"
    }
   },
   "outputs": [
    {
     "data": {
      "text/plain": [
       "3896"
      ]
     },
     "execution_count": 61,
     "metadata": {},
     "output_type": "execute_result"
    }
   ],
   "source": [
    "# 3896 values that match the form \"$123.4 million/billion4\"\n",
    "box_office.str.contains(form_one, flags=re.IGNORECASE).sum()"
   ]
  },
  {
   "cell_type": "markdown",
   "metadata": {},
   "source": [
    "<li> we need to escape the dollar sign for it to match. \n",
    "<li> the \\d character for digits, but this time, we'll modify it with curly brackets to only match one through three repetitions. \n",
    "<li> To match a comma and exactly three digits, we'll use the string \",\\d{3}\".\n",
    "<li> then put a plus sign after the parentheses: \"(,\\d{3})+\". We'll add one more modification to specify that this is a non-capturing group by inserting a question mark and colon after the opening parenthesis: \"(?:,\\d{3})+\"."
   ]
  },
  {
   "cell_type": "code",
   "execution_count": 62,
   "metadata": {
    "execution": {
     "iopub.execute_input": "2020-11-19T18:46:41.980326Z",
     "iopub.status.busy": "2020-11-19T18:46:41.980326Z",
     "iopub.status.idle": "2020-11-19T18:46:41.999244Z",
     "shell.execute_reply": "2020-11-19T18:46:41.998268Z",
     "shell.execute_reply.started": "2020-11-19T18:46:41.980326Z"
    }
   },
   "outputs": [
    {
     "data": {
      "text/plain": [
       "1544"
      ]
     },
     "execution_count": 62,
     "metadata": {},
     "output_type": "execute_result"
    }
   ],
   "source": [
    "# 1,544 box office values that match the form \"$123,456,789.\"\n",
    "form_two = r'\\$\\d{1,3}(?:,\\d{3})+'\n",
    "box_office.str.contains(form_two, flags=re.IGNORECASE).sum()"
   ]
  },
  {
   "cell_type": "code",
   "execution_count": 63,
   "metadata": {
    "execution": {
     "iopub.execute_input": "2020-11-19T18:46:42.000241Z",
     "iopub.status.busy": "2020-11-19T18:46:42.000241Z",
     "iopub.status.idle": "2020-11-19T18:46:42.024206Z",
     "shell.execute_reply": "2020-11-19T18:46:42.024206Z",
     "shell.execute_reply.started": "2020-11-19T18:46:42.000241Z"
    }
   },
   "outputs": [],
   "source": [
    "matches_form_one = box_office.str.contains(form_one, flags=re.IGNORECASE)\n",
    "matches_form_two = box_office.str.contains(form_two, flags=re.IGNORECASE)"
   ]
  },
  {
   "cell_type": "code",
   "execution_count": 64,
   "metadata": {
    "execution": {
     "iopub.execute_input": "2020-11-19T18:46:42.026174Z",
     "iopub.status.busy": "2020-11-19T18:46:42.026174Z",
     "iopub.status.idle": "2020-11-19T18:46:42.035149Z",
     "shell.execute_reply": "2020-11-19T18:46:42.034171Z",
     "shell.execute_reply.started": "2020-11-19T18:46:42.026174Z"
    }
   },
   "outputs": [],
   "source": [
    "# this method throws errors, use tildes instead \n",
    "#box_office[(not matches_form_one) and (not matches_form_two)]"
   ]
  },
  {
   "cell_type": "code",
   "execution_count": 65,
   "metadata": {
    "execution": {
     "iopub.execute_input": "2020-11-19T18:46:42.036170Z",
     "iopub.status.busy": "2020-11-19T18:46:42.036170Z",
     "iopub.status.idle": "2020-11-19T18:46:42.048113Z",
     "shell.execute_reply": "2020-11-19T18:46:42.047116Z",
     "shell.execute_reply.started": "2020-11-19T18:46:42.036170Z"
    }
   },
   "outputs": [
    {
     "data": {
      "text/plain": [
       "130                US$ 4,803,039\n",
       "6369                       $111k\n",
       "6370                        $588\n",
       "2347                    $282.175\n",
       "2032                         N/A\n",
       "4306                      $20-30\n",
       "6843                     8 crore\n",
       "2263    $ 1,223,034 ( domestic )\n",
       "1480                  £3 million\n",
       "3879    CN¥3.650 million (China)\n",
       "Name: Box office, dtype: object"
      ]
     },
     "execution_count": 65,
     "metadata": {},
     "output_type": "execute_result"
    }
   ],
   "source": [
    "not_mathches = box_office[~matches_form_one & ~matches_form_two]\n",
    "not_mathches.sample(10)"
   ]
  },
  {
   "cell_type": "code",
   "execution_count": 66,
   "metadata": {
    "execution": {
     "iopub.execute_input": "2020-11-19T18:46:42.049111Z",
     "iopub.status.busy": "2020-11-19T18:46:42.049111Z",
     "iopub.status.idle": "2020-11-19T18:46:42.067062Z",
     "shell.execute_reply": "2020-11-19T18:46:42.066065Z",
     "shell.execute_reply.started": "2020-11-19T18:46:42.049111Z"
    }
   },
   "outputs": [],
   "source": [
    "# replace valeus to help match cases \n",
    "box_office = box_office.str.replace(r'\\$.*[-—–](?![a-z])', '$', regex=True)"
   ]
  },
  {
   "cell_type": "code",
   "execution_count": 67,
   "metadata": {
    "execution": {
     "iopub.execute_input": "2020-11-19T18:46:42.068061Z",
     "iopub.status.busy": "2020-11-19T18:46:42.068061Z",
     "iopub.status.idle": "2020-11-19T18:46:42.077037Z",
     "shell.execute_reply": "2020-11-19T18:46:42.076040Z",
     "shell.execute_reply.started": "2020-11-19T18:46:42.068061Z"
    }
   },
   "outputs": [],
   "source": [
    "# refactored to catch missing cases \n",
    "form_one = r'\\$\\s*\\d+\\.?\\d*\\s*[mb]illi?on'\n",
    "form_two = r'\\$\\s*\\d{1,3}(?:[,\\.]\\d{3})+(?!\\s[mb]illion)'"
   ]
  },
  {
   "cell_type": "code",
   "execution_count": 68,
   "metadata": {
    "execution": {
     "iopub.execute_input": "2020-11-19T18:46:42.079032Z",
     "iopub.status.busy": "2020-11-19T18:46:42.078036Z",
     "iopub.status.idle": "2020-11-19T18:46:42.110947Z",
     "shell.execute_reply": "2020-11-19T18:46:42.109950Z",
     "shell.execute_reply.started": "2020-11-19T18:46:42.079032Z"
    }
   },
   "outputs": [],
   "source": [
    "matches_form_one_refactor = box_office.str.contains(form_one, flags=re.IGNORECASE)\n",
    "matches_form_two_refactor = box_office.str.contains(form_two, flags=re.IGNORECASE)"
   ]
  },
  {
   "cell_type": "code",
   "execution_count": 69,
   "metadata": {
    "execution": {
     "iopub.execute_input": "2020-11-19T18:46:42.113938Z",
     "iopub.status.busy": "2020-11-19T18:46:42.113938Z",
     "iopub.status.idle": "2020-11-19T18:46:42.120918Z",
     "shell.execute_reply": "2020-11-19T18:46:42.119950Z",
     "shell.execute_reply.started": "2020-11-19T18:46:42.113938Z"
    }
   },
   "outputs": [],
   "source": [
    "not_mathches_refactor = box_office[~matches_form_one_refactor & ~matches_form_two_refactor]"
   ]
  },
  {
   "cell_type": "code",
   "execution_count": 70,
   "metadata": {
    "execution": {
     "iopub.execute_input": "2020-11-19T18:46:42.122942Z",
     "iopub.status.busy": "2020-11-19T18:46:42.121917Z",
     "iopub.status.idle": "2020-11-19T18:46:42.133885Z",
     "shell.execute_reply": "2020-11-19T18:46:42.132916Z",
     "shell.execute_reply.started": "2020-11-19T18:46:42.122942Z"
    }
   },
   "outputs": [
    {
     "data": {
      "text/plain": [
       "600                      $5000 (US)\n",
       "1070                     35,254,617\n",
       "1480                     £3 million\n",
       "1865                   ¥1.1 billion\n",
       "2032                            N/A\n",
       "2091                           $309\n",
       "2665    926,423 admissions (France)\n",
       "3631                            TBA\n",
       "3879       CN¥3.650 million (China)\n",
       "4116                     £7,385,434\n",
       "4306                            $30\n",
       "4561        $45.2k (only in Turkey)\n",
       "5447                          £2.56\n",
       "5784                       413 733$\n",
       "6013                        Unknown\n",
       "6369                          $111k\n",
       "6370                           $588\n",
       "6593                 less than $372\n",
       "6843                        8 crore\n",
       "Name: Box office, dtype: object"
      ]
     },
     "execution_count": 70,
     "metadata": {},
     "output_type": "execute_result"
    }
   ],
   "source": [
    "not_mathches_refactor"
   ]
  },
  {
   "cell_type": "code",
   "execution_count": 71,
   "metadata": {
    "execution": {
     "iopub.execute_input": "2020-11-19T18:46:42.134881Z",
     "iopub.status.busy": "2020-11-19T18:46:42.134881Z",
     "iopub.status.idle": "2020-11-19T18:46:42.163804Z",
     "shell.execute_reply": "2020-11-19T18:46:42.162840Z",
     "shell.execute_reply.started": "2020-11-19T18:46:42.134881Z"
    }
   },
   "outputs": [
    {
     "data": {
      "text/html": [
       "<div>\n",
       "<style scoped>\n",
       "    .dataframe tbody tr th:only-of-type {\n",
       "        vertical-align: middle;\n",
       "    }\n",
       "\n",
       "    .dataframe tbody tr th {\n",
       "        vertical-align: top;\n",
       "    }\n",
       "\n",
       "    .dataframe thead th {\n",
       "        text-align: right;\n",
       "    }\n",
       "</style>\n",
       "<table border=\"1\" class=\"dataframe\">\n",
       "  <thead>\n",
       "    <tr style=\"text-align: right;\">\n",
       "      <th></th>\n",
       "      <th>0</th>\n",
       "    </tr>\n",
       "  </thead>\n",
       "  <tbody>\n",
       "    <tr>\n",
       "      <th>0</th>\n",
       "      <td>$21.4 million</td>\n",
       "    </tr>\n",
       "    <tr>\n",
       "      <th>1</th>\n",
       "      <td>$2.7 million</td>\n",
       "    </tr>\n",
       "    <tr>\n",
       "      <th>2</th>\n",
       "      <td>$57,718,089</td>\n",
       "    </tr>\n",
       "    <tr>\n",
       "      <th>3</th>\n",
       "      <td>$7,331,647</td>\n",
       "    </tr>\n",
       "    <tr>\n",
       "      <th>4</th>\n",
       "      <td>$6,939,946</td>\n",
       "    </tr>\n",
       "    <tr>\n",
       "      <th>...</th>\n",
       "      <td>...</td>\n",
       "    </tr>\n",
       "    <tr>\n",
       "      <th>7070</th>\n",
       "      <td>$19.4 million</td>\n",
       "    </tr>\n",
       "    <tr>\n",
       "      <th>7071</th>\n",
       "      <td>$41.9 million</td>\n",
       "    </tr>\n",
       "    <tr>\n",
       "      <th>7072</th>\n",
       "      <td>$76.1 million</td>\n",
       "    </tr>\n",
       "    <tr>\n",
       "      <th>7073</th>\n",
       "      <td>$38.4 million</td>\n",
       "    </tr>\n",
       "    <tr>\n",
       "      <th>7074</th>\n",
       "      <td>$5.5 million</td>\n",
       "    </tr>\n",
       "  </tbody>\n",
       "</table>\n",
       "<p>5485 rows × 1 columns</p>\n",
       "</div>"
      ],
      "text/plain": [
       "                  0\n",
       "0     $21.4 million\n",
       "1      $2.7 million\n",
       "2       $57,718,089\n",
       "3        $7,331,647\n",
       "4        $6,939,946\n",
       "...             ...\n",
       "7070  $19.4 million\n",
       "7071  $41.9 million\n",
       "7072  $76.1 million\n",
       "7073  $38.4 million\n",
       "7074   $5.5 million\n",
       "\n",
       "[5485 rows x 1 columns]"
      ]
     },
     "execution_count": 71,
     "metadata": {},
     "output_type": "execute_result"
    }
   ],
   "source": [
    "# use f-string and regular expression to create a capture group that will be sued as a filter\n",
    "box_office.str.extract(f'({form_one}|{form_two})')"
   ]
  },
  {
   "cell_type": "markdown",
   "metadata": {
    "execution": {
     "iopub.execute_input": "2020-11-17T20:40:03.736067Z",
     "iopub.status.busy": "2020-11-17T20:40:03.735077Z",
     "iopub.status.idle": "2020-11-17T20:40:03.743050Z",
     "shell.execute_reply": "2020-11-17T20:40:03.742053Z",
     "shell.execute_reply.started": "2020-11-17T20:40:03.735077Z"
    }
   },
   "source": [
    "> Convert"
   ]
  },
  {
   "cell_type": "code",
   "execution_count": 72,
   "metadata": {
    "execution": {
     "iopub.execute_input": "2020-11-19T18:46:42.165819Z",
     "iopub.status.busy": "2020-11-19T18:46:42.164802Z",
     "iopub.status.idle": "2020-11-19T18:46:42.177767Z",
     "shell.execute_reply": "2020-11-19T18:46:42.176790Z",
     "shell.execute_reply.started": "2020-11-19T18:46:42.165819Z"
    }
   },
   "outputs": [],
   "source": [
    "# funciton to turn extracted values into numeric values. (take in a string and return a floating point number)\n",
    "def parse_dollars(s):\n",
    "    # if s is not a string, return NaN\n",
    "    if type(s) != str:\n",
    "        return np.nan\n",
    "\n",
    "    # if input is of the form $###.# million\n",
    "    if re.match(r'\\$\\s*\\d+\\.?\\d*\\s*milli?on', s, flags=re.IGNORECASE):\n",
    "\n",
    "        # remove dollar sign and \" million\"\n",
    "        s = re.sub('\\$|\\s|[a-zA-Z]','', s)\n",
    "\n",
    "        # convert to float and multiply by a million\n",
    "        value = float(s) * 10**6\n",
    "\n",
    "        # return value\n",
    "        return value\n",
    "\n",
    "    # if input is of the form $###.# billion\n",
    "    elif re.match(r'\\$\\s*\\d+\\.?\\d*\\s*billi?on', s, flags=re.IGNORECASE):\n",
    "\n",
    "        # remove dollar sign and \" billion\"\n",
    "        s = re.sub('\\$|\\s|[a-zA-Z]','', s)\n",
    "\n",
    "        # convert to float and multiply by a billion\n",
    "        value = float(s) * 10**9\n",
    "\n",
    "        # return value\n",
    "        return value\n",
    "\n",
    "    # if input is of the form $###,###,###\n",
    "    elif re.match(r'\\$\\s*\\d{1,3}(?:[,\\.]\\d{3})+(?!\\s[mb]illion)', s, flags=re.IGNORECASE):\n",
    "\n",
    "        # remove dollar sign and commas\n",
    "        s = re.sub('\\$|,','', s)\n",
    "\n",
    "        # convert to float\n",
    "        value = float(s)\n",
    "\n",
    "        # return value\n",
    "        return value\n",
    "\n",
    "    # otherwise, return NaN\n",
    "    else:\n",
    "        return np.nan"
   ]
  },
  {
   "cell_type": "code",
   "execution_count": 73,
   "metadata": {
    "execution": {
     "iopub.execute_input": "2020-11-19T18:46:42.178764Z",
     "iopub.status.busy": "2020-11-19T18:46:42.178764Z",
     "iopub.status.idle": "2020-11-19T18:46:42.262539Z",
     "shell.execute_reply": "2020-11-19T18:46:42.261542Z",
     "shell.execute_reply.started": "2020-11-19T18:46:42.178764Z"
    }
   },
   "outputs": [],
   "source": [
    "#extract values and convert with funciton \n",
    "wiki_movies_df['box_office'] = box_office.str.extract(f'({form_one}|{form_two})', flags=re.IGNORECASE)[0].apply(parse_dollars)"
   ]
  },
  {
   "cell_type": "code",
   "execution_count": 74,
   "metadata": {
    "execution": {
     "iopub.execute_input": "2020-11-19T18:46:42.263536Z",
     "iopub.status.busy": "2020-11-19T18:46:42.263536Z",
     "iopub.status.idle": "2020-11-19T18:46:42.271547Z",
     "shell.execute_reply": "2020-11-19T18:46:42.271547Z",
     "shell.execute_reply.started": "2020-11-19T18:46:42.263536Z"
    }
   },
   "outputs": [
    {
     "data": {
      "text/plain": [
       "0       21400000.0\n",
       "1        2700000.0\n",
       "2       57718089.0\n",
       "3        7331647.0\n",
       "4        6939946.0\n",
       "           ...    \n",
       "7071    41900000.0\n",
       "7072    76100000.0\n",
       "7073    38400000.0\n",
       "7074     5500000.0\n",
       "7075           NaN\n",
       "Name: box_office, Length: 7033, dtype: float64"
      ]
     },
     "execution_count": 74,
     "metadata": {},
     "output_type": "execute_result"
    }
   ],
   "source": [
    "#examine \n",
    "wiki_movies_df.box_office"
   ]
  },
  {
   "cell_type": "code",
   "execution_count": 75,
   "metadata": {
    "execution": {
     "iopub.execute_input": "2020-11-19T18:46:42.273511Z",
     "iopub.status.busy": "2020-11-19T18:46:42.273511Z",
     "iopub.status.idle": "2020-11-19T18:46:42.320386Z",
     "shell.execute_reply": "2020-11-19T18:46:42.318394Z",
     "shell.execute_reply.started": "2020-11-19T18:46:42.273511Z"
    }
   },
   "outputs": [
    {
     "data": {
      "text/html": [
       "<div>\n",
       "<style scoped>\n",
       "    .dataframe tbody tr th:only-of-type {\n",
       "        vertical-align: middle;\n",
       "    }\n",
       "\n",
       "    .dataframe tbody tr th {\n",
       "        vertical-align: top;\n",
       "    }\n",
       "\n",
       "    .dataframe thead th {\n",
       "        text-align: right;\n",
       "    }\n",
       "</style>\n",
       "<table border=\"1\" class=\"dataframe\">\n",
       "  <thead>\n",
       "    <tr style=\"text-align: right;\">\n",
       "      <th></th>\n",
       "      <th>url</th>\n",
       "      <th>year</th>\n",
       "      <th>imdb_link</th>\n",
       "      <th>title</th>\n",
       "      <th>Based on</th>\n",
       "      <th>Starring</th>\n",
       "      <th>Cinematography</th>\n",
       "      <th>Release date</th>\n",
       "      <th>Running time</th>\n",
       "      <th>Country</th>\n",
       "      <th>...</th>\n",
       "      <th>Box office</th>\n",
       "      <th>Director</th>\n",
       "      <th>Distributor</th>\n",
       "      <th>Editor(s)</th>\n",
       "      <th>Composer(s)</th>\n",
       "      <th>Producer(s)</th>\n",
       "      <th>Production company(s)</th>\n",
       "      <th>Writer(s)</th>\n",
       "      <th>imdb_id</th>\n",
       "      <th>box_office</th>\n",
       "    </tr>\n",
       "  </thead>\n",
       "  <tbody>\n",
       "    <tr>\n",
       "      <th>3883</th>\n",
       "      <td>https://en.wikipedia.org/wiki/Transporter_2</td>\n",
       "      <td>2005</td>\n",
       "      <td>https://www.imdb.com/title/tt0388482/</td>\n",
       "      <td>Transporter 2</td>\n",
       "      <td>[Characters, by Luc Besson, Robert Mark Kamen]</td>\n",
       "      <td>[Jason Statham, Alessandro Gassman, Amber Vall...</td>\n",
       "      <td>Mitchell Amundsen</td>\n",
       "      <td>[3 August 2005, (, 2005-08-03, ), (France)]</td>\n",
       "      <td>87 minutes</td>\n",
       "      <td>France</td>\n",
       "      <td>...</td>\n",
       "      <td>$85.1 million</td>\n",
       "      <td>Louis Leterrier</td>\n",
       "      <td>20th Century Fox</td>\n",
       "      <td>[Christine Lucas-Navarro, Vincent Tabaillon]</td>\n",
       "      <td>Alexandre Azaria</td>\n",
       "      <td>[Luc Besson, Steve Chasman]</td>\n",
       "      <td>[EuropaCorp, TF1 Films Production, Current Ent...</td>\n",
       "      <td>[Luc Besson, Robert Mark Kamen]</td>\n",
       "      <td>tt0388482</td>\n",
       "      <td>85100000.0</td>\n",
       "    </tr>\n",
       "    <tr>\n",
       "      <th>4772</th>\n",
       "      <td>https://en.wikipedia.org/wiki/Street_Kings</td>\n",
       "      <td>2008</td>\n",
       "      <td>https://www.imdb.com/title/tt0421073/</td>\n",
       "      <td>Street Kings</td>\n",
       "      <td>NaN</td>\n",
       "      <td>[Keanu Reeves, Forest Whitaker, Hugh Laurie, C...</td>\n",
       "      <td>Gabriel Beristain</td>\n",
       "      <td>[April 3, 2008, (, 2008-04-03, ), (Hollywood p...</td>\n",
       "      <td>109 minutes</td>\n",
       "      <td>United States</td>\n",
       "      <td>...</td>\n",
       "      <td>$65.5 million</td>\n",
       "      <td>David Ayer</td>\n",
       "      <td>Fox Searchlight Pictures</td>\n",
       "      <td>Jeffrey Ford</td>\n",
       "      <td>Graeme Revell</td>\n",
       "      <td>[Lucas Foster, Alexandra Milchan, Erwin Stoff]</td>\n",
       "      <td>[3 Arts Entertainment, [1], Regency Enterprises]</td>\n",
       "      <td>James Ellroy</td>\n",
       "      <td>tt0421073</td>\n",
       "      <td>65500000.0</td>\n",
       "    </tr>\n",
       "    <tr>\n",
       "      <th>1445</th>\n",
       "      <td>https://en.wikipedia.org/wiki/Aladdin_and_the_...</td>\n",
       "      <td>1996</td>\n",
       "      <td>https://www.imdb.com/title/tt0115491/</td>\n",
       "      <td>Aladdin and the King of Thieves</td>\n",
       "      <td>NaN</td>\n",
       "      <td>[Scott Weinger, Robin Williams, John Rhys-Davi...</td>\n",
       "      <td>NaN</td>\n",
       "      <td>[August 13, 1996, (, 1996-08-13, )]</td>\n",
       "      <td>81 minutes</td>\n",
       "      <td>United States</td>\n",
       "      <td>...</td>\n",
       "      <td>NaN</td>\n",
       "      <td>Tad Stones</td>\n",
       "      <td>Walt Disney Home Video</td>\n",
       "      <td>Elen Orson</td>\n",
       "      <td>[Mark Watters, Carl Johnson]</td>\n",
       "      <td>[Tad Stones, Jeannine Roussel]</td>\n",
       "      <td>[Walt Disney Video Premiere, Walt Disney Telev...</td>\n",
       "      <td>[Mark McCorkle, Robert Schooley]</td>\n",
       "      <td>tt0115491</td>\n",
       "      <td>NaN</td>\n",
       "    </tr>\n",
       "  </tbody>\n",
       "</table>\n",
       "<p>3 rows × 22 columns</p>\n",
       "</div>"
      ],
      "text/plain": [
       "                                                    url  year  \\\n",
       "3883        https://en.wikipedia.org/wiki/Transporter_2  2005   \n",
       "4772         https://en.wikipedia.org/wiki/Street_Kings  2008   \n",
       "1445  https://en.wikipedia.org/wiki/Aladdin_and_the_...  1996   \n",
       "\n",
       "                                  imdb_link                            title  \\\n",
       "3883  https://www.imdb.com/title/tt0388482/                    Transporter 2   \n",
       "4772  https://www.imdb.com/title/tt0421073/                     Street Kings   \n",
       "1445  https://www.imdb.com/title/tt0115491/  Aladdin and the King of Thieves   \n",
       "\n",
       "                                            Based on  \\\n",
       "3883  [Characters, by Luc Besson, Robert Mark Kamen]   \n",
       "4772                                             NaN   \n",
       "1445                                             NaN   \n",
       "\n",
       "                                               Starring     Cinematography  \\\n",
       "3883  [Jason Statham, Alessandro Gassman, Amber Vall...  Mitchell Amundsen   \n",
       "4772  [Keanu Reeves, Forest Whitaker, Hugh Laurie, C...  Gabriel Beristain   \n",
       "1445  [Scott Weinger, Robin Williams, John Rhys-Davi...                NaN   \n",
       "\n",
       "                                           Release date Running time  \\\n",
       "3883        [3 August 2005, (, 2005-08-03, ), (France)]   87 minutes   \n",
       "4772  [April 3, 2008, (, 2008-04-03, ), (Hollywood p...  109 minutes   \n",
       "1445                [August 13, 1996, (, 1996-08-13, )]   81 minutes   \n",
       "\n",
       "            Country  ...     Box office         Director  \\\n",
       "3883         France  ...  $85.1 million  Louis Leterrier   \n",
       "4772  United States  ...  $65.5 million       David Ayer   \n",
       "1445  United States  ...            NaN       Tad Stones   \n",
       "\n",
       "                   Distributor                                     Editor(s)  \\\n",
       "3883          20th Century Fox  [Christine Lucas-Navarro, Vincent Tabaillon]   \n",
       "4772  Fox Searchlight Pictures                                  Jeffrey Ford   \n",
       "1445    Walt Disney Home Video                                    Elen Orson   \n",
       "\n",
       "                       Composer(s)  \\\n",
       "3883              Alexandre Azaria   \n",
       "4772                 Graeme Revell   \n",
       "1445  [Mark Watters, Carl Johnson]   \n",
       "\n",
       "                                         Producer(s)  \\\n",
       "3883                     [Luc Besson, Steve Chasman]   \n",
       "4772  [Lucas Foster, Alexandra Milchan, Erwin Stoff]   \n",
       "1445                  [Tad Stones, Jeannine Roussel]   \n",
       "\n",
       "                                  Production company(s)  \\\n",
       "3883  [EuropaCorp, TF1 Films Production, Current Ent...   \n",
       "4772   [3 Arts Entertainment, [1], Regency Enterprises]   \n",
       "1445  [Walt Disney Video Premiere, Walt Disney Telev...   \n",
       "\n",
       "                             Writer(s)    imdb_id  box_office  \n",
       "3883   [Luc Besson, Robert Mark Kamen]  tt0388482  85100000.0  \n",
       "4772                      James Ellroy  tt0421073  65500000.0  \n",
       "1445  [Mark McCorkle, Robert Schooley]  tt0115491         NaN  \n",
       "\n",
       "[3 rows x 22 columns]"
      ]
     },
     "execution_count": 75,
     "metadata": {},
     "output_type": "execute_result"
    }
   ],
   "source": [
    "wiki_movies_df.sample(3)"
   ]
  },
  {
   "cell_type": "code",
   "execution_count": 76,
   "metadata": {
    "execution": {
     "iopub.execute_input": "2020-11-19T18:46:42.321384Z",
     "iopub.status.busy": "2020-11-19T18:46:42.321384Z",
     "iopub.status.idle": "2020-11-19T18:46:42.334348Z",
     "shell.execute_reply": "2020-11-19T18:46:42.333352Z",
     "shell.execute_reply.started": "2020-11-19T18:46:42.321384Z"
    }
   },
   "outputs": [],
   "source": [
    "wiki_movies_df.drop('Box office',axis=1, inplace=True)"
   ]
  },
  {
   "cell_type": "markdown",
   "metadata": {
    "execution": {
     "iopub.execute_input": "2020-11-17T21:03:10.200654Z",
     "iopub.status.busy": "2020-11-17T21:03:10.200654Z",
     "iopub.status.idle": "2020-11-17T21:03:10.204647Z",
     "shell.execute_reply": "2020-11-17T21:03:10.204647Z",
     "shell.execute_reply.started": "2020-11-17T21:03:10.200654Z"
    }
   },
   "source": [
    "> parsing, cleaning, converting budget data"
   ]
  },
  {
   "cell_type": "code",
   "execution_count": 77,
   "metadata": {
    "execution": {
     "iopub.execute_input": "2020-11-19T18:46:42.335346Z",
     "iopub.status.busy": "2020-11-19T18:46:42.335346Z",
     "iopub.status.idle": "2020-11-19T18:46:42.347318Z",
     "shell.execute_reply": "2020-11-19T18:46:42.346317Z",
     "shell.execute_reply.started": "2020-11-19T18:46:42.335346Z"
    }
   },
   "outputs": [
    {
     "data": {
      "text/plain": [
       "6012           NaN\n",
       "4848    $3 million\n",
       "Name: Budget, dtype: object"
      ]
     },
     "execution_count": 77,
     "metadata": {},
     "output_type": "execute_result"
    }
   ],
   "source": [
    "wiki_movies_df.Budget.sample(2)"
   ]
  },
  {
   "cell_type": "code",
   "execution_count": 78,
   "metadata": {
    "execution": {
     "iopub.execute_input": "2020-11-19T18:46:42.348311Z",
     "iopub.status.busy": "2020-11-19T18:46:42.348311Z",
     "iopub.status.idle": "2020-11-19T18:46:42.359283Z",
     "shell.execute_reply": "2020-11-19T18:46:42.358284Z",
     "shell.execute_reply.started": "2020-11-19T18:46:42.348311Z"
    }
   },
   "outputs": [],
   "source": [
    "budget = wiki_movies_df['Budget'].dropna()"
   ]
  },
  {
   "cell_type": "code",
   "execution_count": 79,
   "metadata": {
    "execution": {
     "iopub.execute_input": "2020-11-19T18:46:42.361275Z",
     "iopub.status.busy": "2020-11-19T18:46:42.360278Z",
     "iopub.status.idle": "2020-11-19T18:46:42.372246Z",
     "shell.execute_reply": "2020-11-19T18:46:42.371249Z",
     "shell.execute_reply.started": "2020-11-19T18:46:42.361275Z"
    }
   },
   "outputs": [],
   "source": [
    "budget = budget.map(lambda x: ' '.join(x) if type(x) == list else x)"
   ]
  },
  {
   "cell_type": "code",
   "execution_count": 80,
   "metadata": {
    "execution": {
     "iopub.execute_input": "2020-11-19T18:46:42.382253Z",
     "iopub.status.busy": "2020-11-19T18:46:42.381222Z",
     "iopub.status.idle": "2020-11-19T18:46:42.394188Z",
     "shell.execute_reply": "2020-11-19T18:46:42.393192Z",
     "shell.execute_reply.started": "2020-11-19T18:46:42.382253Z"
    }
   },
   "outputs": [],
   "source": [
    "budget = budget.str.replace(r'\\$.*[-—–](?![a-z])', '$', regex=True)"
   ]
  },
  {
   "cell_type": "code",
   "execution_count": 81,
   "metadata": {
    "execution": {
     "iopub.execute_input": "2020-11-19T18:46:42.397180Z",
     "iopub.status.busy": "2020-11-19T18:46:42.397180Z",
     "iopub.status.idle": "2020-11-19T18:46:42.427099Z",
     "shell.execute_reply": "2020-11-19T18:46:42.426103Z",
     "shell.execute_reply.started": "2020-11-19T18:46:42.397180Z"
    }
   },
   "outputs": [
    {
     "data": {
      "text/plain": [
       "136                         Unknown\n",
       "204     60 million Norwegian Kroner\n",
       "478                         Unknown\n",
       "973             $34 [3] [4] million\n",
       "1126               $120 [4] million\n",
       "1226                        Unknown\n",
       "1278                            HBO\n",
       "1374                     £6,000,000\n",
       "1397                     13 million\n",
       "1480                   £2.8 million\n",
       "1734                   CAD2,000,000\n",
       "1913     PHP 85 million (estimated)\n",
       "1948                    102,888,900\n",
       "1953                   3,500,000 DM\n",
       "1973                     ₤2,300,874\n",
       "2281                     $14 milion\n",
       "2451                     ₤6,350,000\n",
       "3144                   € 40 million\n",
       "3360               $150 [6] million\n",
       "3418                        $218.32\n",
       "3802                   £4.2 million\n",
       "3906                            N/A\n",
       "3959                    760,000 USD\n",
       "4470                       19 crore\n",
       "4641                    £17 million\n",
       "5034              $$200 [4] million\n",
       "5055           $155 [2] [3] million\n",
       "5419                $40 [4] million\n",
       "5424                            N/A\n",
       "5447                     £4 million\n",
       "5671                    €14 million\n",
       "5687                   $ dead link]\n",
       "6385               £ 12 million [3]\n",
       "6593                     £3 million\n",
       "6821                  £12.9 million\n",
       "6843                      3.5 crore\n",
       "6895                        919,000\n",
       "7070                   €4.3 million\n",
       "Name: Budget, dtype: object"
      ]
     },
     "execution_count": 81,
     "metadata": {},
     "output_type": "execute_result"
    }
   ],
   "source": [
    "matches_form_one = budget.str.contains(form_one, flags=re.IGNORECASE)\n",
    "matches_form_two = budget.str.contains(form_two, flags=re.IGNORECASE)\n",
    "budget[~matches_form_one & ~matches_form_two]"
   ]
  },
  {
   "cell_type": "code",
   "execution_count": 82,
   "metadata": {
    "execution": {
     "iopub.execute_input": "2020-11-19T18:46:42.428097Z",
     "iopub.status.busy": "2020-11-19T18:46:42.428097Z",
     "iopub.status.idle": "2020-11-19T18:46:42.442060Z",
     "shell.execute_reply": "2020-11-19T18:46:42.442060Z",
     "shell.execute_reply.started": "2020-11-19T18:46:42.428097Z"
    }
   },
   "outputs": [
    {
     "data": {
      "text/plain": [
       "136                         Unknown\n",
       "204     60 million Norwegian Kroner\n",
       "478                         Unknown\n",
       "973                     $34 million\n",
       "1126                   $120 million\n",
       "1226                        Unknown\n",
       "1278                            HBO\n",
       "1374                     £6,000,000\n",
       "1397                     13 million\n",
       "1480                   £2.8 million\n",
       "1734                   CAD2,000,000\n",
       "1913     PHP 85 million (estimated)\n",
       "1948                    102,888,900\n",
       "1953                   3,500,000 DM\n",
       "1973                     ₤2,300,874\n",
       "2281                     $14 milion\n",
       "2451                     ₤6,350,000\n",
       "3144                   € 40 million\n",
       "3360                   $150 million\n",
       "3418                        $218.32\n",
       "3802                   £4.2 million\n",
       "3906                            N/A\n",
       "3959                    760,000 USD\n",
       "4470                       19 crore\n",
       "4641                    £17 million\n",
       "5034                  $$200 million\n",
       "5055                   $155 million\n",
       "5419                    $40 million\n",
       "5424                            N/A\n",
       "5447                     £4 million\n",
       "5671                    €14 million\n",
       "5687                   $ dead link]\n",
       "6385                  £ 12 million \n",
       "6593                     £3 million\n",
       "6821                  £12.9 million\n",
       "6843                      3.5 crore\n",
       "6895                        919,000\n",
       "7070                   €4.3 million\n",
       "Name: Budget, dtype: object"
      ]
     },
     "execution_count": 82,
     "metadata": {},
     "output_type": "execute_result"
    }
   ],
   "source": [
    "budget = budget.str.replace(r'\\[\\d+\\]\\s*', '')\n",
    "budget[~matches_form_one & ~matches_form_two]"
   ]
  },
  {
   "cell_type": "code",
   "execution_count": 83,
   "metadata": {
    "execution": {
     "iopub.execute_input": "2020-11-19T18:46:42.444054Z",
     "iopub.status.busy": "2020-11-19T18:46:42.444054Z",
     "iopub.status.idle": "2020-11-19T18:46:42.499905Z",
     "shell.execute_reply": "2020-11-19T18:46:42.498907Z",
     "shell.execute_reply.started": "2020-11-19T18:46:42.444054Z"
    }
   },
   "outputs": [],
   "source": [
    "wiki_movies_df['budget'] = budget.str.extract(f'({form_one}|{form_two})', flags=re.IGNORECASE)[0].apply(parse_dollars)"
   ]
  },
  {
   "cell_type": "code",
   "execution_count": 84,
   "metadata": {
    "execution": {
     "iopub.execute_input": "2020-11-19T18:46:42.501900Z",
     "iopub.status.busy": "2020-11-19T18:46:42.501900Z",
     "iopub.status.idle": "2020-11-19T18:46:42.518854Z",
     "shell.execute_reply": "2020-11-19T18:46:42.517856Z",
     "shell.execute_reply.started": "2020-11-19T18:46:42.501900Z"
    }
   },
   "outputs": [],
   "source": [
    "wiki_movies_df.drop('Budget', axis=1, inplace=True)"
   ]
  },
  {
   "cell_type": "markdown",
   "metadata": {},
   "source": [
    "> release data "
   ]
  },
  {
   "cell_type": "code",
   "execution_count": 85,
   "metadata": {
    "execution": {
     "iopub.execute_input": "2020-11-19T18:46:42.519851Z",
     "iopub.status.busy": "2020-11-19T18:46:42.519851Z",
     "iopub.status.idle": "2020-11-19T18:46:42.531819Z",
     "shell.execute_reply": "2020-11-19T18:46:42.530822Z",
     "shell.execute_reply.started": "2020-11-19T18:46:42.519851Z"
    }
   },
   "outputs": [
    {
     "data": {
      "text/plain": [
       "1254                [December 22, 1995, (, 1995-12-22, )]\n",
       "4583                   [April 12, 2007, (, 2007-04-12, )]\n",
       "791                  [October 29, 1993, (, 1993-10-29, )]\n",
       "386     [February 15, 1991, (, 1991-02-15, ), (United ...\n",
       "1416    [November 19, 1995, (, 1995-11-19, ), (, El Ca...\n",
       "Name: Release date, dtype: object"
      ]
     },
     "execution_count": 85,
     "metadata": {},
     "output_type": "execute_result"
    }
   ],
   "source": [
    "wiki_movies_df['Release date'].sample(5)"
   ]
  },
  {
   "cell_type": "code",
   "execution_count": 86,
   "metadata": {
    "execution": {
     "iopub.execute_input": "2020-11-19T18:46:42.533814Z",
     "iopub.status.busy": "2020-11-19T18:46:42.532817Z",
     "iopub.status.idle": "2020-11-19T18:46:42.548773Z",
     "shell.execute_reply": "2020-11-19T18:46:42.547777Z",
     "shell.execute_reply.started": "2020-11-19T18:46:42.532817Z"
    }
   },
   "outputs": [],
   "source": [
    "#combine items in list\n",
    "release_date = wiki_movies_df['Release date'].dropna().apply(lambda x: ' '.join(x) if type(x) == list else x)"
   ]
  },
  {
   "cell_type": "code",
   "execution_count": 87,
   "metadata": {
    "execution": {
     "iopub.execute_input": "2020-11-19T18:46:42.550768Z",
     "iopub.status.busy": "2020-11-19T18:46:42.549776Z",
     "iopub.status.idle": "2020-11-19T18:46:42.563734Z",
     "shell.execute_reply": "2020-11-19T18:46:42.562736Z",
     "shell.execute_reply.started": "2020-11-19T18:46:42.549776Z"
    }
   },
   "outputs": [
    {
     "data": {
      "text/plain": [
       "['July 11, 1990', '(', '1990-07-11', ')']"
      ]
     },
     "execution_count": 87,
     "metadata": {},
     "output_type": "execute_result"
    },
    {
     "data": {
      "text/plain": [
       "'July 11, 1990 ( 1990-07-11 )'"
      ]
     },
     "execution_count": 87,
     "metadata": {},
     "output_type": "execute_result"
    }
   ],
   "source": [
    "# review changes \n",
    "wiki_movies_df['Release date'][0]\n",
    "release_date[0]"
   ]
  },
  {
   "cell_type": "code",
   "execution_count": 88,
   "metadata": {
    "execution": {
     "iopub.execute_input": "2020-11-19T18:46:42.564732Z",
     "iopub.status.busy": "2020-11-19T18:46:42.564732Z",
     "iopub.status.idle": "2020-11-19T18:46:42.573708Z",
     "shell.execute_reply": "2020-11-19T18:46:42.572711Z",
     "shell.execute_reply.started": "2020-11-19T18:46:42.564732Z"
    }
   },
   "outputs": [],
   "source": [
    "#create regex\n",
    "date_form_one = r'(?:January|February|March|April|May|June|July|August|September|October|November|December)\\s[123]\\d,\\s\\d{4}'\n",
    "date_form_two = r'\\d{4}.[01]\\d.[123]\\d'\n",
    "date_form_three = r'(?:January|February|March|April|May|June|July|August|September|October|November|December)\\s\\d{4}'\n",
    "date_form_four = r'\\d{4}'"
   ]
  },
  {
   "cell_type": "code",
   "execution_count": 89,
   "metadata": {
    "execution": {
     "iopub.execute_input": "2020-11-19T18:46:42.575703Z",
     "iopub.status.busy": "2020-11-19T18:46:42.574706Z",
     "iopub.status.idle": "2020-11-19T18:46:42.666459Z",
     "shell.execute_reply": "2020-11-19T18:46:42.665462Z",
     "shell.execute_reply.started": "2020-11-19T18:46:42.575703Z"
    }
   },
   "outputs": [
    {
     "data": {
      "text/html": [
       "<div>\n",
       "<style scoped>\n",
       "    .dataframe tbody tr th:only-of-type {\n",
       "        vertical-align: middle;\n",
       "    }\n",
       "\n",
       "    .dataframe tbody tr th {\n",
       "        vertical-align: top;\n",
       "    }\n",
       "\n",
       "    .dataframe thead th {\n",
       "        text-align: right;\n",
       "    }\n",
       "</style>\n",
       "<table border=\"1\" class=\"dataframe\">\n",
       "  <thead>\n",
       "    <tr style=\"text-align: right;\">\n",
       "      <th></th>\n",
       "      <th>0</th>\n",
       "    </tr>\n",
       "  </thead>\n",
       "  <tbody>\n",
       "    <tr>\n",
       "      <th>0</th>\n",
       "      <td>July 11, 1990</td>\n",
       "    </tr>\n",
       "    <tr>\n",
       "      <th>1</th>\n",
       "      <td>May 17, 1990</td>\n",
       "    </tr>\n",
       "    <tr>\n",
       "      <th>2</th>\n",
       "      <td>August 10, 1990</td>\n",
       "    </tr>\n",
       "    <tr>\n",
       "      <th>3</th>\n",
       "      <td>December 25, 1990</td>\n",
       "    </tr>\n",
       "    <tr>\n",
       "      <th>4</th>\n",
       "      <td>December 19, 1990</td>\n",
       "    </tr>\n",
       "    <tr>\n",
       "      <th>...</th>\n",
       "      <td>...</td>\n",
       "    </tr>\n",
       "    <tr>\n",
       "      <th>7071</th>\n",
       "      <td>December 25, 2018</td>\n",
       "    </tr>\n",
       "    <tr>\n",
       "      <th>7072</th>\n",
       "      <td>December 11, 2018</td>\n",
       "    </tr>\n",
       "    <tr>\n",
       "      <th>7073</th>\n",
       "      <td>2018</td>\n",
       "    </tr>\n",
       "    <tr>\n",
       "      <th>7074</th>\n",
       "      <td>August 31, 2018</td>\n",
       "    </tr>\n",
       "    <tr>\n",
       "      <th>7075</th>\n",
       "      <td>December 2018</td>\n",
       "    </tr>\n",
       "  </tbody>\n",
       "</table>\n",
       "<p>7001 rows × 1 columns</p>\n",
       "</div>"
      ],
      "text/plain": [
       "                      0\n",
       "0         July 11, 1990\n",
       "1          May 17, 1990\n",
       "2       August 10, 1990\n",
       "3     December 25, 1990\n",
       "4     December 19, 1990\n",
       "...                 ...\n",
       "7071  December 25, 2018\n",
       "7072  December 11, 2018\n",
       "7073               2018\n",
       "7074    August 31, 2018\n",
       "7075      December 2018\n",
       "\n",
       "[7001 rows x 1 columns]"
      ]
     },
     "execution_count": 89,
     "metadata": {},
     "output_type": "execute_result"
    }
   ],
   "source": [
    "#extract\n",
    "release_date.str.extract(f'({date_form_one}|{date_form_two}|{date_form_three}|{date_form_four})', flags=re.IGNORECASE)"
   ]
  },
  {
   "cell_type": "code",
   "execution_count": 90,
   "metadata": {
    "execution": {
     "iopub.execute_input": "2020-11-19T18:46:42.668455Z",
     "iopub.status.busy": "2020-11-19T18:46:42.667457Z",
     "iopub.status.idle": "2020-11-19T18:46:43.095311Z",
     "shell.execute_reply": "2020-11-19T18:46:43.094315Z",
     "shell.execute_reply.started": "2020-11-19T18:46:42.668455Z"
    }
   },
   "outputs": [],
   "source": [
    "# covnert format \n",
    "wiki_movies_df['release_date'] = pd.to_datetime(release_date.str.extract(f'({date_form_one}|{date_form_two}|{date_form_three}|{date_form_four})')[0], infer_datetime_format=True)"
   ]
  },
  {
   "cell_type": "code",
   "execution_count": 91,
   "metadata": {
    "execution": {
     "iopub.execute_input": "2020-11-19T18:46:43.097307Z",
     "iopub.status.busy": "2020-11-19T18:46:43.096309Z",
     "iopub.status.idle": "2020-11-19T18:46:43.105285Z",
     "shell.execute_reply": "2020-11-19T18:46:43.104317Z",
     "shell.execute_reply.started": "2020-11-19T18:46:43.097307Z"
    }
   },
   "outputs": [
    {
     "data": {
      "text/plain": [
       "6978   2017-05-01\n",
       "3217   2002-01-01\n",
       "2086   1999-01-01\n",
       "1624   1996-07-17\n",
       "2077   1997-02-14\n",
       "3642   2004-08-27\n",
       "2563   1999-12-17\n",
       "5123   2009-09-13\n",
       "4081   2006-09-29\n",
       "2967   2001-01-01\n",
       "Name: release_date, dtype: datetime64[ns]"
      ]
     },
     "execution_count": 91,
     "metadata": {},
     "output_type": "execute_result"
    }
   ],
   "source": [
    "wiki_movies_df.release_date.sample(10)"
   ]
  },
  {
   "cell_type": "markdown",
   "metadata": {},
   "source": [
    "> Runnig Time "
   ]
  },
  {
   "cell_type": "code",
   "execution_count": 92,
   "metadata": {
    "execution": {
     "iopub.execute_input": "2020-11-19T18:46:43.106283Z",
     "iopub.status.busy": "2020-11-19T18:46:43.106283Z",
     "iopub.status.idle": "2020-11-19T18:46:43.120244Z",
     "shell.execute_reply": "2020-11-19T18:46:43.119271Z",
     "shell.execute_reply.started": "2020-11-19T18:46:43.106283Z"
    }
   },
   "outputs": [
    {
     "data": {
      "text/plain": [
       "301     102 minutes\n",
       "2175    100 minutes\n",
       "6774    108 minutes\n",
       "Name: Running time, dtype: object"
      ]
     },
     "execution_count": 92,
     "metadata": {},
     "output_type": "execute_result"
    }
   ],
   "source": [
    "wiki_movies_df['Running time'].sample(3)"
   ]
  },
  {
   "cell_type": "code",
   "execution_count": 93,
   "metadata": {
    "execution": {
     "iopub.execute_input": "2020-11-19T18:46:43.121266Z",
     "iopub.status.busy": "2020-11-19T18:46:43.121266Z",
     "iopub.status.idle": "2020-11-19T18:46:43.134236Z",
     "shell.execute_reply": "2020-11-19T18:46:43.133239Z",
     "shell.execute_reply.started": "2020-11-19T18:46:43.121266Z"
    }
   },
   "outputs": [],
   "source": [
    "running_time = wiki_movies_df['Running time'].dropna().apply(lambda x: ' '.join(x) if type(x) == list else x)"
   ]
  },
  {
   "cell_type": "code",
   "execution_count": null,
   "metadata": {},
   "outputs": [],
   "source": []
  },
  {
   "cell_type": "code",
   "execution_count": 94,
   "metadata": {
    "execution": {
     "iopub.execute_input": "2020-11-19T18:46:43.135206Z",
     "iopub.status.busy": "2020-11-19T18:46:43.135206Z",
     "iopub.status.idle": "2020-11-19T18:46:43.164162Z",
     "shell.execute_reply": "2020-11-19T18:46:43.163131Z",
     "shell.execute_reply.started": "2020-11-19T18:46:43.135206Z"
    }
   },
   "outputs": [
    {
     "data": {
      "text/plain": [
       "0    102 minutes\n",
       "1    114 minutes\n",
       "2    113 minutes\n",
       "3    106 minutes\n",
       "4     95 minutes\n",
       "Name: Running time, dtype: object"
      ]
     },
     "execution_count": 94,
     "metadata": {},
     "output_type": "execute_result"
    },
    {
     "data": {
      "text/plain": [
       "6528"
      ]
     },
     "execution_count": 94,
     "metadata": {},
     "output_type": "execute_result"
    }
   ],
   "source": [
    "# counting how many are in minutes format \n",
    "running_time[running_time.str.contains(r'^\\d*\\s*minutes$', flags=re.IGNORECASE)][0:5]\n",
    "running_time.str.contains(r'^\\d*\\s*minutes$', flags=re.IGNORECASE).sum()"
   ]
  },
  {
   "cell_type": "code",
   "execution_count": 95,
   "metadata": {
    "execution": {
     "iopub.execute_input": "2020-11-19T18:46:43.165160Z",
     "iopub.status.busy": "2020-11-19T18:46:43.165160Z",
     "iopub.status.idle": "2020-11-19T18:46:43.216987Z",
     "shell.execute_reply": "2020-11-19T18:46:43.216019Z",
     "shell.execute_reply.started": "2020-11-19T18:46:43.165160Z"
    }
   },
   "outputs": [
    {
     "data": {
      "text/plain": [
       "9                                                 102 min\n",
       "26                                                 93 min\n",
       "28                                                32 min.\n",
       "34                                                101 min\n",
       "35                                                 97 min\n",
       "                              ...                        \n",
       "6500       114 minutes [1] 120 minutes (extended edition)\n",
       "6643                                             104 mins\n",
       "6709    90 minutes (theatrical) [1] 91 minutes (unrate...\n",
       "7057    108 minutes (Original cut) 98 minutes (UK cut)...\n",
       "7075                Variable; 90 minutes for default path\n",
       "Name: Running time, Length: 366, dtype: object"
      ]
     },
     "execution_count": 95,
     "metadata": {},
     "output_type": "execute_result"
    },
    {
     "data": {
      "text/plain": [
       "366"
      ]
     },
     "execution_count": 95,
     "metadata": {},
     "output_type": "execute_result"
    }
   ],
   "source": [
    "# those that do not match the above format  \n",
    "running_time[running_time.str.contains(r'^\\d*\\s*minutes$', flags=re.IGNORECASE) != True]\n",
    "running_time[running_time.str.contains(r'^\\d*\\s*minutes$', flags=re.IGNORECASE) != True].count()"
   ]
  },
  {
   "cell_type": "code",
   "execution_count": 96,
   "metadata": {
    "execution": {
     "iopub.execute_input": "2020-11-19T18:46:43.218983Z",
     "iopub.status.busy": "2020-11-19T18:46:43.217985Z",
     "iopub.status.idle": "2020-11-19T18:46:43.235942Z",
     "shell.execute_reply": "2020-11-19T18:46:43.234939Z",
     "shell.execute_reply.started": "2020-11-19T18:46:43.218983Z"
    }
   },
   "outputs": [
    {
     "data": {
      "text/plain": [
       "6877"
      ]
     },
     "execution_count": 96,
     "metadata": {},
     "output_type": "execute_result"
    }
   ],
   "source": [
    "# more general count \n",
    "running_time.str.contains(r'^\\d*\\s*m', flags=re.IGNORECASE).sum()"
   ]
  },
  {
   "cell_type": "code",
   "execution_count": 97,
   "metadata": {
    "execution": {
     "iopub.execute_input": "2020-11-19T18:46:43.238929Z",
     "iopub.status.busy": "2020-11-19T18:46:43.237931Z",
     "iopub.status.idle": "2020-11-19T18:46:43.276827Z",
     "shell.execute_reply": "2020-11-19T18:46:43.275829Z",
     "shell.execute_reply.started": "2020-11-19T18:46:43.238929Z"
    }
   },
   "outputs": [
    {
     "data": {
      "text/plain": [
       "668                     UK:84 min (DVD version) US:86 min\n",
       "727                         78-102 min (depending on cut)\n",
       "840                       Varies (79 [3] –84 [1] minutes)\n",
       "1347                                              25 : 03\n",
       "1443    United States: 77 minutes Argentina: 94 minute...\n",
       "1499                                            1hr 35min\n",
       "1551                                               varies\n",
       "1774                    Netherlands:96 min, Canada:95 min\n",
       "1777                                       approx. 14 min\n",
       "2273                                           1 h 43 min\n",
       "2993                                               1h 48m\n",
       "3925                                              4 hours\n",
       "4425    US domestic version: 86 minutes Original versi...\n",
       "4967    Theatrical cut: 97 minutes Unrated cut: 107 mi...\n",
       "5424                    115 [1] /123 [2] /128 [3] minutes\n",
       "5447                                    1 hour 32 minutes\n",
       "7075                Variable; 90 minutes for default path\n",
       "Name: Running time, dtype: object"
      ]
     },
     "execution_count": 97,
     "metadata": {},
     "output_type": "execute_result"
    },
    {
     "data": {
      "text/plain": [
       "17"
      ]
     },
     "execution_count": 97,
     "metadata": {},
     "output_type": "execute_result"
    }
   ],
   "source": [
    "# those that dont meet the format above\n",
    "running_time[running_time.str.contains(r'^\\d*\\s*m', flags=re.IGNORECASE) != True]\n",
    "running_time[running_time.str.contains(r'^\\d*\\s*m', flags=re.IGNORECASE) != True].count()"
   ]
  },
  {
   "cell_type": "code",
   "execution_count": 98,
   "metadata": {
    "execution": {
     "iopub.execute_input": "2020-11-19T18:46:43.277824Z",
     "iopub.status.busy": "2020-11-19T18:46:43.277824Z",
     "iopub.status.idle": "2020-11-19T18:46:43.303755Z",
     "shell.execute_reply": "2020-11-19T18:46:43.302757Z",
     "shell.execute_reply.started": "2020-11-19T18:46:43.277824Z"
    }
   },
   "outputs": [],
   "source": [
    "# match all hour + minute patterns and extract\n",
    "running_time_extract = running_time.str.extract(r'(\\d+)\\s*ho?u?r?s?\\s*(\\d*)|(\\d+)\\s*m')"
   ]
  },
  {
   "cell_type": "markdown",
   "metadata": {},
   "source": [
    "the DataFrame is all strings, we'll need to convert them to numeric values. Because we may have captured empty strings, we'll use the to_numeric() method and set the errors argument to 'coerce'. Coercing the errors will turn the empty strings into Not a Number (NaN), then we can use fillna() to change all the NaNs to zeros."
   ]
  },
  {
   "cell_type": "code",
   "execution_count": 99,
   "metadata": {
    "execution": {
     "iopub.execute_input": "2020-11-19T18:46:43.304752Z",
     "iopub.status.busy": "2020-11-19T18:46:43.304752Z",
     "iopub.status.idle": "2020-11-19T18:46:43.314725Z",
     "shell.execute_reply": "2020-11-19T18:46:43.314725Z",
     "shell.execute_reply.started": "2020-11-19T18:46:43.304752Z"
    }
   },
   "outputs": [
    {
     "data": {
      "text/plain": [
       "0    102 minutes\n",
       "1    114 minutes\n",
       "2    113 minutes\n",
       "3    106 minutes\n",
       "4     95 minutes\n",
       "Name: Running time, dtype: object"
      ]
     },
     "execution_count": 99,
     "metadata": {},
     "output_type": "execute_result"
    },
    {
     "data": {
      "text/plain": [
       "'102 minutes'"
      ]
     },
     "execution_count": 99,
     "metadata": {},
     "output_type": "execute_result"
    }
   ],
   "source": [
    "wiki_movies_df['Running time'].head()\n",
    "wiki_movies_df['Running time'].iloc[0]"
   ]
  },
  {
   "cell_type": "code",
   "execution_count": 100,
   "metadata": {
    "execution": {
     "iopub.execute_input": "2020-11-19T18:46:43.316719Z",
     "iopub.status.busy": "2020-11-19T18:46:43.315722Z",
     "iopub.status.idle": "2020-11-19T18:46:43.336665Z",
     "shell.execute_reply": "2020-11-19T18:46:43.336665Z",
     "shell.execute_reply.started": "2020-11-19T18:46:43.316719Z"
    }
   },
   "outputs": [],
   "source": [
    "running_time_extract = running_time_extract.apply(lambda col: pd.to_numeric(col, errors='coerce')).fillna(0)"
   ]
  },
  {
   "cell_type": "code",
   "execution_count": 101,
   "metadata": {
    "execution": {
     "iopub.execute_input": "2020-11-19T18:46:43.338660Z",
     "iopub.status.busy": "2020-11-19T18:46:43.338660Z",
     "iopub.status.idle": "2020-11-19T18:46:43.351626Z",
     "shell.execute_reply": "2020-11-19T18:46:43.350631Z",
     "shell.execute_reply.started": "2020-11-19T18:46:43.338660Z"
    }
   },
   "outputs": [
    {
     "data": {
      "text/html": [
       "<div>\n",
       "<style scoped>\n",
       "    .dataframe tbody tr th:only-of-type {\n",
       "        vertical-align: middle;\n",
       "    }\n",
       "\n",
       "    .dataframe tbody tr th {\n",
       "        vertical-align: top;\n",
       "    }\n",
       "\n",
       "    .dataframe thead th {\n",
       "        text-align: right;\n",
       "    }\n",
       "</style>\n",
       "<table border=\"1\" class=\"dataframe\">\n",
       "  <thead>\n",
       "    <tr style=\"text-align: right;\">\n",
       "      <th></th>\n",
       "      <th>0</th>\n",
       "      <th>1</th>\n",
       "      <th>2</th>\n",
       "    </tr>\n",
       "  </thead>\n",
       "  <tbody>\n",
       "    <tr>\n",
       "      <th>0</th>\n",
       "      <td>0.0</td>\n",
       "      <td>0.0</td>\n",
       "      <td>102.0</td>\n",
       "    </tr>\n",
       "    <tr>\n",
       "      <th>1</th>\n",
       "      <td>0.0</td>\n",
       "      <td>0.0</td>\n",
       "      <td>114.0</td>\n",
       "    </tr>\n",
       "    <tr>\n",
       "      <th>2</th>\n",
       "      <td>0.0</td>\n",
       "      <td>0.0</td>\n",
       "      <td>113.0</td>\n",
       "    </tr>\n",
       "    <tr>\n",
       "      <th>3</th>\n",
       "      <td>0.0</td>\n",
       "      <td>0.0</td>\n",
       "      <td>106.0</td>\n",
       "    </tr>\n",
       "    <tr>\n",
       "      <th>4</th>\n",
       "      <td>0.0</td>\n",
       "      <td>0.0</td>\n",
       "      <td>95.0</td>\n",
       "    </tr>\n",
       "  </tbody>\n",
       "</table>\n",
       "</div>"
      ],
      "text/plain": [
       "     0    1      2\n",
       "0  0.0  0.0  102.0\n",
       "1  0.0  0.0  114.0\n",
       "2  0.0  0.0  113.0\n",
       "3  0.0  0.0  106.0\n",
       "4  0.0  0.0   95.0"
      ]
     },
     "execution_count": 101,
     "metadata": {},
     "output_type": "execute_result"
    }
   ],
   "source": [
    "running_time_extract.head()"
   ]
  },
  {
   "cell_type": "code",
   "execution_count": 102,
   "metadata": {
    "execution": {
     "iopub.execute_input": "2020-11-19T18:46:43.353622Z",
     "iopub.status.busy": "2020-11-19T18:46:43.352623Z",
     "iopub.status.idle": "2020-11-19T18:46:43.483306Z",
     "shell.execute_reply": "2020-11-19T18:46:43.483306Z",
     "shell.execute_reply.started": "2020-11-19T18:46:43.352623Z"
    }
   },
   "outputs": [],
   "source": [
    "# apply a function that will convert the hour capture groups and minute capture groups to minutes if the pure minutes capture group is zero\n",
    "wiki_movies_df['running_time'] = running_time_extract.apply(lambda row: row[0]*60 + row[1] if row[2] == 0 else row[2], axis=1)"
   ]
  },
  {
   "cell_type": "code",
   "execution_count": 103,
   "metadata": {
    "execution": {
     "iopub.execute_input": "2020-11-19T18:46:43.485271Z",
     "iopub.status.busy": "2020-11-19T18:46:43.485271Z",
     "iopub.status.idle": "2020-11-19T18:46:43.497237Z",
     "shell.execute_reply": "2020-11-19T18:46:43.496240Z",
     "shell.execute_reply.started": "2020-11-19T18:46:43.485271Z"
    }
   },
   "outputs": [],
   "source": [
    "wiki_movies_df.drop('Running time', axis=1, inplace=True)"
   ]
  },
  {
   "cell_type": "markdown",
   "metadata": {
    "execution": {
     "iopub.execute_input": "2020-11-18T18:56:54.505160Z",
     "iopub.status.busy": "2020-11-18T18:56:54.505160Z",
     "iopub.status.idle": "2020-11-18T18:56:54.508152Z",
     "shell.execute_reply": "2020-11-18T18:56:54.508152Z",
     "shell.execute_reply.started": "2020-11-18T18:56:54.505160Z"
    }
   },
   "source": [
    "## Kaggle Data"
   ]
  },
  {
   "cell_type": "code",
   "execution_count": 104,
   "metadata": {
    "execution": {
     "iopub.execute_input": "2020-11-19T18:46:43.498235Z",
     "iopub.status.busy": "2020-11-19T18:46:43.498235Z",
     "iopub.status.idle": "2020-11-19T18:46:43.563062Z",
     "shell.execute_reply": "2020-11-19T18:46:43.563062Z",
     "shell.execute_reply.started": "2020-11-19T18:46:43.498235Z"
    }
   },
   "outputs": [
    {
     "name": "stdout",
     "output_type": "stream",
     "text": [
      "<class 'pandas.core.frame.DataFrame'>\n",
      "RangeIndex: 45466 entries, 0 to 45465\n",
      "Data columns (total 24 columns):\n",
      " #   Column                 Non-Null Count  Dtype  \n",
      "---  ------                 --------------  -----  \n",
      " 0   adult                  45466 non-null  object \n",
      " 1   belongs_to_collection  4494 non-null   object \n",
      " 2   budget                 45466 non-null  object \n",
      " 3   genres                 45466 non-null  object \n",
      " 4   homepage               7782 non-null   object \n",
      " 5   id                     45466 non-null  object \n",
      " 6   imdb_id                45449 non-null  object \n",
      " 7   original_language      45455 non-null  object \n",
      " 8   original_title         45466 non-null  object \n",
      " 9   overview               44512 non-null  object \n",
      " 10  popularity             45461 non-null  object \n",
      " 11  poster_path            45080 non-null  object \n",
      " 12  production_companies   45463 non-null  object \n",
      " 13  production_countries   45463 non-null  object \n",
      " 14  release_date           45379 non-null  object \n",
      " 15  revenue                45460 non-null  float64\n",
      " 16  runtime                45203 non-null  float64\n",
      " 17  spoken_languages       45460 non-null  object \n",
      " 18  status                 45379 non-null  object \n",
      " 19  tagline                20412 non-null  object \n",
      " 20  title                  45460 non-null  object \n",
      " 21  video                  45460 non-null  object \n",
      " 22  vote_average           45460 non-null  float64\n",
      " 23  vote_count             45460 non-null  float64\n",
      "dtypes: float64(4), object(20)\n",
      "memory usage: 8.3+ MB\n"
     ]
    }
   ],
   "source": [
    "kaggle_metadata.info()"
   ]
  },
  {
   "cell_type": "code",
   "execution_count": 105,
   "metadata": {
    "execution": {
     "iopub.execute_input": "2020-11-19T18:46:43.565058Z",
     "iopub.status.busy": "2020-11-19T18:46:43.564062Z",
     "iopub.status.idle": "2020-11-19T18:46:43.605946Z",
     "shell.execute_reply": "2020-11-19T18:46:43.604949Z",
     "shell.execute_reply.started": "2020-11-19T18:46:43.565058Z"
    }
   },
   "outputs": [
    {
     "data": {
      "text/html": [
       "<div>\n",
       "<style scoped>\n",
       "    .dataframe tbody tr th:only-of-type {\n",
       "        vertical-align: middle;\n",
       "    }\n",
       "\n",
       "    .dataframe tbody tr th {\n",
       "        vertical-align: top;\n",
       "    }\n",
       "\n",
       "    .dataframe thead th {\n",
       "        text-align: right;\n",
       "    }\n",
       "</style>\n",
       "<table border=\"1\" class=\"dataframe\">\n",
       "  <thead>\n",
       "    <tr style=\"text-align: right;\">\n",
       "      <th></th>\n",
       "      <th>adult</th>\n",
       "      <th>belongs_to_collection</th>\n",
       "      <th>budget</th>\n",
       "      <th>genres</th>\n",
       "      <th>homepage</th>\n",
       "      <th>id</th>\n",
       "      <th>imdb_id</th>\n",
       "      <th>original_language</th>\n",
       "      <th>original_title</th>\n",
       "      <th>overview</th>\n",
       "      <th>...</th>\n",
       "      <th>release_date</th>\n",
       "      <th>revenue</th>\n",
       "      <th>runtime</th>\n",
       "      <th>spoken_languages</th>\n",
       "      <th>status</th>\n",
       "      <th>tagline</th>\n",
       "      <th>title</th>\n",
       "      <th>video</th>\n",
       "      <th>vote_average</th>\n",
       "      <th>vote_count</th>\n",
       "    </tr>\n",
       "  </thead>\n",
       "  <tbody>\n",
       "    <tr>\n",
       "      <th>23521</th>\n",
       "      <td>False</td>\n",
       "      <td>NaN</td>\n",
       "      <td>0</td>\n",
       "      <td>[{'id': 18, 'name': 'Drama'}]</td>\n",
       "      <td>NaN</td>\n",
       "      <td>94671</td>\n",
       "      <td>tt1781840</td>\n",
       "      <td>en</td>\n",
       "      <td>Jayne Mansfield's Car</td>\n",
       "      <td>Alabama; 1969: The death of a clan's estranged...</td>\n",
       "      <td>...</td>\n",
       "      <td>2012-02-13</td>\n",
       "      <td>14836.0</td>\n",
       "      <td>122.0</td>\n",
       "      <td>[{'iso_639_1': 'en', 'name': 'English'}]</td>\n",
       "      <td>Released</td>\n",
       "      <td>Torn Apart. Driven Together.</td>\n",
       "      <td>Jayne Mansfield's Car</td>\n",
       "      <td>False</td>\n",
       "      <td>5.9</td>\n",
       "      <td>21.0</td>\n",
       "    </tr>\n",
       "    <tr>\n",
       "      <th>5544</th>\n",
       "      <td>False</td>\n",
       "      <td>NaN</td>\n",
       "      <td>0</td>\n",
       "      <td>[{'id': 99, 'name': 'Documentary'}]</td>\n",
       "      <td>NaN</td>\n",
       "      <td>41324</td>\n",
       "      <td>tt0292508</td>\n",
       "      <td>en</td>\n",
       "      <td>Fidel: The Untold Story</td>\n",
       "      <td>Documentary about Fidel Castro, covering 40 ye...</td>\n",
       "      <td>...</td>\n",
       "      <td>2001-08-02</td>\n",
       "      <td>0.0</td>\n",
       "      <td>91.0</td>\n",
       "      <td>[{'iso_639_1': 'en', 'name': 'English'}]</td>\n",
       "      <td>Released</td>\n",
       "      <td>NaN</td>\n",
       "      <td>Fidel: The Untold Story</td>\n",
       "      <td>False</td>\n",
       "      <td>7.1</td>\n",
       "      <td>9.0</td>\n",
       "    </tr>\n",
       "  </tbody>\n",
       "</table>\n",
       "<p>2 rows × 24 columns</p>\n",
       "</div>"
      ],
      "text/plain": [
       "       adult belongs_to_collection budget  \\\n",
       "23521  False                   NaN      0   \n",
       "5544   False                   NaN      0   \n",
       "\n",
       "                                    genres homepage     id    imdb_id  \\\n",
       "23521        [{'id': 18, 'name': 'Drama'}]      NaN  94671  tt1781840   \n",
       "5544   [{'id': 99, 'name': 'Documentary'}]      NaN  41324  tt0292508   \n",
       "\n",
       "      original_language           original_title  \\\n",
       "23521                en    Jayne Mansfield's Car   \n",
       "5544                 en  Fidel: The Untold Story   \n",
       "\n",
       "                                                overview  ... release_date  \\\n",
       "23521  Alabama; 1969: The death of a clan's estranged...  ...   2012-02-13   \n",
       "5544   Documentary about Fidel Castro, covering 40 ye...  ...   2001-08-02   \n",
       "\n",
       "       revenue runtime                          spoken_languages    status  \\\n",
       "23521  14836.0   122.0  [{'iso_639_1': 'en', 'name': 'English'}]  Released   \n",
       "5544       0.0    91.0  [{'iso_639_1': 'en', 'name': 'English'}]  Released   \n",
       "\n",
       "                            tagline                    title  video  \\\n",
       "23521  Torn Apart. Driven Together.    Jayne Mansfield's Car  False   \n",
       "5544                            NaN  Fidel: The Untold Story  False   \n",
       "\n",
       "      vote_average vote_count  \n",
       "23521          5.9       21.0  \n",
       "5544           7.1        9.0  \n",
       "\n",
       "[2 rows x 24 columns]"
      ]
     },
     "execution_count": 105,
     "metadata": {},
     "output_type": "execute_result"
    }
   ],
   "source": [
    "kaggle_metadata.sample(2)"
   ]
  },
  {
   "cell_type": "markdown",
   "metadata": {
    "execution": {
     "iopub.execute_input": "2020-11-18T19:08:35.049622Z",
     "iopub.status.busy": "2020-11-18T19:08:35.049622Z",
     "iopub.status.idle": "2020-11-18T19:08:35.057571Z",
     "shell.execute_reply": "2020-11-18T19:08:35.056575Z",
     "shell.execute_reply.started": "2020-11-18T19:08:35.049622Z"
    }
   },
   "source": [
    "> convert "
   ]
  },
  {
   "cell_type": "code",
   "execution_count": 106,
   "metadata": {
    "execution": {
     "iopub.execute_input": "2020-11-19T18:46:43.607941Z",
     "iopub.status.busy": "2020-11-19T18:46:43.606944Z",
     "iopub.status.idle": "2020-11-19T18:46:43.621904Z",
     "shell.execute_reply": "2020-11-19T18:46:43.620907Z",
     "shell.execute_reply.started": "2020-11-19T18:46:43.607941Z"
    }
   },
   "outputs": [
    {
     "data": {
      "text/plain": [
       "False                                                                                                                             45454\n",
       "True                                                                                                                                  9\n",
       " Avalanche Sharks tells the story of a bikini contest that turns into a horrifying affair when it is hit by a shark avalanche.        1\n",
       " - Written by Ørnås                                                                                                                   1\n",
       " Rune Balot goes to a casino connected to the October corporation to try to wrap up her case once and for all.                        1\n",
       "Name: adult, dtype: int64"
      ]
     },
     "execution_count": 106,
     "metadata": {},
     "output_type": "execute_result"
    }
   ],
   "source": [
    "# adult column should be all boolean, however its of object type, meaning there are mixed data types\n",
    "kaggle_metadata['adult'].value_counts()"
   ]
  },
  {
   "cell_type": "code",
   "execution_count": 107,
   "metadata": {
    "execution": {
     "iopub.execute_input": "2020-11-19T18:46:43.623900Z",
     "iopub.status.busy": "2020-11-19T18:46:43.622901Z",
     "iopub.status.idle": "2020-11-19T18:46:43.659802Z",
     "shell.execute_reply": "2020-11-19T18:46:43.658804Z",
     "shell.execute_reply.started": "2020-11-19T18:46:43.623900Z"
    }
   },
   "outputs": [
    {
     "data": {
      "text/html": [
       "<div>\n",
       "<style scoped>\n",
       "    .dataframe tbody tr th:only-of-type {\n",
       "        vertical-align: middle;\n",
       "    }\n",
       "\n",
       "    .dataframe tbody tr th {\n",
       "        vertical-align: top;\n",
       "    }\n",
       "\n",
       "    .dataframe thead th {\n",
       "        text-align: right;\n",
       "    }\n",
       "</style>\n",
       "<table border=\"1\" class=\"dataframe\">\n",
       "  <thead>\n",
       "    <tr style=\"text-align: right;\">\n",
       "      <th></th>\n",
       "      <th>adult</th>\n",
       "      <th>belongs_to_collection</th>\n",
       "      <th>budget</th>\n",
       "      <th>genres</th>\n",
       "      <th>homepage</th>\n",
       "      <th>id</th>\n",
       "      <th>imdb_id</th>\n",
       "      <th>original_language</th>\n",
       "      <th>original_title</th>\n",
       "      <th>overview</th>\n",
       "      <th>...</th>\n",
       "      <th>release_date</th>\n",
       "      <th>revenue</th>\n",
       "      <th>runtime</th>\n",
       "      <th>spoken_languages</th>\n",
       "      <th>status</th>\n",
       "      <th>tagline</th>\n",
       "      <th>title</th>\n",
       "      <th>video</th>\n",
       "      <th>vote_average</th>\n",
       "      <th>vote_count</th>\n",
       "    </tr>\n",
       "  </thead>\n",
       "  <tbody>\n",
       "    <tr>\n",
       "      <th>19730</th>\n",
       "      <td>- Written by Ørnås</td>\n",
       "      <td>0.065736</td>\n",
       "      <td>/ff9qCepilowshEtG2GYWwzt2bs4.jpg</td>\n",
       "      <td>[{'name': 'Carousel Productions', 'id': 11176}...</td>\n",
       "      <td>[{'iso_3166_1': 'CA', 'name': 'Canada'}, {'iso...</td>\n",
       "      <td>1997-08-20</td>\n",
       "      <td>0</td>\n",
       "      <td>104.0</td>\n",
       "      <td>[{'iso_639_1': 'en', 'name': 'English'}]</td>\n",
       "      <td>Released</td>\n",
       "      <td>...</td>\n",
       "      <td>1</td>\n",
       "      <td>NaN</td>\n",
       "      <td>NaN</td>\n",
       "      <td>NaN</td>\n",
       "      <td>NaN</td>\n",
       "      <td>NaN</td>\n",
       "      <td>NaN</td>\n",
       "      <td>NaN</td>\n",
       "      <td>NaN</td>\n",
       "      <td>NaN</td>\n",
       "    </tr>\n",
       "    <tr>\n",
       "      <th>29503</th>\n",
       "      <td>Rune Balot goes to a casino connected to the ...</td>\n",
       "      <td>1.931659</td>\n",
       "      <td>/zV8bHuSL6WXoD6FWogP9j4x80bL.jpg</td>\n",
       "      <td>[{'name': 'Aniplex', 'id': 2883}, {'name': 'Go...</td>\n",
       "      <td>[{'iso_3166_1': 'US', 'name': 'United States o...</td>\n",
       "      <td>2012-09-29</td>\n",
       "      <td>0</td>\n",
       "      <td>68.0</td>\n",
       "      <td>[{'iso_639_1': 'ja', 'name': '日本語'}]</td>\n",
       "      <td>Released</td>\n",
       "      <td>...</td>\n",
       "      <td>12</td>\n",
       "      <td>NaN</td>\n",
       "      <td>NaN</td>\n",
       "      <td>NaN</td>\n",
       "      <td>NaN</td>\n",
       "      <td>NaN</td>\n",
       "      <td>NaN</td>\n",
       "      <td>NaN</td>\n",
       "      <td>NaN</td>\n",
       "      <td>NaN</td>\n",
       "    </tr>\n",
       "    <tr>\n",
       "      <th>35587</th>\n",
       "      <td>Avalanche Sharks tells the story of a bikini ...</td>\n",
       "      <td>2.185485</td>\n",
       "      <td>/zaSf5OG7V8X8gqFvly88zDdRm46.jpg</td>\n",
       "      <td>[{'name': 'Odyssey Media', 'id': 17161}, {'nam...</td>\n",
       "      <td>[{'iso_3166_1': 'CA', 'name': 'Canada'}]</td>\n",
       "      <td>2014-01-01</td>\n",
       "      <td>0</td>\n",
       "      <td>82.0</td>\n",
       "      <td>[{'iso_639_1': 'en', 'name': 'English'}]</td>\n",
       "      <td>Released</td>\n",
       "      <td>...</td>\n",
       "      <td>22</td>\n",
       "      <td>NaN</td>\n",
       "      <td>NaN</td>\n",
       "      <td>NaN</td>\n",
       "      <td>NaN</td>\n",
       "      <td>NaN</td>\n",
       "      <td>NaN</td>\n",
       "      <td>NaN</td>\n",
       "      <td>NaN</td>\n",
       "      <td>NaN</td>\n",
       "    </tr>\n",
       "  </tbody>\n",
       "</table>\n",
       "<p>3 rows × 24 columns</p>\n",
       "</div>"
      ],
      "text/plain": [
       "                                                   adult  \\\n",
       "19730                                 - Written by Ørnås   \n",
       "29503   Rune Balot goes to a casino connected to the ...   \n",
       "35587   Avalanche Sharks tells the story of a bikini ...   \n",
       "\n",
       "      belongs_to_collection                            budget  \\\n",
       "19730              0.065736  /ff9qCepilowshEtG2GYWwzt2bs4.jpg   \n",
       "29503              1.931659  /zV8bHuSL6WXoD6FWogP9j4x80bL.jpg   \n",
       "35587              2.185485  /zaSf5OG7V8X8gqFvly88zDdRm46.jpg   \n",
       "\n",
       "                                                  genres  \\\n",
       "19730  [{'name': 'Carousel Productions', 'id': 11176}...   \n",
       "29503  [{'name': 'Aniplex', 'id': 2883}, {'name': 'Go...   \n",
       "35587  [{'name': 'Odyssey Media', 'id': 17161}, {'nam...   \n",
       "\n",
       "                                                homepage          id imdb_id  \\\n",
       "19730  [{'iso_3166_1': 'CA', 'name': 'Canada'}, {'iso...  1997-08-20       0   \n",
       "29503  [{'iso_3166_1': 'US', 'name': 'United States o...  2012-09-29       0   \n",
       "35587           [{'iso_3166_1': 'CA', 'name': 'Canada'}]  2014-01-01       0   \n",
       "\n",
       "      original_language                            original_title  overview  \\\n",
       "19730             104.0  [{'iso_639_1': 'en', 'name': 'English'}]  Released   \n",
       "29503              68.0      [{'iso_639_1': 'ja', 'name': '日本語'}]  Released   \n",
       "35587              82.0  [{'iso_639_1': 'en', 'name': 'English'}]  Released   \n",
       "\n",
       "       ... release_date revenue runtime spoken_languages status  tagline  \\\n",
       "19730  ...            1     NaN     NaN              NaN    NaN      NaN   \n",
       "29503  ...           12     NaN     NaN              NaN    NaN      NaN   \n",
       "35587  ...           22     NaN     NaN              NaN    NaN      NaN   \n",
       "\n",
       "       title video vote_average vote_count  \n",
       "19730    NaN   NaN          NaN        NaN  \n",
       "29503    NaN   NaN          NaN        NaN  \n",
       "35587    NaN   NaN          NaN        NaN  \n",
       "\n",
       "[3 rows x 24 columns]"
      ]
     },
     "execution_count": 107,
     "metadata": {},
     "output_type": "execute_result"
    }
   ],
   "source": [
    "# \"~\" reverses the filter from what is True and False to what is not True and False \n",
    "# shows corrupt data with mistmatch data to rows\n",
    "kaggle_metadata[~kaggle_metadata['adult'].isin(['True','False'])]"
   ]
  },
  {
   "cell_type": "code",
   "execution_count": 108,
   "metadata": {
    "execution": {
     "iopub.execute_input": "2020-11-19T18:46:43.661799Z",
     "iopub.status.busy": "2020-11-19T18:46:43.660802Z",
     "iopub.status.idle": "2020-11-19T18:46:43.716649Z",
     "shell.execute_reply": "2020-11-19T18:46:43.715654Z",
     "shell.execute_reply.started": "2020-11-19T18:46:43.660802Z"
    }
   },
   "outputs": [],
   "source": [
    "# drop adult films( all rows that dont evaluate as false), therefore the column itself isnt needed and will be dropped \n",
    "kaggle_metadata = kaggle_metadata[kaggle_metadata['adult'] == 'False'].drop('adult',axis='columns')"
   ]
  },
  {
   "cell_type": "code",
   "execution_count": 109,
   "metadata": {
    "execution": {
     "iopub.execute_input": "2020-11-19T18:46:43.717647Z",
     "iopub.status.busy": "2020-11-19T18:46:43.717647Z",
     "iopub.status.idle": "2020-11-19T18:46:43.786462Z",
     "shell.execute_reply": "2020-11-19T18:46:43.785467Z",
     "shell.execute_reply.started": "2020-11-19T18:46:43.717647Z"
    }
   },
   "outputs": [
    {
     "name": "stdout",
     "output_type": "stream",
     "text": [
      "<class 'pandas.core.frame.DataFrame'>\n",
      "Int64Index: 45454 entries, 0 to 45465\n",
      "Data columns (total 23 columns):\n",
      " #   Column                 Non-Null Count  Dtype  \n",
      "---  ------                 --------------  -----  \n",
      " 0   belongs_to_collection  4491 non-null   object \n",
      " 1   budget                 45454 non-null  object \n",
      " 2   genres                 45454 non-null  object \n",
      " 3   homepage               7777 non-null   object \n",
      " 4   id                     45454 non-null  object \n",
      " 5   imdb_id                45437 non-null  object \n",
      " 6   original_language      45443 non-null  object \n",
      " 7   original_title         45454 non-null  object \n",
      " 8   overview               44500 non-null  object \n",
      " 9   popularity             45451 non-null  object \n",
      " 10  poster_path            45068 non-null  object \n",
      " 11  production_companies   45451 non-null  object \n",
      " 12  production_countries   45451 non-null  object \n",
      " 13  release_date           45368 non-null  object \n",
      " 14  revenue                45451 non-null  float64\n",
      " 15  runtime                45194 non-null  float64\n",
      " 16  spoken_languages       45451 non-null  object \n",
      " 17  status                 45370 non-null  object \n",
      " 18  tagline                20406 non-null  object \n",
      " 19  title                  45451 non-null  object \n",
      " 20  video                  45451 non-null  object \n",
      " 21  vote_average           45451 non-null  float64\n",
      " 22  vote_count             45451 non-null  float64\n",
      "dtypes: float64(4), object(19)\n",
      "memory usage: 8.3+ MB\n"
     ]
    }
   ],
   "source": [
    "kaggle_metadata.info()"
   ]
  },
  {
   "cell_type": "code",
   "execution_count": 110,
   "metadata": {
    "execution": {
     "iopub.execute_input": "2020-11-19T18:46:43.787461Z",
     "iopub.status.busy": "2020-11-19T18:46:43.787461Z",
     "iopub.status.idle": "2020-11-19T18:46:43.801424Z",
     "shell.execute_reply": "2020-11-19T18:46:43.800425Z",
     "shell.execute_reply.started": "2020-11-19T18:46:43.787461Z"
    }
   },
   "outputs": [
    {
     "data": {
      "text/plain": [
       "False    45358\n",
       "True        93\n",
       "Name: video, dtype: int64"
      ]
     },
     "execution_count": 110,
     "metadata": {},
     "output_type": "execute_result"
    }
   ],
   "source": [
    "# review column \n",
    "kaggle_metadata['video'].value_counts()"
   ]
  },
  {
   "cell_type": "code",
   "execution_count": 111,
   "metadata": {
    "execution": {
     "iopub.execute_input": "2020-11-19T18:46:43.802422Z",
     "iopub.status.busy": "2020-11-19T18:46:43.802422Z",
     "iopub.status.idle": "2020-11-19T18:46:43.829349Z",
     "shell.execute_reply": "2020-11-19T18:46:43.828353Z",
     "shell.execute_reply.started": "2020-11-19T18:46:43.802422Z"
    }
   },
   "outputs": [],
   "source": [
    "# convert column \n",
    "kaggle_metadata['video'] = kaggle_metadata['video'] == 'True'"
   ]
  },
  {
   "cell_type": "code",
   "execution_count": 112,
   "metadata": {
    "execution": {
     "iopub.execute_input": "2020-11-19T18:46:43.831343Z",
     "iopub.status.busy": "2020-11-19T18:46:43.830346Z",
     "iopub.status.idle": "2020-11-19T18:46:43.839321Z",
     "shell.execute_reply": "2020-11-19T18:46:43.838325Z",
     "shell.execute_reply.started": "2020-11-19T18:46:43.831343Z"
    }
   },
   "outputs": [
    {
     "data": {
      "text/plain": [
       "dtype('bool')"
      ]
     },
     "execution_count": 112,
     "metadata": {},
     "output_type": "execute_result"
    }
   ],
   "source": [
    "# chekc data type \n",
    "kaggle_metadata['video'].dtype"
   ]
  },
  {
   "cell_type": "code",
   "execution_count": 113,
   "metadata": {
    "execution": {
     "iopub.execute_input": "2020-11-19T18:46:43.841317Z",
     "iopub.status.busy": "2020-11-19T18:46:43.841317Z",
     "iopub.status.idle": "2020-11-19T18:46:43.874228Z",
     "shell.execute_reply": "2020-11-19T18:46:43.873232Z",
     "shell.execute_reply.started": "2020-11-19T18:46:43.841317Z"
    }
   },
   "outputs": [
    {
     "data": {
      "text/html": [
       "<div>\n",
       "<style scoped>\n",
       "    .dataframe tbody tr th:only-of-type {\n",
       "        vertical-align: middle;\n",
       "    }\n",
       "\n",
       "    .dataframe tbody tr th {\n",
       "        vertical-align: top;\n",
       "    }\n",
       "\n",
       "    .dataframe thead th {\n",
       "        text-align: right;\n",
       "    }\n",
       "</style>\n",
       "<table border=\"1\" class=\"dataframe\">\n",
       "  <thead>\n",
       "    <tr style=\"text-align: right;\">\n",
       "      <th></th>\n",
       "      <th>belongs_to_collection</th>\n",
       "      <th>budget</th>\n",
       "      <th>genres</th>\n",
       "      <th>homepage</th>\n",
       "      <th>id</th>\n",
       "      <th>imdb_id</th>\n",
       "      <th>original_language</th>\n",
       "      <th>original_title</th>\n",
       "      <th>overview</th>\n",
       "      <th>popularity</th>\n",
       "      <th>...</th>\n",
       "      <th>release_date</th>\n",
       "      <th>revenue</th>\n",
       "      <th>runtime</th>\n",
       "      <th>spoken_languages</th>\n",
       "      <th>status</th>\n",
       "      <th>tagline</th>\n",
       "      <th>title</th>\n",
       "      <th>video</th>\n",
       "      <th>vote_average</th>\n",
       "      <th>vote_count</th>\n",
       "    </tr>\n",
       "  </thead>\n",
       "  <tbody>\n",
       "    <tr>\n",
       "      <th>37156</th>\n",
       "      <td>NaN</td>\n",
       "      <td>0</td>\n",
       "      <td>[{'id': 35, 'name': 'Comedy'}]</td>\n",
       "      <td>NaN</td>\n",
       "      <td>296225</td>\n",
       "      <td>tt0054827</td>\n",
       "      <td>de</td>\n",
       "      <td>Drei weiße Birken</td>\n",
       "      <td>NaN</td>\n",
       "      <td>0.037098</td>\n",
       "      <td>...</td>\n",
       "      <td>1961-09-27</td>\n",
       "      <td>0.0</td>\n",
       "      <td>NaN</td>\n",
       "      <td>[]</td>\n",
       "      <td>Released</td>\n",
       "      <td>NaN</td>\n",
       "      <td>Drei weiße Birken</td>\n",
       "      <td>False</td>\n",
       "      <td>4.0</td>\n",
       "      <td>1.0</td>\n",
       "    </tr>\n",
       "    <tr>\n",
       "      <th>17682</th>\n",
       "      <td>NaN</td>\n",
       "      <td>0</td>\n",
       "      <td>[{'id': 27, 'name': 'Horror'}, {'id': 9648, 'n...</td>\n",
       "      <td>NaN</td>\n",
       "      <td>15052</td>\n",
       "      <td>tt0851530</td>\n",
       "      <td>en</td>\n",
       "      <td>The Lodger</td>\n",
       "      <td>Set in Los Angeles with two converging plot li...</td>\n",
       "      <td>5.995718</td>\n",
       "      <td>...</td>\n",
       "      <td>2009-01-14</td>\n",
       "      <td>0.0</td>\n",
       "      <td>96.0</td>\n",
       "      <td>[{'iso_639_1': 'en', 'name': 'English'}]</td>\n",
       "      <td>Released</td>\n",
       "      <td>Everyone is Suspect</td>\n",
       "      <td>The Lodger</td>\n",
       "      <td>False</td>\n",
       "      <td>5.5</td>\n",
       "      <td>42.0</td>\n",
       "    </tr>\n",
       "    <tr>\n",
       "      <th>8942</th>\n",
       "      <td>NaN</td>\n",
       "      <td>10000000</td>\n",
       "      <td>[{'id': 28, 'name': 'Action'}, {'id': 53, 'nam...</td>\n",
       "      <td>NaN</td>\n",
       "      <td>9569</td>\n",
       "      <td>tt0099739</td>\n",
       "      <td>en</td>\n",
       "      <td>Hard to Kill</td>\n",
       "      <td>Mason Storm, a 'go it alone' cop, is gunned do...</td>\n",
       "      <td>7.176601</td>\n",
       "      <td>...</td>\n",
       "      <td>1990-02-09</td>\n",
       "      <td>47410000.0</td>\n",
       "      <td>96.0</td>\n",
       "      <td>[{'iso_639_1': 'en', 'name': 'English'}]</td>\n",
       "      <td>Released</td>\n",
       "      <td>Nico's back and this time he's even more harde...</td>\n",
       "      <td>Hard to Kill</td>\n",
       "      <td>False</td>\n",
       "      <td>5.6</td>\n",
       "      <td>141.0</td>\n",
       "    </tr>\n",
       "  </tbody>\n",
       "</table>\n",
       "<p>3 rows × 23 columns</p>\n",
       "</div>"
      ],
      "text/plain": [
       "      belongs_to_collection    budget  \\\n",
       "37156                   NaN         0   \n",
       "17682                   NaN         0   \n",
       "8942                    NaN  10000000   \n",
       "\n",
       "                                                  genres homepage      id  \\\n",
       "37156                     [{'id': 35, 'name': 'Comedy'}]      NaN  296225   \n",
       "17682  [{'id': 27, 'name': 'Horror'}, {'id': 9648, 'n...      NaN   15052   \n",
       "8942   [{'id': 28, 'name': 'Action'}, {'id': 53, 'nam...      NaN    9569   \n",
       "\n",
       "         imdb_id original_language     original_title  \\\n",
       "37156  tt0054827                de  Drei weiße Birken   \n",
       "17682  tt0851530                en         The Lodger   \n",
       "8942   tt0099739                en       Hard to Kill   \n",
       "\n",
       "                                                overview popularity  ...  \\\n",
       "37156                                                NaN   0.037098  ...   \n",
       "17682  Set in Los Angeles with two converging plot li...   5.995718  ...   \n",
       "8942   Mason Storm, a 'go it alone' cop, is gunned do...   7.176601  ...   \n",
       "\n",
       "      release_date     revenue runtime  \\\n",
       "37156   1961-09-27         0.0     NaN   \n",
       "17682   2009-01-14         0.0    96.0   \n",
       "8942    1990-02-09  47410000.0    96.0   \n",
       "\n",
       "                               spoken_languages    status  \\\n",
       "37156                                        []  Released   \n",
       "17682  [{'iso_639_1': 'en', 'name': 'English'}]  Released   \n",
       "8942   [{'iso_639_1': 'en', 'name': 'English'}]  Released   \n",
       "\n",
       "                                                 tagline              title  \\\n",
       "37156                                                NaN  Drei weiße Birken   \n",
       "17682                                Everyone is Suspect         The Lodger   \n",
       "8942   Nico's back and this time he's even more harde...       Hard to Kill   \n",
       "\n",
       "       video vote_average vote_count  \n",
       "37156  False          4.0        1.0  \n",
       "17682  False          5.5       42.0  \n",
       "8942   False          5.6      141.0  \n",
       "\n",
       "[3 rows x 23 columns]"
      ]
     },
     "execution_count": 113,
     "metadata": {},
     "output_type": "execute_result"
    }
   ],
   "source": [
    "kaggle_metadata.sample(3)"
   ]
  },
  {
   "cell_type": "code",
   "execution_count": 114,
   "metadata": {
    "execution": {
     "iopub.execute_input": "2020-11-19T18:46:43.876223Z",
     "iopub.status.busy": "2020-11-19T18:46:43.876223Z",
     "iopub.status.idle": "2020-11-19T18:46:43.974960Z",
     "shell.execute_reply": "2020-11-19T18:46:43.973963Z",
     "shell.execute_reply.started": "2020-11-19T18:46:43.876223Z"
    }
   },
   "outputs": [],
   "source": [
    "kaggle_metadata['budget'] = kaggle_metadata['budget'].astype(int)\n",
    "# errors set to raise in case there is data that cant be converted to numbers \n",
    "kaggle_metadata['id'] = pd.to_numeric(kaggle_metadata['id'], errors='raise')\n",
    "kaggle_metadata['popularity'] = pd.to_numeric(kaggle_metadata['popularity'], errors='raise')"
   ]
  },
  {
   "cell_type": "code",
   "execution_count": 115,
   "metadata": {
    "execution": {
     "iopub.execute_input": "2020-11-19T18:46:43.976984Z",
     "iopub.status.busy": "2020-11-19T18:46:43.975956Z",
     "iopub.status.idle": "2020-11-19T18:46:43.988924Z",
     "shell.execute_reply": "2020-11-19T18:46:43.987924Z",
     "shell.execute_reply.started": "2020-11-19T18:46:43.976984Z"
    }
   },
   "outputs": [
    {
     "data": {
      "text/plain": [
       "5409     1978-07-14\n",
       "28913    2014-09-04\n",
       "43480    1987-11-29\n",
       "21477    1964-11-18\n",
       "Name: release_date, dtype: object"
      ]
     },
     "execution_count": 115,
     "metadata": {},
     "output_type": "execute_result"
    }
   ],
   "source": [
    "kaggle_metadata.release_date.sample(4)"
   ]
  },
  {
   "cell_type": "code",
   "execution_count": 116,
   "metadata": {
    "execution": {
     "iopub.execute_input": "2020-11-19T18:46:43.989919Z",
     "iopub.status.busy": "2020-11-19T18:46:43.989919Z",
     "iopub.status.idle": "2020-11-19T18:46:44.037790Z",
     "shell.execute_reply": "2020-11-19T18:46:44.036792Z",
     "shell.execute_reply.started": "2020-11-19T18:46:43.989919Z"
    }
   },
   "outputs": [],
   "source": [
    "# convert\n",
    "kaggle_metadata['release_date'] = pd.to_datetime(kaggle_metadata['release_date'])"
   ]
  },
  {
   "cell_type": "markdown",
   "metadata": {},
   "source": [
    "## Reviewing ratings data"
   ]
  },
  {
   "cell_type": "code",
   "execution_count": 117,
   "metadata": {
    "execution": {
     "iopub.execute_input": "2020-11-19T18:46:44.038788Z",
     "iopub.status.busy": "2020-11-19T18:46:44.038788Z",
     "iopub.status.idle": "2020-11-19T18:46:44.529475Z",
     "shell.execute_reply": "2020-11-19T18:46:44.529475Z",
     "shell.execute_reply.started": "2020-11-19T18:46:44.038788Z"
    }
   },
   "outputs": [
    {
     "name": "stdout",
     "output_type": "stream",
     "text": [
      "<class 'pandas.core.frame.DataFrame'>\n",
      "RangeIndex: 26024289 entries, 0 to 26024288\n",
      "Data columns (total 4 columns):\n",
      " #   Column     Non-Null Count     Dtype  \n",
      "---  ------     --------------     -----  \n",
      " 0   userId     26024289 non-null  int64  \n",
      " 1   movieId    26024289 non-null  int64  \n",
      " 2   rating     26024289 non-null  float64\n",
      " 3   timestamp  26024289 non-null  int64  \n",
      "dtypes: float64(1), int64(3)\n",
      "memory usage: 794.2 MB\n"
     ]
    }
   ],
   "source": [
    "# review data frame, set non-null coutns to true to show total counts, (total counts arent shown as defualt with large dataframes)\n",
    "ratings.info(null_counts=True)"
   ]
  },
  {
   "cell_type": "code",
   "execution_count": 118,
   "metadata": {
    "execution": {
     "iopub.execute_input": "2020-11-19T18:46:44.532467Z",
     "iopub.status.busy": "2020-11-19T18:46:44.531471Z",
     "iopub.status.idle": "2020-11-19T18:46:44.543439Z",
     "shell.execute_reply": "2020-11-19T18:46:44.543439Z",
     "shell.execute_reply.started": "2020-11-19T18:46:44.531471Z"
    }
   },
   "outputs": [
    {
     "data": {
      "text/html": [
       "<div>\n",
       "<style scoped>\n",
       "    .dataframe tbody tr th:only-of-type {\n",
       "        vertical-align: middle;\n",
       "    }\n",
       "\n",
       "    .dataframe tbody tr th {\n",
       "        vertical-align: top;\n",
       "    }\n",
       "\n",
       "    .dataframe thead th {\n",
       "        text-align: right;\n",
       "    }\n",
       "</style>\n",
       "<table border=\"1\" class=\"dataframe\">\n",
       "  <thead>\n",
       "    <tr style=\"text-align: right;\">\n",
       "      <th></th>\n",
       "      <th>userId</th>\n",
       "      <th>movieId</th>\n",
       "      <th>rating</th>\n",
       "      <th>timestamp</th>\n",
       "    </tr>\n",
       "  </thead>\n",
       "  <tbody>\n",
       "    <tr>\n",
       "      <th>0</th>\n",
       "      <td>1</td>\n",
       "      <td>110</td>\n",
       "      <td>1.0</td>\n",
       "      <td>1425941529</td>\n",
       "    </tr>\n",
       "    <tr>\n",
       "      <th>1</th>\n",
       "      <td>1</td>\n",
       "      <td>147</td>\n",
       "      <td>4.5</td>\n",
       "      <td>1425942435</td>\n",
       "    </tr>\n",
       "    <tr>\n",
       "      <th>2</th>\n",
       "      <td>1</td>\n",
       "      <td>858</td>\n",
       "      <td>5.0</td>\n",
       "      <td>1425941523</td>\n",
       "    </tr>\n",
       "    <tr>\n",
       "      <th>3</th>\n",
       "      <td>1</td>\n",
       "      <td>1221</td>\n",
       "      <td>5.0</td>\n",
       "      <td>1425941546</td>\n",
       "    </tr>\n",
       "    <tr>\n",
       "      <th>4</th>\n",
       "      <td>1</td>\n",
       "      <td>1246</td>\n",
       "      <td>5.0</td>\n",
       "      <td>1425941556</td>\n",
       "    </tr>\n",
       "  </tbody>\n",
       "</table>\n",
       "</div>"
      ],
      "text/plain": [
       "   userId  movieId  rating   timestamp\n",
       "0       1      110     1.0  1425941529\n",
       "1       1      147     4.5  1425942435\n",
       "2       1      858     5.0  1425941523\n",
       "3       1     1221     5.0  1425941546\n",
       "4       1     1246     5.0  1425941556"
      ]
     },
     "execution_count": 118,
     "metadata": {},
     "output_type": "execute_result"
    }
   ],
   "source": [
    "ratings.head()"
   ]
  },
  {
   "cell_type": "code",
   "execution_count": 119,
   "metadata": {
    "execution": {
     "iopub.execute_input": "2020-11-19T18:46:44.545434Z",
     "iopub.status.busy": "2020-11-19T18:46:44.544436Z",
     "iopub.status.idle": "2020-11-19T18:46:45.540792Z",
     "shell.execute_reply": "2020-11-19T18:46:45.539798Z",
     "shell.execute_reply.started": "2020-11-19T18:46:44.545434Z"
    }
   },
   "outputs": [
    {
     "data": {
      "text/plain": [
       "0          2015-03-09 22:52:09\n",
       "1          2015-03-09 23:07:15\n",
       "2          2015-03-09 22:52:03\n",
       "3          2015-03-09 22:52:26\n",
       "4          2015-03-09 22:52:36\n",
       "                   ...        \n",
       "26024284   2009-10-31 23:26:04\n",
       "26024285   2009-10-31 23:33:52\n",
       "26024286   2009-10-31 23:29:24\n",
       "26024287   2009-11-01 00:06:30\n",
       "26024288   2009-10-31 23:30:58\n",
       "Name: timestamp, Length: 26024289, dtype: datetime64[ns]"
      ]
     },
     "execution_count": 119,
     "metadata": {},
     "output_type": "execute_result"
    }
   ],
   "source": [
    "# convert timstamp column (which is in unix epoch format (seconds))\n",
    "# review \n",
    "pd.to_datetime(ratings['timestamp'], unit='s')"
   ]
  },
  {
   "cell_type": "code",
   "execution_count": 120,
   "metadata": {
    "execution": {
     "iopub.execute_input": "2020-11-19T18:46:45.541787Z",
     "iopub.status.busy": "2020-11-19T18:46:45.541787Z",
     "iopub.status.idle": "2020-11-19T18:46:47.001687Z",
     "shell.execute_reply": "2020-11-19T18:46:47.000690Z",
     "shell.execute_reply.started": "2020-11-19T18:46:45.541787Z"
    }
   },
   "outputs": [],
   "source": [
    "# finalize conversion \n",
    "ratings['timestamp'] = pd.to_datetime(ratings['timestamp'], unit='s')"
   ]
  },
  {
   "cell_type": "code",
   "execution_count": 121,
   "metadata": {
    "execution": {
     "iopub.execute_input": "2020-11-19T18:46:47.002684Z",
     "iopub.status.busy": "2020-11-19T18:46:47.002684Z",
     "iopub.status.idle": "2020-11-19T18:46:54.929541Z",
     "shell.execute_reply": "2020-11-19T18:46:54.928539Z",
     "shell.execute_reply.started": "2020-11-19T18:46:47.002684Z"
    }
   },
   "outputs": [
    {
     "data": {
      "text/plain": [
       "<AxesSubplot:ylabel='Frequency'>"
      ]
     },
     "execution_count": 121,
     "metadata": {},
     "output_type": "execute_result"
    },
    {
     "data": {
      "text/plain": [
       "count          26,024,289.00\n",
       "mean                    3.53\n",
       "std                     1.07\n",
       "min                     0.50\n",
       "25%                     3.00\n",
       "50%                     3.50\n",
       "75%                     4.00\n",
       "max                     5.00\n",
       "Name: rating, dtype: float64"
      ]
     },
     "execution_count": 121,
     "metadata": {},
     "output_type": "execute_result"
    },
    {
     "data": {
      "image/png": "[encoded data removed]",
      "text/plain": [
       "<Figure size 432x288 with 1 Axes>"
      ]
     },
     "metadata": {
      "needs_background": "light"
     },
     "output_type": "display_data"
    }
   ],
   "source": [
    "# review statitics and spread of data\n",
    "pd.options.display.float_format = '{:20,.2f}'.format\n",
    "ratings['rating'].plot(kind='hist')\n",
    "ratings['rating'].describe()"
   ]
  },
  {
   "cell_type": "markdown",
   "metadata": {},
   "source": [
    "## Joining Datasets"
   ]
  },
  {
   "cell_type": "code",
   "execution_count": 122,
   "metadata": {
    "execution": {
     "iopub.execute_input": "2020-11-19T18:46:54.931532Z",
     "iopub.status.busy": "2020-11-19T18:46:54.930534Z",
     "iopub.status.idle": "2020-11-19T18:46:54.997356Z",
     "shell.execute_reply": "2020-11-19T18:46:54.997356Z",
     "shell.execute_reply.started": "2020-11-19T18:46:54.931532Z"
    }
   },
   "outputs": [
    {
     "data": {
      "text/html": [
       "<div>\n",
       "<style scoped>\n",
       "    .dataframe tbody tr th:only-of-type {\n",
       "        vertical-align: middle;\n",
       "    }\n",
       "\n",
       "    .dataframe tbody tr th {\n",
       "        vertical-align: top;\n",
       "    }\n",
       "\n",
       "    .dataframe thead th {\n",
       "        text-align: right;\n",
       "    }\n",
       "</style>\n",
       "<table border=\"1\" class=\"dataframe\">\n",
       "  <thead>\n",
       "    <tr style=\"text-align: right;\">\n",
       "      <th></th>\n",
       "      <th>url</th>\n",
       "      <th>year</th>\n",
       "      <th>imdb_link</th>\n",
       "      <th>title</th>\n",
       "      <th>Based on</th>\n",
       "      <th>Starring</th>\n",
       "      <th>Cinematography</th>\n",
       "      <th>Release date</th>\n",
       "      <th>Country</th>\n",
       "      <th>Language</th>\n",
       "      <th>...</th>\n",
       "      <th>Editor(s)</th>\n",
       "      <th>Composer(s)</th>\n",
       "      <th>Producer(s)</th>\n",
       "      <th>Production company(s)</th>\n",
       "      <th>Writer(s)</th>\n",
       "      <th>imdb_id</th>\n",
       "      <th>box_office</th>\n",
       "      <th>budget</th>\n",
       "      <th>release_date</th>\n",
       "      <th>running_time</th>\n",
       "    </tr>\n",
       "  </thead>\n",
       "  <tbody>\n",
       "    <tr>\n",
       "      <th>0</th>\n",
       "      <td>https://en.wikipedia.org/wiki/The_Adventures_o...</td>\n",
       "      <td>1990</td>\n",
       "      <td>https://www.imdb.com/title/tt0098987/</td>\n",
       "      <td>The Adventures of Ford Fairlane</td>\n",
       "      <td>[Characters, by Rex Weiner]</td>\n",
       "      <td>[Andrew Dice Clay, Wayne Newton, Priscilla Pre...</td>\n",
       "      <td>Oliver Wood</td>\n",
       "      <td>[July 11, 1990, (, 1990-07-11, )]</td>\n",
       "      <td>United States</td>\n",
       "      <td>English</td>\n",
       "      <td>...</td>\n",
       "      <td>Michael Tronick</td>\n",
       "      <td>[Cliff Eidelman, Yello]</td>\n",
       "      <td>[Steve Perry, Joel Silver]</td>\n",
       "      <td>Silver Pictures</td>\n",
       "      <td>[David Arnott, James Cappe]</td>\n",
       "      <td>tt0098987</td>\n",
       "      <td>21,400,000.00</td>\n",
       "      <td>20,000,000.00</td>\n",
       "      <td>1990-07-11</td>\n",
       "      <td>102.00</td>\n",
       "    </tr>\n",
       "  </tbody>\n",
       "</table>\n",
       "<p>1 rows × 22 columns</p>\n",
       "</div>"
      ],
      "text/plain": [
       "                                                 url  year  \\\n",
       "0  https://en.wikipedia.org/wiki/The_Adventures_o...  1990   \n",
       "\n",
       "                               imdb_link                            title  \\\n",
       "0  https://www.imdb.com/title/tt0098987/  The Adventures of Ford Fairlane   \n",
       "\n",
       "                      Based on  \\\n",
       "0  [Characters, by Rex Weiner]   \n",
       "\n",
       "                                            Starring Cinematography  \\\n",
       "0  [Andrew Dice Clay, Wayne Newton, Priscilla Pre...    Oliver Wood   \n",
       "\n",
       "                        Release date        Country Language  ...  \\\n",
       "0  [July 11, 1990, (, 1990-07-11, )]  United States  English  ...   \n",
       "\n",
       "         Editor(s)              Composer(s)                 Producer(s)  \\\n",
       "0  Michael Tronick  [Cliff Eidelman, Yello]  [Steve Perry, Joel Silver]   \n",
       "\n",
       "  Production company(s)                    Writer(s)    imdb_id  \\\n",
       "0       Silver Pictures  [David Arnott, James Cappe]  tt0098987   \n",
       "\n",
       "            box_office               budget  release_date         running_time  \n",
       "0        21,400,000.00        20,000,000.00    1990-07-11               102.00  \n",
       "\n",
       "[1 rows x 22 columns]"
      ]
     },
     "execution_count": 122,
     "metadata": {},
     "output_type": "execute_result"
    },
    {
     "data": {
      "text/html": [
       "<div>\n",
       "<style scoped>\n",
       "    .dataframe tbody tr th:only-of-type {\n",
       "        vertical-align: middle;\n",
       "    }\n",
       "\n",
       "    .dataframe tbody tr th {\n",
       "        vertical-align: top;\n",
       "    }\n",
       "\n",
       "    .dataframe thead th {\n",
       "        text-align: right;\n",
       "    }\n",
       "</style>\n",
       "<table border=\"1\" class=\"dataframe\">\n",
       "  <thead>\n",
       "    <tr style=\"text-align: right;\">\n",
       "      <th></th>\n",
       "      <th>belongs_to_collection</th>\n",
       "      <th>budget</th>\n",
       "      <th>genres</th>\n",
       "      <th>homepage</th>\n",
       "      <th>id</th>\n",
       "      <th>imdb_id</th>\n",
       "      <th>original_language</th>\n",
       "      <th>original_title</th>\n",
       "      <th>overview</th>\n",
       "      <th>popularity</th>\n",
       "      <th>...</th>\n",
       "      <th>release_date</th>\n",
       "      <th>revenue</th>\n",
       "      <th>runtime</th>\n",
       "      <th>spoken_languages</th>\n",
       "      <th>status</th>\n",
       "      <th>tagline</th>\n",
       "      <th>title</th>\n",
       "      <th>video</th>\n",
       "      <th>vote_average</th>\n",
       "      <th>vote_count</th>\n",
       "    </tr>\n",
       "  </thead>\n",
       "  <tbody>\n",
       "    <tr>\n",
       "      <th>0</th>\n",
       "      <td>{'id': 10194, 'name': 'Toy Story Collection', ...</td>\n",
       "      <td>30000000</td>\n",
       "      <td>[{'id': 16, 'name': 'Animation'}, {'id': 35, '...</td>\n",
       "      <td>http://toystory.disney.com/toy-story</td>\n",
       "      <td>862</td>\n",
       "      <td>tt0114709</td>\n",
       "      <td>en</td>\n",
       "      <td>Toy Story</td>\n",
       "      <td>Led by Woody, Andy's toys live happily in his ...</td>\n",
       "      <td>21.95</td>\n",
       "      <td>...</td>\n",
       "      <td>1995-10-30</td>\n",
       "      <td>373,554,033.00</td>\n",
       "      <td>81.00</td>\n",
       "      <td>[{'iso_639_1': 'en', 'name': 'English'}]</td>\n",
       "      <td>Released</td>\n",
       "      <td>NaN</td>\n",
       "      <td>Toy Story</td>\n",
       "      <td>False</td>\n",
       "      <td>7.70</td>\n",
       "      <td>5,415.00</td>\n",
       "    </tr>\n",
       "  </tbody>\n",
       "</table>\n",
       "<p>1 rows × 23 columns</p>\n",
       "</div>"
      ],
      "text/plain": [
       "                               belongs_to_collection    budget  \\\n",
       "0  {'id': 10194, 'name': 'Toy Story Collection', ...  30000000   \n",
       "\n",
       "                                              genres  \\\n",
       "0  [{'id': 16, 'name': 'Animation'}, {'id': 35, '...   \n",
       "\n",
       "                               homepage   id    imdb_id original_language  \\\n",
       "0  http://toystory.disney.com/toy-story  862  tt0114709                en   \n",
       "\n",
       "  original_title                                           overview  \\\n",
       "0      Toy Story  Led by Woody, Andy's toys live happily in his ...   \n",
       "\n",
       "            popularity  ... release_date              revenue  \\\n",
       "0                21.95  ...   1995-10-30       373,554,033.00   \n",
       "\n",
       "               runtime                          spoken_languages    status  \\\n",
       "0                81.00  [{'iso_639_1': 'en', 'name': 'English'}]  Released   \n",
       "\n",
       "   tagline      title  video         vote_average           vote_count  \n",
       "0      NaN  Toy Story  False                 7.70             5,415.00  \n",
       "\n",
       "[1 rows x 23 columns]"
      ]
     },
     "execution_count": 122,
     "metadata": {},
     "output_type": "execute_result"
    },
    {
     "data": {
      "text/html": [
       "<div>\n",
       "<style scoped>\n",
       "    .dataframe tbody tr th:only-of-type {\n",
       "        vertical-align: middle;\n",
       "    }\n",
       "\n",
       "    .dataframe tbody tr th {\n",
       "        vertical-align: top;\n",
       "    }\n",
       "\n",
       "    .dataframe thead th {\n",
       "        text-align: right;\n",
       "    }\n",
       "</style>\n",
       "<table border=\"1\" class=\"dataframe\">\n",
       "  <thead>\n",
       "    <tr style=\"text-align: right;\">\n",
       "      <th></th>\n",
       "      <th>userId</th>\n",
       "      <th>movieId</th>\n",
       "      <th>rating</th>\n",
       "      <th>timestamp</th>\n",
       "    </tr>\n",
       "  </thead>\n",
       "  <tbody>\n",
       "    <tr>\n",
       "      <th>0</th>\n",
       "      <td>1</td>\n",
       "      <td>110</td>\n",
       "      <td>1.00</td>\n",
       "      <td>2015-03-09 22:52:09</td>\n",
       "    </tr>\n",
       "  </tbody>\n",
       "</table>\n",
       "</div>"
      ],
      "text/plain": [
       "   userId  movieId               rating           timestamp\n",
       "0       1      110                 1.00 2015-03-09 22:52:09"
      ]
     },
     "execution_count": 122,
     "metadata": {},
     "output_type": "execute_result"
    }
   ],
   "source": [
    "wiki_movies_df.head(1)\n",
    "kaggle_metadata.head(1)\n",
    "ratings.head(1)"
   ]
  },
  {
   "cell_type": "code",
   "execution_count": 123,
   "metadata": {
    "execution": {
     "iopub.execute_input": "2020-11-19T18:46:54.999349Z",
     "iopub.status.busy": "2020-11-19T18:46:54.998352Z",
     "iopub.status.idle": "2020-11-19T18:46:55.009323Z",
     "shell.execute_reply": "2020-11-19T18:46:55.009323Z",
     "shell.execute_reply.started": "2020-11-19T18:46:54.999349Z"
    }
   },
   "outputs": [
    {
     "data": {
      "text/plain": [
       "Index(['url', 'year', 'imdb_link', 'title', 'Based on', 'Starring',\n",
       "       'Cinematography', 'Release date', 'Country', 'Language', 'Director',\n",
       "       'Distributor', 'Editor(s)', 'Composer(s)', 'Producer(s)',\n",
       "       'Production company(s)', 'Writer(s)', 'imdb_id', 'box_office', 'budget',\n",
       "       'release_date', 'running_time'],\n",
       "      dtype='object')"
      ]
     },
     "execution_count": 123,
     "metadata": {},
     "output_type": "execute_result"
    },
    {
     "data": {
      "text/plain": [
       "Index(['belongs_to_collection', 'budget', 'genres', 'homepage', 'id',\n",
       "       'imdb_id', 'original_language', 'original_title', 'overview',\n",
       "       'popularity', 'poster_path', 'production_companies',\n",
       "       'production_countries', 'release_date', 'revenue', 'runtime',\n",
       "       'spoken_languages', 'status', 'tagline', 'title', 'video',\n",
       "       'vote_average', 'vote_count'],\n",
       "      dtype='object')"
      ]
     },
     "execution_count": 123,
     "metadata": {},
     "output_type": "execute_result"
    },
    {
     "data": {
      "text/plain": [
       "Index(['userId', 'movieId', 'rating', 'timestamp'], dtype='object')"
      ]
     },
     "execution_count": 123,
     "metadata": {},
     "output_type": "execute_result"
    }
   ],
   "source": [
    "wiki_movies_df.columns \n",
    "kaggle_metadata.columns\n",
    "ratings.columns"
   ]
  },
  {
   "cell_type": "code",
   "execution_count": 124,
   "metadata": {
    "execution": {
     "iopub.execute_input": "2020-11-19T18:46:55.011318Z",
     "iopub.status.busy": "2020-11-19T18:46:55.011318Z",
     "iopub.status.idle": "2020-11-19T18:46:55.132994Z",
     "shell.execute_reply": "2020-11-19T18:46:55.131998Z",
     "shell.execute_reply.started": "2020-11-19T18:46:55.011318Z"
    }
   },
   "outputs": [],
   "source": [
    "movies_df = pd.merge(wiki_movies_df, kaggle_metadata, on='imdb_id', suffixes=['_wiki','_kaggle'])"
   ]
  },
  {
   "cell_type": "code",
   "execution_count": 125,
   "metadata": {
    "execution": {
     "iopub.execute_input": "2020-11-19T18:46:55.134994Z",
     "iopub.status.busy": "2020-11-19T18:46:55.133990Z",
     "iopub.status.idle": "2020-11-19T18:46:55.141967Z",
     "shell.execute_reply": "2020-11-19T18:46:55.140973Z",
     "shell.execute_reply.started": "2020-11-19T18:46:55.134994Z"
    }
   },
   "outputs": [
    {
     "data": {
      "text/plain": [
       "Index(['url', 'year', 'imdb_link', 'title_wiki', 'Based on', 'Starring',\n",
       "       'Cinematography', 'Release date', 'Country', 'Language', 'Director',\n",
       "       'Distributor', 'Editor(s)', 'Composer(s)', 'Producer(s)',\n",
       "       'Production company(s)', 'Writer(s)', 'imdb_id', 'box_office',\n",
       "       'budget_wiki', 'release_date_wiki', 'running_time',\n",
       "       'belongs_to_collection', 'budget_kaggle', 'genres', 'homepage', 'id',\n",
       "       'original_language', 'original_title', 'overview', 'popularity',\n",
       "       'poster_path', 'production_companies', 'production_countries',\n",
       "       'release_date_kaggle', 'revenue', 'runtime', 'spoken_languages',\n",
       "       'status', 'tagline', 'title_kaggle', 'video', 'vote_average',\n",
       "       'vote_count'],\n",
       "      dtype='object')"
      ]
     },
     "execution_count": 125,
     "metadata": {},
     "output_type": "execute_result"
    }
   ],
   "source": [
    "movies_df.columns"
   ]
  },
  {
   "cell_type": "markdown",
   "metadata": {
    "execution": {
     "iopub.execute_input": "2020-11-18T22:22:52.494505Z",
     "iopub.status.busy": "2020-11-18T22:22:52.493508Z",
     "iopub.status.idle": "2020-11-18T22:22:52.525445Z",
     "shell.execute_reply": "2020-11-18T22:22:52.525445Z",
     "shell.execute_reply.started": "2020-11-18T22:22:52.494505Z"
    }
   },
   "source": [
    "> handling with redundant columns\n",
    "\n",
    "> titles"
   ]
  },
  {
   "cell_type": "code",
   "execution_count": 126,
   "metadata": {
    "execution": {
     "iopub.execute_input": "2020-11-19T18:46:55.143963Z",
     "iopub.status.busy": "2020-11-19T18:46:55.142967Z",
     "iopub.status.idle": "2020-11-19T18:46:55.152939Z",
     "shell.execute_reply": "2020-11-19T18:46:55.151941Z",
     "shell.execute_reply.started": "2020-11-19T18:46:55.143963Z"
    }
   },
   "outputs": [],
   "source": [
    "# Competing data:\n",
    "# Wiki                     Movielens                Resolution\n",
    "#--------------------------------------------------------------------------\n",
    "# title_wiki               title_kaggle\n",
    "# running_time             runtime\n",
    "# budget_wiki              budget_kaggle\n",
    "# box_office               revenue\n",
    "# release_date_wiki        release_date_kaggle\n",
    "# Language                 original_language\n",
    "# Production company(s)    production_companies"
   ]
  },
  {
   "cell_type": "code",
   "execution_count": 127,
   "metadata": {
    "execution": {
     "iopub.execute_input": "2020-11-19T18:46:55.153936Z",
     "iopub.status.busy": "2020-11-19T18:46:55.153936Z",
     "iopub.status.idle": "2020-11-19T18:46:55.192833Z",
     "shell.execute_reply": "2020-11-19T18:46:55.191835Z",
     "shell.execute_reply.started": "2020-11-19T18:46:55.153936Z"
    }
   },
   "outputs": [
    {
     "data": {
      "text/html": [
       "<div>\n",
       "<style scoped>\n",
       "    .dataframe tbody tr th:only-of-type {\n",
       "        vertical-align: middle;\n",
       "    }\n",
       "\n",
       "    .dataframe tbody tr th {\n",
       "        vertical-align: top;\n",
       "    }\n",
       "\n",
       "    .dataframe thead th {\n",
       "        text-align: right;\n",
       "    }\n",
       "</style>\n",
       "<table border=\"1\" class=\"dataframe\">\n",
       "  <thead>\n",
       "    <tr style=\"text-align: right;\">\n",
       "      <th></th>\n",
       "      <th>title_wiki</th>\n",
       "      <th>title_kaggle</th>\n",
       "    </tr>\n",
       "  </thead>\n",
       "  <tbody>\n",
       "    <tr>\n",
       "      <th>0</th>\n",
       "      <td>The Adventures of Ford Fairlane</td>\n",
       "      <td>The Adventures of Ford Fairlane</td>\n",
       "    </tr>\n",
       "    <tr>\n",
       "      <th>1</th>\n",
       "      <td>After Dark, My Sweet</td>\n",
       "      <td>After Dark, My Sweet</td>\n",
       "    </tr>\n",
       "    <tr>\n",
       "      <th>2</th>\n",
       "      <td>Air America</td>\n",
       "      <td>Air America</td>\n",
       "    </tr>\n",
       "    <tr>\n",
       "      <th>3</th>\n",
       "      <td>Alice</td>\n",
       "      <td>Alice</td>\n",
       "    </tr>\n",
       "    <tr>\n",
       "      <th>4</th>\n",
       "      <td>Almost an Angel</td>\n",
       "      <td>Almost an Angel</td>\n",
       "    </tr>\n",
       "    <tr>\n",
       "      <th>...</th>\n",
       "      <td>...</td>\n",
       "      <td>...</td>\n",
       "    </tr>\n",
       "    <tr>\n",
       "      <th>6047</th>\n",
       "      <td>A Fantastic Woman</td>\n",
       "      <td>A Fantastic Woman</td>\n",
       "    </tr>\n",
       "    <tr>\n",
       "      <th>6048</th>\n",
       "      <td>Permission</td>\n",
       "      <td>Permission</td>\n",
       "    </tr>\n",
       "    <tr>\n",
       "      <th>6049</th>\n",
       "      <td>Loveless</td>\n",
       "      <td>Loveless</td>\n",
       "    </tr>\n",
       "    <tr>\n",
       "      <th>6050</th>\n",
       "      <td>Gemini</td>\n",
       "      <td>Gemini</td>\n",
       "    </tr>\n",
       "    <tr>\n",
       "      <th>6051</th>\n",
       "      <td>How to Talk to Girls at Parties</td>\n",
       "      <td>How to Talk to Girls at Parties</td>\n",
       "    </tr>\n",
       "  </tbody>\n",
       "</table>\n",
       "<p>6052 rows × 2 columns</p>\n",
       "</div>"
      ],
      "text/plain": [
       "                           title_wiki                     title_kaggle\n",
       "0     The Adventures of Ford Fairlane  The Adventures of Ford Fairlane\n",
       "1                After Dark, My Sweet             After Dark, My Sweet\n",
       "2                         Air America                      Air America\n",
       "3                               Alice                            Alice\n",
       "4                     Almost an Angel                  Almost an Angel\n",
       "...                               ...                              ...\n",
       "6047                A Fantastic Woman                A Fantastic Woman\n",
       "6048                       Permission                       Permission\n",
       "6049                         Loveless                         Loveless\n",
       "6050                           Gemini                           Gemini\n",
       "6051  How to Talk to Girls at Parties  How to Talk to Girls at Parties\n",
       "\n",
       "[6052 rows x 2 columns]"
      ]
     },
     "execution_count": 127,
     "metadata": {},
     "output_type": "execute_result"
    }
   ],
   "source": [
    "movies_df[['title_wiki','title_kaggle']]"
   ]
  },
  {
   "cell_type": "code",
   "execution_count": 128,
   "metadata": {
    "execution": {
     "iopub.execute_input": "2020-11-19T18:46:55.193833Z",
     "iopub.status.busy": "2020-11-19T18:46:55.193833Z",
     "iopub.status.idle": "2020-11-19T18:46:55.216769Z",
     "shell.execute_reply": "2020-11-19T18:46:55.214783Z",
     "shell.execute_reply.started": "2020-11-19T18:46:55.193833Z"
    }
   },
   "outputs": [
    {
     "data": {
      "text/html": [
       "<div>\n",
       "<style scoped>\n",
       "    .dataframe tbody tr th:only-of-type {\n",
       "        vertical-align: middle;\n",
       "    }\n",
       "\n",
       "    .dataframe tbody tr th {\n",
       "        vertical-align: top;\n",
       "    }\n",
       "\n",
       "    .dataframe thead th {\n",
       "        text-align: right;\n",
       "    }\n",
       "</style>\n",
       "<table border=\"1\" class=\"dataframe\">\n",
       "  <thead>\n",
       "    <tr style=\"text-align: right;\">\n",
       "      <th></th>\n",
       "      <th>title_wiki</th>\n",
       "      <th>title_kaggle</th>\n",
       "    </tr>\n",
       "  </thead>\n",
       "  <tbody>\n",
       "    <tr>\n",
       "      <th>27</th>\n",
       "      <td>China Cry</td>\n",
       "      <td>China Cry: A True Story</td>\n",
       "    </tr>\n",
       "    <tr>\n",
       "      <th>36</th>\n",
       "      <td>Daddy's Dyin' ...Who's Got the Will?</td>\n",
       "      <td>Daddy's Dyin'... Who's Got the Will?</td>\n",
       "    </tr>\n",
       "    <tr>\n",
       "      <th>38</th>\n",
       "      <td>The Dark Side of the Moon</td>\n",
       "      <td>The Dark Side of The Moon</td>\n",
       "    </tr>\n",
       "    <tr>\n",
       "      <th>42</th>\n",
       "      <td>Delta Force 2</td>\n",
       "      <td>Delta Force 2: The Colombian Connection</td>\n",
       "    </tr>\n",
       "    <tr>\n",
       "      <th>48</th>\n",
       "      <td>DuckTales the Movie:Treasure of the Lost Lamp</td>\n",
       "      <td>DuckTales: The Movie - Treasure of the Lost Lamp</td>\n",
       "    </tr>\n",
       "    <tr>\n",
       "      <th>...</th>\n",
       "      <td>...</td>\n",
       "      <td>...</td>\n",
       "    </tr>\n",
       "    <tr>\n",
       "      <th>5956</th>\n",
       "      <td>Chips</td>\n",
       "      <td>CHiPS</td>\n",
       "    </tr>\n",
       "    <tr>\n",
       "      <th>5971</th>\n",
       "      <td>Spark</td>\n",
       "      <td>Spark: A Space Tail</td>\n",
       "    </tr>\n",
       "    <tr>\n",
       "      <th>5994</th>\n",
       "      <td>Pirates of the Caribbean:Dead Men Tell No Tales</td>\n",
       "      <td>Pirates of the Caribbean: Dead Men Tell No Tales</td>\n",
       "    </tr>\n",
       "    <tr>\n",
       "      <th>6023</th>\n",
       "      <td>Valerian and the Cityof a Thousand Planets</td>\n",
       "      <td>Valerian and the City of a Thousand Planets</td>\n",
       "    </tr>\n",
       "    <tr>\n",
       "      <th>6028</th>\n",
       "      <td>An Inconvenient Sequel:Truth to Power</td>\n",
       "      <td>An Inconvenient Sequel: Truth to Power</td>\n",
       "    </tr>\n",
       "  </tbody>\n",
       "</table>\n",
       "<p>438 rows × 2 columns</p>\n",
       "</div>"
      ],
      "text/plain": [
       "                                           title_wiki  \\\n",
       "27                                          China Cry   \n",
       "36               Daddy's Dyin' ...Who's Got the Will?   \n",
       "38                          The Dark Side of the Moon   \n",
       "42                                      Delta Force 2   \n",
       "48      DuckTales the Movie:Treasure of the Lost Lamp   \n",
       "...                                               ...   \n",
       "5956                                            Chips   \n",
       "5971                                            Spark   \n",
       "5994  Pirates of the Caribbean:Dead Men Tell No Tales   \n",
       "6023       Valerian and the Cityof a Thousand Planets   \n",
       "6028            An Inconvenient Sequel:Truth to Power   \n",
       "\n",
       "                                          title_kaggle  \n",
       "27                             China Cry: A True Story  \n",
       "36                Daddy's Dyin'... Who's Got the Will?  \n",
       "38                           The Dark Side of The Moon  \n",
       "42             Delta Force 2: The Colombian Connection  \n",
       "48    DuckTales: The Movie - Treasure of the Lost Lamp  \n",
       "...                                                ...  \n",
       "5956                                             CHiPS  \n",
       "5971                               Spark: A Space Tail  \n",
       "5994  Pirates of the Caribbean: Dead Men Tell No Tales  \n",
       "6023       Valerian and the City of a Thousand Planets  \n",
       "6028            An Inconvenient Sequel: Truth to Power  \n",
       "\n",
       "[438 rows x 2 columns]"
      ]
     },
     "execution_count": 128,
     "metadata": {},
     "output_type": "execute_result"
    }
   ],
   "source": [
    "# review where titles do not match\n",
    "movies_df[movies_df['title_wiki'] != movies_df['title_kaggle']][['title_wiki','title_kaggle']]"
   ]
  },
  {
   "cell_type": "code",
   "execution_count": 129,
   "metadata": {
    "execution": {
     "iopub.execute_input": "2020-11-19T18:46:55.217766Z",
     "iopub.status.busy": "2020-11-19T18:46:55.217766Z",
     "iopub.status.idle": "2020-11-19T18:46:55.281599Z",
     "shell.execute_reply": "2020-11-19T18:46:55.280598Z",
     "shell.execute_reply.started": "2020-11-19T18:46:55.217766Z"
    }
   },
   "outputs": [
    {
     "data": {
      "text/html": [
       "<div>\n",
       "<style scoped>\n",
       "    .dataframe tbody tr th:only-of-type {\n",
       "        vertical-align: middle;\n",
       "    }\n",
       "\n",
       "    .dataframe tbody tr th {\n",
       "        vertical-align: top;\n",
       "    }\n",
       "\n",
       "    .dataframe thead th {\n",
       "        text-align: right;\n",
       "    }\n",
       "</style>\n",
       "<table border=\"1\" class=\"dataframe\">\n",
       "  <thead>\n",
       "    <tr style=\"text-align: right;\">\n",
       "      <th></th>\n",
       "      <th>url</th>\n",
       "      <th>year</th>\n",
       "      <th>imdb_link</th>\n",
       "      <th>title_wiki</th>\n",
       "      <th>Based on</th>\n",
       "      <th>Starring</th>\n",
       "      <th>Cinematography</th>\n",
       "      <th>Release date</th>\n",
       "      <th>Country</th>\n",
       "      <th>Language</th>\n",
       "      <th>...</th>\n",
       "      <th>release_date_kaggle</th>\n",
       "      <th>revenue</th>\n",
       "      <th>runtime</th>\n",
       "      <th>spoken_languages</th>\n",
       "      <th>status</th>\n",
       "      <th>tagline</th>\n",
       "      <th>title_kaggle</th>\n",
       "      <th>video</th>\n",
       "      <th>vote_average</th>\n",
       "      <th>vote_count</th>\n",
       "    </tr>\n",
       "  </thead>\n",
       "  <tbody>\n",
       "  </tbody>\n",
       "</table>\n",
       "<p>0 rows × 44 columns</p>\n",
       "</div>"
      ],
      "text/plain": [
       "Empty DataFrame\n",
       "Columns: [url, year, imdb_link, title_wiki, Based on, Starring, Cinematography, Release date, Country, Language, Director, Distributor, Editor(s), Composer(s), Producer(s), Production company(s), Writer(s), imdb_id, box_office, budget_wiki, release_date_wiki, running_time, belongs_to_collection, budget_kaggle, genres, homepage, id, original_language, original_title, overview, popularity, poster_path, production_companies, production_countries, release_date_kaggle, revenue, runtime, spoken_languages, status, tagline, title_kaggle, video, vote_average, vote_count]\n",
       "Index: []\n",
       "\n",
       "[0 rows x 44 columns]"
      ]
     },
     "execution_count": 129,
     "metadata": {},
     "output_type": "execute_result"
    },
    {
     "data": {
      "text/html": [
       "<div>\n",
       "<style scoped>\n",
       "    .dataframe tbody tr th:only-of-type {\n",
       "        vertical-align: middle;\n",
       "    }\n",
       "\n",
       "    .dataframe tbody tr th {\n",
       "        vertical-align: top;\n",
       "    }\n",
       "\n",
       "    .dataframe thead th {\n",
       "        text-align: right;\n",
       "    }\n",
       "</style>\n",
       "<table border=\"1\" class=\"dataframe\">\n",
       "  <thead>\n",
       "    <tr style=\"text-align: right;\">\n",
       "      <th></th>\n",
       "      <th>url</th>\n",
       "      <th>year</th>\n",
       "      <th>imdb_link</th>\n",
       "      <th>title_wiki</th>\n",
       "      <th>Based on</th>\n",
       "      <th>Starring</th>\n",
       "      <th>Cinematography</th>\n",
       "      <th>Release date</th>\n",
       "      <th>Country</th>\n",
       "      <th>Language</th>\n",
       "      <th>...</th>\n",
       "      <th>release_date_kaggle</th>\n",
       "      <th>revenue</th>\n",
       "      <th>runtime</th>\n",
       "      <th>spoken_languages</th>\n",
       "      <th>status</th>\n",
       "      <th>tagline</th>\n",
       "      <th>title_kaggle</th>\n",
       "      <th>video</th>\n",
       "      <th>vote_average</th>\n",
       "      <th>vote_count</th>\n",
       "    </tr>\n",
       "  </thead>\n",
       "  <tbody>\n",
       "  </tbody>\n",
       "</table>\n",
       "<p>0 rows × 44 columns</p>\n",
       "</div>"
      ],
      "text/plain": [
       "Empty DataFrame\n",
       "Columns: [url, year, imdb_link, title_wiki, Based on, Starring, Cinematography, Release date, Country, Language, Director, Distributor, Editor(s), Composer(s), Producer(s), Production company(s), Writer(s), imdb_id, box_office, budget_wiki, release_date_wiki, running_time, belongs_to_collection, budget_kaggle, genres, homepage, id, original_language, original_title, overview, popularity, poster_path, production_companies, production_countries, release_date_kaggle, revenue, runtime, spoken_languages, status, tagline, title_kaggle, video, vote_average, vote_count]\n",
       "Index: []\n",
       "\n",
       "[0 rows x 44 columns]"
      ]
     },
     "execution_count": 129,
     "metadata": {},
     "output_type": "execute_result"
    }
   ],
   "source": [
    "# Show any rows where titles are empty is empty\n",
    "movies_df[(movies_df['title_kaggle'] == '') | (movies_df['title_kaggle'].isnull())]\n",
    "\n",
    "movies_df[(movies_df['title_wiki'] == '') | (movies_df['title_wiki'].isnull())]"
   ]
  },
  {
   "cell_type": "markdown",
   "metadata": {},
   "source": [
    "> resolution: Drop wiki titles\n",
    "\n",
    "> runtime "
   ]
  },
  {
   "cell_type": "code",
   "execution_count": 130,
   "metadata": {
    "execution": {
     "iopub.execute_input": "2020-11-19T18:46:55.283589Z",
     "iopub.status.busy": "2020-11-19T18:46:55.282592Z",
     "iopub.status.idle": "2020-11-19T18:46:55.663576Z",
     "shell.execute_reply": "2020-11-19T18:46:55.662578Z",
     "shell.execute_reply.started": "2020-11-19T18:46:55.283589Z"
    }
   },
   "outputs": [
    {
     "data": {
      "text/plain": [
       "<AxesSubplot:xlabel='running_time', ylabel='runtime'>"
      ]
     },
     "execution_count": 130,
     "metadata": {},
     "output_type": "execute_result"
    },
    {
     "data": {
      "image/png": "[encoded data removed]",
      "text/plain": [
       "<Figure size 432x288 with 1 Axes>"
      ]
     },
     "metadata": {
      "needs_background": "light"
     },
     "output_type": "display_data"
    }
   ],
   "source": [
    "# fill in missing values with 0, so that they are shown when plotting (plots do not show null values by default)\n",
    "# Any wildly different values will show up as dots far from that central line, and if one column is missing data, those values will fall on the x-axis or y-axis.\n",
    "# the more values match, the cleaner the line produced \n",
    "movies_df.fillna(0).plot(x='running_time', y='runtime', kind='scatter')"
   ]
  },
  {
   "cell_type": "markdown",
   "metadata": {
    "execution": {
     "iopub.execute_input": "2020-11-19T17:38:56.462120Z",
     "iopub.status.busy": "2020-11-19T17:38:56.461102Z",
     "iopub.status.idle": "2020-11-19T17:38:56.467090Z",
     "shell.execute_reply": "2020-11-19T17:38:56.466114Z",
     "shell.execute_reply.started": "2020-11-19T17:38:56.462120Z"
    }
   },
   "source": [
    "> There are more 0 on the y-axis(kaggle) than the x_axis(wiki)<br> \n",
    "> most of the runtimes are pretty close to each other but the Wikipedia data has some outliers, <br>\n",
    "> Resolution: Keep Kaggle; fill in zeros with Wikipedia data."
   ]
  },
  {
   "cell_type": "markdown",
   "metadata": {},
   "source": [
    "> Budget"
   ]
  },
  {
   "cell_type": "code",
   "execution_count": 131,
   "metadata": {
    "execution": {
     "iopub.execute_input": "2020-11-19T18:46:55.664600Z",
     "iopub.status.busy": "2020-11-19T18:46:55.663576Z",
     "iopub.status.idle": "2020-11-19T18:46:56.044556Z",
     "shell.execute_reply": "2020-11-19T18:46:56.043587Z",
     "shell.execute_reply.started": "2020-11-19T18:46:55.664600Z"
    }
   },
   "outputs": [
    {
     "data": {
      "text/plain": [
       "<AxesSubplot:xlabel='budget_wiki', ylabel='budget_kaggle'>"
      ]
     },
     "execution_count": 131,
     "metadata": {},
     "output_type": "execute_result"
    },
    {
     "data": {
      "image/png": "[encoded data removed]",
      "text/plain": [
       "<Figure size 432x288 with 1 Axes>"
      ]
     },
     "metadata": {
      "needs_background": "light"
     },
     "output_type": "display_data"
    }
   ],
   "source": [
    "movies_df.fillna(0).plot(x='budget_wiki',y='budget_kaggle', kind='scatter')"
   ]
  },
  {
   "cell_type": "markdown",
   "metadata": {},
   "source": [
    "> The Wikipedia data appears to have more outliers compared to the Kaggle data. However, there are quite a few movies with no data in the Kaggle column, while Wikipedia does have budget data. Therefore, we'll fill in the gaps with Wikipedia's data.\n",
    "\n",
    "\n",
    "\n",
    "> Resolution: Keep Kaggle; fill in zeros with Wikipedia data."
   ]
  },
  {
   "cell_type": "markdown",
   "metadata": {},
   "source": [
    "> Box Office "
   ]
  },
  {
   "cell_type": "code",
   "execution_count": 132,
   "metadata": {
    "execution": {
     "iopub.execute_input": "2020-11-19T18:46:56.045551Z",
     "iopub.status.busy": "2020-11-19T18:46:56.045551Z",
     "iopub.status.idle": "2020-11-19T18:46:56.051549Z",
     "shell.execute_reply": "2020-11-19T18:46:56.051549Z",
     "shell.execute_reply.started": "2020-11-19T18:46:56.045551Z"
    }
   },
   "outputs": [
    {
     "data": {
      "text/plain": [
       "False"
      ]
     },
     "execution_count": 132,
     "metadata": {},
     "output_type": "execute_result"
    }
   ],
   "source": [
    "'office' in movies_df.columns "
   ]
  },
  {
   "cell_type": "code",
   "execution_count": 133,
   "metadata": {
    "execution": {
     "iopub.execute_input": "2020-11-19T18:46:56.053530Z",
     "iopub.status.busy": "2020-11-19T18:46:56.053530Z",
     "iopub.status.idle": "2020-11-19T18:46:56.538232Z",
     "shell.execute_reply": "2020-11-19T18:46:56.537235Z",
     "shell.execute_reply.started": "2020-11-19T18:46:56.053530Z"
    }
   },
   "outputs": [
    {
     "data": {
      "text/plain": [
       "<AxesSubplot:xlabel='box_office', ylabel='revenue'>"
      ]
     },
     "execution_count": 133,
     "metadata": {},
     "output_type": "execute_result"
    },
    {
     "data": {
      "image/png": "[encoded data removed]",
      "text/plain": [
       "<Figure size 432x288 with 1 Axes>"
      ]
     },
     "metadata": {
      "needs_background": "light"
     },
     "output_type": "display_data"
    }
   ],
   "source": [
    "movies_df.fillna(0).plot(x='box_office', y='revenue', kind='scatter')"
   ]
  },
  {
   "cell_type": "code",
   "execution_count": 134,
   "metadata": {
    "execution": {
     "iopub.execute_input": "2020-11-19T18:49:38.064375Z",
     "iopub.status.busy": "2020-11-19T18:49:38.064375Z",
     "iopub.status.idle": "2020-11-19T18:49:38.390466Z",
     "shell.execute_reply": "2020-11-19T18:49:38.389468Z",
     "shell.execute_reply.started": "2020-11-19T18:49:38.064375Z"
    }
   },
   "outputs": [
    {
     "data": {
      "text/plain": [
       "<AxesSubplot:xlabel='box_office', ylabel='revenue'>"
      ]
     },
     "execution_count": 134,
     "metadata": {},
     "output_type": "execute_result"
    },
    {
     "data": {
      "image/png": "[encoded data removed]",
      "text/plain": [
       "<Figure size 432x288 with 1 Axes>"
      ]
     },
     "metadata": {
      "needs_background": "light"
     },
     "output_type": "display_data"
    }
   ],
   "source": [
    "# rescale by plotting everything less than a billion \n",
    "movies_df.fillna(0)[movies_df['box_office'] < 10**9].plot(x='box_office', y='revenue', kind='scatter')"
   ]
  },
  {
   "cell_type": "markdown",
   "metadata": {
    "execution": {
     "iopub.execute_input": "2020-11-19T19:02:42.404814Z",
     "iopub.status.busy": "2020-11-19T19:02:42.404814Z",
     "iopub.status.idle": "2020-11-19T19:02:42.411305Z",
     "shell.execute_reply": "2020-11-19T19:02:42.410341Z",
     "shell.execute_reply.started": "2020-11-19T19:02:42.404814Z"
    }
   },
   "source": [
    "> Resolution: keep the Kaggle data, but fill in the zeros with Wikipedia data."
   ]
  },
  {
   "cell_type": "markdown",
   "metadata": {
    "execution": {
     "iopub.execute_input": "2020-11-19T19:03:23.449920Z",
     "iopub.status.busy": "2020-11-19T19:03:23.448922Z",
     "iopub.status.idle": "2020-11-19T19:03:23.455943Z",
     "shell.execute_reply": "2020-11-19T19:03:23.454949Z",
     "shell.execute_reply.started": "2020-11-19T19:03:23.449920Z"
    }
   },
   "source": [
    "> Release Date"
   ]
  },
  {
   "cell_type": "markdown",
   "metadata": {},
   "source": [
    "> For release_date_wiki and release_date_kaggle, we can't directly make a scatter plot, because the scatter plot only works on numeric data. However, there's a tricky workaround that we can use. We'll use the regular line plot (which can plot date data), and change the style to only put dots by adding style='.' to the plot() method:"
   ]
  },
  {
   "cell_type": "code",
   "execution_count": 143,
   "metadata": {
    "execution": {
     "iopub.execute_input": "2020-11-19T19:10:18.036012Z",
     "iopub.status.busy": "2020-11-19T19:10:18.036012Z",
     "iopub.status.idle": "2020-11-19T19:10:18.272727Z",
     "shell.execute_reply": "2020-11-19T19:10:18.272727Z",
     "shell.execute_reply.started": "2020-11-19T19:10:18.036012Z"
    }
   },
   "outputs": [
    {
     "data": {
      "text/plain": [
       "<AxesSubplot:xlabel='release_date_wiki'>"
      ]
     },
     "execution_count": 143,
     "metadata": {},
     "output_type": "execute_result"
    },
    {
     "data": {
      "image/png": "[encoded data removed]",
      "text/plain": [
       "<Figure size 432x288 with 1 Axes>"
      ]
     },
     "metadata": {
      "needs_background": "light"
     },
     "output_type": "display_data"
    }
   ],
   "source": [
    "movies_df[['release_date_wiki','release_date_kaggle']].plot(x='release_date_wiki', y='release_date_kaggle', style='.')"
   ]
  },
  {
   "cell_type": "code",
   "execution_count": 144,
   "metadata": {
    "execution": {
     "iopub.execute_input": "2020-11-19T19:11:03.730057Z",
     "iopub.status.busy": "2020-11-19T19:11:03.730057Z",
     "iopub.status.idle": "2020-11-19T19:11:03.780126Z",
     "shell.execute_reply": "2020-11-19T19:11:03.780126Z",
     "shell.execute_reply.started": "2020-11-19T19:11:03.730057Z"
    }
   },
   "outputs": [
    {
     "data": {
      "text/html": [
       "<div>\n",
       "<style scoped>\n",
       "    .dataframe tbody tr th:only-of-type {\n",
       "        vertical-align: middle;\n",
       "    }\n",
       "\n",
       "    .dataframe tbody tr th {\n",
       "        vertical-align: top;\n",
       "    }\n",
       "\n",
       "    .dataframe thead th {\n",
       "        text-align: right;\n",
       "    }\n",
       "</style>\n",
       "<table border=\"1\" class=\"dataframe\">\n",
       "  <thead>\n",
       "    <tr style=\"text-align: right;\">\n",
       "      <th></th>\n",
       "      <th>url</th>\n",
       "      <th>year</th>\n",
       "      <th>imdb_link</th>\n",
       "      <th>title_wiki</th>\n",
       "      <th>Based on</th>\n",
       "      <th>Starring</th>\n",
       "      <th>Cinematography</th>\n",
       "      <th>Release date</th>\n",
       "      <th>Country</th>\n",
       "      <th>Language</th>\n",
       "      <th>...</th>\n",
       "      <th>release_date_kaggle</th>\n",
       "      <th>revenue</th>\n",
       "      <th>runtime</th>\n",
       "      <th>spoken_languages</th>\n",
       "      <th>status</th>\n",
       "      <th>tagline</th>\n",
       "      <th>title_kaggle</th>\n",
       "      <th>video</th>\n",
       "      <th>vote_average</th>\n",
       "      <th>vote_count</th>\n",
       "    </tr>\n",
       "  </thead>\n",
       "  <tbody>\n",
       "    <tr>\n",
       "      <th>3607</th>\n",
       "      <td>https://en.wikipedia.org/wiki/The_Holiday</td>\n",
       "      <td>2006</td>\n",
       "      <td>https://www.imdb.com/title/tt00457939/</td>\n",
       "      <td>The Holiday</td>\n",
       "      <td>NaN</td>\n",
       "      <td>[Kate Winslet, Cameron Diaz, Jude Law, Jack Bl...</td>\n",
       "      <td>Dean Cundey</td>\n",
       "      <td>[December 8, 2006, (, 2006-12-08, )]</td>\n",
       "      <td>United States</td>\n",
       "      <td>English</td>\n",
       "      <td>...</td>\n",
       "      <td>1953-08-28</td>\n",
       "      <td>30,500,000.00</td>\n",
       "      <td>118.00</td>\n",
       "      <td>[{'iso_639_1': 'en', 'name': 'English'}]</td>\n",
       "      <td>Released</td>\n",
       "      <td>Pouring out of impassioned pages...brawling th...</td>\n",
       "      <td>From Here to Eternity</td>\n",
       "      <td>False</td>\n",
       "      <td>7.20</td>\n",
       "      <td>137.00</td>\n",
       "    </tr>\n",
       "  </tbody>\n",
       "</table>\n",
       "<p>1 rows × 44 columns</p>\n",
       "</div>"
      ],
      "text/plain": [
       "                                            url  year  \\\n",
       "3607  https://en.wikipedia.org/wiki/The_Holiday  2006   \n",
       "\n",
       "                                   imdb_link   title_wiki Based on  \\\n",
       "3607  https://www.imdb.com/title/tt00457939/  The Holiday      NaN   \n",
       "\n",
       "                                               Starring Cinematography  \\\n",
       "3607  [Kate Winslet, Cameron Diaz, Jude Law, Jack Bl...    Dean Cundey   \n",
       "\n",
       "                              Release date        Country Language  ...  \\\n",
       "3607  [December 8, 2006, (, 2006-12-08, )]  United States  English  ...   \n",
       "\n",
       "     release_date_kaggle              revenue              runtime  \\\n",
       "3607          1953-08-28        30,500,000.00               118.00   \n",
       "\n",
       "                              spoken_languages    status  \\\n",
       "3607  [{'iso_639_1': 'en', 'name': 'English'}]  Released   \n",
       "\n",
       "                                                tagline  \\\n",
       "3607  Pouring out of impassioned pages...brawling th...   \n",
       "\n",
       "               title_kaggle  video         vote_average           vote_count  \n",
       "3607  From Here to Eternity  False                 7.20               137.00  \n",
       "\n",
       "[1 rows x 44 columns]"
      ]
     },
     "execution_count": 144,
     "metadata": {},
     "output_type": "execute_result"
    }
   ],
   "source": [
    "# corrupted row, un properlly mathced data fro memrge \n",
    "movies_df[(movies_df['release_date_wiki'] > '1996-01-01') & (movies_df['release_date_kaggle'] < '1965-01-01')]"
   ]
  },
  {
   "cell_type": "code",
   "execution_count": 145,
   "metadata": {
    "execution": {
     "iopub.execute_input": "2020-11-19T19:15:50.697341Z",
     "iopub.status.busy": "2020-11-19T19:15:50.696347Z",
     "iopub.status.idle": "2020-11-19T19:15:50.710305Z",
     "shell.execute_reply": "2020-11-19T19:15:50.710305Z",
     "shell.execute_reply.started": "2020-11-19T19:15:50.697341Z"
    }
   },
   "outputs": [],
   "source": [
    "# drop errored column \n",
    "movies_df = movies_df.drop(movies_df[(movies_df['release_date_wiki'] > '1996-01-01') & (movies_df['release_date_kaggle'] < '1965-01-01')].index)"
   ]
  },
  {
   "cell_type": "code",
   "execution_count": 147,
   "metadata": {
    "execution": {
     "iopub.execute_input": "2020-11-19T19:16:32.656454Z",
     "iopub.status.busy": "2020-11-19T19:16:32.655461Z",
     "iopub.status.idle": "2020-11-19T19:16:32.682359Z",
     "shell.execute_reply": "2020-11-19T19:16:32.682359Z",
     "shell.execute_reply.started": "2020-11-19T19:16:32.656454Z"
    }
   },
   "outputs": [
    {
     "data": {
      "text/html": [
       "<div>\n",
       "<style scoped>\n",
       "    .dataframe tbody tr th:only-of-type {\n",
       "        vertical-align: middle;\n",
       "    }\n",
       "\n",
       "    .dataframe tbody tr th {\n",
       "        vertical-align: top;\n",
       "    }\n",
       "\n",
       "    .dataframe thead th {\n",
       "        text-align: right;\n",
       "    }\n",
       "</style>\n",
       "<table border=\"1\" class=\"dataframe\">\n",
       "  <thead>\n",
       "    <tr style=\"text-align: right;\">\n",
       "      <th></th>\n",
       "      <th>url</th>\n",
       "      <th>year</th>\n",
       "      <th>imdb_link</th>\n",
       "      <th>title_wiki</th>\n",
       "      <th>Based on</th>\n",
       "      <th>Starring</th>\n",
       "      <th>Cinematography</th>\n",
       "      <th>Release date</th>\n",
       "      <th>Country</th>\n",
       "      <th>Language</th>\n",
       "      <th>...</th>\n",
       "      <th>release_date_kaggle</th>\n",
       "      <th>revenue</th>\n",
       "      <th>runtime</th>\n",
       "      <th>spoken_languages</th>\n",
       "      <th>status</th>\n",
       "      <th>tagline</th>\n",
       "      <th>title_kaggle</th>\n",
       "      <th>video</th>\n",
       "      <th>vote_average</th>\n",
       "      <th>vote_count</th>\n",
       "    </tr>\n",
       "  </thead>\n",
       "  <tbody>\n",
       "    <tr>\n",
       "      <th>1008</th>\n",
       "      <td>https://en.wikipedia.org/wiki/Black_Scorpion_(...</td>\n",
       "      <td>1995</td>\n",
       "      <td>https://www.imdb.com/title/tt0112519/</td>\n",
       "      <td>Black Scorpion</td>\n",
       "      <td>NaN</td>\n",
       "      <td>[Joan Severance, Bruce Abbott, Garrett Morris]</td>\n",
       "      <td>Geoff George</td>\n",
       "      <td>NaN</td>\n",
       "      <td>United States</td>\n",
       "      <td>NaN</td>\n",
       "      <td>...</td>\n",
       "      <td>1995-08-22</td>\n",
       "      <td>0.00</td>\n",
       "      <td>92.00</td>\n",
       "      <td>[{'iso_639_1': 'en', 'name': 'English'}]</td>\n",
       "      <td>Released</td>\n",
       "      <td>Justice has a nasty sting.</td>\n",
       "      <td>Black Scorpion</td>\n",
       "      <td>False</td>\n",
       "      <td>6.10</td>\n",
       "      <td>7.00</td>\n",
       "    </tr>\n",
       "    <tr>\n",
       "      <th>1061</th>\n",
       "      <td>https://en.wikipedia.org/wiki/Flirt_(1995_film)</td>\n",
       "      <td>1995</td>\n",
       "      <td>https://www.imdb.com/title/tt0113080/</td>\n",
       "      <td>Flirt</td>\n",
       "      <td>NaN</td>\n",
       "      <td>[Bill Sage, Dwight Ewell, Miho Nikaido]</td>\n",
       "      <td>Michael Spiller</td>\n",
       "      <td>NaN</td>\n",
       "      <td>[United States, Germany, Japan, [1]]</td>\n",
       "      <td>NaN</td>\n",
       "      <td>...</td>\n",
       "      <td>1995-09-14</td>\n",
       "      <td>0.00</td>\n",
       "      <td>85.00</td>\n",
       "      <td>[{'iso_639_1': 'en', 'name': 'English'}, {'iso...</td>\n",
       "      <td>Released</td>\n",
       "      <td>NaN</td>\n",
       "      <td>Flirt</td>\n",
       "      <td>False</td>\n",
       "      <td>7.50</td>\n",
       "      <td>4.00</td>\n",
       "    </tr>\n",
       "    <tr>\n",
       "      <th>1121</th>\n",
       "      <td>https://en.wikipedia.org/wiki/Let_It_Be_Me_(19...</td>\n",
       "      <td>1995</td>\n",
       "      <td>https://www.imdb.com/title/tt0113638/</td>\n",
       "      <td>Let It Be Me</td>\n",
       "      <td>NaN</td>\n",
       "      <td>NaN</td>\n",
       "      <td>Miroslav Ondrícek</td>\n",
       "      <td>NaN</td>\n",
       "      <td>NaN</td>\n",
       "      <td>NaN</td>\n",
       "      <td>...</td>\n",
       "      <td>1995-11-17</td>\n",
       "      <td>0.00</td>\n",
       "      <td>95.00</td>\n",
       "      <td>[]</td>\n",
       "      <td>Released</td>\n",
       "      <td>NaN</td>\n",
       "      <td>Let It Be Me</td>\n",
       "      <td>False</td>\n",
       "      <td>8.00</td>\n",
       "      <td>2.00</td>\n",
       "    </tr>\n",
       "    <tr>\n",
       "      <th>1564</th>\n",
       "      <td>https://en.wikipedia.org/wiki/A_Brooklyn_State...</td>\n",
       "      <td>1997</td>\n",
       "      <td>https://www.imdb.com/title/tt0118782/</td>\n",
       "      <td>A Brooklyn State of Mind</td>\n",
       "      <td>NaN</td>\n",
       "      <td>NaN</td>\n",
       "      <td>Ken Kelsch</td>\n",
       "      <td>NaN</td>\n",
       "      <td>NaN</td>\n",
       "      <td>NaN</td>\n",
       "      <td>...</td>\n",
       "      <td>1998-01-01</td>\n",
       "      <td>0.00</td>\n",
       "      <td>89.00</td>\n",
       "      <td>[{'iso_639_1': 'en', 'name': 'English'}]</td>\n",
       "      <td>Released</td>\n",
       "      <td>NaN</td>\n",
       "      <td>A Brooklyn State of Mind</td>\n",
       "      <td>False</td>\n",
       "      <td>5.00</td>\n",
       "      <td>1.00</td>\n",
       "    </tr>\n",
       "    <tr>\n",
       "      <th>1633</th>\n",
       "      <td>https://en.wikipedia.org/wiki/Highball_(film)</td>\n",
       "      <td>1997</td>\n",
       "      <td>https://www.imdb.com/title/tt0119291/</td>\n",
       "      <td>Highball</td>\n",
       "      <td>NaN</td>\n",
       "      <td>[Justine Bateman, Peter Bogdanovich, Chris Eig...</td>\n",
       "      <td>Steven Bernstein</td>\n",
       "      <td>NaN</td>\n",
       "      <td>United States</td>\n",
       "      <td>English</td>\n",
       "      <td>...</td>\n",
       "      <td>1997-01-01</td>\n",
       "      <td>0.00</td>\n",
       "      <td>110.00</td>\n",
       "      <td>[{'iso_639_1': 'en', 'name': 'English'}]</td>\n",
       "      <td>Released</td>\n",
       "      <td>NaN</td>\n",
       "      <td>Highball</td>\n",
       "      <td>False</td>\n",
       "      <td>4.50</td>\n",
       "      <td>4.00</td>\n",
       "    </tr>\n",
       "    <tr>\n",
       "      <th>1775</th>\n",
       "      <td>https://en.wikipedia.org/wiki/Velocity_Trap</td>\n",
       "      <td>1997</td>\n",
       "      <td>https://www.imdb.com/title/tt0120435/</td>\n",
       "      <td>Velocity Trap</td>\n",
       "      <td>NaN</td>\n",
       "      <td>[Olivier Gruner, Alicia Coppola, Ken Olandt]</td>\n",
       "      <td>Philip D. Schwartz</td>\n",
       "      <td>NaN</td>\n",
       "      <td>United States</td>\n",
       "      <td>NaN</td>\n",
       "      <td>...</td>\n",
       "      <td>1999-02-22</td>\n",
       "      <td>0.00</td>\n",
       "      <td>86.00</td>\n",
       "      <td>[{'iso_639_1': 'en', 'name': 'English'}]</td>\n",
       "      <td>Released</td>\n",
       "      <td>Crime at the Speed of Light</td>\n",
       "      <td>Velocity Trap</td>\n",
       "      <td>False</td>\n",
       "      <td>4.70</td>\n",
       "      <td>6.00</td>\n",
       "    </tr>\n",
       "    <tr>\n",
       "      <th>2386</th>\n",
       "      <td>https://en.wikipedia.org/wiki/The_Visit_(2000_...</td>\n",
       "      <td>2000</td>\n",
       "      <td>https://www.imdb.com/title/tt0199129/</td>\n",
       "      <td>The Visit</td>\n",
       "      <td>NaN</td>\n",
       "      <td>[Hill Harper, Billy Dee Williams, Obba Babatun...</td>\n",
       "      <td>John L. Demps Jr.</td>\n",
       "      <td>NaN</td>\n",
       "      <td>NaN</td>\n",
       "      <td>English</td>\n",
       "      <td>...</td>\n",
       "      <td>2000-01-01</td>\n",
       "      <td>0.00</td>\n",
       "      <td>107.00</td>\n",
       "      <td>[{'iso_639_1': 'en', 'name': 'English'}, {'iso...</td>\n",
       "      <td>Rumored</td>\n",
       "      <td>NaN</td>\n",
       "      <td>The Visit</td>\n",
       "      <td>False</td>\n",
       "      <td>0.00</td>\n",
       "      <td>0.00</td>\n",
       "    </tr>\n",
       "    <tr>\n",
       "      <th>2786</th>\n",
       "      <td>https://en.wikipedia.org/wiki/Stevie_(2002_film)</td>\n",
       "      <td>2002</td>\n",
       "      <td>https://www.imdb.com/title/tt0334416/</td>\n",
       "      <td>Stevie</td>\n",
       "      <td>NaN</td>\n",
       "      <td>NaN</td>\n",
       "      <td>[Dana Kupper, Gordon Quinn, Peter Gilbert]</td>\n",
       "      <td>NaN</td>\n",
       "      <td>United States</td>\n",
       "      <td>English</td>\n",
       "      <td>...</td>\n",
       "      <td>2002-09-09</td>\n",
       "      <td>97,000.00</td>\n",
       "      <td>140.00</td>\n",
       "      <td>[]</td>\n",
       "      <td>NaN</td>\n",
       "      <td>NaN</td>\n",
       "      <td>Stevie</td>\n",
       "      <td>False</td>\n",
       "      <td>6.70</td>\n",
       "      <td>13.00</td>\n",
       "    </tr>\n",
       "    <tr>\n",
       "      <th>3174</th>\n",
       "      <td>https://en.wikipedia.org/wiki/Return_to_Sender...</td>\n",
       "      <td>2004</td>\n",
       "      <td>https://www.imdb.com/title/tt0396190/</td>\n",
       "      <td>Return to Sender</td>\n",
       "      <td>NaN</td>\n",
       "      <td>[Aidan Quinn, Connie Nielsen, Mark Holton]</td>\n",
       "      <td>NaN</td>\n",
       "      <td>NaN</td>\n",
       "      <td>[Denmark, USA, UK]</td>\n",
       "      <td>NaN</td>\n",
       "      <td>...</td>\n",
       "      <td>2004-09-17</td>\n",
       "      <td>0.00</td>\n",
       "      <td>109.00</td>\n",
       "      <td>[{'iso_639_1': 'en', 'name': 'English'}]</td>\n",
       "      <td>Released</td>\n",
       "      <td>How can you save someone, who won't save herself?</td>\n",
       "      <td>Return to Sender</td>\n",
       "      <td>False</td>\n",
       "      <td>5.90</td>\n",
       "      <td>13.00</td>\n",
       "    </tr>\n",
       "    <tr>\n",
       "      <th>3651</th>\n",
       "      <td>https://en.wikipedia.org/wiki/Live_Free_or_Die...</td>\n",
       "      <td>2006</td>\n",
       "      <td>https://www.imdb.com/title/tt0432318/</td>\n",
       "      <td>Live Free or Die</td>\n",
       "      <td>NaN</td>\n",
       "      <td>[Aaron Stanford, Paul Schneider, Ebon Moss-Bac...</td>\n",
       "      <td>NaN</td>\n",
       "      <td>NaN</td>\n",
       "      <td>United States</td>\n",
       "      <td>English</td>\n",
       "      <td>...</td>\n",
       "      <td>2006-03-11</td>\n",
       "      <td>0.00</td>\n",
       "      <td>89.00</td>\n",
       "      <td>[{'iso_639_1': 'en', 'name': 'English'}]</td>\n",
       "      <td>Released</td>\n",
       "      <td>NaN</td>\n",
       "      <td>Live Free or Die</td>\n",
       "      <td>False</td>\n",
       "      <td>5.50</td>\n",
       "      <td>8.00</td>\n",
       "    </tr>\n",
       "    <tr>\n",
       "      <th>4967</th>\n",
       "      <td>https://en.wikipedia.org/wiki/For_the_Love_of_...</td>\n",
       "      <td>2012</td>\n",
       "      <td>https://www.imdb.com/title/tt1730294/</td>\n",
       "      <td>For the Love of Money</td>\n",
       "      <td>NaN</td>\n",
       "      <td>[Yehuda Levi, Edward Furlong, James Caan, Jeff...</td>\n",
       "      <td>Andrzej Sekuła</td>\n",
       "      <td>NaN</td>\n",
       "      <td>United States</td>\n",
       "      <td>English/Hebrew</td>\n",
       "      <td>...</td>\n",
       "      <td>2012-06-08</td>\n",
       "      <td>0.00</td>\n",
       "      <td>93.00</td>\n",
       "      <td>[{'iso_639_1': 'en', 'name': 'English'}, {'iso...</td>\n",
       "      <td>Released</td>\n",
       "      <td>For the love of money is the root of all evil.</td>\n",
       "      <td>For the Love of Money</td>\n",
       "      <td>False</td>\n",
       "      <td>5.60</td>\n",
       "      <td>9.00</td>\n",
       "    </tr>\n",
       "  </tbody>\n",
       "</table>\n",
       "<p>11 rows × 44 columns</p>\n",
       "</div>"
      ],
      "text/plain": [
       "                                                    url  year  \\\n",
       "1008  https://en.wikipedia.org/wiki/Black_Scorpion_(...  1995   \n",
       "1061    https://en.wikipedia.org/wiki/Flirt_(1995_film)  1995   \n",
       "1121  https://en.wikipedia.org/wiki/Let_It_Be_Me_(19...  1995   \n",
       "1564  https://en.wikipedia.org/wiki/A_Brooklyn_State...  1997   \n",
       "1633      https://en.wikipedia.org/wiki/Highball_(film)  1997   \n",
       "1775        https://en.wikipedia.org/wiki/Velocity_Trap  1997   \n",
       "2386  https://en.wikipedia.org/wiki/The_Visit_(2000_...  2000   \n",
       "2786   https://en.wikipedia.org/wiki/Stevie_(2002_film)  2002   \n",
       "3174  https://en.wikipedia.org/wiki/Return_to_Sender...  2004   \n",
       "3651  https://en.wikipedia.org/wiki/Live_Free_or_Die...  2006   \n",
       "4967  https://en.wikipedia.org/wiki/For_the_Love_of_...  2012   \n",
       "\n",
       "                                  imdb_link                title_wiki  \\\n",
       "1008  https://www.imdb.com/title/tt0112519/            Black Scorpion   \n",
       "1061  https://www.imdb.com/title/tt0113080/                     Flirt   \n",
       "1121  https://www.imdb.com/title/tt0113638/              Let It Be Me   \n",
       "1564  https://www.imdb.com/title/tt0118782/  A Brooklyn State of Mind   \n",
       "1633  https://www.imdb.com/title/tt0119291/                  Highball   \n",
       "1775  https://www.imdb.com/title/tt0120435/             Velocity Trap   \n",
       "2386  https://www.imdb.com/title/tt0199129/                 The Visit   \n",
       "2786  https://www.imdb.com/title/tt0334416/                    Stevie   \n",
       "3174  https://www.imdb.com/title/tt0396190/          Return to Sender   \n",
       "3651  https://www.imdb.com/title/tt0432318/          Live Free or Die   \n",
       "4967  https://www.imdb.com/title/tt1730294/     For the Love of Money   \n",
       "\n",
       "     Based on                                           Starring  \\\n",
       "1008      NaN     [Joan Severance, Bruce Abbott, Garrett Morris]   \n",
       "1061      NaN            [Bill Sage, Dwight Ewell, Miho Nikaido]   \n",
       "1121      NaN                                                NaN   \n",
       "1564      NaN                                                NaN   \n",
       "1633      NaN  [Justine Bateman, Peter Bogdanovich, Chris Eig...   \n",
       "1775      NaN       [Olivier Gruner, Alicia Coppola, Ken Olandt]   \n",
       "2386      NaN  [Hill Harper, Billy Dee Williams, Obba Babatun...   \n",
       "2786      NaN                                                NaN   \n",
       "3174      NaN         [Aidan Quinn, Connie Nielsen, Mark Holton]   \n",
       "3651      NaN  [Aaron Stanford, Paul Schneider, Ebon Moss-Bac...   \n",
       "4967      NaN  [Yehuda Levi, Edward Furlong, James Caan, Jeff...   \n",
       "\n",
       "                                  Cinematography Release date  \\\n",
       "1008                                Geoff George          NaN   \n",
       "1061                             Michael Spiller          NaN   \n",
       "1121                           Miroslav Ondrícek          NaN   \n",
       "1564                                  Ken Kelsch          NaN   \n",
       "1633                            Steven Bernstein          NaN   \n",
       "1775                          Philip D. Schwartz          NaN   \n",
       "2386                           John L. Demps Jr.          NaN   \n",
       "2786  [Dana Kupper, Gordon Quinn, Peter Gilbert]          NaN   \n",
       "3174                                         NaN          NaN   \n",
       "3651                                         NaN          NaN   \n",
       "4967                              Andrzej Sekuła          NaN   \n",
       "\n",
       "                                   Country        Language  ...  \\\n",
       "1008                         United States             NaN  ...   \n",
       "1061  [United States, Germany, Japan, [1]]             NaN  ...   \n",
       "1121                                   NaN             NaN  ...   \n",
       "1564                                   NaN             NaN  ...   \n",
       "1633                         United States         English  ...   \n",
       "1775                         United States             NaN  ...   \n",
       "2386                                   NaN         English  ...   \n",
       "2786                         United States         English  ...   \n",
       "3174                    [Denmark, USA, UK]             NaN  ...   \n",
       "3651                         United States         English  ...   \n",
       "4967                         United States  English/Hebrew  ...   \n",
       "\n",
       "     release_date_kaggle              revenue              runtime  \\\n",
       "1008          1995-08-22                 0.00                92.00   \n",
       "1061          1995-09-14                 0.00                85.00   \n",
       "1121          1995-11-17                 0.00                95.00   \n",
       "1564          1998-01-01                 0.00                89.00   \n",
       "1633          1997-01-01                 0.00               110.00   \n",
       "1775          1999-02-22                 0.00                86.00   \n",
       "2386          2000-01-01                 0.00               107.00   \n",
       "2786          2002-09-09            97,000.00               140.00   \n",
       "3174          2004-09-17                 0.00               109.00   \n",
       "3651          2006-03-11                 0.00                89.00   \n",
       "4967          2012-06-08                 0.00                93.00   \n",
       "\n",
       "                                       spoken_languages    status  \\\n",
       "1008           [{'iso_639_1': 'en', 'name': 'English'}]  Released   \n",
       "1061  [{'iso_639_1': 'en', 'name': 'English'}, {'iso...  Released   \n",
       "1121                                                 []  Released   \n",
       "1564           [{'iso_639_1': 'en', 'name': 'English'}]  Released   \n",
       "1633           [{'iso_639_1': 'en', 'name': 'English'}]  Released   \n",
       "1775           [{'iso_639_1': 'en', 'name': 'English'}]  Released   \n",
       "2386  [{'iso_639_1': 'en', 'name': 'English'}, {'iso...   Rumored   \n",
       "2786                                                 []       NaN   \n",
       "3174           [{'iso_639_1': 'en', 'name': 'English'}]  Released   \n",
       "3651           [{'iso_639_1': 'en', 'name': 'English'}]  Released   \n",
       "4967  [{'iso_639_1': 'en', 'name': 'English'}, {'iso...  Released   \n",
       "\n",
       "                                                tagline  \\\n",
       "1008                         Justice has a nasty sting.   \n",
       "1061                                                NaN   \n",
       "1121                                                NaN   \n",
       "1564                                                NaN   \n",
       "1633                                                NaN   \n",
       "1775                        Crime at the Speed of Light   \n",
       "2386                                                NaN   \n",
       "2786                                                NaN   \n",
       "3174  How can you save someone, who won't save herself?   \n",
       "3651                                                NaN   \n",
       "4967     For the love of money is the root of all evil.   \n",
       "\n",
       "                  title_kaggle  video         vote_average  \\\n",
       "1008            Black Scorpion  False                 6.10   \n",
       "1061                     Flirt  False                 7.50   \n",
       "1121              Let It Be Me  False                 8.00   \n",
       "1564  A Brooklyn State of Mind  False                 5.00   \n",
       "1633                  Highball  False                 4.50   \n",
       "1775             Velocity Trap  False                 4.70   \n",
       "2386                 The Visit  False                 0.00   \n",
       "2786                    Stevie  False                 6.70   \n",
       "3174          Return to Sender  False                 5.90   \n",
       "3651          Live Free or Die  False                 5.50   \n",
       "4967     For the Love of Money  False                 5.60   \n",
       "\n",
       "               vote_count  \n",
       "1008                 7.00  \n",
       "1061                 4.00  \n",
       "1121                 2.00  \n",
       "1564                 1.00  \n",
       "1633                 4.00  \n",
       "1775                 6.00  \n",
       "2386                 0.00  \n",
       "2786                13.00  \n",
       "3174                13.00  \n",
       "3651                 8.00  \n",
       "4967                 9.00  \n",
       "\n",
       "[11 rows x 44 columns]"
      ]
     },
     "execution_count": 147,
     "metadata": {},
     "output_type": "execute_result"
    }
   ],
   "source": [
    "# review release data for nulls \n",
    "movies_df[movies_df['release_date_wiki'].isnull()]"
   ]
  },
  {
   "cell_type": "markdown",
   "metadata": {},
   "source": [
    "> The Wikipedia data is missing release dates for 11 movies, \\ But the Kaggle data isn't missing any release dates. <br>\n",
    "> Resolution: Drop wiki data"
   ]
  },
  {
   "cell_type": "code",
   "execution_count": null,
   "metadata": {},
   "outputs": [],
   "source": []
  }
 ],
 "metadata": {
  "kernelspec": {
   "display_name": "PythonData",
   "language": "python",
   "name": "pythondata"
  },
  "language_info": {
   "codemirror_mode": {
    "name": "ipython",
    "version": 3
   },
   "file_extension": ".py",
   "mimetype": "text/x-python",
   "name": "python",
   "nbconvert_exporter": "python",
   "pygments_lexer": "ipython3",
   "version": "3.7.9"
  },
  "toc-autonumbering": false,
  "toc-showcode": false,
  "toc-showmarkdowntxt": true
 },
 "nbformat": 4,
 "nbformat_minor": 4
}
