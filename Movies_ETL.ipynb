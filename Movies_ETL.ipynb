{
 "cells": [
  {
   "cell_type": "code",
   "execution_count": 10,
   "metadata": {
    "execution": {
     "iopub.execute_input": "2020-11-13T23:26:23.135274Z",
     "iopub.status.busy": "2020-11-13T23:26:23.135274Z",
     "iopub.status.idle": "2020-11-13T23:26:23.138270Z",
     "shell.execute_reply": "2020-11-13T23:26:23.137280Z",
     "shell.execute_reply.started": "2020-11-13T23:26:23.135274Z"
    }
   },
   "outputs": [],
   "source": [
    "import json \n",
    "import pandas as pd \n",
    "import numpy as np "
   ]
  },
  {
   "cell_type": "code",
   "execution_count": 18,
   "metadata": {
    "execution": {
     "iopub.execute_input": "2020-11-13T23:32:41.837758Z",
     "iopub.status.busy": "2020-11-13T23:32:41.837758Z",
     "iopub.status.idle": "2020-11-13T23:32:41.842743Z",
     "shell.execute_reply": "2020-11-13T23:32:41.842743Z",
     "shell.execute_reply.started": "2020-11-13T23:32:41.837758Z"
    }
   },
   "outputs": [
    {
     "data": {
      "text/plain": [
       "'../Resource/wikipedia-movies.json'"
      ]
     },
     "execution_count": 18,
     "metadata": {},
     "output_type": "execute_result"
    }
   ],
   "source": [
    "file_dir = '../Resource/'\n",
    "f'{file_dir}wikipedia-movies.json'"
   ]
  },
  {
   "cell_type": "markdown",
   "metadata": {},
   "source": [
    "## EXTRACT"
   ]
  },
  {
   "cell_type": "markdown",
   "metadata": {
    "execution": {
     "iopub.execute_input": "2020-11-13T19:39:21.570029Z",
     "iopub.status.busy": "2020-11-13T19:39:21.568993Z",
     "iopub.status.idle": "2020-11-13T19:39:21.575486Z",
     "shell.execute_reply": "2020-11-13T19:39:21.574542Z",
     "shell.execute_reply.started": "2020-11-13T19:39:21.570029Z"
    }
   },
   "source": [
    "> load josn file -- into list of dicitonaries"
   ]
  },
  {
   "cell_type": "code",
   "execution_count": 19,
   "metadata": {
    "execution": {
     "iopub.execute_input": "2020-11-13T23:32:43.075137Z",
     "iopub.status.busy": "2020-11-13T23:32:43.075137Z",
     "iopub.status.idle": "2020-11-13T23:32:43.197877Z",
     "shell.execute_reply": "2020-11-13T23:32:43.197877Z",
     "shell.execute_reply.started": "2020-11-13T23:32:43.075137Z"
    }
   },
   "outputs": [],
   "source": [
    "with open(f'{file_dir}wikipedia-movies.json', mode='r') as file:\n",
    "    wiki_movies_raw = json.load(file)"
   ]
  },
  {
   "cell_type": "code",
   "execution_count": 20,
   "metadata": {
    "execution": {
     "iopub.execute_input": "2020-11-13T23:32:45.526613Z",
     "iopub.status.busy": "2020-11-13T23:32:45.526613Z",
     "iopub.status.idle": "2020-11-13T23:32:45.532123Z",
     "shell.execute_reply": "2020-11-13T23:32:45.531599Z",
     "shell.execute_reply.started": "2020-11-13T23:32:45.526613Z"
    }
   },
   "outputs": [
    {
     "data": {
      "text/plain": [
       "7311"
      ]
     },
     "execution_count": 20,
     "metadata": {},
     "output_type": "execute_result"
    }
   ],
   "source": [
    "len(wiki_movies_raw)"
   ]
  },
  {
   "cell_type": "code",
   "execution_count": 21,
   "metadata": {
    "execution": {
     "iopub.execute_input": "2020-11-13T23:32:46.494747Z",
     "iopub.status.busy": "2020-11-13T23:32:46.494747Z",
     "iopub.status.idle": "2020-11-13T23:32:46.501728Z",
     "shell.execute_reply": "2020-11-13T23:32:46.500741Z",
     "shell.execute_reply.started": "2020-11-13T23:32:46.494747Z"
    }
   },
   "outputs": [
    {
     "data": {
      "text/plain": [
       "dict_keys(['url', 'year', 'imdb_link', 'title', 'Directed by', 'Produced by', 'Screenplay by', 'Story by', 'Based on', 'Starring', 'Narrated by', 'Music by', 'Cinematography', 'Edited by', 'Productioncompany ', 'Distributed by', 'Release date', 'Running time', 'Country', 'Language', 'Budget', 'Box office'])"
      ]
     },
     "execution_count": 21,
     "metadata": {},
     "output_type": "execute_result"
    }
   ],
   "source": [
    "wiki_movies_raw[0].keys()"
   ]
  },
  {
   "cell_type": "code",
   "execution_count": 22,
   "metadata": {
    "execution": {
     "iopub.execute_input": "2020-11-13T23:32:47.461636Z",
     "iopub.status.busy": "2020-11-13T23:32:47.461636Z",
     "iopub.status.idle": "2020-11-13T23:32:47.467144Z",
     "shell.execute_reply": "2020-11-13T23:32:47.466623Z",
     "shell.execute_reply.started": "2020-11-13T23:32:47.461636Z"
    }
   },
   "outputs": [
    {
     "data": {
      "text/plain": [
       "dict_keys(['url', 'year', 'imdb_link', 'title', 'Directed by', 'Produced by', 'Written by', 'Starring', 'Distributed by', 'Release date', 'Running time', 'Language', 'Box office'])"
      ]
     },
     "execution_count": 22,
     "metadata": {},
     "output_type": "execute_result"
    }
   ],
   "source": [
    "wiki_movies_raw[3609].keys()"
   ]
  },
  {
   "cell_type": "code",
   "execution_count": 23,
   "metadata": {
    "execution": {
     "iopub.execute_input": "2020-11-13T23:32:48.159402Z",
     "iopub.status.busy": "2020-11-13T23:32:48.159402Z",
     "iopub.status.idle": "2020-11-13T23:32:48.165597Z",
     "shell.execute_reply": "2020-11-13T23:32:48.165597Z",
     "shell.execute_reply.started": "2020-11-13T23:32:48.159402Z"
    }
   },
   "outputs": [
    {
     "data": {
      "text/plain": [
       "{'url': 'https://en.wikipedia.org/wiki/Book_of_Love_(2004_film)',\n",
       " 'year': 2004,\n",
       " 'imdb_link': 'https://www.imdb.com/title/tt0376006/',\n",
       " 'title': 'Book of Love',\n",
       " 'Directed by': 'Alan Brown',\n",
       " 'Produced by': 'Robert Ahrens',\n",
       " 'Written by': 'Alan Brown',\n",
       " 'Starring': [\"Frances O'Connor\",\n",
       "  'Bryce Dallas Howard',\n",
       "  'Simon Baker',\n",
       "  'Gregory Smith'],\n",
       " 'Distributed by': 'Sundance',\n",
       " 'Release date': ['January 18, 2004', '(', '2004-01-18', ')'],\n",
       " 'Running time': '83 min',\n",
       " 'Language': 'English',\n",
       " 'Box office': '$1,382,259'}"
      ]
     },
     "execution_count": 23,
     "metadata": {},
     "output_type": "execute_result"
    }
   ],
   "source": [
    "wiki_movies_raw[3609]"
   ]
  },
  {
   "cell_type": "code",
   "execution_count": 24,
   "metadata": {
    "execution": {
     "iopub.execute_input": "2020-11-13T23:32:49.735699Z",
     "iopub.status.busy": "2020-11-13T23:32:49.735699Z",
     "iopub.status.idle": "2020-11-13T23:32:49.742201Z",
     "shell.execute_reply": "2020-11-13T23:32:49.741683Z",
     "shell.execute_reply.started": "2020-11-13T23:32:49.735699Z"
    }
   },
   "outputs": [
    {
     "data": {
      "text/plain": [
       "dict_keys(['url', 'year', 'imdb_link', 'title', 'Directed by', 'Produced by', 'Screenplay by', 'Based on', 'Starring', 'Music by', 'Cinematography', 'Edited by', 'Productioncompanies ', 'Distributed by', 'Release date', 'Running time', 'Country', 'Language', 'Budget', 'Box office'])"
      ]
     },
     "execution_count": 24,
     "metadata": {},
     "output_type": "execute_result"
    }
   ],
   "source": [
    "wiki_movies_raw[-5].keys()"
   ]
  },
  {
   "cell_type": "code",
   "execution_count": 25,
   "metadata": {
    "execution": {
     "iopub.execute_input": "2020-11-13T23:32:52.636628Z",
     "iopub.status.busy": "2020-11-13T23:32:52.636628Z",
     "iopub.status.idle": "2020-11-13T23:32:52.642729Z",
     "shell.execute_reply": "2020-11-13T23:32:52.642729Z",
     "shell.execute_reply.started": "2020-11-13T23:32:52.636628Z"
    }
   },
   "outputs": [
    {
     "data": {
      "text/plain": [
       "{'url': 'https://en.wikipedia.org/wiki/Holmes_%26_Watson',\n",
       " 'year': 2018,\n",
       " 'imdb_link': 'https://www.imdb.com/title/tt1255919/',\n",
       " 'title': 'Holmes & Watson',\n",
       " 'Directed by': 'Etan Cohen',\n",
       " 'Produced by': ['Will Ferrell',\n",
       "  'Adam McKay',\n",
       "  'Jimmy Miller',\n",
       "  'Clayton Townsend'],\n",
       " 'Screenplay by': 'Etan Cohen',\n",
       " 'Based on': ['Sherlock Holmes',\n",
       "  'and',\n",
       "  'Dr. Watson',\n",
       "  'by',\n",
       "  'Sir Arthur Conan Doyle'],\n",
       " 'Starring': ['Will Ferrell',\n",
       "  'John C. Reilly',\n",
       "  'Rebecca Hall',\n",
       "  'Rob Brydon',\n",
       "  'Steve Coogan',\n",
       "  'Ralph Fiennes'],\n",
       " 'Music by': 'Mark Mothersbaugh',\n",
       " 'Cinematography': 'Oliver Wood',\n",
       " 'Edited by': 'Dean Zimmerman',\n",
       " 'Productioncompanies ': ['Columbia Pictures',\n",
       "  'Gary Sanchez Productions',\n",
       "  'Mosaic Media Group',\n",
       "  'Mimran Schur Pictures'],\n",
       " 'Distributed by': 'Sony Pictures Releasing',\n",
       " 'Release date': ['December 25, 2018',\n",
       "  '(',\n",
       "  '2018-12-25',\n",
       "  ')',\n",
       "  '(United States)'],\n",
       " 'Running time': '90 minutes',\n",
       " 'Country': 'United States',\n",
       " 'Language': 'English',\n",
       " 'Budget': '$42 million',\n",
       " 'Box office': '$41.9 million'}"
      ]
     },
     "execution_count": 25,
     "metadata": {},
     "output_type": "execute_result"
    }
   ],
   "source": [
    "wiki_movies_raw[-5]"
   ]
  },
  {
   "cell_type": "code",
   "execution_count": 43,
   "metadata": {
    "execution": {
     "iopub.execute_input": "2020-11-14T03:06:52.040756Z",
     "iopub.status.busy": "2020-11-14T03:06:52.040756Z",
     "iopub.status.idle": "2020-11-14T03:06:52.671218Z",
     "shell.execute_reply": "2020-11-14T03:06:52.671218Z",
     "shell.execute_reply.started": "2020-11-14T03:06:52.040756Z"
    }
   },
   "outputs": [],
   "source": [
    "kaggle_metadata = pd.read_csv('C:/Users/Donne/OneDrive/UT_Data_Analytics/Analysis Projects/Mod8_Movies_ETL/Resource/movies_metadata.csv', low_memory=False)\n",
    "ratings = pd.read_csv('C:/Users/Donne/OneDrive/UT_Data_Analytics/Analysis Projects/Mod8_Movies_ETL/Resource/ratings_small.csv')"
   ]
  },
  {
   "cell_type": "code",
   "execution_count": 50,
   "metadata": {
    "execution": {
     "iopub.execute_input": "2020-11-14T03:10:37.151160Z",
     "iopub.status.busy": "2020-11-14T03:10:37.151160Z",
     "iopub.status.idle": "2020-11-14T03:10:37.171308Z",
     "shell.execute_reply": "2020-11-14T03:10:37.171308Z",
     "shell.execute_reply.started": "2020-11-14T03:10:37.151160Z"
    }
   },
   "outputs": [
    {
     "data": {
      "text/plain": [
       "(45466, 24)"
      ]
     },
     "execution_count": 50,
     "metadata": {},
     "output_type": "execute_result"
    },
    {
     "data": {
      "text/plain": [
       "(100004, 4)"
      ]
     },
     "execution_count": 50,
     "metadata": {},
     "output_type": "execute_result"
    }
   ],
   "source": [
    "kaggle_metadata.shape\n",
    "ratings.shape"
   ]
  },
  {
   "cell_type": "code",
   "execution_count": 45,
   "metadata": {
    "execution": {
     "iopub.execute_input": "2020-11-14T03:09:46.210613Z",
     "iopub.status.busy": "2020-11-14T03:09:46.210613Z",
     "iopub.status.idle": "2020-11-14T03:09:46.273383Z",
     "shell.execute_reply": "2020-11-14T03:09:46.273383Z",
     "shell.execute_reply.started": "2020-11-14T03:09:46.210613Z"
    }
   },
   "outputs": [
    {
     "data": {
      "text/html": [
       "<div>\n",
       "<style scoped>\n",
       "    .dataframe tbody tr th:only-of-type {\n",
       "        vertical-align: middle;\n",
       "    }\n",
       "\n",
       "    .dataframe tbody tr th {\n",
       "        vertical-align: top;\n",
       "    }\n",
       "\n",
       "    .dataframe thead th {\n",
       "        text-align: right;\n",
       "    }\n",
       "</style>\n",
       "<table border=\"1\" class=\"dataframe\">\n",
       "  <thead>\n",
       "    <tr style=\"text-align: right;\">\n",
       "      <th></th>\n",
       "      <th>adult</th>\n",
       "      <th>belongs_to_collection</th>\n",
       "      <th>budget</th>\n",
       "      <th>genres</th>\n",
       "      <th>homepage</th>\n",
       "      <th>id</th>\n",
       "      <th>imdb_id</th>\n",
       "      <th>original_language</th>\n",
       "      <th>original_title</th>\n",
       "      <th>overview</th>\n",
       "      <th>...</th>\n",
       "      <th>release_date</th>\n",
       "      <th>revenue</th>\n",
       "      <th>runtime</th>\n",
       "      <th>spoken_languages</th>\n",
       "      <th>status</th>\n",
       "      <th>tagline</th>\n",
       "      <th>title</th>\n",
       "      <th>video</th>\n",
       "      <th>vote_average</th>\n",
       "      <th>vote_count</th>\n",
       "    </tr>\n",
       "  </thead>\n",
       "  <tbody>\n",
       "    <tr>\n",
       "      <th>29124</th>\n",
       "      <td>False</td>\n",
       "      <td>NaN</td>\n",
       "      <td>0</td>\n",
       "      <td>[]</td>\n",
       "      <td>http://www.room514.com/</td>\n",
       "      <td>138767</td>\n",
       "      <td>tt2205501</td>\n",
       "      <td>en</td>\n",
       "      <td>Heder 514</td>\n",
       "      <td>A young, idealistic female Israeli military in...</td>\n",
       "      <td>...</td>\n",
       "      <td>2012-10-12</td>\n",
       "      <td>0.0</td>\n",
       "      <td>90.0</td>\n",
       "      <td>[{'iso_639_1': 'he', 'name': 'עִבְרִית'}]</td>\n",
       "      <td>Released</td>\n",
       "      <td>NaN</td>\n",
       "      <td>Room 514</td>\n",
       "      <td>False</td>\n",
       "      <td>7.0</td>\n",
       "      <td>1.0</td>\n",
       "    </tr>\n",
       "    <tr>\n",
       "      <th>2076</th>\n",
       "      <td>False</td>\n",
       "      <td>NaN</td>\n",
       "      <td>0</td>\n",
       "      <td>[{'id': 80, 'name': 'Crime'}, {'id': 18, 'name...</td>\n",
       "      <td>NaN</td>\n",
       "      <td>30159</td>\n",
       "      <td>tt0045897</td>\n",
       "      <td>en</td>\n",
       "      <td>I Confess</td>\n",
       "      <td>Unable, due to the seal of the confessional, t...</td>\n",
       "      <td>...</td>\n",
       "      <td>1953-02-28</td>\n",
       "      <td>0.0</td>\n",
       "      <td>95.0</td>\n",
       "      <td>[{'iso_639_1': 'en', 'name': 'English'}, {'iso...</td>\n",
       "      <td>Released</td>\n",
       "      <td>Crushed lips don’t talk.</td>\n",
       "      <td>I Confess</td>\n",
       "      <td>False</td>\n",
       "      <td>7.0</td>\n",
       "      <td>82.0</td>\n",
       "    </tr>\n",
       "    <tr>\n",
       "      <th>3052</th>\n",
       "      <td>False</td>\n",
       "      <td>NaN</td>\n",
       "      <td>0</td>\n",
       "      <td>[{'id': 53, 'name': 'Thriller'}, {'id': 18, 'n...</td>\n",
       "      <td>NaN</td>\n",
       "      <td>26578</td>\n",
       "      <td>tt0087231</td>\n",
       "      <td>en</td>\n",
       "      <td>The Falcon and the Snowman</td>\n",
       "      <td>The true story of a disillusioned military con...</td>\n",
       "      <td>...</td>\n",
       "      <td>1985-01-25</td>\n",
       "      <td>0.0</td>\n",
       "      <td>132.0</td>\n",
       "      <td>[{'iso_639_1': 'en', 'name': 'English'}]</td>\n",
       "      <td>Released</td>\n",
       "      <td>They came from the best of families. And they ...</td>\n",
       "      <td>The Falcon and the Snowman</td>\n",
       "      <td>False</td>\n",
       "      <td>6.5</td>\n",
       "      <td>43.0</td>\n",
       "    </tr>\n",
       "    <tr>\n",
       "      <th>2949</th>\n",
       "      <td>False</td>\n",
       "      <td>NaN</td>\n",
       "      <td>25485000</td>\n",
       "      <td>[{'id': 36, 'name': 'History'}, {'id': 28, 'na...</td>\n",
       "      <td>NaN</td>\n",
       "      <td>11165</td>\n",
       "      <td>tt0066473</td>\n",
       "      <td>en</td>\n",
       "      <td>Tora! Tora! Tora!</td>\n",
       "      <td>In the summer of 1941, the United States and J...</td>\n",
       "      <td>...</td>\n",
       "      <td>1970-01-26</td>\n",
       "      <td>29548291.0</td>\n",
       "      <td>144.0</td>\n",
       "      <td>[{'iso_639_1': 'en', 'name': 'English'}, {'iso...</td>\n",
       "      <td>Released</td>\n",
       "      <td>The incredible attack on Pearl Harbor.</td>\n",
       "      <td>Tora! Tora! Tora!</td>\n",
       "      <td>False</td>\n",
       "      <td>6.9</td>\n",
       "      <td>150.0</td>\n",
       "    </tr>\n",
       "    <tr>\n",
       "      <th>27225</th>\n",
       "      <td>False</td>\n",
       "      <td>NaN</td>\n",
       "      <td>0</td>\n",
       "      <td>[{'id': 35, 'name': 'Comedy'}]</td>\n",
       "      <td>NaN</td>\n",
       "      <td>95137</td>\n",
       "      <td>tt0033596</td>\n",
       "      <td>en</td>\n",
       "      <td>The Feminine Touch</td>\n",
       "      <td>A professor (Don Ameche) and his wife (Rosalin...</td>\n",
       "      <td>...</td>\n",
       "      <td>1941-10-01</td>\n",
       "      <td>0.0</td>\n",
       "      <td>97.0</td>\n",
       "      <td>[{'iso_639_1': 'en', 'name': 'English'}]</td>\n",
       "      <td>Released</td>\n",
       "      <td>If your sweetheart isn't jealous it's not l-o-...</td>\n",
       "      <td>The Feminine Touch</td>\n",
       "      <td>False</td>\n",
       "      <td>5.0</td>\n",
       "      <td>2.0</td>\n",
       "    </tr>\n",
       "  </tbody>\n",
       "</table>\n",
       "<p>5 rows × 24 columns</p>\n",
       "</div>"
      ],
      "text/plain": [
       "       adult belongs_to_collection    budget  \\\n",
       "29124  False                   NaN         0   \n",
       "2076   False                   NaN         0   \n",
       "3052   False                   NaN         0   \n",
       "2949   False                   NaN  25485000   \n",
       "27225  False                   NaN         0   \n",
       "\n",
       "                                                  genres  \\\n",
       "29124                                                 []   \n",
       "2076   [{'id': 80, 'name': 'Crime'}, {'id': 18, 'name...   \n",
       "3052   [{'id': 53, 'name': 'Thriller'}, {'id': 18, 'n...   \n",
       "2949   [{'id': 36, 'name': 'History'}, {'id': 28, 'na...   \n",
       "27225                     [{'id': 35, 'name': 'Comedy'}]   \n",
       "\n",
       "                      homepage      id    imdb_id original_language  \\\n",
       "29124  http://www.room514.com/  138767  tt2205501                en   \n",
       "2076                       NaN   30159  tt0045897                en   \n",
       "3052                       NaN   26578  tt0087231                en   \n",
       "2949                       NaN   11165  tt0066473                en   \n",
       "27225                      NaN   95137  tt0033596                en   \n",
       "\n",
       "                   original_title  \\\n",
       "29124                   Heder 514   \n",
       "2076                    I Confess   \n",
       "3052   The Falcon and the Snowman   \n",
       "2949            Tora! Tora! Tora!   \n",
       "27225          The Feminine Touch   \n",
       "\n",
       "                                                overview  ... release_date  \\\n",
       "29124  A young, idealistic female Israeli military in...  ...   2012-10-12   \n",
       "2076   Unable, due to the seal of the confessional, t...  ...   1953-02-28   \n",
       "3052   The true story of a disillusioned military con...  ...   1985-01-25   \n",
       "2949   In the summer of 1941, the United States and J...  ...   1970-01-26   \n",
       "27225  A professor (Don Ameche) and his wife (Rosalin...  ...   1941-10-01   \n",
       "\n",
       "          revenue runtime                                   spoken_languages  \\\n",
       "29124         0.0    90.0          [{'iso_639_1': 'he', 'name': 'עִבְרִית'}]   \n",
       "2076          0.0    95.0  [{'iso_639_1': 'en', 'name': 'English'}, {'iso...   \n",
       "3052          0.0   132.0           [{'iso_639_1': 'en', 'name': 'English'}]   \n",
       "2949   29548291.0   144.0  [{'iso_639_1': 'en', 'name': 'English'}, {'iso...   \n",
       "27225         0.0    97.0           [{'iso_639_1': 'en', 'name': 'English'}]   \n",
       "\n",
       "         status                                            tagline  \\\n",
       "29124  Released                                                NaN   \n",
       "2076   Released                           Crushed lips don’t talk.   \n",
       "3052   Released  They came from the best of families. And they ...   \n",
       "2949   Released             The incredible attack on Pearl Harbor.   \n",
       "27225  Released  If your sweetheart isn't jealous it's not l-o-...   \n",
       "\n",
       "                            title  video vote_average vote_count  \n",
       "29124                    Room 514  False          7.0        1.0  \n",
       "2076                    I Confess  False          7.0       82.0  \n",
       "3052   The Falcon and the Snowman  False          6.5       43.0  \n",
       "2949            Tora! Tora! Tora!  False          6.9      150.0  \n",
       "27225          The Feminine Touch  False          5.0        2.0  \n",
       "\n",
       "[5 rows x 24 columns]"
      ]
     },
     "execution_count": 45,
     "metadata": {},
     "output_type": "execute_result"
    }
   ],
   "source": [
    "kaggle_metadata.sample(5)"
   ]
  },
  {
   "cell_type": "code",
   "execution_count": 47,
   "metadata": {
    "execution": {
     "iopub.execute_input": "2020-11-14T03:10:02.645514Z",
     "iopub.status.busy": "2020-11-14T03:10:02.645514Z",
     "iopub.status.idle": "2020-11-14T03:10:02.657683Z",
     "shell.execute_reply": "2020-11-14T03:10:02.657683Z",
     "shell.execute_reply.started": "2020-11-14T03:10:02.645514Z"
    }
   },
   "outputs": [
    {
     "data": {
      "text/html": [
       "<div>\n",
       "<style scoped>\n",
       "    .dataframe tbody tr th:only-of-type {\n",
       "        vertical-align: middle;\n",
       "    }\n",
       "\n",
       "    .dataframe tbody tr th {\n",
       "        vertical-align: top;\n",
       "    }\n",
       "\n",
       "    .dataframe thead th {\n",
       "        text-align: right;\n",
       "    }\n",
       "</style>\n",
       "<table border=\"1\" class=\"dataframe\">\n",
       "  <thead>\n",
       "    <tr style=\"text-align: right;\">\n",
       "      <th></th>\n",
       "      <th>userId</th>\n",
       "      <th>movieId</th>\n",
       "      <th>rating</th>\n",
       "      <th>timestamp</th>\n",
       "    </tr>\n",
       "  </thead>\n",
       "  <tbody>\n",
       "    <tr>\n",
       "      <th>11223</th>\n",
       "      <td>73</td>\n",
       "      <td>27706</td>\n",
       "      <td>3.0</td>\n",
       "      <td>1255596884</td>\n",
       "    </tr>\n",
       "    <tr>\n",
       "      <th>88414</th>\n",
       "      <td>587</td>\n",
       "      <td>3168</td>\n",
       "      <td>4.0</td>\n",
       "      <td>1123001592</td>\n",
       "    </tr>\n",
       "    <tr>\n",
       "      <th>7371</th>\n",
       "      <td>47</td>\n",
       "      <td>588</td>\n",
       "      <td>4.0</td>\n",
       "      <td>832228859</td>\n",
       "    </tr>\n",
       "    <tr>\n",
       "      <th>65538</th>\n",
       "      <td>466</td>\n",
       "      <td>2395</td>\n",
       "      <td>4.0</td>\n",
       "      <td>944979809</td>\n",
       "    </tr>\n",
       "    <tr>\n",
       "      <th>8673</th>\n",
       "      <td>56</td>\n",
       "      <td>89759</td>\n",
       "      <td>4.0</td>\n",
       "      <td>1467003383</td>\n",
       "    </tr>\n",
       "  </tbody>\n",
       "</table>\n",
       "</div>"
      ],
      "text/plain": [
       "       userId  movieId  rating   timestamp\n",
       "11223      73    27706     3.0  1255596884\n",
       "88414     587     3168     4.0  1123001592\n",
       "7371       47      588     4.0   832228859\n",
       "65538     466     2395     4.0   944979809\n",
       "8673       56    89759     4.0  1467003383"
      ]
     },
     "execution_count": 47,
     "metadata": {},
     "output_type": "execute_result"
    }
   ],
   "source": [
    "ratings.sample(5)"
   ]
  },
  {
   "cell_type": "markdown",
   "metadata": {},
   "source": [
    "> Transform "
   ]
  },
  {
   "cell_type": "code",
   "execution_count": null,
   "metadata": {},
   "outputs": [],
   "source": []
  }
 ],
 "metadata": {
  "kernelspec": {
   "display_name": "PythonData",
   "language": "python",
   "name": "pythondata"
  },
  "language_info": {
   "codemirror_mode": {
    "name": "ipython",
    "version": 3
   },
   "file_extension": ".py",
   "mimetype": "text/x-python",
   "name": "python",
   "nbconvert_exporter": "python",
   "pygments_lexer": "ipython3",
   "version": "3.7.9"
  }
 },
 "nbformat": 4,
 "nbformat_minor": 4
}
