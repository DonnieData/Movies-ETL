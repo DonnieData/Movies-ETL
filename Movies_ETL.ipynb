{
 "cells": [
  {
   "cell_type": "code",
   "execution_count": 10,
   "metadata": {
    "execution": {
     "iopub.execute_input": "2020-11-13T23:26:23.135274Z",
     "iopub.status.busy": "2020-11-13T23:26:23.135274Z",
     "iopub.status.idle": "2020-11-13T23:26:23.138270Z",
     "shell.execute_reply": "2020-11-13T23:26:23.137280Z",
     "shell.execute_reply.started": "2020-11-13T23:26:23.135274Z"
    }
   },
   "outputs": [],
   "source": [
    "import json \n",
    "import pandas as pd \n",
    "import numpy as np "
   ]
  },
  {
   "cell_type": "code",
   "execution_count": 18,
   "metadata": {
    "execution": {
     "iopub.execute_input": "2020-11-13T23:32:41.837758Z",
     "iopub.status.busy": "2020-11-13T23:32:41.837758Z",
     "iopub.status.idle": "2020-11-13T23:32:41.842743Z",
     "shell.execute_reply": "2020-11-13T23:32:41.842743Z",
     "shell.execute_reply.started": "2020-11-13T23:32:41.837758Z"
    }
   },
   "outputs": [
    {
     "data": {
      "text/plain": [
       "'../Resource/wikipedia-movies.json'"
      ]
     },
     "execution_count": 18,
     "metadata": {},
     "output_type": "execute_result"
    }
   ],
   "source": [
    "file_dir = '../Resource/'\n",
    "f'{file_dir}wikipedia-movies.json'"
   ]
  },
  {
   "cell_type": "markdown",
   "metadata": {},
   "source": [
    "## EXTRACT"
   ]
  },
  {
   "cell_type": "markdown",
   "metadata": {
    "execution": {
     "iopub.execute_input": "2020-11-13T19:39:21.570029Z",
     "iopub.status.busy": "2020-11-13T19:39:21.568993Z",
     "iopub.status.idle": "2020-11-13T19:39:21.575486Z",
     "shell.execute_reply": "2020-11-13T19:39:21.574542Z",
     "shell.execute_reply.started": "2020-11-13T19:39:21.570029Z"
    }
   },
   "source": [
    "> load josn file -- into list of dicitonaries"
   ]
  },
  {
   "cell_type": "code",
   "execution_count": 19,
   "metadata": {
    "execution": {
     "iopub.execute_input": "2020-11-13T23:32:43.075137Z",
     "iopub.status.busy": "2020-11-13T23:32:43.075137Z",
     "iopub.status.idle": "2020-11-13T23:32:43.197877Z",
     "shell.execute_reply": "2020-11-13T23:32:43.197877Z",
     "shell.execute_reply.started": "2020-11-13T23:32:43.075137Z"
    }
   },
   "outputs": [],
   "source": [
    "with open(f'{file_dir}wikipedia-movies.json', mode='r') as file:\n",
    "    wiki_movies_raw = json.load(file)"
   ]
  },
  {
   "cell_type": "code",
   "execution_count": 20,
   "metadata": {
    "execution": {
     "iopub.execute_input": "2020-11-13T23:32:45.526613Z",
     "iopub.status.busy": "2020-11-13T23:32:45.526613Z",
     "iopub.status.idle": "2020-11-13T23:32:45.532123Z",
     "shell.execute_reply": "2020-11-13T23:32:45.531599Z",
     "shell.execute_reply.started": "2020-11-13T23:32:45.526613Z"
    }
   },
   "outputs": [
    {
     "data": {
      "text/plain": [
       "7311"
      ]
     },
     "execution_count": 20,
     "metadata": {},
     "output_type": "execute_result"
    }
   ],
   "source": [
    "len(wiki_movies_raw)"
   ]
  },
  {
   "cell_type": "code",
   "execution_count": 21,
   "metadata": {
    "execution": {
     "iopub.execute_input": "2020-11-13T23:32:46.494747Z",
     "iopub.status.busy": "2020-11-13T23:32:46.494747Z",
     "iopub.status.idle": "2020-11-13T23:32:46.501728Z",
     "shell.execute_reply": "2020-11-13T23:32:46.500741Z",
     "shell.execute_reply.started": "2020-11-13T23:32:46.494747Z"
    }
   },
   "outputs": [
    {
     "data": {
      "text/plain": [
       "dict_keys(['url', 'year', 'imdb_link', 'title', 'Directed by', 'Produced by', 'Screenplay by', 'Story by', 'Based on', 'Starring', 'Narrated by', 'Music by', 'Cinematography', 'Edited by', 'Productioncompany ', 'Distributed by', 'Release date', 'Running time', 'Country', 'Language', 'Budget', 'Box office'])"
      ]
     },
     "execution_count": 21,
     "metadata": {},
     "output_type": "execute_result"
    }
   ],
   "source": [
    "wiki_movies_raw[0].keys()"
   ]
  },
  {
   "cell_type": "code",
   "execution_count": 22,
   "metadata": {
    "execution": {
     "iopub.execute_input": "2020-11-13T23:32:47.461636Z",
     "iopub.status.busy": "2020-11-13T23:32:47.461636Z",
     "iopub.status.idle": "2020-11-13T23:32:47.467144Z",
     "shell.execute_reply": "2020-11-13T23:32:47.466623Z",
     "shell.execute_reply.started": "2020-11-13T23:32:47.461636Z"
    }
   },
   "outputs": [
    {
     "data": {
      "text/plain": [
       "dict_keys(['url', 'year', 'imdb_link', 'title', 'Directed by', 'Produced by', 'Written by', 'Starring', 'Distributed by', 'Release date', 'Running time', 'Language', 'Box office'])"
      ]
     },
     "execution_count": 22,
     "metadata": {},
     "output_type": "execute_result"
    }
   ],
   "source": [
    "wiki_movies_raw[3609].keys()"
   ]
  },
  {
   "cell_type": "code",
   "execution_count": 23,
   "metadata": {
    "execution": {
     "iopub.execute_input": "2020-11-13T23:32:48.159402Z",
     "iopub.status.busy": "2020-11-13T23:32:48.159402Z",
     "iopub.status.idle": "2020-11-13T23:32:48.165597Z",
     "shell.execute_reply": "2020-11-13T23:32:48.165597Z",
     "shell.execute_reply.started": "2020-11-13T23:32:48.159402Z"
    }
   },
   "outputs": [
    {
     "data": {
      "text/plain": [
       "{'url': 'https://en.wikipedia.org/wiki/Book_of_Love_(2004_film)',\n",
       " 'year': 2004,\n",
       " 'imdb_link': 'https://www.imdb.com/title/tt0376006/',\n",
       " 'title': 'Book of Love',\n",
       " 'Directed by': 'Alan Brown',\n",
       " 'Produced by': 'Robert Ahrens',\n",
       " 'Written by': 'Alan Brown',\n",
       " 'Starring': [\"Frances O'Connor\",\n",
       "  'Bryce Dallas Howard',\n",
       "  'Simon Baker',\n",
       "  'Gregory Smith'],\n",
       " 'Distributed by': 'Sundance',\n",
       " 'Release date': ['January 18, 2004', '(', '2004-01-18', ')'],\n",
       " 'Running time': '83 min',\n",
       " 'Language': 'English',\n",
       " 'Box office': '$1,382,259'}"
      ]
     },
     "execution_count": 23,
     "metadata": {},
     "output_type": "execute_result"
    }
   ],
   "source": [
    "wiki_movies_raw[3609]"
   ]
  },
  {
   "cell_type": "code",
   "execution_count": 24,
   "metadata": {
    "execution": {
     "iopub.execute_input": "2020-11-13T23:32:49.735699Z",
     "iopub.status.busy": "2020-11-13T23:32:49.735699Z",
     "iopub.status.idle": "2020-11-13T23:32:49.742201Z",
     "shell.execute_reply": "2020-11-13T23:32:49.741683Z",
     "shell.execute_reply.started": "2020-11-13T23:32:49.735699Z"
    }
   },
   "outputs": [
    {
     "data": {
      "text/plain": [
       "dict_keys(['url', 'year', 'imdb_link', 'title', 'Directed by', 'Produced by', 'Screenplay by', 'Based on', 'Starring', 'Music by', 'Cinematography', 'Edited by', 'Productioncompanies ', 'Distributed by', 'Release date', 'Running time', 'Country', 'Language', 'Budget', 'Box office'])"
      ]
     },
     "execution_count": 24,
     "metadata": {},
     "output_type": "execute_result"
    }
   ],
   "source": [
    "wiki_movies_raw[-5].keys()"
   ]
  },
  {
   "cell_type": "code",
   "execution_count": 25,
   "metadata": {
    "execution": {
     "iopub.execute_input": "2020-11-13T23:32:52.636628Z",
     "iopub.status.busy": "2020-11-13T23:32:52.636628Z",
     "iopub.status.idle": "2020-11-13T23:32:52.642729Z",
     "shell.execute_reply": "2020-11-13T23:32:52.642729Z",
     "shell.execute_reply.started": "2020-11-13T23:32:52.636628Z"
    }
   },
   "outputs": [
    {
     "data": {
      "text/plain": [
       "{'url': 'https://en.wikipedia.org/wiki/Holmes_%26_Watson',\n",
       " 'year': 2018,\n",
       " 'imdb_link': 'https://www.imdb.com/title/tt1255919/',\n",
       " 'title': 'Holmes & Watson',\n",
       " 'Directed by': 'Etan Cohen',\n",
       " 'Produced by': ['Will Ferrell',\n",
       "  'Adam McKay',\n",
       "  'Jimmy Miller',\n",
       "  'Clayton Townsend'],\n",
       " 'Screenplay by': 'Etan Cohen',\n",
       " 'Based on': ['Sherlock Holmes',\n",
       "  'and',\n",
       "  'Dr. Watson',\n",
       "  'by',\n",
       "  'Sir Arthur Conan Doyle'],\n",
       " 'Starring': ['Will Ferrell',\n",
       "  'John C. Reilly',\n",
       "  'Rebecca Hall',\n",
       "  'Rob Brydon',\n",
       "  'Steve Coogan',\n",
       "  'Ralph Fiennes'],\n",
       " 'Music by': 'Mark Mothersbaugh',\n",
       " 'Cinematography': 'Oliver Wood',\n",
       " 'Edited by': 'Dean Zimmerman',\n",
       " 'Productioncompanies ': ['Columbia Pictures',\n",
       "  'Gary Sanchez Productions',\n",
       "  'Mosaic Media Group',\n",
       "  'Mimran Schur Pictures'],\n",
       " 'Distributed by': 'Sony Pictures Releasing',\n",
       " 'Release date': ['December 25, 2018',\n",
       "  '(',\n",
       "  '2018-12-25',\n",
       "  ')',\n",
       "  '(United States)'],\n",
       " 'Running time': '90 minutes',\n",
       " 'Country': 'United States',\n",
       " 'Language': 'English',\n",
       " 'Budget': '$42 million',\n",
       " 'Box office': '$41.9 million'}"
      ]
     },
     "execution_count": 25,
     "metadata": {},
     "output_type": "execute_result"
    }
   ],
   "source": [
    "wiki_movies_raw[-5]"
   ]
  },
  {
   "cell_type": "code",
   "execution_count": 43,
   "metadata": {
    "execution": {
     "iopub.execute_input": "2020-11-14T03:06:52.040756Z",
     "iopub.status.busy": "2020-11-14T03:06:52.040756Z",
     "iopub.status.idle": "2020-11-14T03:06:52.671218Z",
     "shell.execute_reply": "2020-11-14T03:06:52.671218Z",
     "shell.execute_reply.started": "2020-11-14T03:06:52.040756Z"
    }
   },
   "outputs": [],
   "source": [
    "kaggle_metadata = pd.read_csv('C:/Users/Donne/OneDrive/UT_Data_Analytics/Analysis Projects/Mod8_Movies_ETL/Resource/movies_metadata.csv', low_memory=False)\n",
    "ratings = pd.read_csv('C:/Users/Donne/OneDrive/UT_Data_Analytics/Analysis Projects/Mod8_Movies_ETL/Resource/ratings_small.csv')"
   ]
  },
  {
   "cell_type": "code",
   "execution_count": 50,
   "metadata": {
    "execution": {
     "iopub.execute_input": "2020-11-14T03:10:37.151160Z",
     "iopub.status.busy": "2020-11-14T03:10:37.151160Z",
     "iopub.status.idle": "2020-11-14T03:10:37.171308Z",
     "shell.execute_reply": "2020-11-14T03:10:37.171308Z",
     "shell.execute_reply.started": "2020-11-14T03:10:37.151160Z"
    }
   },
   "outputs": [
    {
     "data": {
      "text/plain": [
       "(45466, 24)"
      ]
     },
     "execution_count": 50,
     "metadata": {},
     "output_type": "execute_result"
    },
    {
     "data": {
      "text/plain": [
       "(100004, 4)"
      ]
     },
     "execution_count": 50,
     "metadata": {},
     "output_type": "execute_result"
    }
   ],
   "source": [
    "kaggle_metadata.shape\n",
    "ratings.shape"
   ]
  },
  {
   "cell_type": "code",
   "execution_count": 66,
   "metadata": {
    "execution": {
     "iopub.execute_input": "2020-11-14T03:19:51.829662Z",
     "iopub.status.busy": "2020-11-14T03:19:51.829662Z",
     "iopub.status.idle": "2020-11-14T03:19:51.835700Z",
     "shell.execute_reply": "2020-11-14T03:19:51.835700Z",
     "shell.execute_reply.started": "2020-11-14T03:19:51.829662Z"
    }
   },
   "outputs": [
    {
     "data": {
      "text/plain": [
       "\"[{'iso_639_1': 'en', 'name': 'English'}, {'iso_639_1': 'fr', 'name': 'Français'}, {'iso_639_1': 'de', 'name': 'Deutsch'}, {'iso_639_1': 'it', 'name': 'Italiano'}]\""
      ]
     },
     "execution_count": 66,
     "metadata": {},
     "output_type": "execute_result"
    }
   ],
   "source": [
    "kaggle_metadata.loc[2076]['spoken_languages']"
   ]
  },
  {
   "cell_type": "code",
   "execution_count": 148,
   "metadata": {
    "execution": {
     "iopub.execute_input": "2020-11-14T19:40:02.133409Z",
     "iopub.status.busy": "2020-11-14T19:40:02.132411Z",
     "iopub.status.idle": "2020-11-14T19:40:02.202224Z",
     "shell.execute_reply": "2020-11-14T19:40:02.201260Z",
     "shell.execute_reply.started": "2020-11-14T19:40:02.133409Z"
    }
   },
   "outputs": [
    {
     "data": {
      "text/html": [
       "<div>\n",
       "<style scoped>\n",
       "    .dataframe tbody tr th:only-of-type {\n",
       "        vertical-align: middle;\n",
       "    }\n",
       "\n",
       "    .dataframe tbody tr th {\n",
       "        vertical-align: top;\n",
       "    }\n",
       "\n",
       "    .dataframe thead th {\n",
       "        text-align: right;\n",
       "    }\n",
       "</style>\n",
       "<table border=\"1\" class=\"dataframe\">\n",
       "  <thead>\n",
       "    <tr style=\"text-align: right;\">\n",
       "      <th></th>\n",
       "      <th>adult</th>\n",
       "      <th>belongs_to_collection</th>\n",
       "      <th>budget</th>\n",
       "      <th>genres</th>\n",
       "      <th>homepage</th>\n",
       "      <th>id</th>\n",
       "      <th>imdb_id</th>\n",
       "      <th>original_language</th>\n",
       "      <th>original_title</th>\n",
       "      <th>overview</th>\n",
       "      <th>...</th>\n",
       "      <th>release_date</th>\n",
       "      <th>revenue</th>\n",
       "      <th>runtime</th>\n",
       "      <th>spoken_languages</th>\n",
       "      <th>status</th>\n",
       "      <th>tagline</th>\n",
       "      <th>title</th>\n",
       "      <th>video</th>\n",
       "      <th>vote_average</th>\n",
       "      <th>vote_count</th>\n",
       "    </tr>\n",
       "  </thead>\n",
       "  <tbody>\n",
       "    <tr>\n",
       "      <th>25418</th>\n",
       "      <td>False</td>\n",
       "      <td>NaN</td>\n",
       "      <td>0</td>\n",
       "      <td>[{'id': 18, 'name': 'Drama'}]</td>\n",
       "      <td>NaN</td>\n",
       "      <td>304336</td>\n",
       "      <td>tt2392385</td>\n",
       "      <td>en</td>\n",
       "      <td>Lap Dance</td>\n",
       "      <td>An aspiring actress makes a pact with her fian...</td>\n",
       "      <td>...</td>\n",
       "      <td>2014-12-05</td>\n",
       "      <td>0.0</td>\n",
       "      <td>100.0</td>\n",
       "      <td>[{'iso_639_1': 'en', 'name': 'English'}]</td>\n",
       "      <td>Released</td>\n",
       "      <td>Fast money comes at a dangerous price</td>\n",
       "      <td>Lap Dance</td>\n",
       "      <td>False</td>\n",
       "      <td>4.4</td>\n",
       "      <td>29.0</td>\n",
       "    </tr>\n",
       "    <tr>\n",
       "      <th>42566</th>\n",
       "      <td>False</td>\n",
       "      <td>NaN</td>\n",
       "      <td>0</td>\n",
       "      <td>[{'id': 53, 'name': 'Thriller'}, {'id': 18, 'n...</td>\n",
       "      <td>http://eyeworksfilm.be/en/producties.asp?id=62</td>\n",
       "      <td>290930</td>\n",
       "      <td>tt3089922</td>\n",
       "      <td>nl</td>\n",
       "      <td>Image</td>\n",
       "      <td>Eva Hendrickx is an ambitious young journalist...</td>\n",
       "      <td>...</td>\n",
       "      <td>2014-11-05</td>\n",
       "      <td>0.0</td>\n",
       "      <td>100.0</td>\n",
       "      <td>[{'iso_639_1': 'nl', 'name': 'Nederlands'}, {'...</td>\n",
       "      <td>Released</td>\n",
       "      <td>NaN</td>\n",
       "      <td>Image</td>\n",
       "      <td>False</td>\n",
       "      <td>4.3</td>\n",
       "      <td>6.0</td>\n",
       "    </tr>\n",
       "    <tr>\n",
       "      <th>8388</th>\n",
       "      <td>False</td>\n",
       "      <td>NaN</td>\n",
       "      <td>0</td>\n",
       "      <td>[{'id': 10749, 'name': 'Romance'}, {'id': 18, ...</td>\n",
       "      <td>NaN</td>\n",
       "      <td>46069</td>\n",
       "      <td>tt0032156</td>\n",
       "      <td>ja</td>\n",
       "      <td>残菊物語</td>\n",
       "      <td>In Tokyo in 1888, Kikunosuke Onoue, the adopti...</td>\n",
       "      <td>...</td>\n",
       "      <td>1939-10-13</td>\n",
       "      <td>0.0</td>\n",
       "      <td>142.0</td>\n",
       "      <td>[{'iso_639_1': 'ja', 'name': '日本語'}]</td>\n",
       "      <td>Released</td>\n",
       "      <td>NaN</td>\n",
       "      <td>The Story of the Last Chrysanthemum</td>\n",
       "      <td>False</td>\n",
       "      <td>7.7</td>\n",
       "      <td>19.0</td>\n",
       "    </tr>\n",
       "  </tbody>\n",
       "</table>\n",
       "<p>3 rows × 24 columns</p>\n",
       "</div>"
      ],
      "text/plain": [
       "       adult belongs_to_collection budget  \\\n",
       "25418  False                   NaN      0   \n",
       "42566  False                   NaN      0   \n",
       "8388   False                   NaN      0   \n",
       "\n",
       "                                                  genres  \\\n",
       "25418                      [{'id': 18, 'name': 'Drama'}]   \n",
       "42566  [{'id': 53, 'name': 'Thriller'}, {'id': 18, 'n...   \n",
       "8388   [{'id': 10749, 'name': 'Romance'}, {'id': 18, ...   \n",
       "\n",
       "                                             homepage      id    imdb_id  \\\n",
       "25418                                             NaN  304336  tt2392385   \n",
       "42566  http://eyeworksfilm.be/en/producties.asp?id=62  290930  tt3089922   \n",
       "8388                                              NaN   46069  tt0032156   \n",
       "\n",
       "      original_language original_title  \\\n",
       "25418                en      Lap Dance   \n",
       "42566                nl          Image   \n",
       "8388                 ja           残菊物語   \n",
       "\n",
       "                                                overview  ... release_date  \\\n",
       "25418  An aspiring actress makes a pact with her fian...  ...   2014-12-05   \n",
       "42566  Eva Hendrickx is an ambitious young journalist...  ...   2014-11-05   \n",
       "8388   In Tokyo in 1888, Kikunosuke Onoue, the adopti...  ...   1939-10-13   \n",
       "\n",
       "      revenue runtime                                   spoken_languages  \\\n",
       "25418     0.0   100.0           [{'iso_639_1': 'en', 'name': 'English'}]   \n",
       "42566     0.0   100.0  [{'iso_639_1': 'nl', 'name': 'Nederlands'}, {'...   \n",
       "8388      0.0   142.0               [{'iso_639_1': 'ja', 'name': '日本語'}]   \n",
       "\n",
       "         status                                tagline  \\\n",
       "25418  Released  Fast money comes at a dangerous price   \n",
       "42566  Released                                    NaN   \n",
       "8388   Released                                    NaN   \n",
       "\n",
       "                                     title  video vote_average vote_count  \n",
       "25418                            Lap Dance  False          4.4       29.0  \n",
       "42566                                Image  False          4.3        6.0  \n",
       "8388   The Story of the Last Chrysanthemum  False          7.7       19.0  \n",
       "\n",
       "[3 rows x 24 columns]"
      ]
     },
     "execution_count": 148,
     "metadata": {},
     "output_type": "execute_result"
    }
   ],
   "source": [
    "kaggle_metadata.sample(3)"
   ]
  },
  {
   "cell_type": "code",
   "execution_count": 47,
   "metadata": {
    "execution": {
     "iopub.execute_input": "2020-11-14T03:10:02.645514Z",
     "iopub.status.busy": "2020-11-14T03:10:02.645514Z",
     "iopub.status.idle": "2020-11-14T03:10:02.657683Z",
     "shell.execute_reply": "2020-11-14T03:10:02.657683Z",
     "shell.execute_reply.started": "2020-11-14T03:10:02.645514Z"
    }
   },
   "outputs": [
    {
     "data": {
      "text/html": [
       "<div>\n",
       "<style scoped>\n",
       "    .dataframe tbody tr th:only-of-type {\n",
       "        vertical-align: middle;\n",
       "    }\n",
       "\n",
       "    .dataframe tbody tr th {\n",
       "        vertical-align: top;\n",
       "    }\n",
       "\n",
       "    .dataframe thead th {\n",
       "        text-align: right;\n",
       "    }\n",
       "</style>\n",
       "<table border=\"1\" class=\"dataframe\">\n",
       "  <thead>\n",
       "    <tr style=\"text-align: right;\">\n",
       "      <th></th>\n",
       "      <th>userId</th>\n",
       "      <th>movieId</th>\n",
       "      <th>rating</th>\n",
       "      <th>timestamp</th>\n",
       "    </tr>\n",
       "  </thead>\n",
       "  <tbody>\n",
       "    <tr>\n",
       "      <th>11223</th>\n",
       "      <td>73</td>\n",
       "      <td>27706</td>\n",
       "      <td>3.0</td>\n",
       "      <td>1255596884</td>\n",
       "    </tr>\n",
       "    <tr>\n",
       "      <th>88414</th>\n",
       "      <td>587</td>\n",
       "      <td>3168</td>\n",
       "      <td>4.0</td>\n",
       "      <td>1123001592</td>\n",
       "    </tr>\n",
       "    <tr>\n",
       "      <th>7371</th>\n",
       "      <td>47</td>\n",
       "      <td>588</td>\n",
       "      <td>4.0</td>\n",
       "      <td>832228859</td>\n",
       "    </tr>\n",
       "    <tr>\n",
       "      <th>65538</th>\n",
       "      <td>466</td>\n",
       "      <td>2395</td>\n",
       "      <td>4.0</td>\n",
       "      <td>944979809</td>\n",
       "    </tr>\n",
       "    <tr>\n",
       "      <th>8673</th>\n",
       "      <td>56</td>\n",
       "      <td>89759</td>\n",
       "      <td>4.0</td>\n",
       "      <td>1467003383</td>\n",
       "    </tr>\n",
       "  </tbody>\n",
       "</table>\n",
       "</div>"
      ],
      "text/plain": [
       "       userId  movieId  rating   timestamp\n",
       "11223      73    27706     3.0  1255596884\n",
       "88414     587     3168     4.0  1123001592\n",
       "7371       47      588     4.0   832228859\n",
       "65538     466     2395     4.0   944979809\n",
       "8673       56    89759     4.0  1467003383"
      ]
     },
     "execution_count": 47,
     "metadata": {},
     "output_type": "execute_result"
    }
   ],
   "source": [
    "ratings.sample(5)"
   ]
  },
  {
   "cell_type": "markdown",
   "metadata": {},
   "source": [
    ">##  Transform "
   ]
  },
  {
   "cell_type": "code",
   "execution_count": 67,
   "metadata": {
    "execution": {
     "iopub.execute_input": "2020-11-14T04:31:25.951937Z",
     "iopub.status.busy": "2020-11-14T04:31:25.949943Z",
     "iopub.status.idle": "2020-11-14T04:31:26.270233Z",
     "shell.execute_reply": "2020-11-14T04:31:26.269793Z",
     "shell.execute_reply.started": "2020-11-14T04:31:25.950940Z"
    }
   },
   "outputs": [],
   "source": [
    "wiki_movies_df = pd.DataFrame(wiki_movies_raw)"
   ]
  },
  {
   "cell_type": "code",
   "execution_count": 69,
   "metadata": {
    "execution": {
     "iopub.execute_input": "2020-11-14T04:34:34.955103Z",
     "iopub.status.busy": "2020-11-14T04:34:34.954106Z",
     "iopub.status.idle": "2020-11-14T04:34:34.960288Z",
     "shell.execute_reply": "2020-11-14T04:34:34.960288Z",
     "shell.execute_reply.started": "2020-11-14T04:34:34.955103Z"
    }
   },
   "outputs": [
    {
     "data": {
      "text/plain": [
       "(7311, 193)"
      ]
     },
     "execution_count": 69,
     "metadata": {},
     "output_type": "execute_result"
    }
   ],
   "source": [
    "wiki_movies_df.shape"
   ]
  },
  {
   "cell_type": "code",
   "execution_count": 68,
   "metadata": {
    "execution": {
     "iopub.execute_input": "2020-11-14T04:33:37.286386Z",
     "iopub.status.busy": "2020-11-14T04:33:37.286386Z",
     "iopub.status.idle": "2020-11-14T04:33:37.349232Z",
     "shell.execute_reply": "2020-11-14T04:33:37.348235Z",
     "shell.execute_reply.started": "2020-11-14T04:33:37.286386Z"
    }
   },
   "outputs": [
    {
     "data": {
      "text/html": [
       "<div>\n",
       "<style scoped>\n",
       "    .dataframe tbody tr th:only-of-type {\n",
       "        vertical-align: middle;\n",
       "    }\n",
       "\n",
       "    .dataframe tbody tr th {\n",
       "        vertical-align: top;\n",
       "    }\n",
       "\n",
       "    .dataframe thead th {\n",
       "        text-align: right;\n",
       "    }\n",
       "</style>\n",
       "<table border=\"1\" class=\"dataframe\">\n",
       "  <thead>\n",
       "    <tr style=\"text-align: right;\">\n",
       "      <th></th>\n",
       "      <th>url</th>\n",
       "      <th>year</th>\n",
       "      <th>imdb_link</th>\n",
       "      <th>title</th>\n",
       "      <th>Directed by</th>\n",
       "      <th>Produced by</th>\n",
       "      <th>Screenplay by</th>\n",
       "      <th>Story by</th>\n",
       "      <th>Based on</th>\n",
       "      <th>Starring</th>\n",
       "      <th>...</th>\n",
       "      <th>Predecessor</th>\n",
       "      <th>Founders</th>\n",
       "      <th>Area served</th>\n",
       "      <th>Products</th>\n",
       "      <th>Services</th>\n",
       "      <th>Russian</th>\n",
       "      <th>Hebrew</th>\n",
       "      <th>Revenue</th>\n",
       "      <th>Operating income</th>\n",
       "      <th>Polish</th>\n",
       "    </tr>\n",
       "  </thead>\n",
       "  <tbody>\n",
       "    <tr>\n",
       "      <th>0</th>\n",
       "      <td>https://en.wikipedia.org/wiki/The_Adventures_o...</td>\n",
       "      <td>1990.0</td>\n",
       "      <td>https://www.imdb.com/title/tt0098987/</td>\n",
       "      <td>The Adventures of Ford Fairlane</td>\n",
       "      <td>Renny Harlin</td>\n",
       "      <td>[Steve Perry, Joel Silver]</td>\n",
       "      <td>[David Arnott, James Cappe, Daniel Waters]</td>\n",
       "      <td>[David Arnott, James Cappe]</td>\n",
       "      <td>[Characters, by Rex Weiner]</td>\n",
       "      <td>[Andrew Dice Clay, Wayne Newton, Priscilla Pre...</td>\n",
       "      <td>...</td>\n",
       "      <td>NaN</td>\n",
       "      <td>NaN</td>\n",
       "      <td>NaN</td>\n",
       "      <td>NaN</td>\n",
       "      <td>NaN</td>\n",
       "      <td>NaN</td>\n",
       "      <td>NaN</td>\n",
       "      <td>NaN</td>\n",
       "      <td>NaN</td>\n",
       "      <td>NaN</td>\n",
       "    </tr>\n",
       "    <tr>\n",
       "      <th>1</th>\n",
       "      <td>https://en.wikipedia.org/wiki/After_Dark,_My_S...</td>\n",
       "      <td>1990.0</td>\n",
       "      <td>https://www.imdb.com/title/tt0098994/</td>\n",
       "      <td>After Dark, My Sweet</td>\n",
       "      <td>James Foley</td>\n",
       "      <td>[Ric Kidney, Robert Redlin]</td>\n",
       "      <td>[James Foley, Robert Redlin]</td>\n",
       "      <td>NaN</td>\n",
       "      <td>[the novel, After Dark, My Sweet, by, Jim Thom...</td>\n",
       "      <td>[Jason Patric, Rachel Ward, Bruce Dern, George...</td>\n",
       "      <td>...</td>\n",
       "      <td>NaN</td>\n",
       "      <td>NaN</td>\n",
       "      <td>NaN</td>\n",
       "      <td>NaN</td>\n",
       "      <td>NaN</td>\n",
       "      <td>NaN</td>\n",
       "      <td>NaN</td>\n",
       "      <td>NaN</td>\n",
       "      <td>NaN</td>\n",
       "      <td>NaN</td>\n",
       "    </tr>\n",
       "    <tr>\n",
       "      <th>2</th>\n",
       "      <td>https://en.wikipedia.org/wiki/Air_America_(film)</td>\n",
       "      <td>1990.0</td>\n",
       "      <td>https://www.imdb.com/title/tt0099005/</td>\n",
       "      <td>Air America</td>\n",
       "      <td>Roger Spottiswoode</td>\n",
       "      <td>Daniel Melnick</td>\n",
       "      <td>[John Eskow, Richard Rush]</td>\n",
       "      <td>NaN</td>\n",
       "      <td>[Air America, by, Christopher Robbins]</td>\n",
       "      <td>[Mel Gibson, Robert Downey Jr., Nancy Travis, ...</td>\n",
       "      <td>...</td>\n",
       "      <td>NaN</td>\n",
       "      <td>NaN</td>\n",
       "      <td>NaN</td>\n",
       "      <td>NaN</td>\n",
       "      <td>NaN</td>\n",
       "      <td>NaN</td>\n",
       "      <td>NaN</td>\n",
       "      <td>NaN</td>\n",
       "      <td>NaN</td>\n",
       "      <td>NaN</td>\n",
       "    </tr>\n",
       "    <tr>\n",
       "      <th>3</th>\n",
       "      <td>https://en.wikipedia.org/wiki/Alice_(1990_film)</td>\n",
       "      <td>1990.0</td>\n",
       "      <td>https://www.imdb.com/title/tt0099012/</td>\n",
       "      <td>Alice</td>\n",
       "      <td>Woody Allen</td>\n",
       "      <td>Robert Greenhut</td>\n",
       "      <td>NaN</td>\n",
       "      <td>NaN</td>\n",
       "      <td>NaN</td>\n",
       "      <td>[Alec Baldwin, Blythe Danner, Judy Davis, Mia ...</td>\n",
       "      <td>...</td>\n",
       "      <td>NaN</td>\n",
       "      <td>NaN</td>\n",
       "      <td>NaN</td>\n",
       "      <td>NaN</td>\n",
       "      <td>NaN</td>\n",
       "      <td>NaN</td>\n",
       "      <td>NaN</td>\n",
       "      <td>NaN</td>\n",
       "      <td>NaN</td>\n",
       "      <td>NaN</td>\n",
       "    </tr>\n",
       "    <tr>\n",
       "      <th>4</th>\n",
       "      <td>https://en.wikipedia.org/wiki/Almost_an_Angel</td>\n",
       "      <td>1990.0</td>\n",
       "      <td>https://www.imdb.com/title/tt0099018/</td>\n",
       "      <td>Almost an Angel</td>\n",
       "      <td>John Cornell</td>\n",
       "      <td>John Cornell</td>\n",
       "      <td>NaN</td>\n",
       "      <td>NaN</td>\n",
       "      <td>NaN</td>\n",
       "      <td>[Paul Hogan, Elias Koteas, Linda Kozlowski]</td>\n",
       "      <td>...</td>\n",
       "      <td>NaN</td>\n",
       "      <td>NaN</td>\n",
       "      <td>NaN</td>\n",
       "      <td>NaN</td>\n",
       "      <td>NaN</td>\n",
       "      <td>NaN</td>\n",
       "      <td>NaN</td>\n",
       "      <td>NaN</td>\n",
       "      <td>NaN</td>\n",
       "      <td>NaN</td>\n",
       "    </tr>\n",
       "  </tbody>\n",
       "</table>\n",
       "<p>5 rows × 193 columns</p>\n",
       "</div>"
      ],
      "text/plain": [
       "                                                 url    year  \\\n",
       "0  https://en.wikipedia.org/wiki/The_Adventures_o...  1990.0   \n",
       "1  https://en.wikipedia.org/wiki/After_Dark,_My_S...  1990.0   \n",
       "2   https://en.wikipedia.org/wiki/Air_America_(film)  1990.0   \n",
       "3    https://en.wikipedia.org/wiki/Alice_(1990_film)  1990.0   \n",
       "4      https://en.wikipedia.org/wiki/Almost_an_Angel  1990.0   \n",
       "\n",
       "                               imdb_link                            title  \\\n",
       "0  https://www.imdb.com/title/tt0098987/  The Adventures of Ford Fairlane   \n",
       "1  https://www.imdb.com/title/tt0098994/             After Dark, My Sweet   \n",
       "2  https://www.imdb.com/title/tt0099005/                      Air America   \n",
       "3  https://www.imdb.com/title/tt0099012/                            Alice   \n",
       "4  https://www.imdb.com/title/tt0099018/                  Almost an Angel   \n",
       "\n",
       "          Directed by                  Produced by  \\\n",
       "0        Renny Harlin   [Steve Perry, Joel Silver]   \n",
       "1         James Foley  [Ric Kidney, Robert Redlin]   \n",
       "2  Roger Spottiswoode               Daniel Melnick   \n",
       "3         Woody Allen              Robert Greenhut   \n",
       "4        John Cornell                 John Cornell   \n",
       "\n",
       "                                Screenplay by                     Story by  \\\n",
       "0  [David Arnott, James Cappe, Daniel Waters]  [David Arnott, James Cappe]   \n",
       "1                [James Foley, Robert Redlin]                          NaN   \n",
       "2                  [John Eskow, Richard Rush]                          NaN   \n",
       "3                                         NaN                          NaN   \n",
       "4                                         NaN                          NaN   \n",
       "\n",
       "                                            Based on  \\\n",
       "0                        [Characters, by Rex Weiner]   \n",
       "1  [the novel, After Dark, My Sweet, by, Jim Thom...   \n",
       "2             [Air America, by, Christopher Robbins]   \n",
       "3                                                NaN   \n",
       "4                                                NaN   \n",
       "\n",
       "                                            Starring  ... Predecessor  \\\n",
       "0  [Andrew Dice Clay, Wayne Newton, Priscilla Pre...  ...         NaN   \n",
       "1  [Jason Patric, Rachel Ward, Bruce Dern, George...  ...         NaN   \n",
       "2  [Mel Gibson, Robert Downey Jr., Nancy Travis, ...  ...         NaN   \n",
       "3  [Alec Baldwin, Blythe Danner, Judy Davis, Mia ...  ...         NaN   \n",
       "4        [Paul Hogan, Elias Koteas, Linda Kozlowski]  ...         NaN   \n",
       "\n",
       "  Founders Area served Products Services Russian Hebrew Revenue  \\\n",
       "0      NaN         NaN      NaN      NaN     NaN    NaN     NaN   \n",
       "1      NaN         NaN      NaN      NaN     NaN    NaN     NaN   \n",
       "2      NaN         NaN      NaN      NaN     NaN    NaN     NaN   \n",
       "3      NaN         NaN      NaN      NaN     NaN    NaN     NaN   \n",
       "4      NaN         NaN      NaN      NaN     NaN    NaN     NaN   \n",
       "\n",
       "  Operating income Polish  \n",
       "0              NaN    NaN  \n",
       "1              NaN    NaN  \n",
       "2              NaN    NaN  \n",
       "3              NaN    NaN  \n",
       "4              NaN    NaN  \n",
       "\n",
       "[5 rows x 193 columns]"
      ]
     },
     "execution_count": 68,
     "metadata": {},
     "output_type": "execute_result"
    }
   ],
   "source": [
    "wiki_movies_df.head()"
   ]
  },
  {
   "cell_type": "code",
   "execution_count": 73,
   "metadata": {
    "execution": {
     "iopub.execute_input": "2020-11-14T04:35:38.860838Z",
     "iopub.status.busy": "2020-11-14T04:35:38.860838Z",
     "iopub.status.idle": "2020-11-14T04:35:38.893616Z",
     "shell.execute_reply": "2020-11-14T04:35:38.892620Z",
     "shell.execute_reply.started": "2020-11-14T04:35:38.860838Z"
    }
   },
   "outputs": [
    {
     "name": "stdout",
     "output_type": "stream",
     "text": [
      "['url', 'year', 'imdb_link', 'title', 'Directed by', 'Produced by', 'Screenplay by', 'Story by', 'Based on', 'Starring', 'Narrated by', 'Music by', 'Cinematography', 'Edited by', 'Productioncompany ', 'Distributed by', 'Release date', 'Running time', 'Country', 'Language', 'Budget', 'Box office', 'Written by', 'Genre', 'Theme music composer', 'Country of origin', 'Original language(s)', 'Producer(s)', 'Editor(s)', 'Production company(s)', 'Original network', 'Original release', 'Productioncompanies ', 'Executive producer(s)', 'Production location(s)', 'Distributor', 'Picture format', 'Audio format', 'Voices of', 'Followed by', 'Composer(s)', 'Created by', 'Also known as', 'Opening theme', 'No. of episodes', 'Preceded by', 'Author', 'Publisher', 'Publication date', 'Media type', 'Pages', 'ISBN', 'OCLC', 'LC Class', 'Cover artist', 'Series', 'Set in', 'Adaptation by', 'Suggested by', 'Biographical data', 'Born', 'Died', 'Resting place', 'Occupation', 'Years active', 'Spouse(s)', 'Children', 'Parent(s)', 'Genres', 'Instruments', 'Labels', 'Website', 'Traditional', 'Mandarin', 'Type', 'Industry', 'Fate', 'Founded', 'Founder', 'Headquarters', 'Parent', 'Released', 'Recorded', 'Venue', 'Length', 'Label', 'Director', 'Producer', 'Area', 'Coordinates', 'Status', 'Opening date', 'Closing date', 'Replaced', 'Replaced by', 'Name', 'Attraction type', 'Music', 'Duration', 'Simplified Chinese', 'Traditional Chinese', 'Hanyu Pinyin', 'Literal meaning', 'Transcriptions', 'Bopomofo', 'Gwoyeu Romatzyh', 'Wade–Giles', 'IPA', 'Yale Romanization', 'Jyutping', 'Hokkien POJ', 'Animation by', 'Color process', 'Engine(s)', 'Genre(s)', 'Actor control', 'Production company', 'Release(s)', 'Format(s)', 'Simplified', 'Characters', 'Date premiered', 'Place premiered', 'Setting', 'Original language', 'Subject', 'Published', 'Dewey Decimal', 'Text', 'Illustrator', 'Original title', 'Published in English', 'French', 'Developed by', 'Ending theme', 'No. of seasons', 'Nationality', 'Portrayed by', 'Alias', 'Species', 'Gender', 'Family', 'Alma mater', 'Camera setup', 'Novel(s)', 'Comics', 'Film(s)', 'Screen story by', 'Hangul', 'Revised Romanization', 'McCune–Reischauer', 'Developer(s)', 'Publisher(s)', 'Designer(s)', 'Programmer(s)', 'Artist(s)', 'Writer(s)', 'Engine', 'Platform(s)', 'Release', 'Mode(s)', 'Original work', 'Television series', 'Japanese', 'Hepburn', 'Literally', 'Cantonese', 'Full name', 'Height', 'Seasons', 'Chinese', 'Other names', 'Relatives', 'Yiddish', 'Formerly', 'Key people', 'Total assets', 'Owner', 'Number of employees', 'Divisions', 'Subsidiaries', 'Arabic', 'Romanized', 'Predecessor', 'Founders', 'Area served', 'Products', 'Services', 'Russian', 'Hebrew', 'Revenue', 'Operating income', 'Polish']\n"
     ]
    }
   ],
   "source": [
    "# reviewing the 193 columns \n",
    "print(wiki_movies_df.columns.to_list())"
   ]
  },
  {
   "cell_type": "markdown",
   "metadata": {},
   "source": [
    "___"
   ]
  },
  {
   "cell_type": "markdown",
   "metadata": {},
   "source": [
    "> list comprehensin breakdown "
   ]
  },
  {
   "cell_type": "code",
   "execution_count": 81,
   "metadata": {
    "execution": {
     "iopub.execute_input": "2020-11-14T17:20:11.481226Z",
     "iopub.status.busy": "2020-11-14T17:20:11.481226Z",
     "iopub.status.idle": "2020-11-14T17:20:11.488205Z",
     "shell.execute_reply": "2020-11-14T17:20:11.487208Z",
     "shell.execute_reply.started": "2020-11-14T17:20:11.481226Z"
    }
   },
   "outputs": [
    {
     "data": {
      "text/plain": [
       "{'url': 'https://en.wikipedia.org/wiki/The_Adventures_of_Ford_Fairlane',\n",
       " 'year': 1990,\n",
       " 'imdb_link': 'https://www.imdb.com/title/tt0098987/',\n",
       " 'title': 'The Adventures of Ford Fairlane',\n",
       " 'Directed by': 'Renny Harlin',\n",
       " 'Produced by': ['Steve Perry', 'Joel Silver'],\n",
       " 'Screenplay by': ['David Arnott', 'James Cappe', 'Daniel Waters'],\n",
       " 'Story by': ['David Arnott', 'James Cappe'],\n",
       " 'Based on': ['Characters', 'by Rex Weiner'],\n",
       " 'Starring': ['Andrew Dice Clay',\n",
       "  'Wayne Newton',\n",
       "  'Priscilla Presley',\n",
       "  'Lauren Holly',\n",
       "  'Morris Day',\n",
       "  'Robert Englund',\n",
       "  \"Ed O'Neill\"],\n",
       " 'Narrated by': 'Andrew \"Dice\" Clay',\n",
       " 'Music by': ['Cliff Eidelman', 'Yello'],\n",
       " 'Cinematography': 'Oliver Wood',\n",
       " 'Edited by': 'Michael Tronick',\n",
       " 'Productioncompany ': 'Silver Pictures',\n",
       " 'Distributed by': '20th Century Fox',\n",
       " 'Release date': ['July 11, 1990', '(', '1990-07-11', ')'],\n",
       " 'Running time': '102 minutes',\n",
       " 'Country': 'United States',\n",
       " 'Language': 'English',\n",
       " 'Budget': '$20 million',\n",
       " 'Box office': '$21.4 million'}"
      ]
     },
     "execution_count": 81,
     "metadata": {},
     "output_type": "execute_result"
    }
   ],
   "source": [
    "wiki_movies[0]"
   ]
  },
  {
   "cell_type": "code",
   "execution_count": 97,
   "metadata": {
    "execution": {
     "iopub.execute_input": "2020-11-14T17:39:42.201030Z",
     "iopub.status.busy": "2020-11-14T17:39:42.201030Z",
     "iopub.status.idle": "2020-11-14T17:39:42.206051Z",
     "shell.execute_reply": "2020-11-14T17:39:42.206051Z",
     "shell.execute_reply.started": "2020-11-14T17:39:42.201030Z"
    }
   },
   "outputs": [
    {
     "data": {
      "text/plain": [
       "[True]"
      ]
     },
     "execution_count": 97,
     "metadata": {},
     "output_type": "execute_result"
    }
   ],
   "source": [
    "['year' in wiki_movies[0]]"
   ]
  },
  {
   "cell_type": "code",
   "execution_count": 98,
   "metadata": {
    "execution": {
     "iopub.execute_input": "2020-11-14T17:40:00.378581Z",
     "iopub.status.busy": "2020-11-14T17:40:00.377583Z",
     "iopub.status.idle": "2020-11-14T17:40:00.411278Z",
     "shell.execute_reply": "2020-11-14T17:40:00.410286Z",
     "shell.execute_reply.started": "2020-11-14T17:40:00.378581Z"
    }
   },
   "outputs": [
    {
     "data": {
      "text/plain": [
       "[True]"
      ]
     },
     "execution_count": 98,
     "metadata": {},
     "output_type": "execute_result"
    }
   ],
   "source": [
    "['Budget' in wiki_movies_raw[0]]"
   ]
  },
  {
   "cell_type": "code",
   "execution_count": 124,
   "metadata": {
    "execution": {
     "iopub.execute_input": "2020-11-14T17:50:28.306790Z",
     "iopub.status.busy": "2020-11-14T17:50:28.305793Z",
     "iopub.status.idle": "2020-11-14T17:50:28.314769Z",
     "shell.execute_reply": "2020-11-14T17:50:28.313771Z",
     "shell.execute_reply.started": "2020-11-14T17:50:28.306790Z"
    }
   },
   "outputs": [
    {
     "data": {
      "text/plain": [
       "7153"
      ]
     },
     "execution_count": 124,
     "metadata": {},
     "output_type": "execute_result"
    }
   ],
   "source": [
    "samp_movie = [i for i in wiki_movies_raw if 'year' in i]\n",
    "len(samp_movie)"
   ]
  },
  {
   "cell_type": "markdown",
   "metadata": {},
   "source": [
    "-----"
   ]
  },
  {
   "cell_type": "code",
   "execution_count": 94,
   "metadata": {
    "execution": {
     "iopub.execute_input": "2020-11-14T17:38:34.971430Z",
     "iopub.status.busy": "2020-11-14T17:38:34.971430Z",
     "iopub.status.idle": "2020-11-14T17:38:34.978405Z",
     "shell.execute_reply": "2020-11-14T17:38:34.978405Z",
     "shell.execute_reply.started": "2020-11-14T17:38:34.971430Z"
    }
   },
   "outputs": [
    {
     "data": {
      "text/plain": [
       "7080"
      ]
     },
     "execution_count": 94,
     "metadata": {},
     "output_type": "execute_result"
    }
   ],
   "source": [
    "# use list comprehension to filter raw json data by criterias \n",
    "wiki_movies = [movie for movie in wiki_movies_raw\n",
    "               if ('Director' in movie or 'Directed by' in movie)\n",
    "                   and 'imdb_link' in movie]\n",
    "len(wiki_movies)"
   ]
  },
  {
   "cell_type": "code",
   "execution_count": 128,
   "metadata": {
    "execution": {
     "iopub.execute_input": "2020-11-14T18:06:43.077088Z",
     "iopub.status.busy": "2020-11-14T18:06:43.077088Z",
     "iopub.status.idle": "2020-11-14T18:06:43.187839Z",
     "shell.execute_reply": "2020-11-14T18:06:43.187839Z",
     "shell.execute_reply.started": "2020-11-14T18:06:43.077088Z"
    }
   },
   "outputs": [
    {
     "data": {
      "text/plain": [
       "(7080, 78)"
      ]
     },
     "execution_count": 128,
     "metadata": {},
     "output_type": "execute_result"
    }
   ],
   "source": [
    "# make the a gain data frame, with now reduced colums and rows\n",
    "wiki_movies_df = pd.DataFrame(wiki_movies)\n",
    "wiki_movies_df.shape"
   ]
  },
  {
   "cell_type": "code",
   "execution_count": 146,
   "metadata": {
    "execution": {
     "iopub.execute_input": "2020-11-14T19:33:06.843303Z",
     "iopub.status.busy": "2020-11-14T19:33:06.842305Z",
     "iopub.status.idle": "2020-11-14T19:33:06.941564Z",
     "shell.execute_reply": "2020-11-14T19:33:06.940567Z",
     "shell.execute_reply.started": "2020-11-14T19:33:06.843303Z"
    }
   },
   "outputs": [
    {
     "data": {
      "text/html": [
       "<div>\n",
       "<style scoped>\n",
       "    .dataframe tbody tr th:only-of-type {\n",
       "        vertical-align: middle;\n",
       "    }\n",
       "\n",
       "    .dataframe tbody tr th {\n",
       "        vertical-align: top;\n",
       "    }\n",
       "\n",
       "    .dataframe thead th {\n",
       "        text-align: right;\n",
       "    }\n",
       "</style>\n",
       "<table border=\"1\" class=\"dataframe\">\n",
       "  <thead>\n",
       "    <tr style=\"text-align: right;\">\n",
       "      <th></th>\n",
       "      <th>url</th>\n",
       "      <th>year</th>\n",
       "      <th>imdb_link</th>\n",
       "      <th>title</th>\n",
       "      <th>Directed by</th>\n",
       "      <th>Produced by</th>\n",
       "      <th>Screenplay by</th>\n",
       "      <th>Story by</th>\n",
       "      <th>Based on</th>\n",
       "      <th>Starring</th>\n",
       "      <th>Narrated by</th>\n",
       "      <th>Music by</th>\n",
       "      <th>Cinematography</th>\n",
       "      <th>Edited by</th>\n",
       "      <th>Productioncompany</th>\n",
       "      <th>Distributed by</th>\n",
       "      <th>Release date</th>\n",
       "      <th>Running time</th>\n",
       "    </tr>\n",
       "  </thead>\n",
       "  <tbody>\n",
       "    <tr>\n",
       "      <th>5381</th>\n",
       "      <td>https://en.wikipedia.org/wiki/Puss_in_Boots_(2...</td>\n",
       "      <td>2011</td>\n",
       "      <td>https://www.imdb.com/title/tt0448694/</td>\n",
       "      <td>Puss in Boots</td>\n",
       "      <td>Chris Miller</td>\n",
       "      <td>[Joe M. Aguilar, Latifa Ouaou]</td>\n",
       "      <td>Tom Wheeler</td>\n",
       "      <td>[Brian Lynch, Will Davies, Tom Wheeler]</td>\n",
       "      <td>NaN</td>\n",
       "      <td>[Antonio Banderas, Salma Hayek, Zach Galifiana...</td>\n",
       "      <td>NaN</td>\n",
       "      <td>Henry Jackman</td>\n",
       "      <td>NaN</td>\n",
       "      <td>Eric Dapkewicz</td>\n",
       "      <td>DreamWorks Animation</td>\n",
       "      <td>Paramount Pictures</td>\n",
       "      <td>[October 16, 2011, (, 2011-10-16, ), (, Allure...</td>\n",
       "      <td>90 minutes</td>\n",
       "    </tr>\n",
       "    <tr>\n",
       "      <th>1370</th>\n",
       "      <td>https://en.wikipedia.org/wiki/Problem_Child_3:...</td>\n",
       "      <td>1995</td>\n",
       "      <td>https://www.imdb.com/title/tt0114188/</td>\n",
       "      <td>Problem Child 3</td>\n",
       "      <td>Greg Beeman</td>\n",
       "      <td>NaN</td>\n",
       "      <td>NaN</td>\n",
       "      <td>NaN</td>\n",
       "      <td>[Characters by, Scott Alexander and Larry Kara...</td>\n",
       "      <td>[William Katt, Justin Chapman, Sherman Howard,...</td>\n",
       "      <td>NaN</td>\n",
       "      <td>David Michael Frank</td>\n",
       "      <td>Peter Smokler</td>\n",
       "      <td>NaN</td>\n",
       "      <td>NaN</td>\n",
       "      <td>NaN</td>\n",
       "      <td>NaN</td>\n",
       "      <td>84 minutes</td>\n",
       "    </tr>\n",
       "  </tbody>\n",
       "</table>\n",
       "</div>"
      ],
      "text/plain": [
       "                                                    url  year  \\\n",
       "5381  https://en.wikipedia.org/wiki/Puss_in_Boots_(2...  2011   \n",
       "1370  https://en.wikipedia.org/wiki/Problem_Child_3:...  1995   \n",
       "\n",
       "                                  imdb_link            title   Directed by  \\\n",
       "5381  https://www.imdb.com/title/tt0448694/    Puss in Boots  Chris Miller   \n",
       "1370  https://www.imdb.com/title/tt0114188/  Problem Child 3   Greg Beeman   \n",
       "\n",
       "                         Produced by Screenplay by  \\\n",
       "5381  [Joe M. Aguilar, Latifa Ouaou]   Tom Wheeler   \n",
       "1370                             NaN           NaN   \n",
       "\n",
       "                                     Story by  \\\n",
       "5381  [Brian Lynch, Will Davies, Tom Wheeler]   \n",
       "1370                                      NaN   \n",
       "\n",
       "                                               Based on  \\\n",
       "5381                                                NaN   \n",
       "1370  [Characters by, Scott Alexander and Larry Kara...   \n",
       "\n",
       "                                               Starring Narrated by  \\\n",
       "5381  [Antonio Banderas, Salma Hayek, Zach Galifiana...         NaN   \n",
       "1370  [William Katt, Justin Chapman, Sherman Howard,...         NaN   \n",
       "\n",
       "                 Music by Cinematography       Edited by  \\\n",
       "5381        Henry Jackman            NaN  Eric Dapkewicz   \n",
       "1370  David Michael Frank  Peter Smokler             NaN   \n",
       "\n",
       "        Productioncompany       Distributed by  \\\n",
       "5381  DreamWorks Animation  Paramount Pictures   \n",
       "1370                   NaN                 NaN   \n",
       "\n",
       "                                           Release date Running time  \n",
       "5381  [October 16, 2011, (, 2011-10-16, ), (, Allure...   90 minutes  \n",
       "1370                                                NaN   84 minutes  "
      ]
     },
     "execution_count": 146,
     "metadata": {},
     "output_type": "execute_result"
    },
    {
     "data": {
      "text/html": [
       "<div>\n",
       "<style scoped>\n",
       "    .dataframe tbody tr th:only-of-type {\n",
       "        vertical-align: middle;\n",
       "    }\n",
       "\n",
       "    .dataframe tbody tr th {\n",
       "        vertical-align: top;\n",
       "    }\n",
       "\n",
       "    .dataframe thead th {\n",
       "        text-align: right;\n",
       "    }\n",
       "</style>\n",
       "<table border=\"1\" class=\"dataframe\">\n",
       "  <thead>\n",
       "    <tr style=\"text-align: right;\">\n",
       "      <th></th>\n",
       "      <th>Language</th>\n",
       "      <th>Budget</th>\n",
       "      <th>Box office</th>\n",
       "      <th>Written by</th>\n",
       "      <th>Genre</th>\n",
       "      <th>Theme music composer</th>\n",
       "      <th>Country of origin</th>\n",
       "      <th>Original language(s)</th>\n",
       "      <th>Producer(s)</th>\n",
       "      <th>Editor(s)</th>\n",
       "      <th>Production company(s)</th>\n",
       "      <th>Original network</th>\n",
       "      <th>Original release</th>\n",
       "      <th>Productioncompanies</th>\n",
       "      <th>Executive producer(s)</th>\n",
       "      <th>Production location(s)</th>\n",
       "      <th>Distributor</th>\n",
       "      <th>Picture format</th>\n",
       "      <th>Audio format</th>\n",
       "    </tr>\n",
       "  </thead>\n",
       "  <tbody>\n",
       "    <tr>\n",
       "      <th>1650</th>\n",
       "      <td>English</td>\n",
       "      <td>$500,000</td>\n",
       "      <td>$502,313</td>\n",
       "      <td>Lisa King</td>\n",
       "      <td>NaN</td>\n",
       "      <td>NaN</td>\n",
       "      <td>NaN</td>\n",
       "      <td>NaN</td>\n",
       "      <td>NaN</td>\n",
       "      <td>NaN</td>\n",
       "      <td>NaN</td>\n",
       "      <td>NaN</td>\n",
       "      <td>NaN</td>\n",
       "      <td>NaN</td>\n",
       "      <td>NaN</td>\n",
       "      <td>NaN</td>\n",
       "      <td>NaN</td>\n",
       "      <td>NaN</td>\n",
       "      <td>NaN</td>\n",
       "    </tr>\n",
       "    <tr>\n",
       "      <th>454</th>\n",
       "      <td>NaN</td>\n",
       "      <td>NaN</td>\n",
       "      <td>NaN</td>\n",
       "      <td>[Alison Rosenfeld, James Desmarais]</td>\n",
       "      <td>[Mystery, Romance, Thriller]</td>\n",
       "      <td>Richard Stone</td>\n",
       "      <td>United States</td>\n",
       "      <td>English</td>\n",
       "      <td>[Gary W. Goldstein, Chad Cooperman, Bernie Gol...</td>\n",
       "      <td>Michael Brown</td>\n",
       "      <td>[Nevermore Productions, The Steve Tisch Company]</td>\n",
       "      <td>CBS</td>\n",
       "      <td>[May 5, 1991, (, 1991-05-05, )]</td>\n",
       "      <td>NaN</td>\n",
       "      <td>Mireille Soria</td>\n",
       "      <td>[Malibu, California, Santa Monica Pier]</td>\n",
       "      <td>[CBS, Artisan Home Video]</td>\n",
       "      <td>Color</td>\n",
       "      <td>Stereo</td>\n",
       "    </tr>\n",
       "  </tbody>\n",
       "</table>\n",
       "</div>"
      ],
      "text/plain": [
       "     Language    Budget Box office                           Written by  \\\n",
       "1650  English  $500,000   $502,313                            Lisa King   \n",
       "454       NaN       NaN        NaN  [Alison Rosenfeld, James Desmarais]   \n",
       "\n",
       "                             Genre Theme music composer Country of origin  \\\n",
       "1650                           NaN                  NaN               NaN   \n",
       "454   [Mystery, Romance, Thriller]        Richard Stone     United States   \n",
       "\n",
       "     Original language(s)                                        Producer(s)  \\\n",
       "1650                  NaN                                                NaN   \n",
       "454               English  [Gary W. Goldstein, Chad Cooperman, Bernie Gol...   \n",
       "\n",
       "          Editor(s)                             Production company(s)  \\\n",
       "1650            NaN                                               NaN   \n",
       "454   Michael Brown  [Nevermore Productions, The Steve Tisch Company]   \n",
       "\n",
       "     Original network                 Original release Productioncompanies   \\\n",
       "1650              NaN                              NaN                  NaN   \n",
       "454               CBS  [May 5, 1991, (, 1991-05-05, )]                  NaN   \n",
       "\n",
       "     Executive producer(s)                   Production location(s)  \\\n",
       "1650                   NaN                                      NaN   \n",
       "454         Mireille Soria  [Malibu, California, Santa Monica Pier]   \n",
       "\n",
       "                    Distributor Picture format Audio format  \n",
       "1650                        NaN            NaN          NaN  \n",
       "454   [CBS, Artisan Home Video]          Color       Stereo  "
      ]
     },
     "execution_count": 146,
     "metadata": {},
     "output_type": "execute_result"
    },
    {
     "data": {
      "text/html": [
       "<div>\n",
       "<style scoped>\n",
       "    .dataframe tbody tr th:only-of-type {\n",
       "        vertical-align: middle;\n",
       "    }\n",
       "\n",
       "    .dataframe tbody tr th {\n",
       "        vertical-align: top;\n",
       "    }\n",
       "\n",
       "    .dataframe thead th {\n",
       "        text-align: right;\n",
       "    }\n",
       "</style>\n",
       "<table border=\"1\" class=\"dataframe\">\n",
       "  <thead>\n",
       "    <tr style=\"text-align: right;\">\n",
       "      <th></th>\n",
       "      <th>Followed by</th>\n",
       "      <th>Composer(s)</th>\n",
       "      <th>Created by</th>\n",
       "      <th>Also known as</th>\n",
       "      <th>Opening theme</th>\n",
       "      <th>No. of episodes</th>\n",
       "      <th>Preceded by</th>\n",
       "      <th>Adaptation by</th>\n",
       "      <th>Suggested by</th>\n",
       "      <th>Traditional</th>\n",
       "      <th>Mandarin</th>\n",
       "      <th>Released</th>\n",
       "      <th>Recorded</th>\n",
       "      <th>Venue</th>\n",
       "      <th>Length</th>\n",
       "      <th>Label</th>\n",
       "      <th>Director</th>\n",
       "      <th>Producer</th>\n",
       "      <th>Animation by</th>\n",
       "    </tr>\n",
       "  </thead>\n",
       "  <tbody>\n",
       "    <tr>\n",
       "      <th>923</th>\n",
       "      <td>NaN</td>\n",
       "      <td>NaN</td>\n",
       "      <td>NaN</td>\n",
       "      <td>NaN</td>\n",
       "      <td>NaN</td>\n",
       "      <td>NaN</td>\n",
       "      <td>NaN</td>\n",
       "      <td>NaN</td>\n",
       "      <td>NaN</td>\n",
       "      <td>NaN</td>\n",
       "      <td>NaN</td>\n",
       "      <td>NaN</td>\n",
       "      <td>NaN</td>\n",
       "      <td>NaN</td>\n",
       "      <td>NaN</td>\n",
       "      <td>NaN</td>\n",
       "      <td>NaN</td>\n",
       "      <td>NaN</td>\n",
       "      <td>NaN</td>\n",
       "    </tr>\n",
       "    <tr>\n",
       "      <th>37</th>\n",
       "      <td>NaN</td>\n",
       "      <td>NaN</td>\n",
       "      <td>NaN</td>\n",
       "      <td>NaN</td>\n",
       "      <td>NaN</td>\n",
       "      <td>NaN</td>\n",
       "      <td>NaN</td>\n",
       "      <td>NaN</td>\n",
       "      <td>NaN</td>\n",
       "      <td>NaN</td>\n",
       "      <td>NaN</td>\n",
       "      <td>NaN</td>\n",
       "      <td>NaN</td>\n",
       "      <td>NaN</td>\n",
       "      <td>NaN</td>\n",
       "      <td>NaN</td>\n",
       "      <td>NaN</td>\n",
       "      <td>NaN</td>\n",
       "      <td>NaN</td>\n",
       "    </tr>\n",
       "  </tbody>\n",
       "</table>\n",
       "</div>"
      ],
      "text/plain": [
       "    Followed by Composer(s) Created by Also known as Opening theme  \\\n",
       "923         NaN         NaN        NaN           NaN           NaN   \n",
       "37          NaN         NaN        NaN           NaN           NaN   \n",
       "\n",
       "    No. of episodes Preceded by Adaptation by Suggested by Traditional  \\\n",
       "923             NaN         NaN           NaN          NaN         NaN   \n",
       "37              NaN         NaN           NaN          NaN         NaN   \n",
       "\n",
       "    Mandarin Released Recorded Venue Length Label Director Producer  \\\n",
       "923      NaN      NaN      NaN   NaN    NaN   NaN      NaN      NaN   \n",
       "37       NaN      NaN      NaN   NaN    NaN   NaN      NaN      NaN   \n",
       "\n",
       "    Animation by  \n",
       "923          NaN  \n",
       "37           NaN  "
      ]
     },
     "execution_count": 146,
     "metadata": {},
     "output_type": "execute_result"
    },
    {
     "data": {
      "text/html": [
       "<div>\n",
       "<style scoped>\n",
       "    .dataframe tbody tr th:only-of-type {\n",
       "        vertical-align: middle;\n",
       "    }\n",
       "\n",
       "    .dataframe tbody tr th {\n",
       "        vertical-align: top;\n",
       "    }\n",
       "\n",
       "    .dataframe thead th {\n",
       "        text-align: right;\n",
       "    }\n",
       "</style>\n",
       "<table border=\"1\" class=\"dataframe\">\n",
       "  <thead>\n",
       "    <tr style=\"text-align: right;\">\n",
       "      <th></th>\n",
       "      <th>Simplified</th>\n",
       "      <th>French</th>\n",
       "      <th>Camera setup</th>\n",
       "      <th>Screen story by</th>\n",
       "      <th>Hangul</th>\n",
       "      <th>Revised Romanization</th>\n",
       "      <th>McCune–Reischauer</th>\n",
       "      <th>Original title</th>\n",
       "      <th>Japanese</th>\n",
       "      <th>Hepburn</th>\n",
       "      <th>Literally</th>\n",
       "      <th>Cantonese</th>\n",
       "      <th>Chinese</th>\n",
       "      <th>Yiddish</th>\n",
       "      <th>Arabic</th>\n",
       "      <th>Romanized</th>\n",
       "      <th>Russian</th>\n",
       "      <th>Hebrew</th>\n",
       "      <th>Polish</th>\n",
       "    </tr>\n",
       "  </thead>\n",
       "  <tbody>\n",
       "    <tr>\n",
       "      <th>5313</th>\n",
       "      <td>NaN</td>\n",
       "      <td>NaN</td>\n",
       "      <td>NaN</td>\n",
       "      <td>NaN</td>\n",
       "      <td>NaN</td>\n",
       "      <td>NaN</td>\n",
       "      <td>NaN</td>\n",
       "      <td>NaN</td>\n",
       "      <td>NaN</td>\n",
       "      <td>NaN</td>\n",
       "      <td>NaN</td>\n",
       "      <td>NaN</td>\n",
       "      <td>NaN</td>\n",
       "      <td>NaN</td>\n",
       "      <td>NaN</td>\n",
       "      <td>NaN</td>\n",
       "      <td>NaN</td>\n",
       "      <td>NaN</td>\n",
       "      <td>NaN</td>\n",
       "    </tr>\n",
       "    <tr>\n",
       "      <th>1974</th>\n",
       "      <td>NaN</td>\n",
       "      <td>NaN</td>\n",
       "      <td>NaN</td>\n",
       "      <td>NaN</td>\n",
       "      <td>NaN</td>\n",
       "      <td>NaN</td>\n",
       "      <td>NaN</td>\n",
       "      <td>NaN</td>\n",
       "      <td>NaN</td>\n",
       "      <td>NaN</td>\n",
       "      <td>NaN</td>\n",
       "      <td>NaN</td>\n",
       "      <td>NaN</td>\n",
       "      <td>NaN</td>\n",
       "      <td>NaN</td>\n",
       "      <td>NaN</td>\n",
       "      <td>NaN</td>\n",
       "      <td>NaN</td>\n",
       "      <td>NaN</td>\n",
       "    </tr>\n",
       "  </tbody>\n",
       "</table>\n",
       "</div>"
      ],
      "text/plain": [
       "     Simplified French Camera setup Screen story by Hangul  \\\n",
       "5313        NaN    NaN          NaN             NaN    NaN   \n",
       "1974        NaN    NaN          NaN             NaN    NaN   \n",
       "\n",
       "     Revised Romanization McCune–Reischauer Original title Japanese Hepburn  \\\n",
       "5313                  NaN               NaN            NaN      NaN     NaN   \n",
       "1974                  NaN               NaN            NaN      NaN     NaN   \n",
       "\n",
       "     Literally Cantonese Chinese Yiddish Arabic Romanized Russian Hebrew  \\\n",
       "5313       NaN       NaN     NaN     NaN    NaN       NaN     NaN    NaN   \n",
       "1974       NaN       NaN     NaN     NaN    NaN       NaN     NaN    NaN   \n",
       "\n",
       "     Polish  \n",
       "5313    NaN  \n",
       "1974    NaN  "
      ]
     },
     "execution_count": 146,
     "metadata": {},
     "output_type": "execute_result"
    }
   ],
   "source": [
    "wiki_movies_df[wiki_movies_df.columns[0:18]].sample(2)\n",
    "wiki_movies_df[wiki_movies_df.columns[19:38]].sample(2)\n",
    "wiki_movies_df[wiki_movies_df.columns[39:58]].sample(2)\n",
    "wiki_movies_df[wiki_movies_df.columns[59:78]].sample(2)"
   ]
  },
  {
   "cell_type": "code",
   "execution_count": 147,
   "metadata": {
    "execution": {
     "iopub.execute_input": "2020-11-14T19:38:23.274477Z",
     "iopub.status.busy": "2020-11-14T19:38:23.274477Z",
     "iopub.status.idle": "2020-11-14T19:38:23.283453Z",
     "shell.execute_reply": "2020-11-14T19:38:23.282456Z",
     "shell.execute_reply.started": "2020-11-14T19:38:23.274477Z"
    }
   },
   "outputs": [],
   "source": [
    "# adding another layer to list comprehension filter based on results\n",
    "wiki_movies = [movie for movie in wiki_movies_raw\n",
    "               if ('Director' in movie or 'Directed by' in movie)\n",
    "                   and 'imdb_link' in movie\n",
    "                   and 'No. of episodes' not in movie]"
   ]
  },
  {
   "cell_type": "code",
   "execution_count": 151,
   "metadata": {
    "execution": {
     "iopub.execute_input": "2020-11-14T20:21:05.328989Z",
     "iopub.status.busy": "2020-11-14T20:21:05.328989Z",
     "iopub.status.idle": "2020-11-14T20:21:05.332979Z",
     "shell.execute_reply": "2020-11-14T20:21:05.332979Z",
     "shell.execute_reply.started": "2020-11-14T20:21:05.328989Z"
    }
   },
   "outputs": [],
   "source": [
    "# only local version of movie will be returned, not the golbal orignal \n",
    "def clean_movie(movie):\n",
    "    movie = dict(movie) #create a non-destructive copy\n",
    "    return movie"
   ]
  },
  {
   "cell_type": "code",
   "execution_count": 153,
   "metadata": {
    "execution": {
     "iopub.execute_input": "2020-11-14T20:24:57.216069Z",
     "iopub.status.busy": "2020-11-14T20:24:57.216069Z",
     "iopub.status.idle": "2020-11-14T20:24:57.224049Z",
     "shell.execute_reply": "2020-11-14T20:24:57.224049Z",
     "shell.execute_reply.started": "2020-11-14T20:24:57.216069Z"
    }
   },
   "outputs": [
    {
     "data": {
      "text/plain": [
       "6838    https://en.wikipedia.org/wiki/The_Insult_(film)\n",
       "7062     https://en.wikipedia.org/wiki/Capernaum_(film)\n",
       "Name: url, dtype: object"
      ]
     },
     "execution_count": 153,
     "metadata": {},
     "output_type": "execute_result"
    }
   ],
   "source": [
    "wiki_movies_df[wiki_movies_df['Arabic'].notnull()]['url']"
   ]
  },
  {
   "cell_type": "markdown",
   "metadata": {},
   "source": [
    "> Cleaning alternate titles / combing columns"
   ]
  },
  {
   "cell_type": "code",
   "execution_count": 162,
   "metadata": {
    "execution": {
     "iopub.execute_input": "2020-11-14T20:43:15.296304Z",
     "iopub.status.busy": "2020-11-14T20:43:15.296304Z",
     "iopub.status.idle": "2020-11-14T20:43:15.301482Z",
     "shell.execute_reply": "2020-11-14T20:43:15.300964Z",
     "shell.execute_reply.started": "2020-11-14T20:43:15.296304Z"
    }
   },
   "outputs": [
    {
     "name": "stdout",
     "output_type": "stream",
     "text": [
      "['Adaptation by', 'Also known as', 'Animation by', 'Arabic', 'Audio format', 'Based on', 'Box office', 'Budget', 'Camera setup', 'Cantonese', 'Chinese', 'Cinematography', 'Color process', 'Composer(s)', 'Country', 'Country of origin', 'Created by', 'Directed by', 'Director', 'Distributed by', 'Distributor', 'Edited by', 'Editor(s)', 'Executive producer(s)', 'Followed by', 'French', 'Genre', 'Hangul', 'Hebrew', 'Hepburn', 'Japanese', 'Label', 'Language', 'Length', 'Literally', 'Mandarin', 'McCune–Reischauer', 'Music by', 'Narrated by', 'No. of episodes', 'Opening theme', 'Original language(s)', 'Original network', 'Original release', 'Original title', 'Picture format', 'Polish', 'Preceded by', 'Produced by', 'Producer', 'Producer(s)', 'Production company(s)', 'Production location(s)', 'Productioncompanies ', 'Productioncompany ', 'Recorded', 'Release date', 'Released', 'Revised Romanization', 'Romanized', 'Running time', 'Russian', 'Screen story by', 'Screenplay by', 'Simplified', 'Starring', 'Story by', 'Suggested by', 'Theme music composer', 'Traditional', 'Venue', 'Voices of', 'Written by', 'Yiddish', 'imdb_link', 'title', 'url', 'year']\n"
     ]
    }
   ],
   "source": [
    "print(sorted(wiki_movies_df.columns.tolist()))"
   ]
  },
  {
   "cell_type": "code",
   "execution_count": 187,
   "metadata": {
    "execution": {
     "iopub.execute_input": "2020-11-15T02:39:51.229733Z",
     "iopub.status.busy": "2020-11-15T02:39:51.229733Z",
     "iopub.status.idle": "2020-11-15T02:39:51.238709Z",
     "shell.execute_reply": "2020-11-15T02:39:51.237713Z",
     "shell.execute_reply.started": "2020-11-15T02:39:51.229733Z"
    }
   },
   "outputs": [],
   "source": [
    "def clean_movie(movie):\n",
    "    movie = dict(movie) #create a non-destructive copy\n",
    "    alt_titles = {}\n",
    "    for key in ['Also known as','Arabic','Cantonese','Chinese','French',\n",
    "                'Hangul','Hebrew','Hepburn','Japanese','Literally',\n",
    "                'Mandarin','McCune–Reischauer','Original title','Polish',\n",
    "                'Revised Romanization','Romanized','Russian',\n",
    "                'Simplified','Traditional','Yiddish']:\n",
    "        if key in movie:\n",
    "            alt_titles[key] = movie[key]\n",
    "            movie.pop(key)\n",
    "    if len(alt_titles) > 0:\n",
    "        movie['alt_titles'] = alt_titles\n",
    "\n",
    "    return movie"
   ]
  },
  {
   "cell_type": "markdown",
   "metadata": {
    "execution": {
     "iopub.execute_input": "2020-11-14T21:27:12.353039Z",
     "iopub.status.busy": "2020-11-14T21:27:12.352041Z",
     "iopub.status.idle": "2020-11-14T21:27:12.359027Z",
     "shell.execute_reply": "2020-11-14T21:27:12.358080Z",
     "shell.execute_reply.started": "2020-11-14T21:27:12.353039Z"
    }
   },
   "source": [
    "<div class=\"alert alert-block alert-info\">\n",
    "<b>Note:</b></div>\n",
    "\n",
    ">  When converting dataframe to dictionary, columns become keys.<br>\n",
    "> ```alt_titles``` will be a dictonary of dictionaries e.g a column with eah index having multiple values.<br>\n",
    ">\n",
    "> The provided list contains alternate columns(keys) thatt can be combined into one (theryre all languages)<br>\n",
    "> ```if key in movie: alt_titles[key] = movie[key] ``` if \"key\" from list is in dictionary then add key and its values (```movie[key]```) to the alt_titles dictinary<br>\n",
    "> ```movie.pop(key)``` then remove key from movies dictionary (which is the converted data frame)<br>\n",
    "> ```if len(alt_titles) > 0: movie['alt_titles'] = alt_titles ``` if key,vlaues are present within ```alt_titles``` then add them (which would be a combination of all alt titles from a previous step) to the movies dictionary, as its own combined key, value pairing (ultimatly becoming a singular alt_titles column once converted to a dataframe). "
   ]
  },
  {
   "cell_type": "code",
   "execution_count": 217,
   "metadata": {
    "execution": {
     "iopub.execute_input": "2020-11-15T02:48:12.677118Z",
     "iopub.status.busy": "2020-11-15T02:48:12.677118Z",
     "iopub.status.idle": "2020-11-15T02:48:12.745844Z",
     "shell.execute_reply": "2020-11-15T02:48:12.744850Z",
     "shell.execute_reply.started": "2020-11-15T02:48:12.677118Z"
    }
   },
   "outputs": [],
   "source": [
    "# make a list of ceaned movies with a list comprenhension \n",
    "# using clenaing function on \"wiki_movies\" which is in dicitonary format from previosuly imported json data\n",
    "clean_movies = [clean_movie(movie) for movie in wiki_movies]"
   ]
  },
  {
   "cell_type": "code",
   "execution_count": 215,
   "metadata": {
    "execution": {
     "iopub.execute_input": "2020-11-15T02:46:48.258069Z",
     "iopub.status.busy": "2020-11-15T02:46:48.258069Z",
     "iopub.status.idle": "2020-11-15T02:46:48.361829Z",
     "shell.execute_reply": "2020-11-15T02:46:48.361829Z",
     "shell.execute_reply.started": "2020-11-15T02:46:48.258069Z"
    }
   },
   "outputs": [],
   "source": [
    "wiki_movies_df = pd.DataFrame(clean_movies)"
   ]
  },
  {
   "cell_type": "code",
   "execution_count": 228,
   "metadata": {
    "execution": {
     "iopub.execute_input": "2020-11-15T02:55:34.577965Z",
     "iopub.status.busy": "2020-11-15T02:55:34.577965Z",
     "iopub.status.idle": "2020-11-15T02:55:34.587944Z",
     "shell.execute_reply": "2020-11-15T02:55:34.587944Z",
     "shell.execute_reply.started": "2020-11-15T02:55:34.577965Z"
    }
   },
   "outputs": [
    {
     "data": {
      "text/html": [
       "<div>\n",
       "<style scoped>\n",
       "    .dataframe tbody tr th:only-of-type {\n",
       "        vertical-align: middle;\n",
       "    }\n",
       "\n",
       "    .dataframe tbody tr th {\n",
       "        vertical-align: top;\n",
       "    }\n",
       "\n",
       "    .dataframe thead th {\n",
       "        text-align: right;\n",
       "    }\n",
       "</style>\n",
       "<table border=\"1\" class=\"dataframe\">\n",
       "  <thead>\n",
       "    <tr style=\"text-align: right;\">\n",
       "      <th></th>\n",
       "      <th>alt_titles</th>\n",
       "    </tr>\n",
       "  </thead>\n",
       "  <tbody>\n",
       "    <tr>\n",
       "      <th>7070</th>\n",
       "      <td>{'Polish': 'Zimna wojna'}</td>\n",
       "    </tr>\n",
       "    <tr>\n",
       "      <th>6620</th>\n",
       "      <td>{'Chinese': '摇滚藏獒'}</td>\n",
       "    </tr>\n",
       "    <tr>\n",
       "      <th>7058</th>\n",
       "      <td>{'Arabic': 'کفرناحوم‎'}</td>\n",
       "    </tr>\n",
       "    <tr>\n",
       "      <th>3413</th>\n",
       "      <td>{'Hangul': '원더풀 데이즈', 'McCune–Reischauer': 'Wŏ...</td>\n",
       "    </tr>\n",
       "    <tr>\n",
       "      <th>6862</th>\n",
       "      <td>{'Hebrew': 'פוֹקְסטְרוֹט'}</td>\n",
       "    </tr>\n",
       "    <tr>\n",
       "      <th>6719</th>\n",
       "      <td>{'Yiddish': 'מנשה'}</td>\n",
       "    </tr>\n",
       "    <tr>\n",
       "      <th>4790</th>\n",
       "      <td>{'Original title': 'ואלס עם באשיר'}</td>\n",
       "    </tr>\n",
       "  </tbody>\n",
       "</table>\n",
       "</div>"
      ],
      "text/plain": [
       "                                             alt_titles\n",
       "7070                          {'Polish': 'Zimna wojna'}\n",
       "6620                                {'Chinese': '摇滚藏獒'}\n",
       "7058                            {'Arabic': 'کفرناحوم‎'}\n",
       "3413  {'Hangul': '원더풀 데이즈', 'McCune–Reischauer': 'Wŏ...\n",
       "6862                         {'Hebrew': 'פוֹקְסטְרוֹט'}\n",
       "6719                                {'Yiddish': 'מנשה'}\n",
       "4790                {'Original title': 'ואלס עם באשיר'}"
      ]
     },
     "execution_count": 228,
     "metadata": {},
     "output_type": "execute_result"
    }
   ],
   "source": [
    "wiki_movies_df[wiki_movies_df['alt_titles'].notnull()][['alt_titles']].sample(7)"
   ]
  },
  {
   "cell_type": "code",
   "execution_count": 239,
   "metadata": {
    "execution": {
     "iopub.execute_input": "2020-11-15T02:58:14.102292Z",
     "iopub.status.busy": "2020-11-15T02:58:14.102292Z",
     "iopub.status.idle": "2020-11-15T02:58:14.110287Z",
     "shell.execute_reply": "2020-11-15T02:58:14.109306Z",
     "shell.execute_reply.started": "2020-11-15T02:58:14.102292Z"
    }
   },
   "outputs": [
    {
     "data": {
      "text/plain": [
       "'원더풀 데이즈'"
      ]
     },
     "execution_count": 239,
     "metadata": {},
     "output_type": "execute_result"
    }
   ],
   "source": [
    "wiki_movies_df.iloc[3413]['alt_titles']['Hangul']             "
   ]
  },
  {
   "cell_type": "code",
   "execution_count": null,
   "metadata": {},
   "outputs": [],
   "source": []
  }
 ],
 "metadata": {
  "kernelspec": {
   "display_name": "PythonData",
   "language": "python",
   "name": "pythondata"
  },
  "language_info": {
   "codemirror_mode": {
    "name": "ipython",
    "version": 3
   },
   "file_extension": ".py",
   "mimetype": "text/x-python",
   "name": "python",
   "nbconvert_exporter": "python",
   "pygments_lexer": "ipython3",
   "version": "3.7.9"
  }
 },
 "nbformat": 4,
 "nbformat_minor": 4
}
