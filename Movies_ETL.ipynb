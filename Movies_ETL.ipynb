{
 "cells": [
  {
   "cell_type": "code",
   "execution_count": 10,
   "metadata": {
    "execution": {
     "iopub.execute_input": "2020-11-13T23:26:23.135274Z",
     "iopub.status.busy": "2020-11-13T23:26:23.135274Z",
     "iopub.status.idle": "2020-11-13T23:26:23.138270Z",
     "shell.execute_reply": "2020-11-13T23:26:23.137280Z",
     "shell.execute_reply.started": "2020-11-13T23:26:23.135274Z"
    }
   },
   "outputs": [],
   "source": [
    "import json \n",
    "import pandas as pd \n",
    "import numpy as np "
   ]
  },
  {
   "cell_type": "code",
   "execution_count": 18,
   "metadata": {
    "execution": {
     "iopub.execute_input": "2020-11-13T23:32:41.837758Z",
     "iopub.status.busy": "2020-11-13T23:32:41.837758Z",
     "iopub.status.idle": "2020-11-13T23:32:41.842743Z",
     "shell.execute_reply": "2020-11-13T23:32:41.842743Z",
     "shell.execute_reply.started": "2020-11-13T23:32:41.837758Z"
    }
   },
   "outputs": [
    {
     "data": {
      "text/plain": [
       "'../Resource/wikipedia-movies.json'"
      ]
     },
     "execution_count": 18,
     "metadata": {},
     "output_type": "execute_result"
    }
   ],
   "source": [
    "file_dir = '../Resource/'\n",
    "f'{file_dir}wikipedia-movies.json'"
   ]
  },
  {
   "cell_type": "markdown",
   "metadata": {},
   "source": [
    "## EXTRACT"
   ]
  },
  {
   "cell_type": "markdown",
   "metadata": {
    "execution": {
     "iopub.execute_input": "2020-11-13T19:39:21.570029Z",
     "iopub.status.busy": "2020-11-13T19:39:21.568993Z",
     "iopub.status.idle": "2020-11-13T19:39:21.575486Z",
     "shell.execute_reply": "2020-11-13T19:39:21.574542Z",
     "shell.execute_reply.started": "2020-11-13T19:39:21.570029Z"
    }
   },
   "source": [
    "> load josn file -- into list of dicitonaries"
   ]
  },
  {
   "cell_type": "code",
   "execution_count": 19,
   "metadata": {
    "execution": {
     "iopub.execute_input": "2020-11-13T23:32:43.075137Z",
     "iopub.status.busy": "2020-11-13T23:32:43.075137Z",
     "iopub.status.idle": "2020-11-13T23:32:43.197877Z",
     "shell.execute_reply": "2020-11-13T23:32:43.197877Z",
     "shell.execute_reply.started": "2020-11-13T23:32:43.075137Z"
    }
   },
   "outputs": [],
   "source": [
    "with open(f'{file_dir}wikipedia-movies.json', mode='r') as file:\n",
    "    wiki_movies_raw = json.load(file)"
   ]
  },
  {
   "cell_type": "code",
   "execution_count": 20,
   "metadata": {
    "execution": {
     "iopub.execute_input": "2020-11-13T23:32:45.526613Z",
     "iopub.status.busy": "2020-11-13T23:32:45.526613Z",
     "iopub.status.idle": "2020-11-13T23:32:45.532123Z",
     "shell.execute_reply": "2020-11-13T23:32:45.531599Z",
     "shell.execute_reply.started": "2020-11-13T23:32:45.526613Z"
    }
   },
   "outputs": [
    {
     "data": {
      "text/plain": [
       "7311"
      ]
     },
     "execution_count": 20,
     "metadata": {},
     "output_type": "execute_result"
    }
   ],
   "source": [
    "len(wiki_movies_raw)"
   ]
  },
  {
   "cell_type": "code",
   "execution_count": 21,
   "metadata": {
    "execution": {
     "iopub.execute_input": "2020-11-13T23:32:46.494747Z",
     "iopub.status.busy": "2020-11-13T23:32:46.494747Z",
     "iopub.status.idle": "2020-11-13T23:32:46.501728Z",
     "shell.execute_reply": "2020-11-13T23:32:46.500741Z",
     "shell.execute_reply.started": "2020-11-13T23:32:46.494747Z"
    }
   },
   "outputs": [
    {
     "data": {
      "text/plain": [
       "dict_keys(['url', 'year', 'imdb_link', 'title', 'Directed by', 'Produced by', 'Screenplay by', 'Story by', 'Based on', 'Starring', 'Narrated by', 'Music by', 'Cinematography', 'Edited by', 'Productioncompany ', 'Distributed by', 'Release date', 'Running time', 'Country', 'Language', 'Budget', 'Box office'])"
      ]
     },
     "execution_count": 21,
     "metadata": {},
     "output_type": "execute_result"
    }
   ],
   "source": [
    "wiki_movies_raw[0].keys()"
   ]
  },
  {
   "cell_type": "code",
   "execution_count": 22,
   "metadata": {
    "execution": {
     "iopub.execute_input": "2020-11-13T23:32:47.461636Z",
     "iopub.status.busy": "2020-11-13T23:32:47.461636Z",
     "iopub.status.idle": "2020-11-13T23:32:47.467144Z",
     "shell.execute_reply": "2020-11-13T23:32:47.466623Z",
     "shell.execute_reply.started": "2020-11-13T23:32:47.461636Z"
    }
   },
   "outputs": [
    {
     "data": {
      "text/plain": [
       "dict_keys(['url', 'year', 'imdb_link', 'title', 'Directed by', 'Produced by', 'Written by', 'Starring', 'Distributed by', 'Release date', 'Running time', 'Language', 'Box office'])"
      ]
     },
     "execution_count": 22,
     "metadata": {},
     "output_type": "execute_result"
    }
   ],
   "source": [
    "wiki_movies_raw[3609].keys()"
   ]
  },
  {
   "cell_type": "code",
   "execution_count": 23,
   "metadata": {
    "execution": {
     "iopub.execute_input": "2020-11-13T23:32:48.159402Z",
     "iopub.status.busy": "2020-11-13T23:32:48.159402Z",
     "iopub.status.idle": "2020-11-13T23:32:48.165597Z",
     "shell.execute_reply": "2020-11-13T23:32:48.165597Z",
     "shell.execute_reply.started": "2020-11-13T23:32:48.159402Z"
    }
   },
   "outputs": [
    {
     "data": {
      "text/plain": [
       "{'url': 'https://en.wikipedia.org/wiki/Book_of_Love_(2004_film)',\n",
       " 'year': 2004,\n",
       " 'imdb_link': 'https://www.imdb.com/title/tt0376006/',\n",
       " 'title': 'Book of Love',\n",
       " 'Directed by': 'Alan Brown',\n",
       " 'Produced by': 'Robert Ahrens',\n",
       " 'Written by': 'Alan Brown',\n",
       " 'Starring': [\"Frances O'Connor\",\n",
       "  'Bryce Dallas Howard',\n",
       "  'Simon Baker',\n",
       "  'Gregory Smith'],\n",
       " 'Distributed by': 'Sundance',\n",
       " 'Release date': ['January 18, 2004', '(', '2004-01-18', ')'],\n",
       " 'Running time': '83 min',\n",
       " 'Language': 'English',\n",
       " 'Box office': '$1,382,259'}"
      ]
     },
     "execution_count": 23,
     "metadata": {},
     "output_type": "execute_result"
    }
   ],
   "source": [
    "wiki_movies_raw[3609]"
   ]
  },
  {
   "cell_type": "code",
   "execution_count": 24,
   "metadata": {
    "execution": {
     "iopub.execute_input": "2020-11-13T23:32:49.735699Z",
     "iopub.status.busy": "2020-11-13T23:32:49.735699Z",
     "iopub.status.idle": "2020-11-13T23:32:49.742201Z",
     "shell.execute_reply": "2020-11-13T23:32:49.741683Z",
     "shell.execute_reply.started": "2020-11-13T23:32:49.735699Z"
    }
   },
   "outputs": [
    {
     "data": {
      "text/plain": [
       "dict_keys(['url', 'year', 'imdb_link', 'title', 'Directed by', 'Produced by', 'Screenplay by', 'Based on', 'Starring', 'Music by', 'Cinematography', 'Edited by', 'Productioncompanies ', 'Distributed by', 'Release date', 'Running time', 'Country', 'Language', 'Budget', 'Box office'])"
      ]
     },
     "execution_count": 24,
     "metadata": {},
     "output_type": "execute_result"
    }
   ],
   "source": [
    "wiki_movies_raw[-5].keys()"
   ]
  },
  {
   "cell_type": "code",
   "execution_count": 25,
   "metadata": {
    "execution": {
     "iopub.execute_input": "2020-11-13T23:32:52.636628Z",
     "iopub.status.busy": "2020-11-13T23:32:52.636628Z",
     "iopub.status.idle": "2020-11-13T23:32:52.642729Z",
     "shell.execute_reply": "2020-11-13T23:32:52.642729Z",
     "shell.execute_reply.started": "2020-11-13T23:32:52.636628Z"
    }
   },
   "outputs": [
    {
     "data": {
      "text/plain": [
       "{'url': 'https://en.wikipedia.org/wiki/Holmes_%26_Watson',\n",
       " 'year': 2018,\n",
       " 'imdb_link': 'https://www.imdb.com/title/tt1255919/',\n",
       " 'title': 'Holmes & Watson',\n",
       " 'Directed by': 'Etan Cohen',\n",
       " 'Produced by': ['Will Ferrell',\n",
       "  'Adam McKay',\n",
       "  'Jimmy Miller',\n",
       "  'Clayton Townsend'],\n",
       " 'Screenplay by': 'Etan Cohen',\n",
       " 'Based on': ['Sherlock Holmes',\n",
       "  'and',\n",
       "  'Dr. Watson',\n",
       "  'by',\n",
       "  'Sir Arthur Conan Doyle'],\n",
       " 'Starring': ['Will Ferrell',\n",
       "  'John C. Reilly',\n",
       "  'Rebecca Hall',\n",
       "  'Rob Brydon',\n",
       "  'Steve Coogan',\n",
       "  'Ralph Fiennes'],\n",
       " 'Music by': 'Mark Mothersbaugh',\n",
       " 'Cinematography': 'Oliver Wood',\n",
       " 'Edited by': 'Dean Zimmerman',\n",
       " 'Productioncompanies ': ['Columbia Pictures',\n",
       "  'Gary Sanchez Productions',\n",
       "  'Mosaic Media Group',\n",
       "  'Mimran Schur Pictures'],\n",
       " 'Distributed by': 'Sony Pictures Releasing',\n",
       " 'Release date': ['December 25, 2018',\n",
       "  '(',\n",
       "  '2018-12-25',\n",
       "  ')',\n",
       "  '(United States)'],\n",
       " 'Running time': '90 minutes',\n",
       " 'Country': 'United States',\n",
       " 'Language': 'English',\n",
       " 'Budget': '$42 million',\n",
       " 'Box office': '$41.9 million'}"
      ]
     },
     "execution_count": 25,
     "metadata": {},
     "output_type": "execute_result"
    }
   ],
   "source": [
    "wiki_movies_raw[-5]"
   ]
  },
  {
   "cell_type": "code",
   "execution_count": 43,
   "metadata": {
    "execution": {
     "iopub.execute_input": "2020-11-14T03:06:52.040756Z",
     "iopub.status.busy": "2020-11-14T03:06:52.040756Z",
     "iopub.status.idle": "2020-11-14T03:06:52.671218Z",
     "shell.execute_reply": "2020-11-14T03:06:52.671218Z",
     "shell.execute_reply.started": "2020-11-14T03:06:52.040756Z"
    }
   },
   "outputs": [],
   "source": [
    "kaggle_metadata = pd.read_csv('C:/Users/Donne/OneDrive/UT_Data_Analytics/Analysis Projects/Mod8_Movies_ETL/Resource/movies_metadata.csv', low_memory=False)\n",
    "ratings = pd.read_csv('C:/Users/Donne/OneDrive/UT_Data_Analytics/Analysis Projects/Mod8_Movies_ETL/Resource/ratings_small.csv')"
   ]
  },
  {
   "cell_type": "code",
   "execution_count": 50,
   "metadata": {
    "execution": {
     "iopub.execute_input": "2020-11-14T03:10:37.151160Z",
     "iopub.status.busy": "2020-11-14T03:10:37.151160Z",
     "iopub.status.idle": "2020-11-14T03:10:37.171308Z",
     "shell.execute_reply": "2020-11-14T03:10:37.171308Z",
     "shell.execute_reply.started": "2020-11-14T03:10:37.151160Z"
    }
   },
   "outputs": [
    {
     "data": {
      "text/plain": [
       "(45466, 24)"
      ]
     },
     "execution_count": 50,
     "metadata": {},
     "output_type": "execute_result"
    },
    {
     "data": {
      "text/plain": [
       "(100004, 4)"
      ]
     },
     "execution_count": 50,
     "metadata": {},
     "output_type": "execute_result"
    }
   ],
   "source": [
    "kaggle_metadata.shape\n",
    "ratings.shape"
   ]
  },
  {
   "cell_type": "code",
   "execution_count": 66,
   "metadata": {
    "execution": {
     "iopub.execute_input": "2020-11-14T03:19:51.829662Z",
     "iopub.status.busy": "2020-11-14T03:19:51.829662Z",
     "iopub.status.idle": "2020-11-14T03:19:51.835700Z",
     "shell.execute_reply": "2020-11-14T03:19:51.835700Z",
     "shell.execute_reply.started": "2020-11-14T03:19:51.829662Z"
    }
   },
   "outputs": [
    {
     "data": {
      "text/plain": [
       "\"[{'iso_639_1': 'en', 'name': 'English'}, {'iso_639_1': 'fr', 'name': 'Français'}, {'iso_639_1': 'de', 'name': 'Deutsch'}, {'iso_639_1': 'it', 'name': 'Italiano'}]\""
      ]
     },
     "execution_count": 66,
     "metadata": {},
     "output_type": "execute_result"
    }
   ],
   "source": [
    "kaggle_metadata.loc[2076]['spoken_languages']"
   ]
  },
  {
   "cell_type": "code",
   "execution_count": 45,
   "metadata": {
    "execution": {
     "iopub.execute_input": "2020-11-14T03:09:46.210613Z",
     "iopub.status.busy": "2020-11-14T03:09:46.210613Z",
     "iopub.status.idle": "2020-11-14T03:09:46.273383Z",
     "shell.execute_reply": "2020-11-14T03:09:46.273383Z",
     "shell.execute_reply.started": "2020-11-14T03:09:46.210613Z"
    }
   },
   "outputs": [
    {
     "data": {
      "text/html": [
       "<div>\n",
       "<style scoped>\n",
       "    .dataframe tbody tr th:only-of-type {\n",
       "        vertical-align: middle;\n",
       "    }\n",
       "\n",
       "    .dataframe tbody tr th {\n",
       "        vertical-align: top;\n",
       "    }\n",
       "\n",
       "    .dataframe thead th {\n",
       "        text-align: right;\n",
       "    }\n",
       "</style>\n",
       "<table border=\"1\" class=\"dataframe\">\n",
       "  <thead>\n",
       "    <tr style=\"text-align: right;\">\n",
       "      <th></th>\n",
       "      <th>adult</th>\n",
       "      <th>belongs_to_collection</th>\n",
       "      <th>budget</th>\n",
       "      <th>genres</th>\n",
       "      <th>homepage</th>\n",
       "      <th>id</th>\n",
       "      <th>imdb_id</th>\n",
       "      <th>original_language</th>\n",
       "      <th>original_title</th>\n",
       "      <th>overview</th>\n",
       "      <th>...</th>\n",
       "      <th>release_date</th>\n",
       "      <th>revenue</th>\n",
       "      <th>runtime</th>\n",
       "      <th>spoken_languages</th>\n",
       "      <th>status</th>\n",
       "      <th>tagline</th>\n",
       "      <th>title</th>\n",
       "      <th>video</th>\n",
       "      <th>vote_average</th>\n",
       "      <th>vote_count</th>\n",
       "    </tr>\n",
       "  </thead>\n",
       "  <tbody>\n",
       "    <tr>\n",
       "      <th>29124</th>\n",
       "      <td>False</td>\n",
       "      <td>NaN</td>\n",
       "      <td>0</td>\n",
       "      <td>[]</td>\n",
       "      <td>http://www.room514.com/</td>\n",
       "      <td>138767</td>\n",
       "      <td>tt2205501</td>\n",
       "      <td>en</td>\n",
       "      <td>Heder 514</td>\n",
       "      <td>A young, idealistic female Israeli military in...</td>\n",
       "      <td>...</td>\n",
       "      <td>2012-10-12</td>\n",
       "      <td>0.0</td>\n",
       "      <td>90.0</td>\n",
       "      <td>[{'iso_639_1': 'he', 'name': 'עִבְרִית'}]</td>\n",
       "      <td>Released</td>\n",
       "      <td>NaN</td>\n",
       "      <td>Room 514</td>\n",
       "      <td>False</td>\n",
       "      <td>7.0</td>\n",
       "      <td>1.0</td>\n",
       "    </tr>\n",
       "    <tr>\n",
       "      <th>2076</th>\n",
       "      <td>False</td>\n",
       "      <td>NaN</td>\n",
       "      <td>0</td>\n",
       "      <td>[{'id': 80, 'name': 'Crime'}, {'id': 18, 'name...</td>\n",
       "      <td>NaN</td>\n",
       "      <td>30159</td>\n",
       "      <td>tt0045897</td>\n",
       "      <td>en</td>\n",
       "      <td>I Confess</td>\n",
       "      <td>Unable, due to the seal of the confessional, t...</td>\n",
       "      <td>...</td>\n",
       "      <td>1953-02-28</td>\n",
       "      <td>0.0</td>\n",
       "      <td>95.0</td>\n",
       "      <td>[{'iso_639_1': 'en', 'name': 'English'}, {'iso...</td>\n",
       "      <td>Released</td>\n",
       "      <td>Crushed lips don’t talk.</td>\n",
       "      <td>I Confess</td>\n",
       "      <td>False</td>\n",
       "      <td>7.0</td>\n",
       "      <td>82.0</td>\n",
       "    </tr>\n",
       "    <tr>\n",
       "      <th>3052</th>\n",
       "      <td>False</td>\n",
       "      <td>NaN</td>\n",
       "      <td>0</td>\n",
       "      <td>[{'id': 53, 'name': 'Thriller'}, {'id': 18, 'n...</td>\n",
       "      <td>NaN</td>\n",
       "      <td>26578</td>\n",
       "      <td>tt0087231</td>\n",
       "      <td>en</td>\n",
       "      <td>The Falcon and the Snowman</td>\n",
       "      <td>The true story of a disillusioned military con...</td>\n",
       "      <td>...</td>\n",
       "      <td>1985-01-25</td>\n",
       "      <td>0.0</td>\n",
       "      <td>132.0</td>\n",
       "      <td>[{'iso_639_1': 'en', 'name': 'English'}]</td>\n",
       "      <td>Released</td>\n",
       "      <td>They came from the best of families. And they ...</td>\n",
       "      <td>The Falcon and the Snowman</td>\n",
       "      <td>False</td>\n",
       "      <td>6.5</td>\n",
       "      <td>43.0</td>\n",
       "    </tr>\n",
       "    <tr>\n",
       "      <th>2949</th>\n",
       "      <td>False</td>\n",
       "      <td>NaN</td>\n",
       "      <td>25485000</td>\n",
       "      <td>[{'id': 36, 'name': 'History'}, {'id': 28, 'na...</td>\n",
       "      <td>NaN</td>\n",
       "      <td>11165</td>\n",
       "      <td>tt0066473</td>\n",
       "      <td>en</td>\n",
       "      <td>Tora! Tora! Tora!</td>\n",
       "      <td>In the summer of 1941, the United States and J...</td>\n",
       "      <td>...</td>\n",
       "      <td>1970-01-26</td>\n",
       "      <td>29548291.0</td>\n",
       "      <td>144.0</td>\n",
       "      <td>[{'iso_639_1': 'en', 'name': 'English'}, {'iso...</td>\n",
       "      <td>Released</td>\n",
       "      <td>The incredible attack on Pearl Harbor.</td>\n",
       "      <td>Tora! Tora! Tora!</td>\n",
       "      <td>False</td>\n",
       "      <td>6.9</td>\n",
       "      <td>150.0</td>\n",
       "    </tr>\n",
       "    <tr>\n",
       "      <th>27225</th>\n",
       "      <td>False</td>\n",
       "      <td>NaN</td>\n",
       "      <td>0</td>\n",
       "      <td>[{'id': 35, 'name': 'Comedy'}]</td>\n",
       "      <td>NaN</td>\n",
       "      <td>95137</td>\n",
       "      <td>tt0033596</td>\n",
       "      <td>en</td>\n",
       "      <td>The Feminine Touch</td>\n",
       "      <td>A professor (Don Ameche) and his wife (Rosalin...</td>\n",
       "      <td>...</td>\n",
       "      <td>1941-10-01</td>\n",
       "      <td>0.0</td>\n",
       "      <td>97.0</td>\n",
       "      <td>[{'iso_639_1': 'en', 'name': 'English'}]</td>\n",
       "      <td>Released</td>\n",
       "      <td>If your sweetheart isn't jealous it's not l-o-...</td>\n",
       "      <td>The Feminine Touch</td>\n",
       "      <td>False</td>\n",
       "      <td>5.0</td>\n",
       "      <td>2.0</td>\n",
       "    </tr>\n",
       "  </tbody>\n",
       "</table>\n",
       "<p>5 rows × 24 columns</p>\n",
       "</div>"
      ],
      "text/plain": [
       "       adult belongs_to_collection    budget  \\\n",
       "29124  False                   NaN         0   \n",
       "2076   False                   NaN         0   \n",
       "3052   False                   NaN         0   \n",
       "2949   False                   NaN  25485000   \n",
       "27225  False                   NaN         0   \n",
       "\n",
       "                                                  genres  \\\n",
       "29124                                                 []   \n",
       "2076   [{'id': 80, 'name': 'Crime'}, {'id': 18, 'name...   \n",
       "3052   [{'id': 53, 'name': 'Thriller'}, {'id': 18, 'n...   \n",
       "2949   [{'id': 36, 'name': 'History'}, {'id': 28, 'na...   \n",
       "27225                     [{'id': 35, 'name': 'Comedy'}]   \n",
       "\n",
       "                      homepage      id    imdb_id original_language  \\\n",
       "29124  http://www.room514.com/  138767  tt2205501                en   \n",
       "2076                       NaN   30159  tt0045897                en   \n",
       "3052                       NaN   26578  tt0087231                en   \n",
       "2949                       NaN   11165  tt0066473                en   \n",
       "27225                      NaN   95137  tt0033596                en   \n",
       "\n",
       "                   original_title  \\\n",
       "29124                   Heder 514   \n",
       "2076                    I Confess   \n",
       "3052   The Falcon and the Snowman   \n",
       "2949            Tora! Tora! Tora!   \n",
       "27225          The Feminine Touch   \n",
       "\n",
       "                                                overview  ... release_date  \\\n",
       "29124  A young, idealistic female Israeli military in...  ...   2012-10-12   \n",
       "2076   Unable, due to the seal of the confessional, t...  ...   1953-02-28   \n",
       "3052   The true story of a disillusioned military con...  ...   1985-01-25   \n",
       "2949   In the summer of 1941, the United States and J...  ...   1970-01-26   \n",
       "27225  A professor (Don Ameche) and his wife (Rosalin...  ...   1941-10-01   \n",
       "\n",
       "          revenue runtime                                   spoken_languages  \\\n",
       "29124         0.0    90.0          [{'iso_639_1': 'he', 'name': 'עִבְרִית'}]   \n",
       "2076          0.0    95.0  [{'iso_639_1': 'en', 'name': 'English'}, {'iso...   \n",
       "3052          0.0   132.0           [{'iso_639_1': 'en', 'name': 'English'}]   \n",
       "2949   29548291.0   144.0  [{'iso_639_1': 'en', 'name': 'English'}, {'iso...   \n",
       "27225         0.0    97.0           [{'iso_639_1': 'en', 'name': 'English'}]   \n",
       "\n",
       "         status                                            tagline  \\\n",
       "29124  Released                                                NaN   \n",
       "2076   Released                           Crushed lips don’t talk.   \n",
       "3052   Released  They came from the best of families. And they ...   \n",
       "2949   Released             The incredible attack on Pearl Harbor.   \n",
       "27225  Released  If your sweetheart isn't jealous it's not l-o-...   \n",
       "\n",
       "                            title  video vote_average vote_count  \n",
       "29124                    Room 514  False          7.0        1.0  \n",
       "2076                    I Confess  False          7.0       82.0  \n",
       "3052   The Falcon and the Snowman  False          6.5       43.0  \n",
       "2949            Tora! Tora! Tora!  False          6.9      150.0  \n",
       "27225          The Feminine Touch  False          5.0        2.0  \n",
       "\n",
       "[5 rows x 24 columns]"
      ]
     },
     "execution_count": 45,
     "metadata": {},
     "output_type": "execute_result"
    }
   ],
   "source": [
    "kaggle_metadata.sample(5)"
   ]
  },
  {
   "cell_type": "code",
   "execution_count": 47,
   "metadata": {
    "execution": {
     "iopub.execute_input": "2020-11-14T03:10:02.645514Z",
     "iopub.status.busy": "2020-11-14T03:10:02.645514Z",
     "iopub.status.idle": "2020-11-14T03:10:02.657683Z",
     "shell.execute_reply": "2020-11-14T03:10:02.657683Z",
     "shell.execute_reply.started": "2020-11-14T03:10:02.645514Z"
    }
   },
   "outputs": [
    {
     "data": {
      "text/html": [
       "<div>\n",
       "<style scoped>\n",
       "    .dataframe tbody tr th:only-of-type {\n",
       "        vertical-align: middle;\n",
       "    }\n",
       "\n",
       "    .dataframe tbody tr th {\n",
       "        vertical-align: top;\n",
       "    }\n",
       "\n",
       "    .dataframe thead th {\n",
       "        text-align: right;\n",
       "    }\n",
       "</style>\n",
       "<table border=\"1\" class=\"dataframe\">\n",
       "  <thead>\n",
       "    <tr style=\"text-align: right;\">\n",
       "      <th></th>\n",
       "      <th>userId</th>\n",
       "      <th>movieId</th>\n",
       "      <th>rating</th>\n",
       "      <th>timestamp</th>\n",
       "    </tr>\n",
       "  </thead>\n",
       "  <tbody>\n",
       "    <tr>\n",
       "      <th>11223</th>\n",
       "      <td>73</td>\n",
       "      <td>27706</td>\n",
       "      <td>3.0</td>\n",
       "      <td>1255596884</td>\n",
       "    </tr>\n",
       "    <tr>\n",
       "      <th>88414</th>\n",
       "      <td>587</td>\n",
       "      <td>3168</td>\n",
       "      <td>4.0</td>\n",
       "      <td>1123001592</td>\n",
       "    </tr>\n",
       "    <tr>\n",
       "      <th>7371</th>\n",
       "      <td>47</td>\n",
       "      <td>588</td>\n",
       "      <td>4.0</td>\n",
       "      <td>832228859</td>\n",
       "    </tr>\n",
       "    <tr>\n",
       "      <th>65538</th>\n",
       "      <td>466</td>\n",
       "      <td>2395</td>\n",
       "      <td>4.0</td>\n",
       "      <td>944979809</td>\n",
       "    </tr>\n",
       "    <tr>\n",
       "      <th>8673</th>\n",
       "      <td>56</td>\n",
       "      <td>89759</td>\n",
       "      <td>4.0</td>\n",
       "      <td>1467003383</td>\n",
       "    </tr>\n",
       "  </tbody>\n",
       "</table>\n",
       "</div>"
      ],
      "text/plain": [
       "       userId  movieId  rating   timestamp\n",
       "11223      73    27706     3.0  1255596884\n",
       "88414     587     3168     4.0  1123001592\n",
       "7371       47      588     4.0   832228859\n",
       "65538     466     2395     4.0   944979809\n",
       "8673       56    89759     4.0  1467003383"
      ]
     },
     "execution_count": 47,
     "metadata": {},
     "output_type": "execute_result"
    }
   ],
   "source": [
    "ratings.sample(5)"
   ]
  },
  {
   "cell_type": "markdown",
   "metadata": {},
   "source": [
    "> Transform "
   ]
  },
  {
   "cell_type": "code",
   "execution_count": 67,
   "metadata": {
    "execution": {
     "iopub.execute_input": "2020-11-14T04:31:25.951937Z",
     "iopub.status.busy": "2020-11-14T04:31:25.949943Z",
     "iopub.status.idle": "2020-11-14T04:31:26.270233Z",
     "shell.execute_reply": "2020-11-14T04:31:26.269793Z",
     "shell.execute_reply.started": "2020-11-14T04:31:25.950940Z"
    }
   },
   "outputs": [],
   "source": [
    "wiki_movies_df = pd.DataFrame(wiki_movies_raw)"
   ]
  },
  {
   "cell_type": "code",
   "execution_count": 69,
   "metadata": {
    "execution": {
     "iopub.execute_input": "2020-11-14T04:34:34.955103Z",
     "iopub.status.busy": "2020-11-14T04:34:34.954106Z",
     "iopub.status.idle": "2020-11-14T04:34:34.960288Z",
     "shell.execute_reply": "2020-11-14T04:34:34.960288Z",
     "shell.execute_reply.started": "2020-11-14T04:34:34.955103Z"
    }
   },
   "outputs": [
    {
     "data": {
      "text/plain": [
       "(7311, 193)"
      ]
     },
     "execution_count": 69,
     "metadata": {},
     "output_type": "execute_result"
    }
   ],
   "source": [
    "wiki_movies_df.shape"
   ]
  },
  {
   "cell_type": "code",
   "execution_count": 68,
   "metadata": {
    "execution": {
     "iopub.execute_input": "2020-11-14T04:33:37.286386Z",
     "iopub.status.busy": "2020-11-14T04:33:37.286386Z",
     "iopub.status.idle": "2020-11-14T04:33:37.349232Z",
     "shell.execute_reply": "2020-11-14T04:33:37.348235Z",
     "shell.execute_reply.started": "2020-11-14T04:33:37.286386Z"
    }
   },
   "outputs": [
    {
     "data": {
      "text/html": [
       "<div>\n",
       "<style scoped>\n",
       "    .dataframe tbody tr th:only-of-type {\n",
       "        vertical-align: middle;\n",
       "    }\n",
       "\n",
       "    .dataframe tbody tr th {\n",
       "        vertical-align: top;\n",
       "    }\n",
       "\n",
       "    .dataframe thead th {\n",
       "        text-align: right;\n",
       "    }\n",
       "</style>\n",
       "<table border=\"1\" class=\"dataframe\">\n",
       "  <thead>\n",
       "    <tr style=\"text-align: right;\">\n",
       "      <th></th>\n",
       "      <th>url</th>\n",
       "      <th>year</th>\n",
       "      <th>imdb_link</th>\n",
       "      <th>title</th>\n",
       "      <th>Directed by</th>\n",
       "      <th>Produced by</th>\n",
       "      <th>Screenplay by</th>\n",
       "      <th>Story by</th>\n",
       "      <th>Based on</th>\n",
       "      <th>Starring</th>\n",
       "      <th>...</th>\n",
       "      <th>Predecessor</th>\n",
       "      <th>Founders</th>\n",
       "      <th>Area served</th>\n",
       "      <th>Products</th>\n",
       "      <th>Services</th>\n",
       "      <th>Russian</th>\n",
       "      <th>Hebrew</th>\n",
       "      <th>Revenue</th>\n",
       "      <th>Operating income</th>\n",
       "      <th>Polish</th>\n",
       "    </tr>\n",
       "  </thead>\n",
       "  <tbody>\n",
       "    <tr>\n",
       "      <th>0</th>\n",
       "      <td>https://en.wikipedia.org/wiki/The_Adventures_o...</td>\n",
       "      <td>1990.0</td>\n",
       "      <td>https://www.imdb.com/title/tt0098987/</td>\n",
       "      <td>The Adventures of Ford Fairlane</td>\n",
       "      <td>Renny Harlin</td>\n",
       "      <td>[Steve Perry, Joel Silver]</td>\n",
       "      <td>[David Arnott, James Cappe, Daniel Waters]</td>\n",
       "      <td>[David Arnott, James Cappe]</td>\n",
       "      <td>[Characters, by Rex Weiner]</td>\n",
       "      <td>[Andrew Dice Clay, Wayne Newton, Priscilla Pre...</td>\n",
       "      <td>...</td>\n",
       "      <td>NaN</td>\n",
       "      <td>NaN</td>\n",
       "      <td>NaN</td>\n",
       "      <td>NaN</td>\n",
       "      <td>NaN</td>\n",
       "      <td>NaN</td>\n",
       "      <td>NaN</td>\n",
       "      <td>NaN</td>\n",
       "      <td>NaN</td>\n",
       "      <td>NaN</td>\n",
       "    </tr>\n",
       "    <tr>\n",
       "      <th>1</th>\n",
       "      <td>https://en.wikipedia.org/wiki/After_Dark,_My_S...</td>\n",
       "      <td>1990.0</td>\n",
       "      <td>https://www.imdb.com/title/tt0098994/</td>\n",
       "      <td>After Dark, My Sweet</td>\n",
       "      <td>James Foley</td>\n",
       "      <td>[Ric Kidney, Robert Redlin]</td>\n",
       "      <td>[James Foley, Robert Redlin]</td>\n",
       "      <td>NaN</td>\n",
       "      <td>[the novel, After Dark, My Sweet, by, Jim Thom...</td>\n",
       "      <td>[Jason Patric, Rachel Ward, Bruce Dern, George...</td>\n",
       "      <td>...</td>\n",
       "      <td>NaN</td>\n",
       "      <td>NaN</td>\n",
       "      <td>NaN</td>\n",
       "      <td>NaN</td>\n",
       "      <td>NaN</td>\n",
       "      <td>NaN</td>\n",
       "      <td>NaN</td>\n",
       "      <td>NaN</td>\n",
       "      <td>NaN</td>\n",
       "      <td>NaN</td>\n",
       "    </tr>\n",
       "    <tr>\n",
       "      <th>2</th>\n",
       "      <td>https://en.wikipedia.org/wiki/Air_America_(film)</td>\n",
       "      <td>1990.0</td>\n",
       "      <td>https://www.imdb.com/title/tt0099005/</td>\n",
       "      <td>Air America</td>\n",
       "      <td>Roger Spottiswoode</td>\n",
       "      <td>Daniel Melnick</td>\n",
       "      <td>[John Eskow, Richard Rush]</td>\n",
       "      <td>NaN</td>\n",
       "      <td>[Air America, by, Christopher Robbins]</td>\n",
       "      <td>[Mel Gibson, Robert Downey Jr., Nancy Travis, ...</td>\n",
       "      <td>...</td>\n",
       "      <td>NaN</td>\n",
       "      <td>NaN</td>\n",
       "      <td>NaN</td>\n",
       "      <td>NaN</td>\n",
       "      <td>NaN</td>\n",
       "      <td>NaN</td>\n",
       "      <td>NaN</td>\n",
       "      <td>NaN</td>\n",
       "      <td>NaN</td>\n",
       "      <td>NaN</td>\n",
       "    </tr>\n",
       "    <tr>\n",
       "      <th>3</th>\n",
       "      <td>https://en.wikipedia.org/wiki/Alice_(1990_film)</td>\n",
       "      <td>1990.0</td>\n",
       "      <td>https://www.imdb.com/title/tt0099012/</td>\n",
       "      <td>Alice</td>\n",
       "      <td>Woody Allen</td>\n",
       "      <td>Robert Greenhut</td>\n",
       "      <td>NaN</td>\n",
       "      <td>NaN</td>\n",
       "      <td>NaN</td>\n",
       "      <td>[Alec Baldwin, Blythe Danner, Judy Davis, Mia ...</td>\n",
       "      <td>...</td>\n",
       "      <td>NaN</td>\n",
       "      <td>NaN</td>\n",
       "      <td>NaN</td>\n",
       "      <td>NaN</td>\n",
       "      <td>NaN</td>\n",
       "      <td>NaN</td>\n",
       "      <td>NaN</td>\n",
       "      <td>NaN</td>\n",
       "      <td>NaN</td>\n",
       "      <td>NaN</td>\n",
       "    </tr>\n",
       "    <tr>\n",
       "      <th>4</th>\n",
       "      <td>https://en.wikipedia.org/wiki/Almost_an_Angel</td>\n",
       "      <td>1990.0</td>\n",
       "      <td>https://www.imdb.com/title/tt0099018/</td>\n",
       "      <td>Almost an Angel</td>\n",
       "      <td>John Cornell</td>\n",
       "      <td>John Cornell</td>\n",
       "      <td>NaN</td>\n",
       "      <td>NaN</td>\n",
       "      <td>NaN</td>\n",
       "      <td>[Paul Hogan, Elias Koteas, Linda Kozlowski]</td>\n",
       "      <td>...</td>\n",
       "      <td>NaN</td>\n",
       "      <td>NaN</td>\n",
       "      <td>NaN</td>\n",
       "      <td>NaN</td>\n",
       "      <td>NaN</td>\n",
       "      <td>NaN</td>\n",
       "      <td>NaN</td>\n",
       "      <td>NaN</td>\n",
       "      <td>NaN</td>\n",
       "      <td>NaN</td>\n",
       "    </tr>\n",
       "  </tbody>\n",
       "</table>\n",
       "<p>5 rows × 193 columns</p>\n",
       "</div>"
      ],
      "text/plain": [
       "                                                 url    year  \\\n",
       "0  https://en.wikipedia.org/wiki/The_Adventures_o...  1990.0   \n",
       "1  https://en.wikipedia.org/wiki/After_Dark,_My_S...  1990.0   \n",
       "2   https://en.wikipedia.org/wiki/Air_America_(film)  1990.0   \n",
       "3    https://en.wikipedia.org/wiki/Alice_(1990_film)  1990.0   \n",
       "4      https://en.wikipedia.org/wiki/Almost_an_Angel  1990.0   \n",
       "\n",
       "                               imdb_link                            title  \\\n",
       "0  https://www.imdb.com/title/tt0098987/  The Adventures of Ford Fairlane   \n",
       "1  https://www.imdb.com/title/tt0098994/             After Dark, My Sweet   \n",
       "2  https://www.imdb.com/title/tt0099005/                      Air America   \n",
       "3  https://www.imdb.com/title/tt0099012/                            Alice   \n",
       "4  https://www.imdb.com/title/tt0099018/                  Almost an Angel   \n",
       "\n",
       "          Directed by                  Produced by  \\\n",
       "0        Renny Harlin   [Steve Perry, Joel Silver]   \n",
       "1         James Foley  [Ric Kidney, Robert Redlin]   \n",
       "2  Roger Spottiswoode               Daniel Melnick   \n",
       "3         Woody Allen              Robert Greenhut   \n",
       "4        John Cornell                 John Cornell   \n",
       "\n",
       "                                Screenplay by                     Story by  \\\n",
       "0  [David Arnott, James Cappe, Daniel Waters]  [David Arnott, James Cappe]   \n",
       "1                [James Foley, Robert Redlin]                          NaN   \n",
       "2                  [John Eskow, Richard Rush]                          NaN   \n",
       "3                                         NaN                          NaN   \n",
       "4                                         NaN                          NaN   \n",
       "\n",
       "                                            Based on  \\\n",
       "0                        [Characters, by Rex Weiner]   \n",
       "1  [the novel, After Dark, My Sweet, by, Jim Thom...   \n",
       "2             [Air America, by, Christopher Robbins]   \n",
       "3                                                NaN   \n",
       "4                                                NaN   \n",
       "\n",
       "                                            Starring  ... Predecessor  \\\n",
       "0  [Andrew Dice Clay, Wayne Newton, Priscilla Pre...  ...         NaN   \n",
       "1  [Jason Patric, Rachel Ward, Bruce Dern, George...  ...         NaN   \n",
       "2  [Mel Gibson, Robert Downey Jr., Nancy Travis, ...  ...         NaN   \n",
       "3  [Alec Baldwin, Blythe Danner, Judy Davis, Mia ...  ...         NaN   \n",
       "4        [Paul Hogan, Elias Koteas, Linda Kozlowski]  ...         NaN   \n",
       "\n",
       "  Founders Area served Products Services Russian Hebrew Revenue  \\\n",
       "0      NaN         NaN      NaN      NaN     NaN    NaN     NaN   \n",
       "1      NaN         NaN      NaN      NaN     NaN    NaN     NaN   \n",
       "2      NaN         NaN      NaN      NaN     NaN    NaN     NaN   \n",
       "3      NaN         NaN      NaN      NaN     NaN    NaN     NaN   \n",
       "4      NaN         NaN      NaN      NaN     NaN    NaN     NaN   \n",
       "\n",
       "  Operating income Polish  \n",
       "0              NaN    NaN  \n",
       "1              NaN    NaN  \n",
       "2              NaN    NaN  \n",
       "3              NaN    NaN  \n",
       "4              NaN    NaN  \n",
       "\n",
       "[5 rows x 193 columns]"
      ]
     },
     "execution_count": 68,
     "metadata": {},
     "output_type": "execute_result"
    }
   ],
   "source": [
    "wiki_movies_df.head()"
   ]
  },
  {
   "cell_type": "code",
   "execution_count": 73,
   "metadata": {
    "execution": {
     "iopub.execute_input": "2020-11-14T04:35:38.860838Z",
     "iopub.status.busy": "2020-11-14T04:35:38.860838Z",
     "iopub.status.idle": "2020-11-14T04:35:38.893616Z",
     "shell.execute_reply": "2020-11-14T04:35:38.892620Z",
     "shell.execute_reply.started": "2020-11-14T04:35:38.860838Z"
    }
   },
   "outputs": [
    {
     "name": "stdout",
     "output_type": "stream",
     "text": [
      "['url', 'year', 'imdb_link', 'title', 'Directed by', 'Produced by', 'Screenplay by', 'Story by', 'Based on', 'Starring', 'Narrated by', 'Music by', 'Cinematography', 'Edited by', 'Productioncompany ', 'Distributed by', 'Release date', 'Running time', 'Country', 'Language', 'Budget', 'Box office', 'Written by', 'Genre', 'Theme music composer', 'Country of origin', 'Original language(s)', 'Producer(s)', 'Editor(s)', 'Production company(s)', 'Original network', 'Original release', 'Productioncompanies ', 'Executive producer(s)', 'Production location(s)', 'Distributor', 'Picture format', 'Audio format', 'Voices of', 'Followed by', 'Composer(s)', 'Created by', 'Also known as', 'Opening theme', 'No. of episodes', 'Preceded by', 'Author', 'Publisher', 'Publication date', 'Media type', 'Pages', 'ISBN', 'OCLC', 'LC Class', 'Cover artist', 'Series', 'Set in', 'Adaptation by', 'Suggested by', 'Biographical data', 'Born', 'Died', 'Resting place', 'Occupation', 'Years active', 'Spouse(s)', 'Children', 'Parent(s)', 'Genres', 'Instruments', 'Labels', 'Website', 'Traditional', 'Mandarin', 'Type', 'Industry', 'Fate', 'Founded', 'Founder', 'Headquarters', 'Parent', 'Released', 'Recorded', 'Venue', 'Length', 'Label', 'Director', 'Producer', 'Area', 'Coordinates', 'Status', 'Opening date', 'Closing date', 'Replaced', 'Replaced by', 'Name', 'Attraction type', 'Music', 'Duration', 'Simplified Chinese', 'Traditional Chinese', 'Hanyu Pinyin', 'Literal meaning', 'Transcriptions', 'Bopomofo', 'Gwoyeu Romatzyh', 'Wade–Giles', 'IPA', 'Yale Romanization', 'Jyutping', 'Hokkien POJ', 'Animation by', 'Color process', 'Engine(s)', 'Genre(s)', 'Actor control', 'Production company', 'Release(s)', 'Format(s)', 'Simplified', 'Characters', 'Date premiered', 'Place premiered', 'Setting', 'Original language', 'Subject', 'Published', 'Dewey Decimal', 'Text', 'Illustrator', 'Original title', 'Published in English', 'French', 'Developed by', 'Ending theme', 'No. of seasons', 'Nationality', 'Portrayed by', 'Alias', 'Species', 'Gender', 'Family', 'Alma mater', 'Camera setup', 'Novel(s)', 'Comics', 'Film(s)', 'Screen story by', 'Hangul', 'Revised Romanization', 'McCune–Reischauer', 'Developer(s)', 'Publisher(s)', 'Designer(s)', 'Programmer(s)', 'Artist(s)', 'Writer(s)', 'Engine', 'Platform(s)', 'Release', 'Mode(s)', 'Original work', 'Television series', 'Japanese', 'Hepburn', 'Literally', 'Cantonese', 'Full name', 'Height', 'Seasons', 'Chinese', 'Other names', 'Relatives', 'Yiddish', 'Formerly', 'Key people', 'Total assets', 'Owner', 'Number of employees', 'Divisions', 'Subsidiaries', 'Arabic', 'Romanized', 'Predecessor', 'Founders', 'Area served', 'Products', 'Services', 'Russian', 'Hebrew', 'Revenue', 'Operating income', 'Polish']\n"
     ]
    }
   ],
   "source": [
    "# reviewing the 193 columns \n",
    "print(wiki_movies_df.columns.to_list())"
   ]
  },
  {
   "cell_type": "markdown",
   "metadata": {},
   "source": [
    "___"
   ]
  },
  {
   "cell_type": "markdown",
   "metadata": {},
   "source": [
    "> list comprehensin breakdown "
   ]
  },
  {
   "cell_type": "code",
   "execution_count": 81,
   "metadata": {
    "execution": {
     "iopub.execute_input": "2020-11-14T17:20:11.481226Z",
     "iopub.status.busy": "2020-11-14T17:20:11.481226Z",
     "iopub.status.idle": "2020-11-14T17:20:11.488205Z",
     "shell.execute_reply": "2020-11-14T17:20:11.487208Z",
     "shell.execute_reply.started": "2020-11-14T17:20:11.481226Z"
    }
   },
   "outputs": [
    {
     "data": {
      "text/plain": [
       "{'url': 'https://en.wikipedia.org/wiki/The_Adventures_of_Ford_Fairlane',\n",
       " 'year': 1990,\n",
       " 'imdb_link': 'https://www.imdb.com/title/tt0098987/',\n",
       " 'title': 'The Adventures of Ford Fairlane',\n",
       " 'Directed by': 'Renny Harlin',\n",
       " 'Produced by': ['Steve Perry', 'Joel Silver'],\n",
       " 'Screenplay by': ['David Arnott', 'James Cappe', 'Daniel Waters'],\n",
       " 'Story by': ['David Arnott', 'James Cappe'],\n",
       " 'Based on': ['Characters', 'by Rex Weiner'],\n",
       " 'Starring': ['Andrew Dice Clay',\n",
       "  'Wayne Newton',\n",
       "  'Priscilla Presley',\n",
       "  'Lauren Holly',\n",
       "  'Morris Day',\n",
       "  'Robert Englund',\n",
       "  \"Ed O'Neill\"],\n",
       " 'Narrated by': 'Andrew \"Dice\" Clay',\n",
       " 'Music by': ['Cliff Eidelman', 'Yello'],\n",
       " 'Cinematography': 'Oliver Wood',\n",
       " 'Edited by': 'Michael Tronick',\n",
       " 'Productioncompany ': 'Silver Pictures',\n",
       " 'Distributed by': '20th Century Fox',\n",
       " 'Release date': ['July 11, 1990', '(', '1990-07-11', ')'],\n",
       " 'Running time': '102 minutes',\n",
       " 'Country': 'United States',\n",
       " 'Language': 'English',\n",
       " 'Budget': '$20 million',\n",
       " 'Box office': '$21.4 million'}"
      ]
     },
     "execution_count": 81,
     "metadata": {},
     "output_type": "execute_result"
    }
   ],
   "source": [
    "wiki_movies[0]"
   ]
  },
  {
   "cell_type": "code",
   "execution_count": 97,
   "metadata": {
    "execution": {
     "iopub.execute_input": "2020-11-14T17:39:42.201030Z",
     "iopub.status.busy": "2020-11-14T17:39:42.201030Z",
     "iopub.status.idle": "2020-11-14T17:39:42.206051Z",
     "shell.execute_reply": "2020-11-14T17:39:42.206051Z",
     "shell.execute_reply.started": "2020-11-14T17:39:42.201030Z"
    }
   },
   "outputs": [
    {
     "data": {
      "text/plain": [
       "[True]"
      ]
     },
     "execution_count": 97,
     "metadata": {},
     "output_type": "execute_result"
    }
   ],
   "source": [
    "['year' in wiki_movies[0]]"
   ]
  },
  {
   "cell_type": "code",
   "execution_count": 98,
   "metadata": {
    "execution": {
     "iopub.execute_input": "2020-11-14T17:40:00.378581Z",
     "iopub.status.busy": "2020-11-14T17:40:00.377583Z",
     "iopub.status.idle": "2020-11-14T17:40:00.411278Z",
     "shell.execute_reply": "2020-11-14T17:40:00.410286Z",
     "shell.execute_reply.started": "2020-11-14T17:40:00.378581Z"
    }
   },
   "outputs": [
    {
     "data": {
      "text/plain": [
       "[True]"
      ]
     },
     "execution_count": 98,
     "metadata": {},
     "output_type": "execute_result"
    }
   ],
   "source": [
    "['Budget' in wiki_movies_raw[0]]"
   ]
  },
  {
   "cell_type": "code",
   "execution_count": 124,
   "metadata": {
    "execution": {
     "iopub.execute_input": "2020-11-14T17:50:28.306790Z",
     "iopub.status.busy": "2020-11-14T17:50:28.305793Z",
     "iopub.status.idle": "2020-11-14T17:50:28.314769Z",
     "shell.execute_reply": "2020-11-14T17:50:28.313771Z",
     "shell.execute_reply.started": "2020-11-14T17:50:28.306790Z"
    }
   },
   "outputs": [
    {
     "data": {
      "text/plain": [
       "7153"
      ]
     },
     "execution_count": 124,
     "metadata": {},
     "output_type": "execute_result"
    }
   ],
   "source": [
    "samp_movie = [i for i in wiki_movies_raw if 'year' in i]\n",
    "len(samp_movie)"
   ]
  },
  {
   "cell_type": "markdown",
   "metadata": {},
   "source": [
    "-----"
   ]
  },
  {
   "cell_type": "code",
   "execution_count": 94,
   "metadata": {
    "execution": {
     "iopub.execute_input": "2020-11-14T17:38:34.971430Z",
     "iopub.status.busy": "2020-11-14T17:38:34.971430Z",
     "iopub.status.idle": "2020-11-14T17:38:34.978405Z",
     "shell.execute_reply": "2020-11-14T17:38:34.978405Z",
     "shell.execute_reply.started": "2020-11-14T17:38:34.971430Z"
    }
   },
   "outputs": [
    {
     "data": {
      "text/plain": [
       "7080"
      ]
     },
     "execution_count": 94,
     "metadata": {},
     "output_type": "execute_result"
    }
   ],
   "source": [
    "# use list comprehension to filter raw json data by criterias \n",
    "wiki_movies = [movie for movie in wiki_movies_raw\n",
    "               if ('Director' in movie or 'Directed by' in movie)\n",
    "                   and 'imdb_link' in movie]\n",
    "len(wiki_movies)"
   ]
  },
  {
   "cell_type": "code",
   "execution_count": null,
   "metadata": {},
   "outputs": [],
   "source": []
  }
 ],
 "metadata": {
  "kernelspec": {
   "display_name": "PythonData",
   "language": "python",
   "name": "pythondata"
  },
  "language_info": {
   "codemirror_mode": {
    "name": "ipython",
    "version": 3
   },
   "file_extension": ".py",
   "mimetype": "text/x-python",
   "name": "python",
   "nbconvert_exporter": "python",
   "pygments_lexer": "ipython3",
   "version": "3.7.9"
  }
 },
 "nbformat": 4,
 "nbformat_minor": 4
}
