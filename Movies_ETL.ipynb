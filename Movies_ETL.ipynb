{
 "cells": [
  {
   "cell_type": "code",
   "execution_count": 18,
   "metadata": {
    "execution": {
     "iopub.execute_input": "2020-11-16T21:31:11.134829Z",
     "iopub.status.busy": "2020-11-16T21:31:11.134829Z",
     "iopub.status.idle": "2020-11-16T21:31:11.148117Z",
     "shell.execute_reply": "2020-11-16T21:31:11.147129Z",
     "shell.execute_reply.started": "2020-11-16T21:31:11.134829Z"
    }
   },
   "outputs": [],
   "source": [
    "import json \n",
    "import pandas as pd \n",
    "import numpy as np \n",
    "import re"
   ]
  },
  {
   "cell_type": "code",
   "execution_count": 18,
   "metadata": {
    "execution": {
     "iopub.execute_input": "2020-11-13T23:32:41.837758Z",
     "iopub.status.busy": "2020-11-13T23:32:41.837758Z",
     "iopub.status.idle": "2020-11-13T23:32:41.842743Z",
     "shell.execute_reply": "2020-11-13T23:32:41.842743Z",
     "shell.execute_reply.started": "2020-11-13T23:32:41.837758Z"
    }
   },
   "outputs": [
    {
     "data": {
      "text/plain": [
       "'../Resource/wikipedia-movies.json'"
      ]
     },
     "execution_count": 18,
     "metadata": {},
     "output_type": "execute_result"
    }
   ],
   "source": [
    "file_dir = '../Resource/'\n",
    "f'{file_dir}wikipedia-movies.json'"
   ]
  },
  {
   "cell_type": "markdown",
   "metadata": {},
   "source": [
    "## EXTRACT"
   ]
  },
  {
   "cell_type": "markdown",
   "metadata": {
    "execution": {
     "iopub.execute_input": "2020-11-13T19:39:21.570029Z",
     "iopub.status.busy": "2020-11-13T19:39:21.568993Z",
     "iopub.status.idle": "2020-11-13T19:39:21.575486Z",
     "shell.execute_reply": "2020-11-13T19:39:21.574542Z",
     "shell.execute_reply.started": "2020-11-13T19:39:21.570029Z"
    }
   },
   "source": [
    "> load josn file -- into list of dicitonaries"
   ]
  },
  {
   "cell_type": "code",
   "execution_count": 19,
   "metadata": {
    "execution": {
     "iopub.execute_input": "2020-11-13T23:32:43.075137Z",
     "iopub.status.busy": "2020-11-13T23:32:43.075137Z",
     "iopub.status.idle": "2020-11-13T23:32:43.197877Z",
     "shell.execute_reply": "2020-11-13T23:32:43.197877Z",
     "shell.execute_reply.started": "2020-11-13T23:32:43.075137Z"
    }
   },
   "outputs": [],
   "source": [
    "with open(f'{file_dir}wikipedia-movies.json', mode='r') as file:\n",
    "    wiki_movies_raw = json.load(file)"
   ]
  },
  {
   "cell_type": "code",
   "execution_count": 20,
   "metadata": {
    "execution": {
     "iopub.execute_input": "2020-11-13T23:32:45.526613Z",
     "iopub.status.busy": "2020-11-13T23:32:45.526613Z",
     "iopub.status.idle": "2020-11-13T23:32:45.532123Z",
     "shell.execute_reply": "2020-11-13T23:32:45.531599Z",
     "shell.execute_reply.started": "2020-11-13T23:32:45.526613Z"
    }
   },
   "outputs": [
    {
     "data": {
      "text/plain": [
       "7311"
      ]
     },
     "execution_count": 20,
     "metadata": {},
     "output_type": "execute_result"
    }
   ],
   "source": [
    "len(wiki_movies_raw)"
   ]
  },
  {
   "cell_type": "code",
   "execution_count": 21,
   "metadata": {
    "execution": {
     "iopub.execute_input": "2020-11-13T23:32:46.494747Z",
     "iopub.status.busy": "2020-11-13T23:32:46.494747Z",
     "iopub.status.idle": "2020-11-13T23:32:46.501728Z",
     "shell.execute_reply": "2020-11-13T23:32:46.500741Z",
     "shell.execute_reply.started": "2020-11-13T23:32:46.494747Z"
    }
   },
   "outputs": [
    {
     "data": {
      "text/plain": [
       "dict_keys(['url', 'year', 'imdb_link', 'title', 'Directed by', 'Produced by', 'Screenplay by', 'Story by', 'Based on', 'Starring', 'Narrated by', 'Music by', 'Cinematography', 'Edited by', 'Productioncompany ', 'Distributed by', 'Release date', 'Running time', 'Country', 'Language', 'Budget', 'Box office'])"
      ]
     },
     "execution_count": 21,
     "metadata": {},
     "output_type": "execute_result"
    }
   ],
   "source": [
    "wiki_movies_raw[0].keys()"
   ]
  },
  {
   "cell_type": "code",
   "execution_count": 22,
   "metadata": {
    "execution": {
     "iopub.execute_input": "2020-11-13T23:32:47.461636Z",
     "iopub.status.busy": "2020-11-13T23:32:47.461636Z",
     "iopub.status.idle": "2020-11-13T23:32:47.467144Z",
     "shell.execute_reply": "2020-11-13T23:32:47.466623Z",
     "shell.execute_reply.started": "2020-11-13T23:32:47.461636Z"
    }
   },
   "outputs": [
    {
     "data": {
      "text/plain": [
       "dict_keys(['url', 'year', 'imdb_link', 'title', 'Directed by', 'Produced by', 'Written by', 'Starring', 'Distributed by', 'Release date', 'Running time', 'Language', 'Box office'])"
      ]
     },
     "execution_count": 22,
     "metadata": {},
     "output_type": "execute_result"
    }
   ],
   "source": [
    "wiki_movies_raw[3609].keys()"
   ]
  },
  {
   "cell_type": "code",
   "execution_count": 23,
   "metadata": {
    "execution": {
     "iopub.execute_input": "2020-11-13T23:32:48.159402Z",
     "iopub.status.busy": "2020-11-13T23:32:48.159402Z",
     "iopub.status.idle": "2020-11-13T23:32:48.165597Z",
     "shell.execute_reply": "2020-11-13T23:32:48.165597Z",
     "shell.execute_reply.started": "2020-11-13T23:32:48.159402Z"
    }
   },
   "outputs": [
    {
     "data": {
      "text/plain": [
       "{'url': 'https://en.wikipedia.org/wiki/Book_of_Love_(2004_film)',\n",
       " 'year': 2004,\n",
       " 'imdb_link': 'https://www.imdb.com/title/tt0376006/',\n",
       " 'title': 'Book of Love',\n",
       " 'Directed by': 'Alan Brown',\n",
       " 'Produced by': 'Robert Ahrens',\n",
       " 'Written by': 'Alan Brown',\n",
       " 'Starring': [\"Frances O'Connor\",\n",
       "  'Bryce Dallas Howard',\n",
       "  'Simon Baker',\n",
       "  'Gregory Smith'],\n",
       " 'Distributed by': 'Sundance',\n",
       " 'Release date': ['January 18, 2004', '(', '2004-01-18', ')'],\n",
       " 'Running time': '83 min',\n",
       " 'Language': 'English',\n",
       " 'Box office': '$1,382,259'}"
      ]
     },
     "execution_count": 23,
     "metadata": {},
     "output_type": "execute_result"
    }
   ],
   "source": [
    "wiki_movies_raw[3609]"
   ]
  },
  {
   "cell_type": "code",
   "execution_count": 24,
   "metadata": {
    "execution": {
     "iopub.execute_input": "2020-11-13T23:32:49.735699Z",
     "iopub.status.busy": "2020-11-13T23:32:49.735699Z",
     "iopub.status.idle": "2020-11-13T23:32:49.742201Z",
     "shell.execute_reply": "2020-11-13T23:32:49.741683Z",
     "shell.execute_reply.started": "2020-11-13T23:32:49.735699Z"
    }
   },
   "outputs": [
    {
     "data": {
      "text/plain": [
       "dict_keys(['url', 'year', 'imdb_link', 'title', 'Directed by', 'Produced by', 'Screenplay by', 'Based on', 'Starring', 'Music by', 'Cinematography', 'Edited by', 'Productioncompanies ', 'Distributed by', 'Release date', 'Running time', 'Country', 'Language', 'Budget', 'Box office'])"
      ]
     },
     "execution_count": 24,
     "metadata": {},
     "output_type": "execute_result"
    }
   ],
   "source": [
    "wiki_movies_raw[-5].keys()"
   ]
  },
  {
   "cell_type": "code",
   "execution_count": 25,
   "metadata": {
    "execution": {
     "iopub.execute_input": "2020-11-13T23:32:52.636628Z",
     "iopub.status.busy": "2020-11-13T23:32:52.636628Z",
     "iopub.status.idle": "2020-11-13T23:32:52.642729Z",
     "shell.execute_reply": "2020-11-13T23:32:52.642729Z",
     "shell.execute_reply.started": "2020-11-13T23:32:52.636628Z"
    }
   },
   "outputs": [
    {
     "data": {
      "text/plain": [
       "{'url': 'https://en.wikipedia.org/wiki/Holmes_%26_Watson',\n",
       " 'year': 2018,\n",
       " 'imdb_link': 'https://www.imdb.com/title/tt1255919/',\n",
       " 'title': 'Holmes & Watson',\n",
       " 'Directed by': 'Etan Cohen',\n",
       " 'Produced by': ['Will Ferrell',\n",
       "  'Adam McKay',\n",
       "  'Jimmy Miller',\n",
       "  'Clayton Townsend'],\n",
       " 'Screenplay by': 'Etan Cohen',\n",
       " 'Based on': ['Sherlock Holmes',\n",
       "  'and',\n",
       "  'Dr. Watson',\n",
       "  'by',\n",
       "  'Sir Arthur Conan Doyle'],\n",
       " 'Starring': ['Will Ferrell',\n",
       "  'John C. Reilly',\n",
       "  'Rebecca Hall',\n",
       "  'Rob Brydon',\n",
       "  'Steve Coogan',\n",
       "  'Ralph Fiennes'],\n",
       " 'Music by': 'Mark Mothersbaugh',\n",
       " 'Cinematography': 'Oliver Wood',\n",
       " 'Edited by': 'Dean Zimmerman',\n",
       " 'Productioncompanies ': ['Columbia Pictures',\n",
       "  'Gary Sanchez Productions',\n",
       "  'Mosaic Media Group',\n",
       "  'Mimran Schur Pictures'],\n",
       " 'Distributed by': 'Sony Pictures Releasing',\n",
       " 'Release date': ['December 25, 2018',\n",
       "  '(',\n",
       "  '2018-12-25',\n",
       "  ')',\n",
       "  '(United States)'],\n",
       " 'Running time': '90 minutes',\n",
       " 'Country': 'United States',\n",
       " 'Language': 'English',\n",
       " 'Budget': '$42 million',\n",
       " 'Box office': '$41.9 million'}"
      ]
     },
     "execution_count": 25,
     "metadata": {},
     "output_type": "execute_result"
    }
   ],
   "source": [
    "wiki_movies_raw[-5]"
   ]
  },
  {
   "cell_type": "code",
   "execution_count": 157,
   "metadata": {
    "execution": {
     "iopub.execute_input": "2020-11-18T18:56:11.052717Z",
     "iopub.status.busy": "2020-11-18T18:56:11.050698Z",
     "iopub.status.idle": "2020-11-18T18:56:11.801055Z",
     "shell.execute_reply": "2020-11-18T18:56:11.800349Z",
     "shell.execute_reply.started": "2020-11-18T18:56:11.052717Z"
    }
   },
   "outputs": [],
   "source": [
    "kaggle_metadata = pd.read_csv('C:/Users/Donne/OneDrive/UT_Data_Analytics/Analysis Projects/Mod8_Movies_ETL/Resource/movies_metadata.csv', low_memory=False)"
   ]
  },
  {
   "cell_type": "code",
   "execution_count": 200,
   "metadata": {
    "execution": {
     "iopub.execute_input": "2020-11-18T21:03:51.133886Z",
     "iopub.status.busy": "2020-11-18T21:03:51.133886Z",
     "iopub.status.idle": "2020-11-18T21:03:59.591807Z",
     "shell.execute_reply": "2020-11-18T21:03:59.590809Z",
     "shell.execute_reply.started": "2020-11-18T21:03:51.133886Z"
    }
   },
   "outputs": [],
   "source": [
    "ratings = pd.read_csv('C:/users/Donne/OneDrive/UT_Data_Analytics/Analysis Projects/Mod8_Movies_ETL/Resource/ratings.csv')"
   ]
  },
  {
   "cell_type": "code",
   "execution_count": 158,
   "metadata": {
    "execution": {
     "iopub.execute_input": "2020-11-18T18:56:13.724101Z",
     "iopub.status.busy": "2020-11-18T18:56:13.724101Z",
     "iopub.status.idle": "2020-11-18T18:56:13.731107Z",
     "shell.execute_reply": "2020-11-18T18:56:13.731107Z",
     "shell.execute_reply.started": "2020-11-18T18:56:13.724101Z"
    }
   },
   "outputs": [
    {
     "data": {
      "text/plain": [
       "(45466, 24)"
      ]
     },
     "execution_count": 158,
     "metadata": {},
     "output_type": "execute_result"
    },
    {
     "data": {
      "text/plain": [
       "(100004, 4)"
      ]
     },
     "execution_count": 158,
     "metadata": {},
     "output_type": "execute_result"
    }
   ],
   "source": [
    "kaggle_metadata.shape\n",
    "ratings.shape"
   ]
  },
  {
   "cell_type": "code",
   "execution_count": 159,
   "metadata": {
    "execution": {
     "iopub.execute_input": "2020-11-18T18:56:25.580569Z",
     "iopub.status.busy": "2020-11-18T18:56:25.580569Z",
     "iopub.status.idle": "2020-11-18T18:56:25.605497Z",
     "shell.execute_reply": "2020-11-18T18:56:25.605497Z",
     "shell.execute_reply.started": "2020-11-18T18:56:25.580569Z"
    }
   },
   "outputs": [
    {
     "data": {
      "text/plain": [
       "\"[{'iso_639_1': 'en', 'name': 'English'}, {'iso_639_1': 'fr', 'name': 'Français'}, {'iso_639_1': 'de', 'name': 'Deutsch'}, {'iso_639_1': 'it', 'name': 'Italiano'}]\""
      ]
     },
     "execution_count": 159,
     "metadata": {},
     "output_type": "execute_result"
    }
   ],
   "source": [
    "kaggle_metadata.loc[2076]['spoken_languages']"
   ]
  },
  {
   "cell_type": "code",
   "execution_count": 160,
   "metadata": {
    "execution": {
     "iopub.execute_input": "2020-11-18T18:56:26.603881Z",
     "iopub.status.busy": "2020-11-18T18:56:26.602858Z",
     "iopub.status.idle": "2020-11-18T18:56:26.663528Z",
     "shell.execute_reply": "2020-11-18T18:56:26.663528Z",
     "shell.execute_reply.started": "2020-11-18T18:56:26.603881Z"
    }
   },
   "outputs": [
    {
     "data": {
      "text/html": [
       "<div>\n",
       "<style scoped>\n",
       "    .dataframe tbody tr th:only-of-type {\n",
       "        vertical-align: middle;\n",
       "    }\n",
       "\n",
       "    .dataframe tbody tr th {\n",
       "        vertical-align: top;\n",
       "    }\n",
       "\n",
       "    .dataframe thead th {\n",
       "        text-align: right;\n",
       "    }\n",
       "</style>\n",
       "<table border=\"1\" class=\"dataframe\">\n",
       "  <thead>\n",
       "    <tr style=\"text-align: right;\">\n",
       "      <th></th>\n",
       "      <th>adult</th>\n",
       "      <th>belongs_to_collection</th>\n",
       "      <th>budget</th>\n",
       "      <th>genres</th>\n",
       "      <th>homepage</th>\n",
       "      <th>id</th>\n",
       "      <th>imdb_id</th>\n",
       "      <th>original_language</th>\n",
       "      <th>original_title</th>\n",
       "      <th>overview</th>\n",
       "      <th>...</th>\n",
       "      <th>release_date</th>\n",
       "      <th>revenue</th>\n",
       "      <th>runtime</th>\n",
       "      <th>spoken_languages</th>\n",
       "      <th>status</th>\n",
       "      <th>tagline</th>\n",
       "      <th>title</th>\n",
       "      <th>video</th>\n",
       "      <th>vote_average</th>\n",
       "      <th>vote_count</th>\n",
       "    </tr>\n",
       "  </thead>\n",
       "  <tbody>\n",
       "    <tr>\n",
       "      <th>3913</th>\n",
       "      <td>False</td>\n",
       "      <td>NaN</td>\n",
       "      <td>4000000</td>\n",
       "      <td>[{'id': 18, 'name': 'Drama'}, {'id': 28, 'name...</td>\n",
       "      <td>NaN</td>\n",
       "      <td>31583</td>\n",
       "      <td>tt0097662</td>\n",
       "      <td>en</td>\n",
       "      <td>Kill Me Again</td>\n",
       "      <td>After Faye and her psychotic boyfriend, Vince,...</td>\n",
       "      <td>...</td>\n",
       "      <td>1989-10-27</td>\n",
       "      <td>0.0</td>\n",
       "      <td>94.0</td>\n",
       "      <td>[{'iso_639_1': 'en', 'name': 'English'}]</td>\n",
       "      <td>Released</td>\n",
       "      <td>Her last request was his first mistake.</td>\n",
       "      <td>Kill Me Again</td>\n",
       "      <td>False</td>\n",
       "      <td>5.7</td>\n",
       "      <td>21.0</td>\n",
       "    </tr>\n",
       "    <tr>\n",
       "      <th>12645</th>\n",
       "      <td>False</td>\n",
       "      <td>NaN</td>\n",
       "      <td>750000</td>\n",
       "      <td>[{'id': 27, 'name': 'Horror'}, {'id': 9648, 'n...</td>\n",
       "      <td>http://www.mandylane.co.uk</td>\n",
       "      <td>9022</td>\n",
       "      <td>tt0490076</td>\n",
       "      <td>en</td>\n",
       "      <td>All the Boys Love Mandy Lane</td>\n",
       "      <td>Beautiful Mandy Lane isn't a party girl but, w...</td>\n",
       "      <td>...</td>\n",
       "      <td>2008-02-15</td>\n",
       "      <td>0.0</td>\n",
       "      <td>90.0</td>\n",
       "      <td>[{'iso_639_1': 'en', 'name': 'English'}]</td>\n",
       "      <td>Released</td>\n",
       "      <td>Everyone is dying to be with her. Someone is k...</td>\n",
       "      <td>All the Boys Love Mandy Lane</td>\n",
       "      <td>False</td>\n",
       "      <td>5.7</td>\n",
       "      <td>211.0</td>\n",
       "    </tr>\n",
       "    <tr>\n",
       "      <th>16138</th>\n",
       "      <td>False</td>\n",
       "      <td>{'id': 158373, 'name': 'The Lost Skeleton Coll...</td>\n",
       "      <td>600</td>\n",
       "      <td>[{'id': 35, 'name': 'Comedy'}, {'id': 27, 'nam...</td>\n",
       "      <td>http://www.lostskeletonreturnsagain.com/</td>\n",
       "      <td>44687</td>\n",
       "      <td>tt1199494</td>\n",
       "      <td>en</td>\n",
       "      <td>The Lost Skeleton Returns Again</td>\n",
       "      <td>THE LOST SKELETON RETURNS AGAIN takes on a who...</td>\n",
       "      <td>...</td>\n",
       "      <td>2010-08-17</td>\n",
       "      <td>0.0</td>\n",
       "      <td>93.0</td>\n",
       "      <td>[{'iso_639_1': 'en', 'name': 'English'}]</td>\n",
       "      <td>Released</td>\n",
       "      <td>So Terrifying You'll Wish It Were Only a Movie!</td>\n",
       "      <td>The Lost Skeleton Returns Again</td>\n",
       "      <td>False</td>\n",
       "      <td>7.0</td>\n",
       "      <td>9.0</td>\n",
       "    </tr>\n",
       "  </tbody>\n",
       "</table>\n",
       "<p>3 rows × 24 columns</p>\n",
       "</div>"
      ],
      "text/plain": [
       "       adult                              belongs_to_collection   budget  \\\n",
       "3913   False                                                NaN  4000000   \n",
       "12645  False                                                NaN   750000   \n",
       "16138  False  {'id': 158373, 'name': 'The Lost Skeleton Coll...      600   \n",
       "\n",
       "                                                  genres  \\\n",
       "3913   [{'id': 18, 'name': 'Drama'}, {'id': 28, 'name...   \n",
       "12645  [{'id': 27, 'name': 'Horror'}, {'id': 9648, 'n...   \n",
       "16138  [{'id': 35, 'name': 'Comedy'}, {'id': 27, 'nam...   \n",
       "\n",
       "                                       homepage     id    imdb_id  \\\n",
       "3913                                        NaN  31583  tt0097662   \n",
       "12645                http://www.mandylane.co.uk   9022  tt0490076   \n",
       "16138  http://www.lostskeletonreturnsagain.com/  44687  tt1199494   \n",
       "\n",
       "      original_language                   original_title  \\\n",
       "3913                 en                    Kill Me Again   \n",
       "12645                en     All the Boys Love Mandy Lane   \n",
       "16138                en  The Lost Skeleton Returns Again   \n",
       "\n",
       "                                                overview  ... release_date  \\\n",
       "3913   After Faye and her psychotic boyfriend, Vince,...  ...   1989-10-27   \n",
       "12645  Beautiful Mandy Lane isn't a party girl but, w...  ...   2008-02-15   \n",
       "16138  THE LOST SKELETON RETURNS AGAIN takes on a who...  ...   2010-08-17   \n",
       "\n",
       "      revenue runtime                          spoken_languages    status  \\\n",
       "3913      0.0    94.0  [{'iso_639_1': 'en', 'name': 'English'}]  Released   \n",
       "12645     0.0    90.0  [{'iso_639_1': 'en', 'name': 'English'}]  Released   \n",
       "16138     0.0    93.0  [{'iso_639_1': 'en', 'name': 'English'}]  Released   \n",
       "\n",
       "                                                 tagline  \\\n",
       "3913             Her last request was his first mistake.   \n",
       "12645  Everyone is dying to be with her. Someone is k...   \n",
       "16138    So Terrifying You'll Wish It Were Only a Movie!   \n",
       "\n",
       "                                 title  video vote_average vote_count  \n",
       "3913                     Kill Me Again  False          5.7       21.0  \n",
       "12645     All the Boys Love Mandy Lane  False          5.7      211.0  \n",
       "16138  The Lost Skeleton Returns Again  False          7.0        9.0  \n",
       "\n",
       "[3 rows x 24 columns]"
      ]
     },
     "execution_count": 160,
     "metadata": {},
     "output_type": "execute_result"
    }
   ],
   "source": [
    "kaggle_metadata.sample(3)"
   ]
  },
  {
   "cell_type": "code",
   "execution_count": 47,
   "metadata": {
    "execution": {
     "iopub.execute_input": "2020-11-14T03:10:02.645514Z",
     "iopub.status.busy": "2020-11-14T03:10:02.645514Z",
     "iopub.status.idle": "2020-11-14T03:10:02.657683Z",
     "shell.execute_reply": "2020-11-14T03:10:02.657683Z",
     "shell.execute_reply.started": "2020-11-14T03:10:02.645514Z"
    }
   },
   "outputs": [
    {
     "data": {
      "text/html": [
       "<div>\n",
       "<style scoped>\n",
       "    .dataframe tbody tr th:only-of-type {\n",
       "        vertical-align: middle;\n",
       "    }\n",
       "\n",
       "    .dataframe tbody tr th {\n",
       "        vertical-align: top;\n",
       "    }\n",
       "\n",
       "    .dataframe thead th {\n",
       "        text-align: right;\n",
       "    }\n",
       "</style>\n",
       "<table border=\"1\" class=\"dataframe\">\n",
       "  <thead>\n",
       "    <tr style=\"text-align: right;\">\n",
       "      <th></th>\n",
       "      <th>userId</th>\n",
       "      <th>movieId</th>\n",
       "      <th>rating</th>\n",
       "      <th>timestamp</th>\n",
       "    </tr>\n",
       "  </thead>\n",
       "  <tbody>\n",
       "    <tr>\n",
       "      <th>11223</th>\n",
       "      <td>73</td>\n",
       "      <td>27706</td>\n",
       "      <td>3.0</td>\n",
       "      <td>1255596884</td>\n",
       "    </tr>\n",
       "    <tr>\n",
       "      <th>88414</th>\n",
       "      <td>587</td>\n",
       "      <td>3168</td>\n",
       "      <td>4.0</td>\n",
       "      <td>1123001592</td>\n",
       "    </tr>\n",
       "    <tr>\n",
       "      <th>7371</th>\n",
       "      <td>47</td>\n",
       "      <td>588</td>\n",
       "      <td>4.0</td>\n",
       "      <td>832228859</td>\n",
       "    </tr>\n",
       "    <tr>\n",
       "      <th>65538</th>\n",
       "      <td>466</td>\n",
       "      <td>2395</td>\n",
       "      <td>4.0</td>\n",
       "      <td>944979809</td>\n",
       "    </tr>\n",
       "    <tr>\n",
       "      <th>8673</th>\n",
       "      <td>56</td>\n",
       "      <td>89759</td>\n",
       "      <td>4.0</td>\n",
       "      <td>1467003383</td>\n",
       "    </tr>\n",
       "  </tbody>\n",
       "</table>\n",
       "</div>"
      ],
      "text/plain": [
       "       userId  movieId  rating   timestamp\n",
       "11223      73    27706     3.0  1255596884\n",
       "88414     587     3168     4.0  1123001592\n",
       "7371       47      588     4.0   832228859\n",
       "65538     466     2395     4.0   944979809\n",
       "8673       56    89759     4.0  1467003383"
      ]
     },
     "execution_count": 47,
     "metadata": {},
     "output_type": "execute_result"
    }
   ],
   "source": [
    "ratings.sample(5)"
   ]
  },
  {
   "cell_type": "markdown",
   "metadata": {},
   "source": [
    ">##  Transform "
   ]
  },
  {
   "cell_type": "code",
   "execution_count": 67,
   "metadata": {
    "execution": {
     "iopub.execute_input": "2020-11-14T04:31:25.951937Z",
     "iopub.status.busy": "2020-11-14T04:31:25.949943Z",
     "iopub.status.idle": "2020-11-14T04:31:26.270233Z",
     "shell.execute_reply": "2020-11-14T04:31:26.269793Z",
     "shell.execute_reply.started": "2020-11-14T04:31:25.950940Z"
    }
   },
   "outputs": [],
   "source": [
    "wiki_movies_df = pd.DataFrame(wiki_movies_raw)"
   ]
  },
  {
   "cell_type": "code",
   "execution_count": 69,
   "metadata": {
    "execution": {
     "iopub.execute_input": "2020-11-14T04:34:34.955103Z",
     "iopub.status.busy": "2020-11-14T04:34:34.954106Z",
     "iopub.status.idle": "2020-11-14T04:34:34.960288Z",
     "shell.execute_reply": "2020-11-14T04:34:34.960288Z",
     "shell.execute_reply.started": "2020-11-14T04:34:34.955103Z"
    }
   },
   "outputs": [
    {
     "data": {
      "text/plain": [
       "(7311, 193)"
      ]
     },
     "execution_count": 69,
     "metadata": {},
     "output_type": "execute_result"
    }
   ],
   "source": [
    "wiki_movies_df.shape"
   ]
  },
  {
   "cell_type": "code",
   "execution_count": 68,
   "metadata": {
    "execution": {
     "iopub.execute_input": "2020-11-14T04:33:37.286386Z",
     "iopub.status.busy": "2020-11-14T04:33:37.286386Z",
     "iopub.status.idle": "2020-11-14T04:33:37.349232Z",
     "shell.execute_reply": "2020-11-14T04:33:37.348235Z",
     "shell.execute_reply.started": "2020-11-14T04:33:37.286386Z"
    }
   },
   "outputs": [
    {
     "data": {
      "text/html": [
       "<div>\n",
       "<style scoped>\n",
       "    .dataframe tbody tr th:only-of-type {\n",
       "        vertical-align: middle;\n",
       "    }\n",
       "\n",
       "    .dataframe tbody tr th {\n",
       "        vertical-align: top;\n",
       "    }\n",
       "\n",
       "    .dataframe thead th {\n",
       "        text-align: right;\n",
       "    }\n",
       "</style>\n",
       "<table border=\"1\" class=\"dataframe\">\n",
       "  <thead>\n",
       "    <tr style=\"text-align: right;\">\n",
       "      <th></th>\n",
       "      <th>url</th>\n",
       "      <th>year</th>\n",
       "      <th>imdb_link</th>\n",
       "      <th>title</th>\n",
       "      <th>Directed by</th>\n",
       "      <th>Produced by</th>\n",
       "      <th>Screenplay by</th>\n",
       "      <th>Story by</th>\n",
       "      <th>Based on</th>\n",
       "      <th>Starring</th>\n",
       "      <th>...</th>\n",
       "      <th>Predecessor</th>\n",
       "      <th>Founders</th>\n",
       "      <th>Area served</th>\n",
       "      <th>Products</th>\n",
       "      <th>Services</th>\n",
       "      <th>Russian</th>\n",
       "      <th>Hebrew</th>\n",
       "      <th>Revenue</th>\n",
       "      <th>Operating income</th>\n",
       "      <th>Polish</th>\n",
       "    </tr>\n",
       "  </thead>\n",
       "  <tbody>\n",
       "    <tr>\n",
       "      <th>0</th>\n",
       "      <td>https://en.wikipedia.org/wiki/The_Adventures_o...</td>\n",
       "      <td>1990.0</td>\n",
       "      <td>https://www.imdb.com/title/tt0098987/</td>\n",
       "      <td>The Adventures of Ford Fairlane</td>\n",
       "      <td>Renny Harlin</td>\n",
       "      <td>[Steve Perry, Joel Silver]</td>\n",
       "      <td>[David Arnott, James Cappe, Daniel Waters]</td>\n",
       "      <td>[David Arnott, James Cappe]</td>\n",
       "      <td>[Characters, by Rex Weiner]</td>\n",
       "      <td>[Andrew Dice Clay, Wayne Newton, Priscilla Pre...</td>\n",
       "      <td>...</td>\n",
       "      <td>NaN</td>\n",
       "      <td>NaN</td>\n",
       "      <td>NaN</td>\n",
       "      <td>NaN</td>\n",
       "      <td>NaN</td>\n",
       "      <td>NaN</td>\n",
       "      <td>NaN</td>\n",
       "      <td>NaN</td>\n",
       "      <td>NaN</td>\n",
       "      <td>NaN</td>\n",
       "    </tr>\n",
       "    <tr>\n",
       "      <th>1</th>\n",
       "      <td>https://en.wikipedia.org/wiki/After_Dark,_My_S...</td>\n",
       "      <td>1990.0</td>\n",
       "      <td>https://www.imdb.com/title/tt0098994/</td>\n",
       "      <td>After Dark, My Sweet</td>\n",
       "      <td>James Foley</td>\n",
       "      <td>[Ric Kidney, Robert Redlin]</td>\n",
       "      <td>[James Foley, Robert Redlin]</td>\n",
       "      <td>NaN</td>\n",
       "      <td>[the novel, After Dark, My Sweet, by, Jim Thom...</td>\n",
       "      <td>[Jason Patric, Rachel Ward, Bruce Dern, George...</td>\n",
       "      <td>...</td>\n",
       "      <td>NaN</td>\n",
       "      <td>NaN</td>\n",
       "      <td>NaN</td>\n",
       "      <td>NaN</td>\n",
       "      <td>NaN</td>\n",
       "      <td>NaN</td>\n",
       "      <td>NaN</td>\n",
       "      <td>NaN</td>\n",
       "      <td>NaN</td>\n",
       "      <td>NaN</td>\n",
       "    </tr>\n",
       "    <tr>\n",
       "      <th>2</th>\n",
       "      <td>https://en.wikipedia.org/wiki/Air_America_(film)</td>\n",
       "      <td>1990.0</td>\n",
       "      <td>https://www.imdb.com/title/tt0099005/</td>\n",
       "      <td>Air America</td>\n",
       "      <td>Roger Spottiswoode</td>\n",
       "      <td>Daniel Melnick</td>\n",
       "      <td>[John Eskow, Richard Rush]</td>\n",
       "      <td>NaN</td>\n",
       "      <td>[Air America, by, Christopher Robbins]</td>\n",
       "      <td>[Mel Gibson, Robert Downey Jr., Nancy Travis, ...</td>\n",
       "      <td>...</td>\n",
       "      <td>NaN</td>\n",
       "      <td>NaN</td>\n",
       "      <td>NaN</td>\n",
       "      <td>NaN</td>\n",
       "      <td>NaN</td>\n",
       "      <td>NaN</td>\n",
       "      <td>NaN</td>\n",
       "      <td>NaN</td>\n",
       "      <td>NaN</td>\n",
       "      <td>NaN</td>\n",
       "    </tr>\n",
       "    <tr>\n",
       "      <th>3</th>\n",
       "      <td>https://en.wikipedia.org/wiki/Alice_(1990_film)</td>\n",
       "      <td>1990.0</td>\n",
       "      <td>https://www.imdb.com/title/tt0099012/</td>\n",
       "      <td>Alice</td>\n",
       "      <td>Woody Allen</td>\n",
       "      <td>Robert Greenhut</td>\n",
       "      <td>NaN</td>\n",
       "      <td>NaN</td>\n",
       "      <td>NaN</td>\n",
       "      <td>[Alec Baldwin, Blythe Danner, Judy Davis, Mia ...</td>\n",
       "      <td>...</td>\n",
       "      <td>NaN</td>\n",
       "      <td>NaN</td>\n",
       "      <td>NaN</td>\n",
       "      <td>NaN</td>\n",
       "      <td>NaN</td>\n",
       "      <td>NaN</td>\n",
       "      <td>NaN</td>\n",
       "      <td>NaN</td>\n",
       "      <td>NaN</td>\n",
       "      <td>NaN</td>\n",
       "    </tr>\n",
       "    <tr>\n",
       "      <th>4</th>\n",
       "      <td>https://en.wikipedia.org/wiki/Almost_an_Angel</td>\n",
       "      <td>1990.0</td>\n",
       "      <td>https://www.imdb.com/title/tt0099018/</td>\n",
       "      <td>Almost an Angel</td>\n",
       "      <td>John Cornell</td>\n",
       "      <td>John Cornell</td>\n",
       "      <td>NaN</td>\n",
       "      <td>NaN</td>\n",
       "      <td>NaN</td>\n",
       "      <td>[Paul Hogan, Elias Koteas, Linda Kozlowski]</td>\n",
       "      <td>...</td>\n",
       "      <td>NaN</td>\n",
       "      <td>NaN</td>\n",
       "      <td>NaN</td>\n",
       "      <td>NaN</td>\n",
       "      <td>NaN</td>\n",
       "      <td>NaN</td>\n",
       "      <td>NaN</td>\n",
       "      <td>NaN</td>\n",
       "      <td>NaN</td>\n",
       "      <td>NaN</td>\n",
       "    </tr>\n",
       "  </tbody>\n",
       "</table>\n",
       "<p>5 rows × 193 columns</p>\n",
       "</div>"
      ],
      "text/plain": [
       "                                                 url    year  \\\n",
       "0  https://en.wikipedia.org/wiki/The_Adventures_o...  1990.0   \n",
       "1  https://en.wikipedia.org/wiki/After_Dark,_My_S...  1990.0   \n",
       "2   https://en.wikipedia.org/wiki/Air_America_(film)  1990.0   \n",
       "3    https://en.wikipedia.org/wiki/Alice_(1990_film)  1990.0   \n",
       "4      https://en.wikipedia.org/wiki/Almost_an_Angel  1990.0   \n",
       "\n",
       "                               imdb_link                            title  \\\n",
       "0  https://www.imdb.com/title/tt0098987/  The Adventures of Ford Fairlane   \n",
       "1  https://www.imdb.com/title/tt0098994/             After Dark, My Sweet   \n",
       "2  https://www.imdb.com/title/tt0099005/                      Air America   \n",
       "3  https://www.imdb.com/title/tt0099012/                            Alice   \n",
       "4  https://www.imdb.com/title/tt0099018/                  Almost an Angel   \n",
       "\n",
       "          Directed by                  Produced by  \\\n",
       "0        Renny Harlin   [Steve Perry, Joel Silver]   \n",
       "1         James Foley  [Ric Kidney, Robert Redlin]   \n",
       "2  Roger Spottiswoode               Daniel Melnick   \n",
       "3         Woody Allen              Robert Greenhut   \n",
       "4        John Cornell                 John Cornell   \n",
       "\n",
       "                                Screenplay by                     Story by  \\\n",
       "0  [David Arnott, James Cappe, Daniel Waters]  [David Arnott, James Cappe]   \n",
       "1                [James Foley, Robert Redlin]                          NaN   \n",
       "2                  [John Eskow, Richard Rush]                          NaN   \n",
       "3                                         NaN                          NaN   \n",
       "4                                         NaN                          NaN   \n",
       "\n",
       "                                            Based on  \\\n",
       "0                        [Characters, by Rex Weiner]   \n",
       "1  [the novel, After Dark, My Sweet, by, Jim Thom...   \n",
       "2             [Air America, by, Christopher Robbins]   \n",
       "3                                                NaN   \n",
       "4                                                NaN   \n",
       "\n",
       "                                            Starring  ... Predecessor  \\\n",
       "0  [Andrew Dice Clay, Wayne Newton, Priscilla Pre...  ...         NaN   \n",
       "1  [Jason Patric, Rachel Ward, Bruce Dern, George...  ...         NaN   \n",
       "2  [Mel Gibson, Robert Downey Jr., Nancy Travis, ...  ...         NaN   \n",
       "3  [Alec Baldwin, Blythe Danner, Judy Davis, Mia ...  ...         NaN   \n",
       "4        [Paul Hogan, Elias Koteas, Linda Kozlowski]  ...         NaN   \n",
       "\n",
       "  Founders Area served Products Services Russian Hebrew Revenue  \\\n",
       "0      NaN         NaN      NaN      NaN     NaN    NaN     NaN   \n",
       "1      NaN         NaN      NaN      NaN     NaN    NaN     NaN   \n",
       "2      NaN         NaN      NaN      NaN     NaN    NaN     NaN   \n",
       "3      NaN         NaN      NaN      NaN     NaN    NaN     NaN   \n",
       "4      NaN         NaN      NaN      NaN     NaN    NaN     NaN   \n",
       "\n",
       "  Operating income Polish  \n",
       "0              NaN    NaN  \n",
       "1              NaN    NaN  \n",
       "2              NaN    NaN  \n",
       "3              NaN    NaN  \n",
       "4              NaN    NaN  \n",
       "\n",
       "[5 rows x 193 columns]"
      ]
     },
     "execution_count": 68,
     "metadata": {},
     "output_type": "execute_result"
    }
   ],
   "source": [
    "wiki_movies_df.head()"
   ]
  },
  {
   "cell_type": "code",
   "execution_count": 73,
   "metadata": {
    "execution": {
     "iopub.execute_input": "2020-11-14T04:35:38.860838Z",
     "iopub.status.busy": "2020-11-14T04:35:38.860838Z",
     "iopub.status.idle": "2020-11-14T04:35:38.893616Z",
     "shell.execute_reply": "2020-11-14T04:35:38.892620Z",
     "shell.execute_reply.started": "2020-11-14T04:35:38.860838Z"
    }
   },
   "outputs": [
    {
     "name": "stdout",
     "output_type": "stream",
     "text": [
      "['url', 'year', 'imdb_link', 'title', 'Directed by', 'Produced by', 'Screenplay by', 'Story by', 'Based on', 'Starring', 'Narrated by', 'Music by', 'Cinematography', 'Edited by', 'Productioncompany ', 'Distributed by', 'Release date', 'Running time', 'Country', 'Language', 'Budget', 'Box office', 'Written by', 'Genre', 'Theme music composer', 'Country of origin', 'Original language(s)', 'Producer(s)', 'Editor(s)', 'Production company(s)', 'Original network', 'Original release', 'Productioncompanies ', 'Executive producer(s)', 'Production location(s)', 'Distributor', 'Picture format', 'Audio format', 'Voices of', 'Followed by', 'Composer(s)', 'Created by', 'Also known as', 'Opening theme', 'No. of episodes', 'Preceded by', 'Author', 'Publisher', 'Publication date', 'Media type', 'Pages', 'ISBN', 'OCLC', 'LC Class', 'Cover artist', 'Series', 'Set in', 'Adaptation by', 'Suggested by', 'Biographical data', 'Born', 'Died', 'Resting place', 'Occupation', 'Years active', 'Spouse(s)', 'Children', 'Parent(s)', 'Genres', 'Instruments', 'Labels', 'Website', 'Traditional', 'Mandarin', 'Type', 'Industry', 'Fate', 'Founded', 'Founder', 'Headquarters', 'Parent', 'Released', 'Recorded', 'Venue', 'Length', 'Label', 'Director', 'Producer', 'Area', 'Coordinates', 'Status', 'Opening date', 'Closing date', 'Replaced', 'Replaced by', 'Name', 'Attraction type', 'Music', 'Duration', 'Simplified Chinese', 'Traditional Chinese', 'Hanyu Pinyin', 'Literal meaning', 'Transcriptions', 'Bopomofo', 'Gwoyeu Romatzyh', 'Wade–Giles', 'IPA', 'Yale Romanization', 'Jyutping', 'Hokkien POJ', 'Animation by', 'Color process', 'Engine(s)', 'Genre(s)', 'Actor control', 'Production company', 'Release(s)', 'Format(s)', 'Simplified', 'Characters', 'Date premiered', 'Place premiered', 'Setting', 'Original language', 'Subject', 'Published', 'Dewey Decimal', 'Text', 'Illustrator', 'Original title', 'Published in English', 'French', 'Developed by', 'Ending theme', 'No. of seasons', 'Nationality', 'Portrayed by', 'Alias', 'Species', 'Gender', 'Family', 'Alma mater', 'Camera setup', 'Novel(s)', 'Comics', 'Film(s)', 'Screen story by', 'Hangul', 'Revised Romanization', 'McCune–Reischauer', 'Developer(s)', 'Publisher(s)', 'Designer(s)', 'Programmer(s)', 'Artist(s)', 'Writer(s)', 'Engine', 'Platform(s)', 'Release', 'Mode(s)', 'Original work', 'Television series', 'Japanese', 'Hepburn', 'Literally', 'Cantonese', 'Full name', 'Height', 'Seasons', 'Chinese', 'Other names', 'Relatives', 'Yiddish', 'Formerly', 'Key people', 'Total assets', 'Owner', 'Number of employees', 'Divisions', 'Subsidiaries', 'Arabic', 'Romanized', 'Predecessor', 'Founders', 'Area served', 'Products', 'Services', 'Russian', 'Hebrew', 'Revenue', 'Operating income', 'Polish']\n"
     ]
    }
   ],
   "source": [
    "# reviewing the 193 columns \n",
    "print(wiki_movies_df.columns.to_list())"
   ]
  },
  {
   "cell_type": "markdown",
   "metadata": {},
   "source": [
    "___"
   ]
  },
  {
   "cell_type": "markdown",
   "metadata": {},
   "source": [
    "> list comprehensin breakdown "
   ]
  },
  {
   "cell_type": "code",
   "execution_count": 81,
   "metadata": {
    "execution": {
     "iopub.execute_input": "2020-11-14T17:20:11.481226Z",
     "iopub.status.busy": "2020-11-14T17:20:11.481226Z",
     "iopub.status.idle": "2020-11-14T17:20:11.488205Z",
     "shell.execute_reply": "2020-11-14T17:20:11.487208Z",
     "shell.execute_reply.started": "2020-11-14T17:20:11.481226Z"
    }
   },
   "outputs": [
    {
     "data": {
      "text/plain": [
       "{'url': 'https://en.wikipedia.org/wiki/The_Adventures_of_Ford_Fairlane',\n",
       " 'year': 1990,\n",
       " 'imdb_link': 'https://www.imdb.com/title/tt0098987/',\n",
       " 'title': 'The Adventures of Ford Fairlane',\n",
       " 'Directed by': 'Renny Harlin',\n",
       " 'Produced by': ['Steve Perry', 'Joel Silver'],\n",
       " 'Screenplay by': ['David Arnott', 'James Cappe', 'Daniel Waters'],\n",
       " 'Story by': ['David Arnott', 'James Cappe'],\n",
       " 'Based on': ['Characters', 'by Rex Weiner'],\n",
       " 'Starring': ['Andrew Dice Clay',\n",
       "  'Wayne Newton',\n",
       "  'Priscilla Presley',\n",
       "  'Lauren Holly',\n",
       "  'Morris Day',\n",
       "  'Robert Englund',\n",
       "  \"Ed O'Neill\"],\n",
       " 'Narrated by': 'Andrew \"Dice\" Clay',\n",
       " 'Music by': ['Cliff Eidelman', 'Yello'],\n",
       " 'Cinematography': 'Oliver Wood',\n",
       " 'Edited by': 'Michael Tronick',\n",
       " 'Productioncompany ': 'Silver Pictures',\n",
       " 'Distributed by': '20th Century Fox',\n",
       " 'Release date': ['July 11, 1990', '(', '1990-07-11', ')'],\n",
       " 'Running time': '102 minutes',\n",
       " 'Country': 'United States',\n",
       " 'Language': 'English',\n",
       " 'Budget': '$20 million',\n",
       " 'Box office': '$21.4 million'}"
      ]
     },
     "execution_count": 81,
     "metadata": {},
     "output_type": "execute_result"
    }
   ],
   "source": [
    "wiki_movies[0]"
   ]
  },
  {
   "cell_type": "code",
   "execution_count": 97,
   "metadata": {
    "execution": {
     "iopub.execute_input": "2020-11-14T17:39:42.201030Z",
     "iopub.status.busy": "2020-11-14T17:39:42.201030Z",
     "iopub.status.idle": "2020-11-14T17:39:42.206051Z",
     "shell.execute_reply": "2020-11-14T17:39:42.206051Z",
     "shell.execute_reply.started": "2020-11-14T17:39:42.201030Z"
    }
   },
   "outputs": [
    {
     "data": {
      "text/plain": [
       "[True]"
      ]
     },
     "execution_count": 97,
     "metadata": {},
     "output_type": "execute_result"
    }
   ],
   "source": [
    "['year' in wiki_movies[0]]"
   ]
  },
  {
   "cell_type": "code",
   "execution_count": 98,
   "metadata": {
    "execution": {
     "iopub.execute_input": "2020-11-14T17:40:00.378581Z",
     "iopub.status.busy": "2020-11-14T17:40:00.377583Z",
     "iopub.status.idle": "2020-11-14T17:40:00.411278Z",
     "shell.execute_reply": "2020-11-14T17:40:00.410286Z",
     "shell.execute_reply.started": "2020-11-14T17:40:00.378581Z"
    }
   },
   "outputs": [
    {
     "data": {
      "text/plain": [
       "[True]"
      ]
     },
     "execution_count": 98,
     "metadata": {},
     "output_type": "execute_result"
    }
   ],
   "source": [
    "['Budget' in wiki_movies_raw[0]]"
   ]
  },
  {
   "cell_type": "code",
   "execution_count": 124,
   "metadata": {
    "execution": {
     "iopub.execute_input": "2020-11-14T17:50:28.306790Z",
     "iopub.status.busy": "2020-11-14T17:50:28.305793Z",
     "iopub.status.idle": "2020-11-14T17:50:28.314769Z",
     "shell.execute_reply": "2020-11-14T17:50:28.313771Z",
     "shell.execute_reply.started": "2020-11-14T17:50:28.306790Z"
    }
   },
   "outputs": [
    {
     "data": {
      "text/plain": [
       "7153"
      ]
     },
     "execution_count": 124,
     "metadata": {},
     "output_type": "execute_result"
    }
   ],
   "source": [
    "samp_movie = [i for i in wiki_movies_raw if 'year' in i]\n",
    "len(samp_movie)"
   ]
  },
  {
   "cell_type": "markdown",
   "metadata": {},
   "source": [
    "-----"
   ]
  },
  {
   "cell_type": "code",
   "execution_count": 94,
   "metadata": {
    "execution": {
     "iopub.execute_input": "2020-11-14T17:38:34.971430Z",
     "iopub.status.busy": "2020-11-14T17:38:34.971430Z",
     "iopub.status.idle": "2020-11-14T17:38:34.978405Z",
     "shell.execute_reply": "2020-11-14T17:38:34.978405Z",
     "shell.execute_reply.started": "2020-11-14T17:38:34.971430Z"
    }
   },
   "outputs": [
    {
     "data": {
      "text/plain": [
       "7080"
      ]
     },
     "execution_count": 94,
     "metadata": {},
     "output_type": "execute_result"
    }
   ],
   "source": [
    "# use list comprehension to filter raw json data by criterias \n",
    "wiki_movies = [movie for movie in wiki_movies_raw\n",
    "               if ('Director' in movie or 'Directed by' in movie)\n",
    "                   and 'imdb_link' in movie]\n",
    "len(wiki_movies)"
   ]
  },
  {
   "cell_type": "code",
   "execution_count": 128,
   "metadata": {
    "execution": {
     "iopub.execute_input": "2020-11-14T18:06:43.077088Z",
     "iopub.status.busy": "2020-11-14T18:06:43.077088Z",
     "iopub.status.idle": "2020-11-14T18:06:43.187839Z",
     "shell.execute_reply": "2020-11-14T18:06:43.187839Z",
     "shell.execute_reply.started": "2020-11-14T18:06:43.077088Z"
    }
   },
   "outputs": [
    {
     "data": {
      "text/plain": [
       "(7080, 78)"
      ]
     },
     "execution_count": 128,
     "metadata": {},
     "output_type": "execute_result"
    }
   ],
   "source": [
    "# make the a gain data frame, with now reduced colums and rows\n",
    "wiki_movies_df = pd.DataFrame(wiki_movies)\n",
    "wiki_movies_df.shape"
   ]
  },
  {
   "cell_type": "code",
   "execution_count": 146,
   "metadata": {
    "execution": {
     "iopub.execute_input": "2020-11-14T19:33:06.843303Z",
     "iopub.status.busy": "2020-11-14T19:33:06.842305Z",
     "iopub.status.idle": "2020-11-14T19:33:06.941564Z",
     "shell.execute_reply": "2020-11-14T19:33:06.940567Z",
     "shell.execute_reply.started": "2020-11-14T19:33:06.843303Z"
    }
   },
   "outputs": [
    {
     "data": {
      "text/html": [
       "<div>\n",
       "<style scoped>\n",
       "    .dataframe tbody tr th:only-of-type {\n",
       "        vertical-align: middle;\n",
       "    }\n",
       "\n",
       "    .dataframe tbody tr th {\n",
       "        vertical-align: top;\n",
       "    }\n",
       "\n",
       "    .dataframe thead th {\n",
       "        text-align: right;\n",
       "    }\n",
       "</style>\n",
       "<table border=\"1\" class=\"dataframe\">\n",
       "  <thead>\n",
       "    <tr style=\"text-align: right;\">\n",
       "      <th></th>\n",
       "      <th>url</th>\n",
       "      <th>year</th>\n",
       "      <th>imdb_link</th>\n",
       "      <th>title</th>\n",
       "      <th>Directed by</th>\n",
       "      <th>Produced by</th>\n",
       "      <th>Screenplay by</th>\n",
       "      <th>Story by</th>\n",
       "      <th>Based on</th>\n",
       "      <th>Starring</th>\n",
       "      <th>Narrated by</th>\n",
       "      <th>Music by</th>\n",
       "      <th>Cinematography</th>\n",
       "      <th>Edited by</th>\n",
       "      <th>Productioncompany</th>\n",
       "      <th>Distributed by</th>\n",
       "      <th>Release date</th>\n",
       "      <th>Running time</th>\n",
       "    </tr>\n",
       "  </thead>\n",
       "  <tbody>\n",
       "    <tr>\n",
       "      <th>5381</th>\n",
       "      <td>https://en.wikipedia.org/wiki/Puss_in_Boots_(2...</td>\n",
       "      <td>2011</td>\n",
       "      <td>https://www.imdb.com/title/tt0448694/</td>\n",
       "      <td>Puss in Boots</td>\n",
       "      <td>Chris Miller</td>\n",
       "      <td>[Joe M. Aguilar, Latifa Ouaou]</td>\n",
       "      <td>Tom Wheeler</td>\n",
       "      <td>[Brian Lynch, Will Davies, Tom Wheeler]</td>\n",
       "      <td>NaN</td>\n",
       "      <td>[Antonio Banderas, Salma Hayek, Zach Galifiana...</td>\n",
       "      <td>NaN</td>\n",
       "      <td>Henry Jackman</td>\n",
       "      <td>NaN</td>\n",
       "      <td>Eric Dapkewicz</td>\n",
       "      <td>DreamWorks Animation</td>\n",
       "      <td>Paramount Pictures</td>\n",
       "      <td>[October 16, 2011, (, 2011-10-16, ), (, Allure...</td>\n",
       "      <td>90 minutes</td>\n",
       "    </tr>\n",
       "    <tr>\n",
       "      <th>1370</th>\n",
       "      <td>https://en.wikipedia.org/wiki/Problem_Child_3:...</td>\n",
       "      <td>1995</td>\n",
       "      <td>https://www.imdb.com/title/tt0114188/</td>\n",
       "      <td>Problem Child 3</td>\n",
       "      <td>Greg Beeman</td>\n",
       "      <td>NaN</td>\n",
       "      <td>NaN</td>\n",
       "      <td>NaN</td>\n",
       "      <td>[Characters by, Scott Alexander and Larry Kara...</td>\n",
       "      <td>[William Katt, Justin Chapman, Sherman Howard,...</td>\n",
       "      <td>NaN</td>\n",
       "      <td>David Michael Frank</td>\n",
       "      <td>Peter Smokler</td>\n",
       "      <td>NaN</td>\n",
       "      <td>NaN</td>\n",
       "      <td>NaN</td>\n",
       "      <td>NaN</td>\n",
       "      <td>84 minutes</td>\n",
       "    </tr>\n",
       "  </tbody>\n",
       "</table>\n",
       "</div>"
      ],
      "text/plain": [
       "                                                    url  year  \\\n",
       "5381  https://en.wikipedia.org/wiki/Puss_in_Boots_(2...  2011   \n",
       "1370  https://en.wikipedia.org/wiki/Problem_Child_3:...  1995   \n",
       "\n",
       "                                  imdb_link            title   Directed by  \\\n",
       "5381  https://www.imdb.com/title/tt0448694/    Puss in Boots  Chris Miller   \n",
       "1370  https://www.imdb.com/title/tt0114188/  Problem Child 3   Greg Beeman   \n",
       "\n",
       "                         Produced by Screenplay by  \\\n",
       "5381  [Joe M. Aguilar, Latifa Ouaou]   Tom Wheeler   \n",
       "1370                             NaN           NaN   \n",
       "\n",
       "                                     Story by  \\\n",
       "5381  [Brian Lynch, Will Davies, Tom Wheeler]   \n",
       "1370                                      NaN   \n",
       "\n",
       "                                               Based on  \\\n",
       "5381                                                NaN   \n",
       "1370  [Characters by, Scott Alexander and Larry Kara...   \n",
       "\n",
       "                                               Starring Narrated by  \\\n",
       "5381  [Antonio Banderas, Salma Hayek, Zach Galifiana...         NaN   \n",
       "1370  [William Katt, Justin Chapman, Sherman Howard,...         NaN   \n",
       "\n",
       "                 Music by Cinematography       Edited by  \\\n",
       "5381        Henry Jackman            NaN  Eric Dapkewicz   \n",
       "1370  David Michael Frank  Peter Smokler             NaN   \n",
       "\n",
       "        Productioncompany       Distributed by  \\\n",
       "5381  DreamWorks Animation  Paramount Pictures   \n",
       "1370                   NaN                 NaN   \n",
       "\n",
       "                                           Release date Running time  \n",
       "5381  [October 16, 2011, (, 2011-10-16, ), (, Allure...   90 minutes  \n",
       "1370                                                NaN   84 minutes  "
      ]
     },
     "execution_count": 146,
     "metadata": {},
     "output_type": "execute_result"
    },
    {
     "data": {
      "text/html": [
       "<div>\n",
       "<style scoped>\n",
       "    .dataframe tbody tr th:only-of-type {\n",
       "        vertical-align: middle;\n",
       "    }\n",
       "\n",
       "    .dataframe tbody tr th {\n",
       "        vertical-align: top;\n",
       "    }\n",
       "\n",
       "    .dataframe thead th {\n",
       "        text-align: right;\n",
       "    }\n",
       "</style>\n",
       "<table border=\"1\" class=\"dataframe\">\n",
       "  <thead>\n",
       "    <tr style=\"text-align: right;\">\n",
       "      <th></th>\n",
       "      <th>Language</th>\n",
       "      <th>Budget</th>\n",
       "      <th>Box office</th>\n",
       "      <th>Written by</th>\n",
       "      <th>Genre</th>\n",
       "      <th>Theme music composer</th>\n",
       "      <th>Country of origin</th>\n",
       "      <th>Original language(s)</th>\n",
       "      <th>Producer(s)</th>\n",
       "      <th>Editor(s)</th>\n",
       "      <th>Production company(s)</th>\n",
       "      <th>Original network</th>\n",
       "      <th>Original release</th>\n",
       "      <th>Productioncompanies</th>\n",
       "      <th>Executive producer(s)</th>\n",
       "      <th>Production location(s)</th>\n",
       "      <th>Distributor</th>\n",
       "      <th>Picture format</th>\n",
       "      <th>Audio format</th>\n",
       "    </tr>\n",
       "  </thead>\n",
       "  <tbody>\n",
       "    <tr>\n",
       "      <th>1650</th>\n",
       "      <td>English</td>\n",
       "      <td>$500,000</td>\n",
       "      <td>$502,313</td>\n",
       "      <td>Lisa King</td>\n",
       "      <td>NaN</td>\n",
       "      <td>NaN</td>\n",
       "      <td>NaN</td>\n",
       "      <td>NaN</td>\n",
       "      <td>NaN</td>\n",
       "      <td>NaN</td>\n",
       "      <td>NaN</td>\n",
       "      <td>NaN</td>\n",
       "      <td>NaN</td>\n",
       "      <td>NaN</td>\n",
       "      <td>NaN</td>\n",
       "      <td>NaN</td>\n",
       "      <td>NaN</td>\n",
       "      <td>NaN</td>\n",
       "      <td>NaN</td>\n",
       "    </tr>\n",
       "    <tr>\n",
       "      <th>454</th>\n",
       "      <td>NaN</td>\n",
       "      <td>NaN</td>\n",
       "      <td>NaN</td>\n",
       "      <td>[Alison Rosenfeld, James Desmarais]</td>\n",
       "      <td>[Mystery, Romance, Thriller]</td>\n",
       "      <td>Richard Stone</td>\n",
       "      <td>United States</td>\n",
       "      <td>English</td>\n",
       "      <td>[Gary W. Goldstein, Chad Cooperman, Bernie Gol...</td>\n",
       "      <td>Michael Brown</td>\n",
       "      <td>[Nevermore Productions, The Steve Tisch Company]</td>\n",
       "      <td>CBS</td>\n",
       "      <td>[May 5, 1991, (, 1991-05-05, )]</td>\n",
       "      <td>NaN</td>\n",
       "      <td>Mireille Soria</td>\n",
       "      <td>[Malibu, California, Santa Monica Pier]</td>\n",
       "      <td>[CBS, Artisan Home Video]</td>\n",
       "      <td>Color</td>\n",
       "      <td>Stereo</td>\n",
       "    </tr>\n",
       "  </tbody>\n",
       "</table>\n",
       "</div>"
      ],
      "text/plain": [
       "     Language    Budget Box office                           Written by  \\\n",
       "1650  English  $500,000   $502,313                            Lisa King   \n",
       "454       NaN       NaN        NaN  [Alison Rosenfeld, James Desmarais]   \n",
       "\n",
       "                             Genre Theme music composer Country of origin  \\\n",
       "1650                           NaN                  NaN               NaN   \n",
       "454   [Mystery, Romance, Thriller]        Richard Stone     United States   \n",
       "\n",
       "     Original language(s)                                        Producer(s)  \\\n",
       "1650                  NaN                                                NaN   \n",
       "454               English  [Gary W. Goldstein, Chad Cooperman, Bernie Gol...   \n",
       "\n",
       "          Editor(s)                             Production company(s)  \\\n",
       "1650            NaN                                               NaN   \n",
       "454   Michael Brown  [Nevermore Productions, The Steve Tisch Company]   \n",
       "\n",
       "     Original network                 Original release Productioncompanies   \\\n",
       "1650              NaN                              NaN                  NaN   \n",
       "454               CBS  [May 5, 1991, (, 1991-05-05, )]                  NaN   \n",
       "\n",
       "     Executive producer(s)                   Production location(s)  \\\n",
       "1650                   NaN                                      NaN   \n",
       "454         Mireille Soria  [Malibu, California, Santa Monica Pier]   \n",
       "\n",
       "                    Distributor Picture format Audio format  \n",
       "1650                        NaN            NaN          NaN  \n",
       "454   [CBS, Artisan Home Video]          Color       Stereo  "
      ]
     },
     "execution_count": 146,
     "metadata": {},
     "output_type": "execute_result"
    },
    {
     "data": {
      "text/html": [
       "<div>\n",
       "<style scoped>\n",
       "    .dataframe tbody tr th:only-of-type {\n",
       "        vertical-align: middle;\n",
       "    }\n",
       "\n",
       "    .dataframe tbody tr th {\n",
       "        vertical-align: top;\n",
       "    }\n",
       "\n",
       "    .dataframe thead th {\n",
       "        text-align: right;\n",
       "    }\n",
       "</style>\n",
       "<table border=\"1\" class=\"dataframe\">\n",
       "  <thead>\n",
       "    <tr style=\"text-align: right;\">\n",
       "      <th></th>\n",
       "      <th>Followed by</th>\n",
       "      <th>Composer(s)</th>\n",
       "      <th>Created by</th>\n",
       "      <th>Also known as</th>\n",
       "      <th>Opening theme</th>\n",
       "      <th>No. of episodes</th>\n",
       "      <th>Preceded by</th>\n",
       "      <th>Adaptation by</th>\n",
       "      <th>Suggested by</th>\n",
       "      <th>Traditional</th>\n",
       "      <th>Mandarin</th>\n",
       "      <th>Released</th>\n",
       "      <th>Recorded</th>\n",
       "      <th>Venue</th>\n",
       "      <th>Length</th>\n",
       "      <th>Label</th>\n",
       "      <th>Director</th>\n",
       "      <th>Producer</th>\n",
       "      <th>Animation by</th>\n",
       "    </tr>\n",
       "  </thead>\n",
       "  <tbody>\n",
       "    <tr>\n",
       "      <th>923</th>\n",
       "      <td>NaN</td>\n",
       "      <td>NaN</td>\n",
       "      <td>NaN</td>\n",
       "      <td>NaN</td>\n",
       "      <td>NaN</td>\n",
       "      <td>NaN</td>\n",
       "      <td>NaN</td>\n",
       "      <td>NaN</td>\n",
       "      <td>NaN</td>\n",
       "      <td>NaN</td>\n",
       "      <td>NaN</td>\n",
       "      <td>NaN</td>\n",
       "      <td>NaN</td>\n",
       "      <td>NaN</td>\n",
       "      <td>NaN</td>\n",
       "      <td>NaN</td>\n",
       "      <td>NaN</td>\n",
       "      <td>NaN</td>\n",
       "      <td>NaN</td>\n",
       "    </tr>\n",
       "    <tr>\n",
       "      <th>37</th>\n",
       "      <td>NaN</td>\n",
       "      <td>NaN</td>\n",
       "      <td>NaN</td>\n",
       "      <td>NaN</td>\n",
       "      <td>NaN</td>\n",
       "      <td>NaN</td>\n",
       "      <td>NaN</td>\n",
       "      <td>NaN</td>\n",
       "      <td>NaN</td>\n",
       "      <td>NaN</td>\n",
       "      <td>NaN</td>\n",
       "      <td>NaN</td>\n",
       "      <td>NaN</td>\n",
       "      <td>NaN</td>\n",
       "      <td>NaN</td>\n",
       "      <td>NaN</td>\n",
       "      <td>NaN</td>\n",
       "      <td>NaN</td>\n",
       "      <td>NaN</td>\n",
       "    </tr>\n",
       "  </tbody>\n",
       "</table>\n",
       "</div>"
      ],
      "text/plain": [
       "    Followed by Composer(s) Created by Also known as Opening theme  \\\n",
       "923         NaN         NaN        NaN           NaN           NaN   \n",
       "37          NaN         NaN        NaN           NaN           NaN   \n",
       "\n",
       "    No. of episodes Preceded by Adaptation by Suggested by Traditional  \\\n",
       "923             NaN         NaN           NaN          NaN         NaN   \n",
       "37              NaN         NaN           NaN          NaN         NaN   \n",
       "\n",
       "    Mandarin Released Recorded Venue Length Label Director Producer  \\\n",
       "923      NaN      NaN      NaN   NaN    NaN   NaN      NaN      NaN   \n",
       "37       NaN      NaN      NaN   NaN    NaN   NaN      NaN      NaN   \n",
       "\n",
       "    Animation by  \n",
       "923          NaN  \n",
       "37           NaN  "
      ]
     },
     "execution_count": 146,
     "metadata": {},
     "output_type": "execute_result"
    },
    {
     "data": {
      "text/html": [
       "<div>\n",
       "<style scoped>\n",
       "    .dataframe tbody tr th:only-of-type {\n",
       "        vertical-align: middle;\n",
       "    }\n",
       "\n",
       "    .dataframe tbody tr th {\n",
       "        vertical-align: top;\n",
       "    }\n",
       "\n",
       "    .dataframe thead th {\n",
       "        text-align: right;\n",
       "    }\n",
       "</style>\n",
       "<table border=\"1\" class=\"dataframe\">\n",
       "  <thead>\n",
       "    <tr style=\"text-align: right;\">\n",
       "      <th></th>\n",
       "      <th>Simplified</th>\n",
       "      <th>French</th>\n",
       "      <th>Camera setup</th>\n",
       "      <th>Screen story by</th>\n",
       "      <th>Hangul</th>\n",
       "      <th>Revised Romanization</th>\n",
       "      <th>McCune–Reischauer</th>\n",
       "      <th>Original title</th>\n",
       "      <th>Japanese</th>\n",
       "      <th>Hepburn</th>\n",
       "      <th>Literally</th>\n",
       "      <th>Cantonese</th>\n",
       "      <th>Chinese</th>\n",
       "      <th>Yiddish</th>\n",
       "      <th>Arabic</th>\n",
       "      <th>Romanized</th>\n",
       "      <th>Russian</th>\n",
       "      <th>Hebrew</th>\n",
       "      <th>Polish</th>\n",
       "    </tr>\n",
       "  </thead>\n",
       "  <tbody>\n",
       "    <tr>\n",
       "      <th>5313</th>\n",
       "      <td>NaN</td>\n",
       "      <td>NaN</td>\n",
       "      <td>NaN</td>\n",
       "      <td>NaN</td>\n",
       "      <td>NaN</td>\n",
       "      <td>NaN</td>\n",
       "      <td>NaN</td>\n",
       "      <td>NaN</td>\n",
       "      <td>NaN</td>\n",
       "      <td>NaN</td>\n",
       "      <td>NaN</td>\n",
       "      <td>NaN</td>\n",
       "      <td>NaN</td>\n",
       "      <td>NaN</td>\n",
       "      <td>NaN</td>\n",
       "      <td>NaN</td>\n",
       "      <td>NaN</td>\n",
       "      <td>NaN</td>\n",
       "      <td>NaN</td>\n",
       "    </tr>\n",
       "    <tr>\n",
       "      <th>1974</th>\n",
       "      <td>NaN</td>\n",
       "      <td>NaN</td>\n",
       "      <td>NaN</td>\n",
       "      <td>NaN</td>\n",
       "      <td>NaN</td>\n",
       "      <td>NaN</td>\n",
       "      <td>NaN</td>\n",
       "      <td>NaN</td>\n",
       "      <td>NaN</td>\n",
       "      <td>NaN</td>\n",
       "      <td>NaN</td>\n",
       "      <td>NaN</td>\n",
       "      <td>NaN</td>\n",
       "      <td>NaN</td>\n",
       "      <td>NaN</td>\n",
       "      <td>NaN</td>\n",
       "      <td>NaN</td>\n",
       "      <td>NaN</td>\n",
       "      <td>NaN</td>\n",
       "    </tr>\n",
       "  </tbody>\n",
       "</table>\n",
       "</div>"
      ],
      "text/plain": [
       "     Simplified French Camera setup Screen story by Hangul  \\\n",
       "5313        NaN    NaN          NaN             NaN    NaN   \n",
       "1974        NaN    NaN          NaN             NaN    NaN   \n",
       "\n",
       "     Revised Romanization McCune–Reischauer Original title Japanese Hepburn  \\\n",
       "5313                  NaN               NaN            NaN      NaN     NaN   \n",
       "1974                  NaN               NaN            NaN      NaN     NaN   \n",
       "\n",
       "     Literally Cantonese Chinese Yiddish Arabic Romanized Russian Hebrew  \\\n",
       "5313       NaN       NaN     NaN     NaN    NaN       NaN     NaN    NaN   \n",
       "1974       NaN       NaN     NaN     NaN    NaN       NaN     NaN    NaN   \n",
       "\n",
       "     Polish  \n",
       "5313    NaN  \n",
       "1974    NaN  "
      ]
     },
     "execution_count": 146,
     "metadata": {},
     "output_type": "execute_result"
    }
   ],
   "source": [
    "wiki_movies_df[wiki_movies_df.columns[0:18]].sample(2)\n",
    "wiki_movies_df[wiki_movies_df.columns[19:38]].sample(2)\n",
    "wiki_movies_df[wiki_movies_df.columns[39:58]].sample(2)\n",
    "wiki_movies_df[wiki_movies_df.columns[59:78]].sample(2)"
   ]
  },
  {
   "cell_type": "code",
   "execution_count": 147,
   "metadata": {
    "execution": {
     "iopub.execute_input": "2020-11-14T19:38:23.274477Z",
     "iopub.status.busy": "2020-11-14T19:38:23.274477Z",
     "iopub.status.idle": "2020-11-14T19:38:23.283453Z",
     "shell.execute_reply": "2020-11-14T19:38:23.282456Z",
     "shell.execute_reply.started": "2020-11-14T19:38:23.274477Z"
    }
   },
   "outputs": [],
   "source": [
    "# adding another layer to list comprehension filter based on results\n",
    "wiki_movies = [movie for movie in wiki_movies_raw\n",
    "               if ('Director' in movie or 'Directed by' in movie)\n",
    "                   and 'imdb_link' in movie\n",
    "                   and 'No. of episodes' not in movie]"
   ]
  },
  {
   "cell_type": "code",
   "execution_count": 151,
   "metadata": {
    "execution": {
     "iopub.execute_input": "2020-11-14T20:21:05.328989Z",
     "iopub.status.busy": "2020-11-14T20:21:05.328989Z",
     "iopub.status.idle": "2020-11-14T20:21:05.332979Z",
     "shell.execute_reply": "2020-11-14T20:21:05.332979Z",
     "shell.execute_reply.started": "2020-11-14T20:21:05.328989Z"
    }
   },
   "outputs": [],
   "source": [
    "# only local version of movie will be returned, not the golbal orignal \n",
    "def clean_movie(movie):\n",
    "    movie = dict(movie) #create a non-destructive copy\n",
    "    return movie"
   ]
  },
  {
   "cell_type": "code",
   "execution_count": 153,
   "metadata": {
    "execution": {
     "iopub.execute_input": "2020-11-14T20:24:57.216069Z",
     "iopub.status.busy": "2020-11-14T20:24:57.216069Z",
     "iopub.status.idle": "2020-11-14T20:24:57.224049Z",
     "shell.execute_reply": "2020-11-14T20:24:57.224049Z",
     "shell.execute_reply.started": "2020-11-14T20:24:57.216069Z"
    }
   },
   "outputs": [
    {
     "data": {
      "text/plain": [
       "6838    https://en.wikipedia.org/wiki/The_Insult_(film)\n",
       "7062     https://en.wikipedia.org/wiki/Capernaum_(film)\n",
       "Name: url, dtype: object"
      ]
     },
     "execution_count": 153,
     "metadata": {},
     "output_type": "execute_result"
    }
   ],
   "source": [
    "wiki_movies_df[wiki_movies_df['Arabic'].notnull()]['url']"
   ]
  },
  {
   "cell_type": "markdown",
   "metadata": {},
   "source": [
    "> Cleaning alternate titles / combing columns"
   ]
  },
  {
   "cell_type": "code",
   "execution_count": 162,
   "metadata": {
    "execution": {
     "iopub.execute_input": "2020-11-14T20:43:15.296304Z",
     "iopub.status.busy": "2020-11-14T20:43:15.296304Z",
     "iopub.status.idle": "2020-11-14T20:43:15.301482Z",
     "shell.execute_reply": "2020-11-14T20:43:15.300964Z",
     "shell.execute_reply.started": "2020-11-14T20:43:15.296304Z"
    }
   },
   "outputs": [
    {
     "name": "stdout",
     "output_type": "stream",
     "text": [
      "['Adaptation by', 'Also known as', 'Animation by', 'Arabic', 'Audio format', 'Based on', 'Box office', 'Budget', 'Camera setup', 'Cantonese', 'Chinese', 'Cinematography', 'Color process', 'Composer(s)', 'Country', 'Country of origin', 'Created by', 'Directed by', 'Director', 'Distributed by', 'Distributor', 'Edited by', 'Editor(s)', 'Executive producer(s)', 'Followed by', 'French', 'Genre', 'Hangul', 'Hebrew', 'Hepburn', 'Japanese', 'Label', 'Language', 'Length', 'Literally', 'Mandarin', 'McCune–Reischauer', 'Music by', 'Narrated by', 'No. of episodes', 'Opening theme', 'Original language(s)', 'Original network', 'Original release', 'Original title', 'Picture format', 'Polish', 'Preceded by', 'Produced by', 'Producer', 'Producer(s)', 'Production company(s)', 'Production location(s)', 'Productioncompanies ', 'Productioncompany ', 'Recorded', 'Release date', 'Released', 'Revised Romanization', 'Romanized', 'Running time', 'Russian', 'Screen story by', 'Screenplay by', 'Simplified', 'Starring', 'Story by', 'Suggested by', 'Theme music composer', 'Traditional', 'Venue', 'Voices of', 'Written by', 'Yiddish', 'imdb_link', 'title', 'url', 'year']\n"
     ]
    }
   ],
   "source": [
    "print(sorted(wiki_movies_df.columns.tolist()))"
   ]
  },
  {
   "cell_type": "code",
   "execution_count": 187,
   "metadata": {
    "execution": {
     "iopub.execute_input": "2020-11-15T02:39:51.229733Z",
     "iopub.status.busy": "2020-11-15T02:39:51.229733Z",
     "iopub.status.idle": "2020-11-15T02:39:51.238709Z",
     "shell.execute_reply": "2020-11-15T02:39:51.237713Z",
     "shell.execute_reply.started": "2020-11-15T02:39:51.229733Z"
    }
   },
   "outputs": [],
   "source": [
    "def clean_movie(movie):\n",
    "    movie = dict(movie) #create a non-destructive copy\n",
    "    alt_titles = {}\n",
    "    for key in ['Also known as','Arabic','Cantonese','Chinese','French',\n",
    "                'Hangul','Hebrew','Hepburn','Japanese','Literally',\n",
    "                'Mandarin','McCune–Reischauer','Original title','Polish',\n",
    "                'Revised Romanization','Romanized','Russian',\n",
    "                'Simplified','Traditional','Yiddish']:\n",
    "        if key in movie:\n",
    "            alt_titles[key] = movie[key]\n",
    "            movie.pop(key)\n",
    "    if len(alt_titles) > 0:\n",
    "        movie['alt_titles'] = alt_titles\n",
    "\n",
    "    return movie"
   ]
  },
  {
   "cell_type": "markdown",
   "metadata": {
    "execution": {
     "iopub.execute_input": "2020-11-14T21:27:12.353039Z",
     "iopub.status.busy": "2020-11-14T21:27:12.352041Z",
     "iopub.status.idle": "2020-11-14T21:27:12.359027Z",
     "shell.execute_reply": "2020-11-14T21:27:12.358080Z",
     "shell.execute_reply.started": "2020-11-14T21:27:12.353039Z"
    }
   },
   "source": [
    "<div class=\"alert alert-block alert-info\">\n",
    "<b>Note:</b></div>\n",
    "\n",
    ">  When converting dataframe to dictionary, columns become keys.<br>\n",
    ">\n",
    "> ```alt_titles``` will be a dictonary of dictionaries e.g a column with eah index having multiple values.<br>\n",
    ">\n",
    "> The provided list contains alternate columns(keys) thatt can be combined into one (theryre all languages)<br>\n",
    "> ```if key in movie: alt_titles[key] = movie[key] ``` if \"key\" from list is in dictionary then add key and its values (```movie[key]```) to the alt_titles dictinary<br>\n",
    "> ```movie.pop(key)``` then remove key from movies dictionary (which is the converted data frame)<br>\n",
    "> ```if len(alt_titles) > 0: movie['alt_titles'] = alt_titles ``` if key,vlaues are present within ```alt_titles``` then add them (which would be a combination of all alt titles from a previous step) to the movies dictionary, as its own combined key, value pairing (ultimatly becoming a singular alt_titles column once converted to a dataframe). "
   ]
  },
  {
   "cell_type": "code",
   "execution_count": 217,
   "metadata": {
    "execution": {
     "iopub.execute_input": "2020-11-15T02:48:12.677118Z",
     "iopub.status.busy": "2020-11-15T02:48:12.677118Z",
     "iopub.status.idle": "2020-11-15T02:48:12.745844Z",
     "shell.execute_reply": "2020-11-15T02:48:12.744850Z",
     "shell.execute_reply.started": "2020-11-15T02:48:12.677118Z"
    }
   },
   "outputs": [],
   "source": [
    "# make a list of ceaned movies with a list comprenhension \n",
    "# using clenaing function on \"wiki_movies\" which is in dicitonary format from previosuly imported json data\n",
    "clean_movies = [clean_movie(movie) for movie in wiki_movies]"
   ]
  },
  {
   "cell_type": "code",
   "execution_count": 215,
   "metadata": {
    "execution": {
     "iopub.execute_input": "2020-11-15T02:46:48.258069Z",
     "iopub.status.busy": "2020-11-15T02:46:48.258069Z",
     "iopub.status.idle": "2020-11-15T02:46:48.361829Z",
     "shell.execute_reply": "2020-11-15T02:46:48.361829Z",
     "shell.execute_reply.started": "2020-11-15T02:46:48.258069Z"
    }
   },
   "outputs": [],
   "source": [
    "wiki_movies_df = pd.DataFrame(clean_movies)"
   ]
  },
  {
   "cell_type": "code",
   "execution_count": 228,
   "metadata": {
    "execution": {
     "iopub.execute_input": "2020-11-15T02:55:34.577965Z",
     "iopub.status.busy": "2020-11-15T02:55:34.577965Z",
     "iopub.status.idle": "2020-11-15T02:55:34.587944Z",
     "shell.execute_reply": "2020-11-15T02:55:34.587944Z",
     "shell.execute_reply.started": "2020-11-15T02:55:34.577965Z"
    }
   },
   "outputs": [
    {
     "data": {
      "text/html": [
       "<div>\n",
       "<style scoped>\n",
       "    .dataframe tbody tr th:only-of-type {\n",
       "        vertical-align: middle;\n",
       "    }\n",
       "\n",
       "    .dataframe tbody tr th {\n",
       "        vertical-align: top;\n",
       "    }\n",
       "\n",
       "    .dataframe thead th {\n",
       "        text-align: right;\n",
       "    }\n",
       "</style>\n",
       "<table border=\"1\" class=\"dataframe\">\n",
       "  <thead>\n",
       "    <tr style=\"text-align: right;\">\n",
       "      <th></th>\n",
       "      <th>alt_titles</th>\n",
       "    </tr>\n",
       "  </thead>\n",
       "  <tbody>\n",
       "    <tr>\n",
       "      <th>7070</th>\n",
       "      <td>{'Polish': 'Zimna wojna'}</td>\n",
       "    </tr>\n",
       "    <tr>\n",
       "      <th>6620</th>\n",
       "      <td>{'Chinese': '摇滚藏獒'}</td>\n",
       "    </tr>\n",
       "    <tr>\n",
       "      <th>7058</th>\n",
       "      <td>{'Arabic': 'کفرناحوم‎'}</td>\n",
       "    </tr>\n",
       "    <tr>\n",
       "      <th>3413</th>\n",
       "      <td>{'Hangul': '원더풀 데이즈', 'McCune–Reischauer': 'Wŏ...</td>\n",
       "    </tr>\n",
       "    <tr>\n",
       "      <th>6862</th>\n",
       "      <td>{'Hebrew': 'פוֹקְסטְרוֹט'}</td>\n",
       "    </tr>\n",
       "    <tr>\n",
       "      <th>6719</th>\n",
       "      <td>{'Yiddish': 'מנשה'}</td>\n",
       "    </tr>\n",
       "    <tr>\n",
       "      <th>4790</th>\n",
       "      <td>{'Original title': 'ואלס עם באשיר'}</td>\n",
       "    </tr>\n",
       "  </tbody>\n",
       "</table>\n",
       "</div>"
      ],
      "text/plain": [
       "                                             alt_titles\n",
       "7070                          {'Polish': 'Zimna wojna'}\n",
       "6620                                {'Chinese': '摇滚藏獒'}\n",
       "7058                            {'Arabic': 'کفرناحوم‎'}\n",
       "3413  {'Hangul': '원더풀 데이즈', 'McCune–Reischauer': 'Wŏ...\n",
       "6862                         {'Hebrew': 'פוֹקְסטְרוֹט'}\n",
       "6719                                {'Yiddish': 'מנשה'}\n",
       "4790                {'Original title': 'ואלס עם באשיר'}"
      ]
     },
     "execution_count": 228,
     "metadata": {},
     "output_type": "execute_result"
    }
   ],
   "source": [
    "wiki_movies_df[wiki_movies_df['alt_titles'].notnull()][['alt_titles']].sample(7)"
   ]
  },
  {
   "cell_type": "code",
   "execution_count": 239,
   "metadata": {
    "execution": {
     "iopub.execute_input": "2020-11-15T02:58:14.102292Z",
     "iopub.status.busy": "2020-11-15T02:58:14.102292Z",
     "iopub.status.idle": "2020-11-15T02:58:14.110287Z",
     "shell.execute_reply": "2020-11-15T02:58:14.109306Z",
     "shell.execute_reply.started": "2020-11-15T02:58:14.102292Z"
    }
   },
   "outputs": [
    {
     "data": {
      "text/plain": [
       "'원더풀 데이즈'"
      ]
     },
     "execution_count": 239,
     "metadata": {},
     "output_type": "execute_result"
    }
   ],
   "source": [
    "wiki_movies_df.iloc[3413]['alt_titles']['Hangul']             "
   ]
  },
  {
   "cell_type": "markdown",
   "metadata": {
    "execution": {
     "iopub.execute_input": "2020-11-15T03:33:24.909992Z",
     "iopub.status.busy": "2020-11-15T03:33:24.909992Z",
     "iopub.status.idle": "2020-11-15T03:33:24.917972Z",
     "shell.execute_reply": "2020-11-15T03:33:24.914981Z",
     "shell.execute_reply.started": "2020-11-15T03:33:24.909992Z"
    }
   },
   "source": [
    "> cleaning columns/ column consildation "
   ]
  },
  {
   "cell_type": "code",
   "execution_count": null,
   "metadata": {},
   "outputs": [],
   "source": [
    "    def change_column_name(old_name, new_name):\n",
    "        if old_name in movie:\n",
    "            movie[new_name] = movie.pop(old_name)"
   ]
  },
  {
   "cell_type": "markdown",
   "metadata": {},
   "source": [
    "> adding to cleaning funciton "
   ]
  },
  {
   "cell_type": "code",
   "execution_count": 241,
   "metadata": {
    "execution": {
     "iopub.execute_input": "2020-11-15T17:25:04.630942Z",
     "iopub.status.busy": "2020-11-15T17:25:04.630942Z",
     "iopub.status.idle": "2020-11-15T17:25:04.655875Z",
     "shell.execute_reply": "2020-11-15T17:25:04.655875Z",
     "shell.execute_reply.started": "2020-11-15T17:25:04.630942Z"
    }
   },
   "outputs": [],
   "source": [
    "def clean_movie(movie):\n",
    "    movie = dict(movie) #create a non-destructive copy\n",
    "    alt_titles = {}\n",
    "    # combine alternate titles into one list\n",
    "    for key in ['Also known as','Arabic','Cantonese','Chinese','French',\n",
    "                'Hangul','Hebrew','Hepburn','Japanese','Literally',\n",
    "                'Mandarin','McCune-Reischauer','Original title','Polish',\n",
    "                'Revised Romanization','Romanized','Russian',\n",
    "                'Simplified','Traditional','Yiddish']:\n",
    "        if key in movie:\n",
    "            alt_titles[key] = movie[key]\n",
    "            movie.pop(key)\n",
    "    if len(alt_titles) > 0:\n",
    "        movie['alt_titles'] = alt_titles\n",
    "\n",
    "    # merge column names\n",
    "    def change_column_name(old_name, new_name):\n",
    "        if old_name in movie:\n",
    "            movie[new_name] = movie.pop(old_name)\n",
    "    change_column_name('Adaptation by', 'Writer(s)')\n",
    "    change_column_name('Country of origin', 'Country')\n",
    "    change_column_name('Directed by', 'Director')\n",
    "    change_column_name('Distributed by', 'Distributor')\n",
    "    change_column_name('Edited by', 'Editor(s)')\n",
    "    change_column_name('Length', 'Running time')\n",
    "    change_column_name('Original release', 'Release date')\n",
    "    change_column_name('Music by', 'Composer(s)')\n",
    "    change_column_name('Produced by', 'Producer(s)')\n",
    "    change_column_name('Producer', 'Producer(s)')\n",
    "    change_column_name('Productioncompanies ', 'Production company(s)')\n",
    "    change_column_name('Productioncompany ', 'Production company(s)')\n",
    "    change_column_name('Released', 'Release Date')\n",
    "    change_column_name('Release Date', 'Release date')\n",
    "    change_column_name('Screen story by', 'Writer(s)')\n",
    "    change_column_name('Screenplay by', 'Writer(s)')\n",
    "    change_column_name('Story by', 'Writer(s)')\n",
    "    change_column_name('Theme music composer', 'Composer(s)')\n",
    "    change_column_name('Written by', 'Writer(s)')\n",
    "\n",
    "    return movie"
   ]
  },
  {
   "cell_type": "code",
   "execution_count": 242,
   "metadata": {
    "execution": {
     "iopub.execute_input": "2020-11-15T17:32:00.706583Z",
     "iopub.status.busy": "2020-11-15T17:32:00.706583Z",
     "iopub.status.idle": "2020-11-15T17:32:00.872338Z",
     "shell.execute_reply": "2020-11-15T17:32:00.872338Z",
     "shell.execute_reply.started": "2020-11-15T17:32:00.706583Z"
    }
   },
   "outputs": [],
   "source": [
    "clean_movies = [clean_movie(movie) for movie in wiki_movies]\n",
    "wiki_movies_df = pd.DataFrame(clean_movies)"
   ]
  },
  {
   "cell_type": "code",
   "execution_count": 244,
   "metadata": {
    "execution": {
     "iopub.execute_input": "2020-11-15T17:32:12.357563Z",
     "iopub.status.busy": "2020-11-15T17:32:12.357563Z",
     "iopub.status.idle": "2020-11-15T17:32:12.391633Z",
     "shell.execute_reply": "2020-11-15T17:32:12.389647Z",
     "shell.execute_reply.started": "2020-11-15T17:32:12.357563Z"
    }
   },
   "outputs": [
    {
     "name": "stdout",
     "output_type": "stream",
     "text": [
      "['Animation by', 'Audio format', 'Based on', 'Box office', 'Budget', 'Cinematography', 'Color process', 'Composer(s)', 'Country', 'Created by', 'Director', 'Distributor', 'Editor(s)', 'Executive producer(s)', 'Followed by', 'Genre', 'Label', 'Language', 'McCune–Reischauer', 'Narrated by', 'Original language(s)', 'Original network', 'Picture format', 'Preceded by', 'Producer(s)', 'Production company(s)', 'Production location(s)', 'Recorded', 'Release date', 'Running time', 'Starring', 'Suggested by', 'Venue', 'Voices of', 'Writer(s)', 'alt_titles', 'imdb_link', 'title', 'url', 'year']\n"
     ]
    }
   ],
   "source": [
    "print(sorted(wiki_movies_df.columns.tolist()))"
   ]
  },
  {
   "cell_type": "markdown",
   "metadata": {
    "execution": {
     "iopub.execute_input": "2020-11-15T18:12:56.856693Z",
     "iopub.status.busy": "2020-11-15T18:12:56.855696Z",
     "iopub.status.idle": "2020-11-15T18:12:56.868197Z",
     "shell.execute_reply": "2020-11-15T18:12:56.867200Z",
     "shell.execute_reply.started": "2020-11-15T18:12:56.856693Z"
    }
   },
   "source": [
    "> removing duplicate rows"
   ]
  },
  {
   "cell_type": "code",
   "execution_count": 249,
   "metadata": {
    "execution": {
     "iopub.execute_input": "2020-11-15T19:41:45.907784Z",
     "iopub.status.busy": "2020-11-15T19:41:45.907784Z",
     "iopub.status.idle": "2020-11-15T19:41:45.932717Z",
     "shell.execute_reply": "2020-11-15T19:41:45.932717Z",
     "shell.execute_reply.started": "2020-11-15T19:41:45.907784Z"
    }
   },
   "outputs": [
    {
     "data": {
      "text/html": [
       "<div>\n",
       "<style scoped>\n",
       "    .dataframe tbody tr th:only-of-type {\n",
       "        vertical-align: middle;\n",
       "    }\n",
       "\n",
       "    .dataframe tbody tr th {\n",
       "        vertical-align: top;\n",
       "    }\n",
       "\n",
       "    .dataframe thead th {\n",
       "        text-align: right;\n",
       "    }\n",
       "</style>\n",
       "<table border=\"1\" class=\"dataframe\">\n",
       "  <thead>\n",
       "    <tr style=\"text-align: right;\">\n",
       "      <th></th>\n",
       "      <th>url</th>\n",
       "      <th>year</th>\n",
       "      <th>imdb_link</th>\n",
       "      <th>title</th>\n",
       "      <th>Based on</th>\n",
       "      <th>Starring</th>\n",
       "      <th>Narrated by</th>\n",
       "      <th>Cinematography</th>\n",
       "      <th>Release date</th>\n",
       "      <th>Running time</th>\n",
       "      <th>...</th>\n",
       "      <th>Created by</th>\n",
       "      <th>Preceded by</th>\n",
       "      <th>Suggested by</th>\n",
       "      <th>alt_titles</th>\n",
       "      <th>Recorded</th>\n",
       "      <th>Venue</th>\n",
       "      <th>Label</th>\n",
       "      <th>Animation by</th>\n",
       "      <th>Color process</th>\n",
       "      <th>McCune–Reischauer</th>\n",
       "    </tr>\n",
       "  </thead>\n",
       "  <tbody>\n",
       "    <tr>\n",
       "      <th>4578</th>\n",
       "      <td>https://en.wikipedia.org/wiki/Walk_Hard:_The_D...</td>\n",
       "      <td>2007</td>\n",
       "      <td>https://www.imdb.com/title/tt0841046/</td>\n",
       "      <td>Walk Hard: The Dewey Cox Story</td>\n",
       "      <td>NaN</td>\n",
       "      <td>[John C. Reilly, Jenna Fischer, Tim Meadows, K...</td>\n",
       "      <td>NaN</td>\n",
       "      <td>Uta Briesewitz</td>\n",
       "      <td>[December 21, 2007, (, 2007-12-21, )]</td>\n",
       "      <td>96 minutes</td>\n",
       "      <td>...</td>\n",
       "      <td>NaN</td>\n",
       "      <td>NaN</td>\n",
       "      <td>NaN</td>\n",
       "      <td>NaN</td>\n",
       "      <td>NaN</td>\n",
       "      <td>NaN</td>\n",
       "      <td>NaN</td>\n",
       "      <td>NaN</td>\n",
       "      <td>NaN</td>\n",
       "      <td>NaN</td>\n",
       "    </tr>\n",
       "    <tr>\n",
       "      <th>5282</th>\n",
       "      <td>https://en.wikipedia.org/wiki/The_Dilemma</td>\n",
       "      <td>2011</td>\n",
       "      <td>https://www.imdb.com/title/tt1578275/</td>\n",
       "      <td>The Dilemma</td>\n",
       "      <td>NaN</td>\n",
       "      <td>[Vince Vaughn, Kevin James, Jennifer Connelly,...</td>\n",
       "      <td>NaN</td>\n",
       "      <td>Salvatore Totino</td>\n",
       "      <td>[January 14, 2011, (, 2011-01-14, )]</td>\n",
       "      <td>118 minutes</td>\n",
       "      <td>...</td>\n",
       "      <td>NaN</td>\n",
       "      <td>NaN</td>\n",
       "      <td>NaN</td>\n",
       "      <td>NaN</td>\n",
       "      <td>NaN</td>\n",
       "      <td>NaN</td>\n",
       "      <td>NaN</td>\n",
       "      <td>NaN</td>\n",
       "      <td>NaN</td>\n",
       "      <td>NaN</td>\n",
       "    </tr>\n",
       "  </tbody>\n",
       "</table>\n",
       "<p>2 rows × 40 columns</p>\n",
       "</div>"
      ],
      "text/plain": [
       "                                                    url  year  \\\n",
       "4578  https://en.wikipedia.org/wiki/Walk_Hard:_The_D...  2007   \n",
       "5282          https://en.wikipedia.org/wiki/The_Dilemma  2011   \n",
       "\n",
       "                                  imdb_link                           title  \\\n",
       "4578  https://www.imdb.com/title/tt0841046/  Walk Hard: The Dewey Cox Story   \n",
       "5282  https://www.imdb.com/title/tt1578275/                     The Dilemma   \n",
       "\n",
       "     Based on                                           Starring Narrated by  \\\n",
       "4578      NaN  [John C. Reilly, Jenna Fischer, Tim Meadows, K...         NaN   \n",
       "5282      NaN  [Vince Vaughn, Kevin James, Jennifer Connelly,...         NaN   \n",
       "\n",
       "        Cinematography                           Release date Running time  \\\n",
       "4578    Uta Briesewitz  [December 21, 2007, (, 2007-12-21, )]   96 minutes   \n",
       "5282  Salvatore Totino   [January 14, 2011, (, 2011-01-14, )]  118 minutes   \n",
       "\n",
       "      ... Created by Preceded by Suggested by alt_titles Recorded Venue Label  \\\n",
       "4578  ...        NaN         NaN          NaN        NaN      NaN   NaN   NaN   \n",
       "5282  ...        NaN         NaN          NaN        NaN      NaN   NaN   NaN   \n",
       "\n",
       "     Animation by Color process McCune–Reischauer  \n",
       "4578          NaN           NaN               NaN  \n",
       "5282          NaN           NaN               NaN  \n",
       "\n",
       "[2 rows x 40 columns]"
      ]
     },
     "execution_count": 249,
     "metadata": {},
     "output_type": "execute_result"
    }
   ],
   "source": [
    "wiki_movies_df.sample(2)"
   ]
  },
  {
   "cell_type": "code",
   "execution_count": 250,
   "metadata": {
    "execution": {
     "iopub.execute_input": "2020-11-15T19:45:55.595344Z",
     "iopub.status.busy": "2020-11-15T19:45:55.595344Z",
     "iopub.status.idle": "2020-11-15T19:45:55.626896Z",
     "shell.execute_reply": "2020-11-15T19:45:55.626896Z",
     "shell.execute_reply.started": "2020-11-15T19:45:55.595344Z"
    }
   },
   "outputs": [],
   "source": [
    "# use regex to extract imdb id from the url column \n",
    "wiki_movies_df['imdb_id'] = wiki_movies_df['imdb_link'].str.extract(r'(tt\\d{7})')"
   ]
  },
  {
   "cell_type": "code",
   "execution_count": null,
   "metadata": {},
   "outputs": [],
   "source": []
  },
  {
   "cell_type": "code",
   "execution_count": 251,
   "metadata": {
    "execution": {
     "iopub.execute_input": "2020-11-15T19:46:09.320007Z",
     "iopub.status.busy": "2020-11-15T19:46:09.320007Z",
     "iopub.status.idle": "2020-11-15T19:46:09.378183Z",
     "shell.execute_reply": "2020-11-15T19:46:09.377185Z",
     "shell.execute_reply.started": "2020-11-15T19:46:09.320007Z"
    }
   },
   "outputs": [
    {
     "data": {
      "text/html": [
       "<div>\n",
       "<style scoped>\n",
       "    .dataframe tbody tr th:only-of-type {\n",
       "        vertical-align: middle;\n",
       "    }\n",
       "\n",
       "    .dataframe tbody tr th {\n",
       "        vertical-align: top;\n",
       "    }\n",
       "\n",
       "    .dataframe thead th {\n",
       "        text-align: right;\n",
       "    }\n",
       "</style>\n",
       "<table border=\"1\" class=\"dataframe\">\n",
       "  <thead>\n",
       "    <tr style=\"text-align: right;\">\n",
       "      <th></th>\n",
       "      <th>url</th>\n",
       "      <th>year</th>\n",
       "      <th>imdb_link</th>\n",
       "      <th>title</th>\n",
       "      <th>Based on</th>\n",
       "      <th>Starring</th>\n",
       "      <th>Narrated by</th>\n",
       "      <th>Cinematography</th>\n",
       "      <th>Release date</th>\n",
       "      <th>Running time</th>\n",
       "      <th>...</th>\n",
       "      <th>Preceded by</th>\n",
       "      <th>Suggested by</th>\n",
       "      <th>alt_titles</th>\n",
       "      <th>Recorded</th>\n",
       "      <th>Venue</th>\n",
       "      <th>Label</th>\n",
       "      <th>Animation by</th>\n",
       "      <th>Color process</th>\n",
       "      <th>McCune–Reischauer</th>\n",
       "      <th>imdb_id</th>\n",
       "    </tr>\n",
       "  </thead>\n",
       "  <tbody>\n",
       "    <tr>\n",
       "      <th>1875</th>\n",
       "      <td>https://en.wikipedia.org/wiki/Elvis_Meets_Nixon</td>\n",
       "      <td>1997</td>\n",
       "      <td>https://www.imdb.com/title/tt0122474/</td>\n",
       "      <td>Elvis Meets Nixon</td>\n",
       "      <td>NaN</td>\n",
       "      <td>[Rick Peters, Bob Gunton]</td>\n",
       "      <td>NaN</td>\n",
       "      <td>Michael Storey</td>\n",
       "      <td>August 10, 1997</td>\n",
       "      <td>95 minutes</td>\n",
       "      <td>...</td>\n",
       "      <td>NaN</td>\n",
       "      <td>NaN</td>\n",
       "      <td>NaN</td>\n",
       "      <td>NaN</td>\n",
       "      <td>NaN</td>\n",
       "      <td>NaN</td>\n",
       "      <td>NaN</td>\n",
       "      <td>NaN</td>\n",
       "      <td>NaN</td>\n",
       "      <td>tt0122474</td>\n",
       "    </tr>\n",
       "    <tr>\n",
       "      <th>2560</th>\n",
       "      <td>https://en.wikipedia.org/wiki/The_Waiting_Game...</td>\n",
       "      <td>1999</td>\n",
       "      <td>https://www.imdb.com/title/tt0235872/</td>\n",
       "      <td>The Waiting Game</td>\n",
       "      <td>NaN</td>\n",
       "      <td>Will Arnett</td>\n",
       "      <td>NaN</td>\n",
       "      <td>Richard Eliano</td>\n",
       "      <td>[March 1999, (, 1999-03, )]</td>\n",
       "      <td>85 minutes</td>\n",
       "      <td>...</td>\n",
       "      <td>NaN</td>\n",
       "      <td>NaN</td>\n",
       "      <td>NaN</td>\n",
       "      <td>NaN</td>\n",
       "      <td>NaN</td>\n",
       "      <td>NaN</td>\n",
       "      <td>NaN</td>\n",
       "      <td>NaN</td>\n",
       "      <td>NaN</td>\n",
       "      <td>tt0235872</td>\n",
       "    </tr>\n",
       "  </tbody>\n",
       "</table>\n",
       "<p>2 rows × 41 columns</p>\n",
       "</div>"
      ],
      "text/plain": [
       "                                                    url  year  \\\n",
       "1875    https://en.wikipedia.org/wiki/Elvis_Meets_Nixon  1997   \n",
       "2560  https://en.wikipedia.org/wiki/The_Waiting_Game...  1999   \n",
       "\n",
       "                                  imdb_link              title Based on  \\\n",
       "1875  https://www.imdb.com/title/tt0122474/  Elvis Meets Nixon      NaN   \n",
       "2560  https://www.imdb.com/title/tt0235872/   The Waiting Game      NaN   \n",
       "\n",
       "                       Starring Narrated by  Cinematography  \\\n",
       "1875  [Rick Peters, Bob Gunton]         NaN  Michael Storey   \n",
       "2560                Will Arnett         NaN  Richard Eliano   \n",
       "\n",
       "                     Release date Running time  ... Preceded by Suggested by  \\\n",
       "1875              August 10, 1997   95 minutes  ...         NaN          NaN   \n",
       "2560  [March 1999, (, 1999-03, )]   85 minutes  ...         NaN          NaN   \n",
       "\n",
       "     alt_titles Recorded Venue Label Animation by Color process  \\\n",
       "1875        NaN      NaN   NaN   NaN          NaN           NaN   \n",
       "2560        NaN      NaN   NaN   NaN          NaN           NaN   \n",
       "\n",
       "     McCune–Reischauer    imdb_id  \n",
       "1875               NaN  tt0122474  \n",
       "2560               NaN  tt0235872  \n",
       "\n",
       "[2 rows x 41 columns]"
      ]
     },
     "execution_count": 251,
     "metadata": {},
     "output_type": "execute_result"
    }
   ],
   "source": [
    "wiki_movies_df.sample(2)"
   ]
  },
  {
   "cell_type": "code",
   "execution_count": 253,
   "metadata": {
    "execution": {
     "iopub.execute_input": "2020-11-15T20:12:45.354814Z",
     "iopub.status.busy": "2020-11-15T20:12:45.353818Z",
     "iopub.status.idle": "2020-11-15T20:12:45.415300Z",
     "shell.execute_reply": "2020-11-15T20:12:45.414306Z",
     "shell.execute_reply.started": "2020-11-15T20:12:45.354814Z"
    }
   },
   "outputs": [
    {
     "name": "stdout",
     "output_type": "stream",
     "text": [
      "7033\n"
     ]
    }
   ],
   "source": [
    "wiki_movies_df.drop_duplicates(subset='imdb_id', inplace=True)\n",
    "print(len(wiki_movies_df))"
   ]
  },
  {
   "cell_type": "code",
   "execution_count": 256,
   "metadata": {
    "execution": {
     "iopub.execute_input": "2020-11-15T20:13:16.709654Z",
     "iopub.status.busy": "2020-11-15T20:13:16.709654Z",
     "iopub.status.idle": "2020-11-15T20:13:16.780533Z",
     "shell.execute_reply": "2020-11-15T20:13:16.779536Z",
     "shell.execute_reply.started": "2020-11-15T20:13:16.709654Z"
    }
   },
   "outputs": [
    {
     "data": {
      "text/plain": [
       "(7033, 41)"
      ]
     },
     "execution_count": 256,
     "metadata": {},
     "output_type": "execute_result"
    },
    {
     "data": {
      "text/html": [
       "<div>\n",
       "<style scoped>\n",
       "    .dataframe tbody tr th:only-of-type {\n",
       "        vertical-align: middle;\n",
       "    }\n",
       "\n",
       "    .dataframe tbody tr th {\n",
       "        vertical-align: top;\n",
       "    }\n",
       "\n",
       "    .dataframe thead th {\n",
       "        text-align: right;\n",
       "    }\n",
       "</style>\n",
       "<table border=\"1\" class=\"dataframe\">\n",
       "  <thead>\n",
       "    <tr style=\"text-align: right;\">\n",
       "      <th></th>\n",
       "      <th>url</th>\n",
       "      <th>year</th>\n",
       "      <th>imdb_link</th>\n",
       "      <th>title</th>\n",
       "      <th>Based on</th>\n",
       "      <th>Starring</th>\n",
       "      <th>Narrated by</th>\n",
       "      <th>Cinematography</th>\n",
       "      <th>Release date</th>\n",
       "      <th>Running time</th>\n",
       "      <th>...</th>\n",
       "      <th>Preceded by</th>\n",
       "      <th>Suggested by</th>\n",
       "      <th>alt_titles</th>\n",
       "      <th>Recorded</th>\n",
       "      <th>Venue</th>\n",
       "      <th>Label</th>\n",
       "      <th>Animation by</th>\n",
       "      <th>Color process</th>\n",
       "      <th>McCune–Reischauer</th>\n",
       "      <th>imdb_id</th>\n",
       "    </tr>\n",
       "  </thead>\n",
       "  <tbody>\n",
       "    <tr>\n",
       "      <th>1442</th>\n",
       "      <td>https://en.wikipedia.org/wiki/2_Days_in_the_Va...</td>\n",
       "      <td>1996</td>\n",
       "      <td>https://www.imdb.com/title/tt0115438/</td>\n",
       "      <td>2 Days in the Valley</td>\n",
       "      <td>NaN</td>\n",
       "      <td>[Danny Aiello, Greg Cruttwell, Jeff Daniels, T...</td>\n",
       "      <td>NaN</td>\n",
       "      <td>Oliver Wood</td>\n",
       "      <td>[September 27, 1996, (, 1996-09-27, )]</td>\n",
       "      <td>105 minutes</td>\n",
       "      <td>...</td>\n",
       "      <td>NaN</td>\n",
       "      <td>NaN</td>\n",
       "      <td>NaN</td>\n",
       "      <td>NaN</td>\n",
       "      <td>NaN</td>\n",
       "      <td>NaN</td>\n",
       "      <td>NaN</td>\n",
       "      <td>NaN</td>\n",
       "      <td>NaN</td>\n",
       "      <td>tt0115438</td>\n",
       "    </tr>\n",
       "    <tr>\n",
       "      <th>6900</th>\n",
       "      <td>https://en.wikipedia.org/wiki/Sgt._Stubby:_An_...</td>\n",
       "      <td>2018</td>\n",
       "      <td>https://www.imdb.com/title/tt5314190/</td>\n",
       "      <td>Sgt. Stubby: An American Hero</td>\n",
       "      <td>NaN</td>\n",
       "      <td>[Logan Lerman, Helena Bonham Carter, Gérard De...</td>\n",
       "      <td>NaN</td>\n",
       "      <td>NaN</td>\n",
       "      <td>[March 27, 2018, (, 2018-03-27, ), (, Los Ange...</td>\n",
       "      <td>84 minutes</td>\n",
       "      <td>...</td>\n",
       "      <td>NaN</td>\n",
       "      <td>NaN</td>\n",
       "      <td>NaN</td>\n",
       "      <td>NaN</td>\n",
       "      <td>NaN</td>\n",
       "      <td>NaN</td>\n",
       "      <td>NaN</td>\n",
       "      <td>NaN</td>\n",
       "      <td>NaN</td>\n",
       "      <td>tt5314190</td>\n",
       "    </tr>\n",
       "    <tr>\n",
       "      <th>2965</th>\n",
       "      <td>https://en.wikipedia.org/wiki/Sidewalks_of_New...</td>\n",
       "      <td>2001</td>\n",
       "      <td>https://www.imdb.com/title/tt0239986/</td>\n",
       "      <td>Sidewalks of New York</td>\n",
       "      <td>NaN</td>\n",
       "      <td>[Edward Burns, Rosario Dawson, Dennis Farina, ...</td>\n",
       "      <td>NaN</td>\n",
       "      <td>Frank Prinzi</td>\n",
       "      <td>[November 21, 2001, (, 2001-11-21, ), (U.S. li...</td>\n",
       "      <td>108 minutes</td>\n",
       "      <td>...</td>\n",
       "      <td>NaN</td>\n",
       "      <td>NaN</td>\n",
       "      <td>NaN</td>\n",
       "      <td>NaN</td>\n",
       "      <td>NaN</td>\n",
       "      <td>NaN</td>\n",
       "      <td>NaN</td>\n",
       "      <td>NaN</td>\n",
       "      <td>NaN</td>\n",
       "      <td>tt0239986</td>\n",
       "    </tr>\n",
       "  </tbody>\n",
       "</table>\n",
       "<p>3 rows × 41 columns</p>\n",
       "</div>"
      ],
      "text/plain": [
       "                                                    url  year  \\\n",
       "1442  https://en.wikipedia.org/wiki/2_Days_in_the_Va...  1996   \n",
       "6900  https://en.wikipedia.org/wiki/Sgt._Stubby:_An_...  2018   \n",
       "2965  https://en.wikipedia.org/wiki/Sidewalks_of_New...  2001   \n",
       "\n",
       "                                  imdb_link                          title  \\\n",
       "1442  https://www.imdb.com/title/tt0115438/           2 Days in the Valley   \n",
       "6900  https://www.imdb.com/title/tt5314190/  Sgt. Stubby: An American Hero   \n",
       "2965  https://www.imdb.com/title/tt0239986/          Sidewalks of New York   \n",
       "\n",
       "     Based on                                           Starring Narrated by  \\\n",
       "1442      NaN  [Danny Aiello, Greg Cruttwell, Jeff Daniels, T...         NaN   \n",
       "6900      NaN  [Logan Lerman, Helena Bonham Carter, Gérard De...         NaN   \n",
       "2965      NaN  [Edward Burns, Rosario Dawson, Dennis Farina, ...         NaN   \n",
       "\n",
       "     Cinematography                                       Release date  \\\n",
       "1442    Oliver Wood             [September 27, 1996, (, 1996-09-27, )]   \n",
       "6900            NaN  [March 27, 2018, (, 2018-03-27, ), (, Los Ange...   \n",
       "2965   Frank Prinzi  [November 21, 2001, (, 2001-11-21, ), (U.S. li...   \n",
       "\n",
       "     Running time  ... Preceded by Suggested by alt_titles Recorded Venue  \\\n",
       "1442  105 minutes  ...         NaN          NaN        NaN      NaN   NaN   \n",
       "6900   84 minutes  ...         NaN          NaN        NaN      NaN   NaN   \n",
       "2965  108 minutes  ...         NaN          NaN        NaN      NaN   NaN   \n",
       "\n",
       "     Label Animation by Color process McCune–Reischauer    imdb_id  \n",
       "1442   NaN          NaN           NaN               NaN  tt0115438  \n",
       "6900   NaN          NaN           NaN               NaN  tt5314190  \n",
       "2965   NaN          NaN           NaN               NaN  tt0239986  \n",
       "\n",
       "[3 rows x 41 columns]"
      ]
     },
     "execution_count": 256,
     "metadata": {},
     "output_type": "execute_result"
    }
   ],
   "source": [
    "wiki_movies_df.shape\n",
    "wiki_movies_df.sample(3)"
   ]
  },
  {
   "cell_type": "markdown",
   "metadata": {
    "execution": {
     "iopub.execute_input": "2020-11-15T20:17:14.810733Z",
     "iopub.status.busy": "2020-11-15T20:17:14.809735Z",
     "iopub.status.idle": "2020-11-15T20:17:14.853038Z",
     "shell.execute_reply": "2020-11-15T20:17:14.851037Z",
     "shell.execute_reply.started": "2020-11-15T20:17:14.810733Z"
    }
   },
   "source": [
    "> Removing Mostly Null Columns "
   ]
  },
  {
   "cell_type": "code",
   "execution_count": 282,
   "metadata": {
    "execution": {
     "iopub.execute_input": "2020-11-15T20:50:31.278918Z",
     "iopub.status.busy": "2020-11-15T20:50:31.278918Z",
     "iopub.status.idle": "2020-11-15T20:50:31.331710Z",
     "shell.execute_reply": "2020-11-15T20:50:31.331710Z",
     "shell.execute_reply.started": "2020-11-15T20:50:31.278918Z"
    }
   },
   "outputs": [
    {
     "data": {
      "text/plain": [
       "url                          0\n",
       "year                         0\n",
       "imdb_link                    0\n",
       "title                        1\n",
       "Based on                  4852\n",
       "Starring                   184\n",
       "Narrated by               6752\n",
       "Cinematography             691\n",
       "Release date                32\n",
       "Running time               139\n",
       "Country                    236\n",
       "Language                   244\n",
       "Budget                    2295\n",
       "Box office                1548\n",
       "Director                     0\n",
       "Distributor                357\n",
       "Editor(s)                  548\n",
       "Composer(s)                518\n",
       "Producer(s)                202\n",
       "Production company(s)     1678\n",
       "Writer(s)                  199\n",
       "Genre                     6923\n",
       "Original language(s)      6875\n",
       "Original network          6908\n",
       "Executive producer(s)     6936\n",
       "Production location(s)    6986\n",
       "Picture format            6969\n",
       "Audio format              6972\n",
       "Voices of                 7031\n",
       "Followed by               7024\n",
       "Created by                7023\n",
       "Preceded by               7023\n",
       "Suggested by              7032\n",
       "alt_titles                7012\n",
       "Recorded                  7031\n",
       "Venue                     7032\n",
       "Label                     7031\n",
       "Animation by              7031\n",
       "Color process             7032\n",
       "McCune–Reischauer         7031\n",
       "imdb_id                      0\n",
       "dtype: int64"
      ]
     },
     "execution_count": 282,
     "metadata": {},
     "output_type": "execute_result"
    }
   ],
   "source": [
    "wiki_movies_df.isnull().sum()"
   ]
  },
  {
   "cell_type": "code",
   "execution_count": 274,
   "metadata": {
    "execution": {
     "iopub.execute_input": "2020-11-15T20:49:39.501251Z",
     "iopub.status.busy": "2020-11-15T20:49:39.501251Z",
     "iopub.status.idle": "2020-11-15T20:49:39.545134Z",
     "shell.execute_reply": "2020-11-15T20:49:39.544136Z",
     "shell.execute_reply.started": "2020-11-15T20:49:39.501251Z"
    }
   },
   "outputs": [
    {
     "name": "stdout",
     "output_type": "stream",
     "text": [
      "[['url', 0], ['year', 0], ['imdb_link', 0], ['title', 1], ['Based on', 4852], ['Starring', 184], ['Narrated by', 6752], ['Cinematography', 691], ['Release date', 32], ['Running time', 139], ['Country', 236], ['Language', 244], ['Budget', 2295], ['Box office', 1548], ['Director', 0], ['Distributor', 357], ['Editor(s)', 548], ['Composer(s)', 518], ['Producer(s)', 202], ['Production company(s)', 1678], ['Writer(s)', 199], ['Genre', 6923], ['Original language(s)', 6875], ['Original network', 6908], ['Executive producer(s)', 6936], ['Production location(s)', 6986], ['Picture format', 6969], ['Audio format', 6972], ['Voices of', 7031], ['Followed by', 7024], ['Created by', 7023], ['Preceded by', 7023], ['Suggested by', 7032], ['alt_titles', 7012], ['Recorded', 7031], ['Venue', 7032], ['Label', 7031], ['Animation by', 7031], ['Color process', 7032], ['McCune–Reischauer', 7031], ['imdb_id', 0]]\n"
     ]
    }
   ],
   "source": [
    "print([[column,wiki_movies_df[column].isnull().sum()] for column in wiki_movies_df.columns])"
   ]
  },
  {
   "cell_type": "code",
   "execution_count": 284,
   "metadata": {
    "execution": {
     "iopub.execute_input": "2020-11-15T20:59:21.663647Z",
     "iopub.status.busy": "2020-11-15T20:59:21.662652Z",
     "iopub.status.idle": "2020-11-15T20:59:21.690620Z",
     "shell.execute_reply": "2020-11-15T20:59:21.690620Z",
     "shell.execute_reply.started": "2020-11-15T20:59:21.663647Z"
    }
   },
   "outputs": [
    {
     "name": "stdout",
     "output_type": "stream",
     "text": [
      "['url', 'year', 'imdb_link', 'title', 'Based on', 'Starring', 'Cinematography', 'Release date', 'Running time', 'Country', 'Language', 'Budget', 'Box office', 'Director', 'Distributor', 'Editor(s)', 'Composer(s)', 'Producer(s)', 'Production company(s)', 'Writer(s)', 'imdb_id']\n"
     ]
    }
   ],
   "source": [
    "# make a list of columns that have less than 90% null values and use those to trim down our dataset.\n",
    "wiki_columns_to_keep = [column for column in wiki_movies_df.columns if wiki_movies_df[column].isnull().sum() < len(wiki_movies_df) * 0.9]\n",
    "print(wiki_columns_to_keep)"
   ]
  },
  {
   "cell_type": "code",
   "execution_count": 285,
   "metadata": {
    "execution": {
     "iopub.execute_input": "2020-11-15T20:59:36.012523Z",
     "iopub.status.busy": "2020-11-15T20:59:36.012523Z",
     "iopub.status.idle": "2020-11-15T20:59:36.047692Z",
     "shell.execute_reply": "2020-11-15T20:59:36.047692Z",
     "shell.execute_reply.started": "2020-11-15T20:59:36.012523Z"
    }
   },
   "outputs": [],
   "source": [
    "wiki_movies_df = wiki_movies_df[wiki_columns_to_keep]"
   ]
  },
  {
   "cell_type": "code",
   "execution_count": 286,
   "metadata": {
    "execution": {
     "iopub.execute_input": "2020-11-15T21:09:49.697860Z",
     "iopub.status.busy": "2020-11-15T21:09:49.697860Z",
     "iopub.status.idle": "2020-11-15T21:09:49.702339Z",
     "shell.execute_reply": "2020-11-15T21:09:49.702339Z",
     "shell.execute_reply.started": "2020-11-15T21:09:49.697860Z"
    }
   },
   "outputs": [
    {
     "data": {
      "text/plain": [
       "(7033, 21)"
      ]
     },
     "execution_count": 286,
     "metadata": {},
     "output_type": "execute_result"
    }
   ],
   "source": [
    "wiki_movies_df.shape"
   ]
  },
  {
   "cell_type": "markdown",
   "metadata": {
    "execution": {
     "iopub.execute_input": "2020-11-15T23:26:05.266655Z",
     "iopub.status.busy": "2020-11-15T23:26:05.266655Z",
     "iopub.status.idle": "2020-11-15T23:26:05.318489Z",
     "shell.execute_reply": "2020-11-15T23:26:05.314533Z",
     "shell.execute_reply.started": "2020-11-15T23:26:05.266655Z"
    }
   },
   "source": [
    "> Converting data / parsing "
   ]
  },
  {
   "cell_type": "code",
   "execution_count": 287,
   "metadata": {
    "execution": {
     "iopub.execute_input": "2020-11-15T23:25:40.949722Z",
     "iopub.status.busy": "2020-11-15T23:25:40.949722Z",
     "iopub.status.idle": "2020-11-15T23:25:40.962770Z",
     "shell.execute_reply": "2020-11-15T23:25:40.962770Z",
     "shell.execute_reply.started": "2020-11-15T23:25:40.949722Z"
    }
   },
   "outputs": [
    {
     "data": {
      "text/plain": [
       "url                      object\n",
       "year                      int64\n",
       "imdb_link                object\n",
       "title                    object\n",
       "Based on                 object\n",
       "Starring                 object\n",
       "Cinematography           object\n",
       "Release date             object\n",
       "Running time             object\n",
       "Country                  object\n",
       "Language                 object\n",
       "Budget                   object\n",
       "Box office               object\n",
       "Director                 object\n",
       "Distributor              object\n",
       "Editor(s)                object\n",
       "Composer(s)              object\n",
       "Producer(s)              object\n",
       "Production company(s)    object\n",
       "Writer(s)                object\n",
       "imdb_id                  object\n",
       "dtype: object"
      ]
     },
     "execution_count": 287,
     "metadata": {},
     "output_type": "execute_result"
    }
   ],
   "source": [
    "wiki_movies_df.dtypes"
   ]
  },
  {
   "cell_type": "code",
   "execution_count": 289,
   "metadata": {
    "execution": {
     "iopub.execute_input": "2020-11-15T23:27:22.371455Z",
     "iopub.status.busy": "2020-11-15T23:27:22.371455Z",
     "iopub.status.idle": "2020-11-15T23:27:22.385623Z",
     "shell.execute_reply": "2020-11-15T23:27:22.384628Z",
     "shell.execute_reply.started": "2020-11-15T23:27:22.371455Z"
    }
   },
   "outputs": [
    {
     "data": {
      "text/plain": [
       "0          $21.4 million\n",
       "1           $2.7 million\n",
       "2            $57,718,089\n",
       "3             $7,331,647\n",
       "4       $6,939,946 (USA)\n",
       "              ...       \n",
       "7071       $41.9 million\n",
       "7072       $76.1 million\n",
       "7073       $38.4 million\n",
       "7074        $5.5 million\n",
       "7075                 NaN\n",
       "Name: Box office, Length: 7033, dtype: object"
      ]
     },
     "execution_count": 289,
     "metadata": {},
     "output_type": "execute_result"
    }
   ],
   "source": [
    "wiki_movies_df['Box office']"
   ]
  },
  {
   "cell_type": "code",
   "execution_count": 9,
   "metadata": {
    "execution": {
     "iopub.execute_input": "2020-11-16T21:17:59.707073Z",
     "iopub.status.busy": "2020-11-16T21:17:59.707073Z",
     "iopub.status.idle": "2020-11-16T21:17:59.722306Z",
     "shell.execute_reply": "2020-11-16T21:17:59.721308Z",
     "shell.execute_reply.started": "2020-11-16T21:17:59.707073Z"
    }
   },
   "outputs": [
    {
     "data": {
      "text/plain": [
       "5485"
      ]
     },
     "execution_count": 9,
     "metadata": {},
     "output_type": "execute_result"
    },
    {
     "data": {
      "text/plain": [
       "0       $21.4 million\n",
       "1        $2.7 million\n",
       "2         $57,718,089\n",
       "3          $7,331,647\n",
       "4    $6,939,946 (USA)\n",
       "Name: Box office, dtype: object"
      ]
     },
     "execution_count": 9,
     "metadata": {},
     "output_type": "execute_result"
    }
   ],
   "source": [
    "box_office = wiki_movies_df['Box office'].dropna()\n",
    "box_office.size\n",
    "box_office.head()"
   ]
  },
  {
   "cell_type": "markdown",
   "metadata": {
    "execution": {
     "iopub.execute_input": "2020-11-17T17:31:00.571680Z",
     "iopub.status.busy": "2020-11-17T17:31:00.571680Z",
     "iopub.status.idle": "2020-11-17T17:31:00.579169Z",
     "shell.execute_reply": "2020-11-17T17:31:00.577664Z",
     "shell.execute_reply.started": "2020-11-17T17:31:00.571680Z"
    }
   },
   "source": [
    "> regular expressions & filters"
   ]
  },
  {
   "cell_type": "code",
   "execution_count": 7,
   "metadata": {
    "execution": {
     "iopub.execute_input": "2020-11-16T21:15:58.488955Z",
     "iopub.status.busy": "2020-11-16T21:15:58.488955Z",
     "iopub.status.idle": "2020-11-16T21:15:58.497222Z",
     "shell.execute_reply": "2020-11-16T21:15:58.497222Z",
     "shell.execute_reply.started": "2020-11-16T21:15:58.488955Z"
    }
   },
   "outputs": [],
   "source": [
    "def is_not_a_string(x):\n",
    "    return type(x) != str"
   ]
  },
  {
   "cell_type": "code",
   "execution_count": 11,
   "metadata": {
    "execution": {
     "iopub.execute_input": "2020-11-16T21:18:15.489688Z",
     "iopub.status.busy": "2020-11-16T21:18:15.489688Z",
     "iopub.status.idle": "2020-11-16T21:18:15.500203Z",
     "shell.execute_reply": "2020-11-16T21:18:15.500203Z",
     "shell.execute_reply.started": "2020-11-16T21:18:15.489688Z"
    }
   },
   "outputs": [
    {
     "data": {
      "text/plain": [
       "34                           [US$, 4,212,828]\n",
       "54      [$6,698,361 (, United States, ), [2]]\n",
       "74                    [$6,488,144, (US), [1]]\n",
       "126                [US$1,531,489, (domestic)]\n",
       "130                          [US$, 4,803,039]\n",
       "                        ...                  \n",
       "6980               [$99.6, million, [4], [5]]\n",
       "6994                   [$365.6, million, [1]]\n",
       "6995                         [$53.8, million]\n",
       "7015                     [$435, million, [7]]\n",
       "7048                   [$529.3, million, [4]]\n",
       "Name: Box office, Length: 135, dtype: object"
      ]
     },
     "execution_count": 11,
     "metadata": {},
     "output_type": "execute_result"
    }
   ],
   "source": [
    "box_office[box_office.map(is_not_a_string)]"
   ]
  },
  {
   "cell_type": "code",
   "execution_count": 2,
   "metadata": {
    "execution": {
     "iopub.execute_input": "2020-11-16T21:12:59.027385Z",
     "iopub.status.busy": "2020-11-16T21:12:59.027385Z",
     "iopub.status.idle": "2020-11-16T21:13:00.023383Z",
     "shell.execute_reply": "2020-11-16T21:13:00.023383Z",
     "shell.execute_reply.started": "2020-11-16T21:12:59.027385Z"
    }
   },
   "outputs": [],
   "source": [
    "import pandas as pd "
   ]
  },
  {
   "cell_type": "code",
   "execution_count": 6,
   "metadata": {
    "execution": {
     "iopub.execute_input": "2020-11-16T21:15:05.518212Z",
     "iopub.status.busy": "2020-11-16T21:15:05.518212Z",
     "iopub.status.idle": "2020-11-16T21:15:05.572500Z",
     "shell.execute_reply": "2020-11-16T21:15:05.572500Z",
     "shell.execute_reply.started": "2020-11-16T21:15:05.518212Z"
    }
   },
   "outputs": [],
   "source": [
    "wiki_movies_df = pd.read_pickle('wiki_0.pk1')"
   ]
  },
  {
   "cell_type": "code",
   "execution_count": 13,
   "metadata": {
    "execution": {
     "iopub.execute_input": "2020-11-16T21:20:03.618728Z",
     "iopub.status.busy": "2020-11-16T21:20:03.618728Z",
     "iopub.status.idle": "2020-11-16T21:20:03.626473Z",
     "shell.execute_reply": "2020-11-16T21:20:03.626473Z",
     "shell.execute_reply.started": "2020-11-16T21:20:03.618728Z"
    }
   },
   "outputs": [
    {
     "data": {
      "text/plain": [
       "5485"
      ]
     },
     "execution_count": 13,
     "metadata": {},
     "output_type": "execute_result"
    }
   ],
   "source": [
    "len(box_office)"
   ]
  },
  {
   "cell_type": "code",
   "execution_count": 14,
   "metadata": {
    "execution": {
     "iopub.execute_input": "2020-11-16T21:23:54.276346Z",
     "iopub.status.busy": "2020-11-16T21:23:54.276346Z",
     "iopub.status.idle": "2020-11-16T21:23:54.296799Z",
     "shell.execute_reply": "2020-11-16T21:23:54.295837Z",
     "shell.execute_reply.started": "2020-11-16T21:23:54.276346Z"
    }
   },
   "outputs": [
    {
     "data": {
      "text/plain": [
       "34                           [US$, 4,212,828]\n",
       "54      [$6,698,361 (, United States, ), [2]]\n",
       "74                    [$6,488,144, (US), [1]]\n",
       "126                [US$1,531,489, (domestic)]\n",
       "130                          [US$, 4,803,039]\n",
       "                        ...                  \n",
       "6980               [$99.6, million, [4], [5]]\n",
       "6994                   [$365.6, million, [1]]\n",
       "6995                         [$53.8, million]\n",
       "7015                     [$435, million, [7]]\n",
       "7048                   [$529.3, million, [4]]\n",
       "Name: Box office, Length: 135, dtype: object"
      ]
     },
     "execution_count": 14,
     "metadata": {},
     "output_type": "execute_result"
    }
   ],
   "source": [
    "# funciton returns values that are not string type\n",
    "box_office[box_office.map(lambda x: type(x) != str)]"
   ]
  },
  {
   "cell_type": "code",
   "execution_count": 15,
   "metadata": {
    "execution": {
     "iopub.execute_input": "2020-11-16T21:24:17.605826Z",
     "iopub.status.busy": "2020-11-16T21:24:17.605826Z",
     "iopub.status.idle": "2020-11-16T21:24:17.612502Z",
     "shell.execute_reply": "2020-11-16T21:24:17.612309Z",
     "shell.execute_reply.started": "2020-11-16T21:24:17.605826Z"
    }
   },
   "outputs": [],
   "source": [
    "# combining lsit values as one \n",
    "box_office = box_office.apply(lambda x: ' '.join(x) if type(x) == list else x)"
   ]
  },
  {
   "cell_type": "code",
   "execution_count": 24,
   "metadata": {
    "execution": {
     "iopub.execute_input": "2020-11-17T17:30:19.445026Z",
     "iopub.status.busy": "2020-11-17T17:30:19.445026Z",
     "iopub.status.idle": "2020-11-17T17:30:19.451011Z",
     "shell.execute_reply": "2020-11-17T17:30:19.451011Z",
     "shell.execute_reply.started": "2020-11-17T17:30:19.445026Z"
    }
   },
   "outputs": [
    {
     "data": {
      "text/plain": [
       "3495        $2,586,511\n",
       "3336      $8.2 million\n",
       "6948     $46.7 million\n",
       "5164    $170.4 million\n",
       "5297    $157.9 million\n",
       "2902    $871.5 million\n",
       "3347       $38,955,598\n",
       "6951    $622.7 million\n",
       "4180          $418,689\n",
       "360      $15.4 million\n",
       "Name: Box office, dtype: object"
      ]
     },
     "execution_count": 24,
     "metadata": {},
     "output_type": "execute_result"
    }
   ],
   "source": [
    "box_office.sample(10)"
   ]
  },
  {
   "cell_type": "code",
   "execution_count": 28,
   "metadata": {
    "execution": {
     "iopub.execute_input": "2020-11-17T17:50:01.930297Z",
     "iopub.status.busy": "2020-11-17T17:50:01.930297Z",
     "iopub.status.idle": "2020-11-17T17:50:01.934285Z",
     "shell.execute_reply": "2020-11-17T17:50:01.934285Z",
     "shell.execute_reply.started": "2020-11-17T17:50:01.930297Z"
    }
   },
   "outputs": [
    {
     "name": "stdout",
     "output_type": "stream",
     "text": [
      "Example 1: $21.4 million\n",
      "Example 2: $9 million\n"
     ]
    }
   ],
   "source": [
    "print('Example 1:', box_office.iloc[0])\n",
    "print('Example 2:', box_office.iloc[1986])"
   ]
  },
  {
   "cell_type": "markdown",
   "metadata": {},
   "source": [
    "<div class=\"alert alert-block alert-info\">\n",
    "<b>Note:</b></div>\n",
    "<li> dollar sign is a special character in regular expressions, so we'll need to escape it.\n",
    "<li> \\d specicify digits only + modifier to capture one or more digits\n",
    "<li> decimal point is a special character, so it needs to be escaped with a backslash.\n",
    "<li> \\d character to specify digits only, but now with the * modifier because there may be no more digits after the decimal point.\n",
    "<li> \\s character to match whitespace characters. To be safe, we'll match any number of whitespace characters with the * modifier.\n",
    "<li> Since \"million\" and \"billion\" only differ by one letter, we can match it with a character set for the first letter"
   ]
  },
  {
   "cell_type": "code",
   "execution_count": 29,
   "metadata": {
    "execution": {
     "iopub.execute_input": "2020-11-17T18:11:14.165699Z",
     "iopub.status.busy": "2020-11-17T18:11:14.165699Z",
     "iopub.status.idle": "2020-11-17T18:11:14.169689Z",
     "shell.execute_reply": "2020-11-17T18:11:14.169689Z",
     "shell.execute_reply.started": "2020-11-17T18:11:14.165699Z"
    }
   },
   "outputs": [],
   "source": [
    "# creating first regex for string forms in box office series \n",
    "form_one = r'\\$\\d+\\.?\\d*\\s*[mb]illion'"
   ]
  },
  {
   "cell_type": "code",
   "execution_count": 34,
   "metadata": {
    "execution": {
     "iopub.execute_input": "2020-11-17T18:14:36.884454Z",
     "iopub.status.busy": "2020-11-17T18:14:36.884454Z",
     "iopub.status.idle": "2020-11-17T18:14:36.915011Z",
     "shell.execute_reply": "2020-11-17T18:14:36.914812Z",
     "shell.execute_reply.started": "2020-11-17T18:14:36.884454Z"
    }
   },
   "outputs": [
    {
     "data": {
      "text/plain": [
       "3896"
      ]
     },
     "execution_count": 34,
     "metadata": {},
     "output_type": "execute_result"
    }
   ],
   "source": [
    "# 3896 values that match the form \"$123.4 million/billion4\"\n",
    "box_office.str.contains(form_one, flags=re.IGNORECASE).sum()"
   ]
  },
  {
   "cell_type": "markdown",
   "metadata": {},
   "source": [
    "<li> we need to escape the dollar sign for it to match. \n",
    "<li> the \\d character for digits, but this time, we'll modify it with curly brackets to only match one through three repetitions. \n",
    "<li> To match a comma and exactly three digits, we'll use the string \",\\d{3}\".\n",
    "<li> then put a plus sign after the parentheses: \"(,\\d{3})+\". We'll add one more modification to specify that this is a non-capturing group by inserting a question mark and colon after the opening parenthesis: \"(?:,\\d{3})+\"."
   ]
  },
  {
   "cell_type": "code",
   "execution_count": 36,
   "metadata": {
    "execution": {
     "iopub.execute_input": "2020-11-17T18:15:11.539984Z",
     "iopub.status.busy": "2020-11-17T18:15:11.539984Z",
     "iopub.status.idle": "2020-11-17T18:15:11.547971Z",
     "shell.execute_reply": "2020-11-17T18:15:11.547971Z",
     "shell.execute_reply.started": "2020-11-17T18:15:11.539984Z"
    }
   },
   "outputs": [
    {
     "data": {
      "text/plain": [
       "1544"
      ]
     },
     "execution_count": 36,
     "metadata": {},
     "output_type": "execute_result"
    }
   ],
   "source": [
    "# 1,544 box office values that match the form \"$123,456,789.\"\n",
    "form_two = r'\\$\\d{1,3}(?:,\\d{3})+'\n",
    "box_office.str.contains(form_two, flags=re.IGNORECASE).sum()"
   ]
  },
  {
   "cell_type": "code",
   "execution_count": 43,
   "metadata": {
    "execution": {
     "iopub.execute_input": "2020-11-17T19:10:20.287065Z",
     "iopub.status.busy": "2020-11-17T19:10:20.287065Z",
     "iopub.status.idle": "2020-11-17T19:10:20.300034Z",
     "shell.execute_reply": "2020-11-17T19:10:20.299033Z",
     "shell.execute_reply.started": "2020-11-17T19:10:20.287065Z"
    }
   },
   "outputs": [],
   "source": [
    "matches_form_one = box_office.str.contains(form_one, flags=re.IGNORECASE)\n",
    "matches_form_two = box_office.str.contains(form_two, flags=re.IGNORECASE)"
   ]
  },
  {
   "cell_type": "code",
   "execution_count": 45,
   "metadata": {
    "execution": {
     "iopub.execute_input": "2020-11-17T19:14:10.188553Z",
     "iopub.status.busy": "2020-11-17T19:14:10.188553Z",
     "iopub.status.idle": "2020-11-17T19:14:10.206013Z",
     "shell.execute_reply": "2020-11-17T19:14:10.205008Z",
     "shell.execute_reply.started": "2020-11-17T19:14:10.188553Z"
    }
   },
   "outputs": [
    {
     "ename": "ValueError",
     "evalue": "The truth value of a Series is ambiguous. Use a.empty, a.bool(), a.item(), a.any() or a.all().",
     "output_type": "error",
     "traceback": [
      "\u001b[1;31m---------------------------------------------------------------------------\u001b[0m",
      "\u001b[1;31mValueError\u001b[0m                                Traceback (most recent call last)",
      "\u001b[1;32m<ipython-input-45-ffcd0c8ebd6e>\u001b[0m in \u001b[0;36m<module>\u001b[1;34m\u001b[0m\n\u001b[1;32m----> 1\u001b[1;33m \u001b[0mbox_office\u001b[0m\u001b[1;33m[\u001b[0m\u001b[1;33m(\u001b[0m\u001b[1;32mnot\u001b[0m \u001b[0mmatches_form_one\u001b[0m\u001b[1;33m)\u001b[0m \u001b[1;32mand\u001b[0m \u001b[1;33m(\u001b[0m\u001b[1;32mnot\u001b[0m \u001b[0mmatches_form_two\u001b[0m\u001b[1;33m)\u001b[0m\u001b[1;33m]\u001b[0m\u001b[1;33m\u001b[0m\u001b[1;33m\u001b[0m\u001b[0m\n\u001b[0m",
      "\u001b[1;32m~\\Anaconda3\\lib\\site-packages\\pandas\\core\\generic.py\u001b[0m in \u001b[0;36m__nonzero__\u001b[1;34m(self)\u001b[0m\n\u001b[0;32m   1325\u001b[0m     \u001b[1;32mdef\u001b[0m \u001b[0m__nonzero__\u001b[0m\u001b[1;33m(\u001b[0m\u001b[0mself\u001b[0m\u001b[1;33m)\u001b[0m\u001b[1;33m:\u001b[0m\u001b[1;33m\u001b[0m\u001b[1;33m\u001b[0m\u001b[0m\n\u001b[0;32m   1326\u001b[0m         raise ValueError(\n\u001b[1;32m-> 1327\u001b[1;33m             \u001b[1;34mf\"The truth value of a {type(self).__name__} is ambiguous. \"\u001b[0m\u001b[1;33m\u001b[0m\u001b[1;33m\u001b[0m\u001b[0m\n\u001b[0m\u001b[0;32m   1328\u001b[0m             \u001b[1;34m\"Use a.empty, a.bool(), a.item(), a.any() or a.all().\"\u001b[0m\u001b[1;33m\u001b[0m\u001b[1;33m\u001b[0m\u001b[0m\n\u001b[0;32m   1329\u001b[0m         )\n",
      "\u001b[1;31mValueError\u001b[0m: The truth value of a Series is ambiguous. Use a.empty, a.bool(), a.item(), a.any() or a.all()."
     ]
    }
   ],
   "source": [
    "box_office[(not matches_form_one) and (not matches_form_two)]"
   ]
  },
  {
   "cell_type": "code",
   "execution_count": 50,
   "metadata": {
    "execution": {
     "iopub.execute_input": "2020-11-17T19:22:44.563139Z",
     "iopub.status.busy": "2020-11-17T19:22:44.563139Z",
     "iopub.status.idle": "2020-11-17T19:22:44.571124Z",
     "shell.execute_reply": "2020-11-17T19:22:44.570120Z",
     "shell.execute_reply.started": "2020-11-17T19:22:44.563139Z"
    }
   },
   "outputs": [
    {
     "data": {
      "text/plain": [
       "2347                    $282.175\n",
       "6593              less than $372\n",
       "2638    $ 104,883 (US sub-total)\n",
       "130                US$ 4,803,039\n",
       "5362           $ 142 million [3]\n",
       "2032                         N/A\n",
       "3879    CN¥3.650 million (China)\n",
       "6369                       $111k\n",
       "3631                         TBA\n",
       "6013                     Unknown\n",
       "Name: Box office, dtype: object"
      ]
     },
     "execution_count": 50,
     "metadata": {},
     "output_type": "execute_result"
    }
   ],
   "source": [
    "not_mathches = box_office[~matches_form_one & ~matches_form_two]\n",
    "not_mathches.sample(10)"
   ]
  },
  {
   "cell_type": "code",
   "execution_count": 51,
   "metadata": {
    "execution": {
     "iopub.execute_input": "2020-11-17T19:34:56.073903Z",
     "iopub.status.busy": "2020-11-17T19:34:56.073903Z",
     "iopub.status.idle": "2020-11-17T19:34:56.084873Z",
     "shell.execute_reply": "2020-11-17T19:34:56.083914Z",
     "shell.execute_reply.started": "2020-11-17T19:34:56.073903Z"
    }
   },
   "outputs": [],
   "source": [
    "# replace valeus to help match cases \n",
    "box_office = box_office.str.replace(r'\\$.*[-—–](?![a-z])', '$', regex=True)"
   ]
  },
  {
   "cell_type": "code",
   "execution_count": 60,
   "metadata": {
    "execution": {
     "iopub.execute_input": "2020-11-17T19:43:13.256035Z",
     "iopub.status.busy": "2020-11-17T19:43:13.256035Z",
     "iopub.status.idle": "2020-11-17T19:43:13.259023Z",
     "shell.execute_reply": "2020-11-17T19:43:13.259023Z",
     "shell.execute_reply.started": "2020-11-17T19:43:13.256035Z"
    }
   },
   "outputs": [],
   "source": [
    "# refactored to catch missing cases \n",
    "form_one = r'\\$\\s*\\d+\\.?\\d*\\s*[mb]illi?on'\n",
    "form_two = r'\\$\\s*\\d{1,3}(?:[,\\.]\\d{3})+(?!\\s[mb]illion)'"
   ]
  },
  {
   "cell_type": "code",
   "execution_count": 61,
   "metadata": {
    "execution": {
     "iopub.execute_input": "2020-11-17T19:43:13.775971Z",
     "iopub.status.busy": "2020-11-17T19:43:13.775971Z",
     "iopub.status.idle": "2020-11-17T19:43:13.787443Z",
     "shell.execute_reply": "2020-11-17T19:43:13.787443Z",
     "shell.execute_reply.started": "2020-11-17T19:43:13.775971Z"
    }
   },
   "outputs": [],
   "source": [
    "matches_form_one_refactor = box_office.str.contains(form_one, flags=re.IGNORECASE)\n",
    "matches_form_two_refactor = box_office.str.contains(form_two, flags=re.IGNORECASE)"
   ]
  },
  {
   "cell_type": "code",
   "execution_count": 63,
   "metadata": {
    "execution": {
     "iopub.execute_input": "2020-11-17T19:43:29.076591Z",
     "iopub.status.busy": "2020-11-17T19:43:29.076591Z",
     "iopub.status.idle": "2020-11-17T19:43:29.080580Z",
     "shell.execute_reply": "2020-11-17T19:43:29.080069Z",
     "shell.execute_reply.started": "2020-11-17T19:43:29.076591Z"
    }
   },
   "outputs": [],
   "source": [
    "not_mathches_refactor = box_office[~matches_form_one_refactor & ~matches_form_two_refactor]"
   ]
  },
  {
   "cell_type": "code",
   "execution_count": 64,
   "metadata": {
    "execution": {
     "iopub.execute_input": "2020-11-17T19:43:29.483089Z",
     "iopub.status.busy": "2020-11-17T19:43:29.483089Z",
     "iopub.status.idle": "2020-11-17T19:43:29.488074Z",
     "shell.execute_reply": "2020-11-17T19:43:29.488074Z",
     "shell.execute_reply.started": "2020-11-17T19:43:29.483089Z"
    }
   },
   "outputs": [
    {
     "data": {
      "text/plain": [
       "600                      $5000 (US)\n",
       "1070                     35,254,617\n",
       "1480                     £3 million\n",
       "1865                   ¥1.1 billion\n",
       "2032                            N/A\n",
       "2091                           $309\n",
       "2665    926,423 admissions (France)\n",
       "3631                            TBA\n",
       "3879       CN¥3.650 million (China)\n",
       "4116                     £7,385,434\n",
       "4306                            $30\n",
       "4561        $45.2k (only in Turkey)\n",
       "5447                          £2.56\n",
       "5784                       413 733$\n",
       "6013                        Unknown\n",
       "6369                          $111k\n",
       "6370                           $588\n",
       "6593                 less than $372\n",
       "6843                        8 crore\n",
       "Name: Box office, dtype: object"
      ]
     },
     "execution_count": 64,
     "metadata": {},
     "output_type": "execute_result"
    }
   ],
   "source": [
    "not_mathches_refactor"
   ]
  },
  {
   "cell_type": "code",
   "execution_count": 66,
   "metadata": {
    "execution": {
     "iopub.execute_input": "2020-11-17T20:10:17.137300Z",
     "iopub.status.busy": "2020-11-17T20:10:17.137300Z",
     "iopub.status.idle": "2020-11-17T20:10:17.153238Z",
     "shell.execute_reply": "2020-11-17T20:10:17.153238Z",
     "shell.execute_reply.started": "2020-11-17T20:10:17.137300Z"
    }
   },
   "outputs": [
    {
     "data": {
      "text/html": [
       "<div>\n",
       "<style scoped>\n",
       "    .dataframe tbody tr th:only-of-type {\n",
       "        vertical-align: middle;\n",
       "    }\n",
       "\n",
       "    .dataframe tbody tr th {\n",
       "        vertical-align: top;\n",
       "    }\n",
       "\n",
       "    .dataframe thead th {\n",
       "        text-align: right;\n",
       "    }\n",
       "</style>\n",
       "<table border=\"1\" class=\"dataframe\">\n",
       "  <thead>\n",
       "    <tr style=\"text-align: right;\">\n",
       "      <th></th>\n",
       "      <th>0</th>\n",
       "    </tr>\n",
       "  </thead>\n",
       "  <tbody>\n",
       "    <tr>\n",
       "      <th>0</th>\n",
       "      <td>$21.4 million</td>\n",
       "    </tr>\n",
       "    <tr>\n",
       "      <th>1</th>\n",
       "      <td>$2.7 million</td>\n",
       "    </tr>\n",
       "    <tr>\n",
       "      <th>2</th>\n",
       "      <td>$57,718,089</td>\n",
       "    </tr>\n",
       "    <tr>\n",
       "      <th>3</th>\n",
       "      <td>$7,331,647</td>\n",
       "    </tr>\n",
       "    <tr>\n",
       "      <th>4</th>\n",
       "      <td>$6,939,946</td>\n",
       "    </tr>\n",
       "    <tr>\n",
       "      <th>...</th>\n",
       "      <td>...</td>\n",
       "    </tr>\n",
       "    <tr>\n",
       "      <th>7070</th>\n",
       "      <td>$19.4 million</td>\n",
       "    </tr>\n",
       "    <tr>\n",
       "      <th>7071</th>\n",
       "      <td>$41.9 million</td>\n",
       "    </tr>\n",
       "    <tr>\n",
       "      <th>7072</th>\n",
       "      <td>$76.1 million</td>\n",
       "    </tr>\n",
       "    <tr>\n",
       "      <th>7073</th>\n",
       "      <td>$38.4 million</td>\n",
       "    </tr>\n",
       "    <tr>\n",
       "      <th>7074</th>\n",
       "      <td>$5.5 million</td>\n",
       "    </tr>\n",
       "  </tbody>\n",
       "</table>\n",
       "<p>5485 rows × 1 columns</p>\n",
       "</div>"
      ],
      "text/plain": [
       "                  0\n",
       "0     $21.4 million\n",
       "1      $2.7 million\n",
       "2       $57,718,089\n",
       "3        $7,331,647\n",
       "4        $6,939,946\n",
       "...             ...\n",
       "7070  $19.4 million\n",
       "7071  $41.9 million\n",
       "7072  $76.1 million\n",
       "7073  $38.4 million\n",
       "7074   $5.5 million\n",
       "\n",
       "[5485 rows x 1 columns]"
      ]
     },
     "execution_count": 66,
     "metadata": {},
     "output_type": "execute_result"
    }
   ],
   "source": [
    "# use f-string and regular expression to create a capture group that will be sued as a filter\n",
    "box_office.str.extract(f'({form_one}|{form_two})')"
   ]
  },
  {
   "cell_type": "markdown",
   "metadata": {
    "execution": {
     "iopub.execute_input": "2020-11-17T20:40:03.736067Z",
     "iopub.status.busy": "2020-11-17T20:40:03.735077Z",
     "iopub.status.idle": "2020-11-17T20:40:03.743050Z",
     "shell.execute_reply": "2020-11-17T20:40:03.742053Z",
     "shell.execute_reply.started": "2020-11-17T20:40:03.735077Z"
    }
   },
   "source": [
    "> Convert"
   ]
  },
  {
   "cell_type": "code",
   "execution_count": 68,
   "metadata": {
    "execution": {
     "iopub.execute_input": "2020-11-17T20:12:08.626661Z",
     "iopub.status.busy": "2020-11-17T20:12:08.626661Z",
     "iopub.status.idle": "2020-11-17T20:12:08.632647Z",
     "shell.execute_reply": "2020-11-17T20:12:08.632647Z",
     "shell.execute_reply.started": "2020-11-17T20:12:08.626661Z"
    }
   },
   "outputs": [],
   "source": [
    "# funciton to turn extracted values into numeric values. (take in a string and return a floating point number)\n",
    "def parse_dollars(s):\n",
    "    # if s is not a string, return NaN\n",
    "    if type(s) != str:\n",
    "        return np.nan\n",
    "\n",
    "    # if input is of the form $###.# million\n",
    "    if re.match(r'\\$\\s*\\d+\\.?\\d*\\s*milli?on', s, flags=re.IGNORECASE):\n",
    "\n",
    "        # remove dollar sign and \" million\"\n",
    "        s = re.sub('\\$|\\s|[a-zA-Z]','', s)\n",
    "\n",
    "        # convert to float and multiply by a million\n",
    "        value = float(s) * 10**6\n",
    "\n",
    "        # return value\n",
    "        return value\n",
    "\n",
    "    # if input is of the form $###.# billion\n",
    "    elif re.match(r'\\$\\s*\\d+\\.?\\d*\\s*billi?on', s, flags=re.IGNORECASE):\n",
    "\n",
    "        # remove dollar sign and \" billion\"\n",
    "        s = re.sub('\\$|\\s|[a-zA-Z]','', s)\n",
    "\n",
    "        # convert to float and multiply by a billion\n",
    "        value = float(s) * 10**9\n",
    "\n",
    "        # return value\n",
    "        return value\n",
    "\n",
    "    # if input is of the form $###,###,###\n",
    "    elif re.match(r'\\$\\s*\\d{1,3}(?:[,\\.]\\d{3})+(?!\\s[mb]illion)', s, flags=re.IGNORECASE):\n",
    "\n",
    "        # remove dollar sign and commas\n",
    "        s = re.sub('\\$|,','', s)\n",
    "\n",
    "        # convert to float\n",
    "        value = float(s)\n",
    "\n",
    "        # return value\n",
    "        return value\n",
    "\n",
    "    # otherwise, return NaN\n",
    "    else:\n",
    "        return np.nan"
   ]
  },
  {
   "cell_type": "code",
   "execution_count": 70,
   "metadata": {
    "execution": {
     "iopub.execute_input": "2020-11-17T20:47:55.504166Z",
     "iopub.status.busy": "2020-11-17T20:47:55.504166Z",
     "iopub.status.idle": "2020-11-17T20:47:55.595469Z",
     "shell.execute_reply": "2020-11-17T20:47:55.595469Z",
     "shell.execute_reply.started": "2020-11-17T20:47:55.504166Z"
    }
   },
   "outputs": [],
   "source": [
    "#extract values and convert with funciton \n",
    "wiki_movies_df['box_office'] = box_office.str.extract(f'({form_one}|{form_two})', flags=re.IGNORECASE)[0].apply(parse_dollars)"
   ]
  },
  {
   "cell_type": "code",
   "execution_count": 71,
   "metadata": {
    "execution": {
     "iopub.execute_input": "2020-11-17T20:48:17.228482Z",
     "iopub.status.busy": "2020-11-17T20:48:17.228482Z",
     "iopub.status.idle": "2020-11-17T20:48:17.264701Z",
     "shell.execute_reply": "2020-11-17T20:48:17.264701Z",
     "shell.execute_reply.started": "2020-11-17T20:48:17.228482Z"
    }
   },
   "outputs": [
    {
     "data": {
      "text/plain": [
       "0       21400000.0\n",
       "1        2700000.0\n",
       "2       57718089.0\n",
       "3        7331647.0\n",
       "4        6939946.0\n",
       "           ...    \n",
       "7071    41900000.0\n",
       "7072    76100000.0\n",
       "7073    38400000.0\n",
       "7074     5500000.0\n",
       "7075           NaN\n",
       "Name: box_office, Length: 7033, dtype: float64"
      ]
     },
     "execution_count": 71,
     "metadata": {},
     "output_type": "execute_result"
    }
   ],
   "source": [
    "#examine \n",
    "wiki_movies_df.box_office"
   ]
  },
  {
   "cell_type": "code",
   "execution_count": 73,
   "metadata": {
    "execution": {
     "iopub.execute_input": "2020-11-17T20:56:17.955262Z",
     "iopub.status.busy": "2020-11-17T20:56:17.955262Z",
     "iopub.status.idle": "2020-11-17T20:56:18.012838Z",
     "shell.execute_reply": "2020-11-17T20:56:18.012838Z",
     "shell.execute_reply.started": "2020-11-17T20:56:17.955262Z"
    }
   },
   "outputs": [
    {
     "data": {
      "text/html": [
       "<div>\n",
       "<style scoped>\n",
       "    .dataframe tbody tr th:only-of-type {\n",
       "        vertical-align: middle;\n",
       "    }\n",
       "\n",
       "    .dataframe tbody tr th {\n",
       "        vertical-align: top;\n",
       "    }\n",
       "\n",
       "    .dataframe thead th {\n",
       "        text-align: right;\n",
       "    }\n",
       "</style>\n",
       "<table border=\"1\" class=\"dataframe\">\n",
       "  <thead>\n",
       "    <tr style=\"text-align: right;\">\n",
       "      <th></th>\n",
       "      <th>url</th>\n",
       "      <th>year</th>\n",
       "      <th>imdb_link</th>\n",
       "      <th>title</th>\n",
       "      <th>Based on</th>\n",
       "      <th>Starring</th>\n",
       "      <th>Cinematography</th>\n",
       "      <th>Release date</th>\n",
       "      <th>Running time</th>\n",
       "      <th>Country</th>\n",
       "      <th>...</th>\n",
       "      <th>Box office</th>\n",
       "      <th>Director</th>\n",
       "      <th>Distributor</th>\n",
       "      <th>Editor(s)</th>\n",
       "      <th>Composer(s)</th>\n",
       "      <th>Producer(s)</th>\n",
       "      <th>Production company(s)</th>\n",
       "      <th>Writer(s)</th>\n",
       "      <th>imdb_id</th>\n",
       "      <th>box_office</th>\n",
       "    </tr>\n",
       "  </thead>\n",
       "  <tbody>\n",
       "    <tr>\n",
       "      <th>4504</th>\n",
       "      <td>https://en.wikipedia.org/wiki/The_Number_23</td>\n",
       "      <td>2007</td>\n",
       "      <td>https://www.imdb.com/title/tt0481369/</td>\n",
       "      <td>The Number 23</td>\n",
       "      <td>NaN</td>\n",
       "      <td>[Jim Carrey, Virginia Madsen, Logan Lerman, Da...</td>\n",
       "      <td>Matthew Libatique</td>\n",
       "      <td>[February 23, 2007, (, 2007-02-23, )]</td>\n",
       "      <td>98 minutes</td>\n",
       "      <td>United States</td>\n",
       "      <td>...</td>\n",
       "      <td>$77.6 million</td>\n",
       "      <td>Joel Schumacher</td>\n",
       "      <td>New Line Cinema</td>\n",
       "      <td>Mark Stevens</td>\n",
       "      <td>Harry Gregson-Williams</td>\n",
       "      <td>[Beau Flynn, Tripp Vinson]</td>\n",
       "      <td>[Contrafilm, [1], Firm Films, [1]]</td>\n",
       "      <td>Fernley Phillips</td>\n",
       "      <td>tt0481369</td>\n",
       "      <td>77600000.0</td>\n",
       "    </tr>\n",
       "    <tr>\n",
       "      <th>2102</th>\n",
       "      <td>https://en.wikipedia.org/wiki/Velocity_Trap</td>\n",
       "      <td>1997</td>\n",
       "      <td>https://www.imdb.com/title/tt0120435/</td>\n",
       "      <td>Velocity Trap</td>\n",
       "      <td>NaN</td>\n",
       "      <td>[Olivier Gruner, Alicia Coppola, Ken Olandt]</td>\n",
       "      <td>Philip D. Schwartz</td>\n",
       "      <td>NaN</td>\n",
       "      <td>89 minutes</td>\n",
       "      <td>United States</td>\n",
       "      <td>...</td>\n",
       "      <td>NaN</td>\n",
       "      <td>Phillip J. Roth</td>\n",
       "      <td>New City Releasing</td>\n",
       "      <td>Christian McIntire</td>\n",
       "      <td>[Jim Goodwin, Richard McHugh, Mike Slamer]</td>\n",
       "      <td>[Christian McIntire, Ken Olandt, Phillip J. Ro...</td>\n",
       "      <td>NaN</td>\n",
       "      <td>[Patrick Phillips, Phillip J. Roth]</td>\n",
       "      <td>tt0120435</td>\n",
       "      <td>NaN</td>\n",
       "    </tr>\n",
       "    <tr>\n",
       "      <th>1854</th>\n",
       "      <td>https://en.wikipedia.org/wiki/Cop_Land</td>\n",
       "      <td>1997</td>\n",
       "      <td>https://www.imdb.com/title/tt0118887/</td>\n",
       "      <td>Cop Land</td>\n",
       "      <td>NaN</td>\n",
       "      <td>[Sylvester Stallone, Harvey Keitel, Ray Liotta...</td>\n",
       "      <td>Eric Alan Edwards</td>\n",
       "      <td>[August 15, 1997, (, 1997-08-15, )]</td>\n",
       "      <td>105 minutes</td>\n",
       "      <td>United States</td>\n",
       "      <td>...</td>\n",
       "      <td>$63.7 million</td>\n",
       "      <td>James Mangold</td>\n",
       "      <td>Miramax Films</td>\n",
       "      <td>Craig McKay</td>\n",
       "      <td>Howard Shore</td>\n",
       "      <td>[Cathy Konrad, Ezra Swerdlow, Cary Woods]</td>\n",
       "      <td>Woods Entertainment</td>\n",
       "      <td>James Mangold</td>\n",
       "      <td>tt0118887</td>\n",
       "      <td>63700000.0</td>\n",
       "    </tr>\n",
       "  </tbody>\n",
       "</table>\n",
       "<p>3 rows × 22 columns</p>\n",
       "</div>"
      ],
      "text/plain": [
       "                                              url  year  \\\n",
       "4504  https://en.wikipedia.org/wiki/The_Number_23  2007   \n",
       "2102  https://en.wikipedia.org/wiki/Velocity_Trap  1997   \n",
       "1854       https://en.wikipedia.org/wiki/Cop_Land  1997   \n",
       "\n",
       "                                  imdb_link          title Based on  \\\n",
       "4504  https://www.imdb.com/title/tt0481369/  The Number 23      NaN   \n",
       "2102  https://www.imdb.com/title/tt0120435/  Velocity Trap      NaN   \n",
       "1854  https://www.imdb.com/title/tt0118887/       Cop Land      NaN   \n",
       "\n",
       "                                               Starring      Cinematography  \\\n",
       "4504  [Jim Carrey, Virginia Madsen, Logan Lerman, Da...   Matthew Libatique   \n",
       "2102       [Olivier Gruner, Alicia Coppola, Ken Olandt]  Philip D. Schwartz   \n",
       "1854  [Sylvester Stallone, Harvey Keitel, Ray Liotta...   Eric Alan Edwards   \n",
       "\n",
       "                               Release date Running time        Country  ...  \\\n",
       "4504  [February 23, 2007, (, 2007-02-23, )]   98 minutes  United States  ...   \n",
       "2102                                    NaN   89 minutes  United States  ...   \n",
       "1854    [August 15, 1997, (, 1997-08-15, )]  105 minutes  United States  ...   \n",
       "\n",
       "         Box office         Director         Distributor           Editor(s)  \\\n",
       "4504  $77.6 million  Joel Schumacher     New Line Cinema        Mark Stevens   \n",
       "2102            NaN  Phillip J. Roth  New City Releasing  Christian McIntire   \n",
       "1854  $63.7 million    James Mangold       Miramax Films         Craig McKay   \n",
       "\n",
       "                                     Composer(s)  \\\n",
       "4504                      Harry Gregson-Williams   \n",
       "2102  [Jim Goodwin, Richard McHugh, Mike Slamer]   \n",
       "1854                                Howard Shore   \n",
       "\n",
       "                                            Producer(s)  \\\n",
       "4504                         [Beau Flynn, Tripp Vinson]   \n",
       "2102  [Christian McIntire, Ken Olandt, Phillip J. Ro...   \n",
       "1854          [Cathy Konrad, Ezra Swerdlow, Cary Woods]   \n",
       "\n",
       "                   Production company(s)                            Writer(s)  \\\n",
       "4504  [Contrafilm, [1], Firm Films, [1]]                     Fernley Phillips   \n",
       "2102                                 NaN  [Patrick Phillips, Phillip J. Roth]   \n",
       "1854                 Woods Entertainment                        James Mangold   \n",
       "\n",
       "        imdb_id  box_office  \n",
       "4504  tt0481369  77600000.0  \n",
       "2102  tt0120435         NaN  \n",
       "1854  tt0118887  63700000.0  \n",
       "\n",
       "[3 rows x 22 columns]"
      ]
     },
     "execution_count": 73,
     "metadata": {},
     "output_type": "execute_result"
    }
   ],
   "source": [
    "wiki_movies_df.sample(3)"
   ]
  },
  {
   "cell_type": "code",
   "execution_count": 82,
   "metadata": {
    "execution": {
     "iopub.execute_input": "2020-11-17T21:15:21.190539Z",
     "iopub.status.busy": "2020-11-17T21:15:21.190539Z",
     "iopub.status.idle": "2020-11-17T21:15:21.245935Z",
     "shell.execute_reply": "2020-11-17T21:15:21.245935Z",
     "shell.execute_reply.started": "2020-11-17T21:15:21.190539Z"
    }
   },
   "outputs": [],
   "source": [
    "wiki_movies_df.drop('box_office',axis=1, inplace=True)"
   ]
  },
  {
   "cell_type": "markdown",
   "metadata": {
    "execution": {
     "iopub.execute_input": "2020-11-17T21:03:10.200654Z",
     "iopub.status.busy": "2020-11-17T21:03:10.200654Z",
     "iopub.status.idle": "2020-11-17T21:03:10.204647Z",
     "shell.execute_reply": "2020-11-17T21:03:10.204647Z",
     "shell.execute_reply.started": "2020-11-17T21:03:10.200654Z"
    }
   },
   "source": [
    "> parsing, cleaning, converting budget data"
   ]
  },
  {
   "cell_type": "code",
   "execution_count": 75,
   "metadata": {
    "execution": {
     "iopub.execute_input": "2020-11-17T21:07:25.599731Z",
     "iopub.status.busy": "2020-11-17T21:07:25.599731Z",
     "iopub.status.idle": "2020-11-17T21:07:25.606735Z",
     "shell.execute_reply": "2020-11-17T21:07:25.606735Z",
     "shell.execute_reply.started": "2020-11-17T21:07:25.599731Z"
    }
   },
   "outputs": [
    {
     "data": {
      "text/plain": [
       "1374     £6,000,000\n",
       "364     $13 million\n",
       "Name: Budget, dtype: object"
      ]
     },
     "execution_count": 75,
     "metadata": {},
     "output_type": "execute_result"
    }
   ],
   "source": [
    "wiki_movies_df.Budget.sample(2)"
   ]
  },
  {
   "cell_type": "code",
   "execution_count": 76,
   "metadata": {
    "execution": {
     "iopub.execute_input": "2020-11-17T21:08:51.047050Z",
     "iopub.status.busy": "2020-11-17T21:08:51.047050Z",
     "iopub.status.idle": "2020-11-17T21:08:51.053995Z",
     "shell.execute_reply": "2020-11-17T21:08:51.052997Z",
     "shell.execute_reply.started": "2020-11-17T21:08:51.047050Z"
    }
   },
   "outputs": [],
   "source": [
    "budget = wiki_movies_df['Budget'].dropna()"
   ]
  },
  {
   "cell_type": "code",
   "execution_count": 77,
   "metadata": {
    "execution": {
     "iopub.execute_input": "2020-11-17T21:08:51.795434Z",
     "iopub.status.busy": "2020-11-17T21:08:51.795434Z",
     "iopub.status.idle": "2020-11-17T21:08:51.802415Z",
     "shell.execute_reply": "2020-11-17T21:08:51.802415Z",
     "shell.execute_reply.started": "2020-11-17T21:08:51.795434Z"
    }
   },
   "outputs": [],
   "source": [
    "budget = budget.map(lambda x: ' '.join(x) if type(x) == list else x)"
   ]
  },
  {
   "cell_type": "code",
   "execution_count": 78,
   "metadata": {
    "execution": {
     "iopub.execute_input": "2020-11-17T21:08:52.402619Z",
     "iopub.status.busy": "2020-11-17T21:08:52.401621Z",
     "iopub.status.idle": "2020-11-17T21:08:52.410598Z",
     "shell.execute_reply": "2020-11-17T21:08:52.410598Z",
     "shell.execute_reply.started": "2020-11-17T21:08:52.402619Z"
    }
   },
   "outputs": [],
   "source": [
    "budget = budget.str.replace(r'\\$.*[-—–](?![a-z])', '$', regex=True)"
   ]
  },
  {
   "cell_type": "code",
   "execution_count": 79,
   "metadata": {
    "execution": {
     "iopub.execute_input": "2020-11-17T21:08:52.897295Z",
     "iopub.status.busy": "2020-11-17T21:08:52.897295Z",
     "iopub.status.idle": "2020-11-17T21:08:52.915248Z",
     "shell.execute_reply": "2020-11-17T21:08:52.915248Z",
     "shell.execute_reply.started": "2020-11-17T21:08:52.897295Z"
    }
   },
   "outputs": [
    {
     "data": {
      "text/plain": [
       "136                         Unknown\n",
       "204     60 million Norwegian Kroner\n",
       "478                         Unknown\n",
       "973             $34 [3] [4] million\n",
       "1126               $120 [4] million\n",
       "1226                        Unknown\n",
       "1278                            HBO\n",
       "1374                     £6,000,000\n",
       "1397                     13 million\n",
       "1480                   £2.8 million\n",
       "1734                   CAD2,000,000\n",
       "1913     PHP 85 million (estimated)\n",
       "1948                    102,888,900\n",
       "1953                   3,500,000 DM\n",
       "1973                     ₤2,300,874\n",
       "2281                     $14 milion\n",
       "2451                     ₤6,350,000\n",
       "3144                   € 40 million\n",
       "3360               $150 [6] million\n",
       "3418                        $218.32\n",
       "3802                   £4.2 million\n",
       "3906                            N/A\n",
       "3959                    760,000 USD\n",
       "4470                       19 crore\n",
       "4641                    £17 million\n",
       "5034              $$200 [4] million\n",
       "5055           $155 [2] [3] million\n",
       "5419                $40 [4] million\n",
       "5424                            N/A\n",
       "5447                     £4 million\n",
       "5671                    €14 million\n",
       "5687                   $ dead link]\n",
       "6385               £ 12 million [3]\n",
       "6593                     £3 million\n",
       "6821                  £12.9 million\n",
       "6843                      3.5 crore\n",
       "6895                        919,000\n",
       "7070                   €4.3 million\n",
       "Name: Budget, dtype: object"
      ]
     },
     "execution_count": 79,
     "metadata": {},
     "output_type": "execute_result"
    }
   ],
   "source": [
    "matches_form_one = budget.str.contains(form_one, flags=re.IGNORECASE)\n",
    "matches_form_two = budget.str.contains(form_two, flags=re.IGNORECASE)\n",
    "budget[~matches_form_one & ~matches_form_two]"
   ]
  },
  {
   "cell_type": "code",
   "execution_count": 80,
   "metadata": {
    "execution": {
     "iopub.execute_input": "2020-11-17T21:11:57.466217Z",
     "iopub.status.busy": "2020-11-17T21:11:57.466217Z",
     "iopub.status.idle": "2020-11-17T21:11:57.475224Z",
     "shell.execute_reply": "2020-11-17T21:11:57.475224Z",
     "shell.execute_reply.started": "2020-11-17T21:11:57.466217Z"
    }
   },
   "outputs": [
    {
     "data": {
      "text/plain": [
       "136                         Unknown\n",
       "204     60 million Norwegian Kroner\n",
       "478                         Unknown\n",
       "973                     $34 million\n",
       "1126                   $120 million\n",
       "1226                        Unknown\n",
       "1278                            HBO\n",
       "1374                     £6,000,000\n",
       "1397                     13 million\n",
       "1480                   £2.8 million\n",
       "1734                   CAD2,000,000\n",
       "1913     PHP 85 million (estimated)\n",
       "1948                    102,888,900\n",
       "1953                   3,500,000 DM\n",
       "1973                     ₤2,300,874\n",
       "2281                     $14 milion\n",
       "2451                     ₤6,350,000\n",
       "3144                   € 40 million\n",
       "3360                   $150 million\n",
       "3418                        $218.32\n",
       "3802                   £4.2 million\n",
       "3906                            N/A\n",
       "3959                    760,000 USD\n",
       "4470                       19 crore\n",
       "4641                    £17 million\n",
       "5034                  $$200 million\n",
       "5055                   $155 million\n",
       "5419                    $40 million\n",
       "5424                            N/A\n",
       "5447                     £4 million\n",
       "5671                    €14 million\n",
       "5687                   $ dead link]\n",
       "6385                  £ 12 million \n",
       "6593                     £3 million\n",
       "6821                  £12.9 million\n",
       "6843                      3.5 crore\n",
       "6895                        919,000\n",
       "7070                   €4.3 million\n",
       "Name: Budget, dtype: object"
      ]
     },
     "execution_count": 80,
     "metadata": {},
     "output_type": "execute_result"
    }
   ],
   "source": [
    "budget = budget.str.replace(r'\\[\\d+\\]\\s*', '')\n",
    "budget[~matches_form_one & ~matches_form_two]"
   ]
  },
  {
   "cell_type": "code",
   "execution_count": 81,
   "metadata": {
    "execution": {
     "iopub.execute_input": "2020-11-17T21:15:03.470523Z",
     "iopub.status.busy": "2020-11-17T21:15:03.470523Z",
     "iopub.status.idle": "2020-11-17T21:15:03.534860Z",
     "shell.execute_reply": "2020-11-17T21:15:03.533862Z",
     "shell.execute_reply.started": "2020-11-17T21:15:03.470523Z"
    }
   },
   "outputs": [],
   "source": [
    "wiki_movies_df['budget'] = budget.str.extract(f'({form_one}|{form_two})', flags=re.IGNORECASE)[0].apply(parse_dollars)"
   ]
  },
  {
   "cell_type": "code",
   "execution_count": 83,
   "metadata": {
    "execution": {
     "iopub.execute_input": "2020-11-17T21:15:24.689014Z",
     "iopub.status.busy": "2020-11-17T21:15:24.689014Z",
     "iopub.status.idle": "2020-11-17T21:15:24.700046Z",
     "shell.execute_reply": "2020-11-17T21:15:24.699068Z",
     "shell.execute_reply.started": "2020-11-17T21:15:24.689014Z"
    }
   },
   "outputs": [],
   "source": [
    "wiki_movies_df.drop('Budget', axis=1, inplace=True)"
   ]
  },
  {
   "cell_type": "markdown",
   "metadata": {},
   "source": [
    "> release data "
   ]
  },
  {
   "cell_type": "code",
   "execution_count": 87,
   "metadata": {
    "execution": {
     "iopub.execute_input": "2020-11-17T22:38:38.058701Z",
     "iopub.status.busy": "2020-11-17T22:38:38.058701Z",
     "iopub.status.idle": "2020-11-17T22:38:38.065192Z",
     "shell.execute_reply": "2020-11-17T22:38:38.065192Z",
     "shell.execute_reply.started": "2020-11-17T22:38:38.058701Z"
    }
   },
   "outputs": [
    {
     "data": {
      "text/plain": [
       "843                 [November 12, 1993, (, 1993-11-12, )]\n",
       "927                   [August 12, 1994, (, 1994-08-12, )]\n",
       "6060    [October 22, 2013, (, 2013-10-22, ), (, Leices...\n",
       "115                  [January 12, 1990, (, 1990-01-12, )]\n",
       "1011                                        June 29, 1994\n",
       "Name: Release date, dtype: object"
      ]
     },
     "execution_count": 87,
     "metadata": {},
     "output_type": "execute_result"
    }
   ],
   "source": [
    "wiki_movies_df['Release date'].sample(5)"
   ]
  },
  {
   "cell_type": "code",
   "execution_count": 85,
   "metadata": {
    "execution": {
     "iopub.execute_input": "2020-11-17T22:38:05.626987Z",
     "iopub.status.busy": "2020-11-17T22:38:05.626987Z",
     "iopub.status.idle": "2020-11-17T22:38:05.671398Z",
     "shell.execute_reply": "2020-11-17T22:38:05.670400Z",
     "shell.execute_reply.started": "2020-11-17T22:38:05.626987Z"
    }
   },
   "outputs": [],
   "source": [
    "#combine items in list\n",
    "release_date = wiki_movies_df['Release date'].dropna().apply(lambda x: ' '.join(x) if type(x) == list else x)"
   ]
  },
  {
   "cell_type": "code",
   "execution_count": 94,
   "metadata": {
    "execution": {
     "iopub.execute_input": "2020-11-17T22:44:25.004738Z",
     "iopub.status.busy": "2020-11-17T22:44:25.004738Z",
     "iopub.status.idle": "2020-11-17T22:44:25.012229Z",
     "shell.execute_reply": "2020-11-17T22:44:25.012229Z",
     "shell.execute_reply.started": "2020-11-17T22:44:25.004738Z"
    }
   },
   "outputs": [
    {
     "data": {
      "text/plain": [
       "['July 11, 1990', '(', '1990-07-11', ')']"
      ]
     },
     "execution_count": 94,
     "metadata": {},
     "output_type": "execute_result"
    },
    {
     "data": {
      "text/plain": [
       "'July 11, 1990 ( 1990-07-11 )'"
      ]
     },
     "execution_count": 94,
     "metadata": {},
     "output_type": "execute_result"
    }
   ],
   "source": [
    "# review changes \n",
    "wiki_movies_df['Release date'][0]\n",
    "release_date[0]"
   ]
  },
  {
   "cell_type": "code",
   "execution_count": 99,
   "metadata": {
    "execution": {
     "iopub.execute_input": "2020-11-17T22:51:38.620844Z",
     "iopub.status.busy": "2020-11-17T22:51:38.620844Z",
     "iopub.status.idle": "2020-11-17T22:51:38.623821Z",
     "shell.execute_reply": "2020-11-17T22:51:38.623821Z",
     "shell.execute_reply.started": "2020-11-17T22:51:38.620844Z"
    }
   },
   "outputs": [],
   "source": [
    "#create regex\n",
    "date_form_one = r'(?:January|February|March|April|May|June|July|August|September|October|November|December)\\s[123]\\d,\\s\\d{4}'\n",
    "date_form_two = r'\\d{4}.[01]\\d.[123]\\d'\n",
    "date_form_three = r'(?:January|February|March|April|May|June|July|August|September|October|November|December)\\s\\d{4}'\n",
    "date_form_four = r'\\d{4}'"
   ]
  },
  {
   "cell_type": "code",
   "execution_count": 97,
   "metadata": {
    "execution": {
     "iopub.execute_input": "2020-11-17T22:50:18.224745Z",
     "iopub.status.busy": "2020-11-17T22:50:18.224745Z",
     "iopub.status.idle": "2020-11-17T22:50:18.260649Z",
     "shell.execute_reply": "2020-11-17T22:50:18.259651Z",
     "shell.execute_reply.started": "2020-11-17T22:50:18.224745Z"
    }
   },
   "outputs": [
    {
     "data": {
      "text/html": [
       "<div>\n",
       "<style scoped>\n",
       "    .dataframe tbody tr th:only-of-type {\n",
       "        vertical-align: middle;\n",
       "    }\n",
       "\n",
       "    .dataframe tbody tr th {\n",
       "        vertical-align: top;\n",
       "    }\n",
       "\n",
       "    .dataframe thead th {\n",
       "        text-align: right;\n",
       "    }\n",
       "</style>\n",
       "<table border=\"1\" class=\"dataframe\">\n",
       "  <thead>\n",
       "    <tr style=\"text-align: right;\">\n",
       "      <th></th>\n",
       "      <th>0</th>\n",
       "    </tr>\n",
       "  </thead>\n",
       "  <tbody>\n",
       "    <tr>\n",
       "      <th>0</th>\n",
       "      <td>July 11, 1990</td>\n",
       "    </tr>\n",
       "    <tr>\n",
       "      <th>1</th>\n",
       "      <td>May 17, 1990</td>\n",
       "    </tr>\n",
       "    <tr>\n",
       "      <th>2</th>\n",
       "      <td>August 10, 1990</td>\n",
       "    </tr>\n",
       "    <tr>\n",
       "      <th>3</th>\n",
       "      <td>December 25, 1990</td>\n",
       "    </tr>\n",
       "    <tr>\n",
       "      <th>4</th>\n",
       "      <td>December 19, 1990</td>\n",
       "    </tr>\n",
       "    <tr>\n",
       "      <th>...</th>\n",
       "      <td>...</td>\n",
       "    </tr>\n",
       "    <tr>\n",
       "      <th>7071</th>\n",
       "      <td>December 25, 2018</td>\n",
       "    </tr>\n",
       "    <tr>\n",
       "      <th>7072</th>\n",
       "      <td>December 11, 2018</td>\n",
       "    </tr>\n",
       "    <tr>\n",
       "      <th>7073</th>\n",
       "      <td>2018</td>\n",
       "    </tr>\n",
       "    <tr>\n",
       "      <th>7074</th>\n",
       "      <td>August 31, 2018</td>\n",
       "    </tr>\n",
       "    <tr>\n",
       "      <th>7075</th>\n",
       "      <td>December 2018</td>\n",
       "    </tr>\n",
       "  </tbody>\n",
       "</table>\n",
       "<p>7001 rows × 1 columns</p>\n",
       "</div>"
      ],
      "text/plain": [
       "                      0\n",
       "0         July 11, 1990\n",
       "1          May 17, 1990\n",
       "2       August 10, 1990\n",
       "3     December 25, 1990\n",
       "4     December 19, 1990\n",
       "...                 ...\n",
       "7071  December 25, 2018\n",
       "7072  December 11, 2018\n",
       "7073               2018\n",
       "7074    August 31, 2018\n",
       "7075      December 2018\n",
       "\n",
       "[7001 rows x 1 columns]"
      ]
     },
     "execution_count": 97,
     "metadata": {},
     "output_type": "execute_result"
    }
   ],
   "source": [
    "#extract\n",
    "release_date.str.extract(f'({date_form_one}|{date_form_two}|{date_form_three}|{date_form_four})', flags=re.IGNORECASE)"
   ]
  },
  {
   "cell_type": "code",
   "execution_count": 98,
   "metadata": {
    "execution": {
     "iopub.execute_input": "2020-11-17T22:50:23.175590Z",
     "iopub.status.busy": "2020-11-17T22:50:23.175590Z",
     "iopub.status.idle": "2020-11-17T22:50:23.492768Z",
     "shell.execute_reply": "2020-11-17T22:50:23.492768Z",
     "shell.execute_reply.started": "2020-11-17T22:50:23.175590Z"
    }
   },
   "outputs": [],
   "source": [
    "# covnert format \n",
    "wiki_movies_df['release_date'] = pd.to_datetime(release_date.str.extract(f'({date_form_one}|{date_form_two}|{date_form_three}|{date_form_four})')[0], infer_datetime_format=True)"
   ]
  },
  {
   "cell_type": "code",
   "execution_count": 101,
   "metadata": {
    "execution": {
     "iopub.execute_input": "2020-11-17T22:53:57.420309Z",
     "iopub.status.busy": "2020-11-17T22:53:57.420309Z",
     "iopub.status.idle": "2020-11-17T22:53:57.432278Z",
     "shell.execute_reply": "2020-11-17T22:53:57.432278Z",
     "shell.execute_reply.started": "2020-11-17T22:53:57.420309Z"
    }
   },
   "outputs": [
    {
     "data": {
      "text/plain": [
       "4494   2007-03-30\n",
       "4522   2007-01-12\n",
       "3154   2002-01-13\n",
       "3643   2004-03-19\n",
       "2491   1999-01-01\n",
       "101    1990-12-14\n",
       "5074   2010-09-17\n",
       "1357   1995-05-01\n",
       "7033   2018-10-26\n",
       "1402   1995-10-22\n",
       "Name: release_date, dtype: datetime64[ns]"
      ]
     },
     "execution_count": 101,
     "metadata": {},
     "output_type": "execute_result"
    }
   ],
   "source": [
    "wiki_movies_df.release_date.sample(10)"
   ]
  },
  {
   "cell_type": "markdown",
   "metadata": {},
   "source": [
    "> Runnig Time "
   ]
  },
  {
   "cell_type": "code",
   "execution_count": 118,
   "metadata": {
    "execution": {
     "iopub.execute_input": "2020-11-17T23:13:29.686442Z",
     "iopub.status.busy": "2020-11-17T23:13:29.685444Z",
     "iopub.status.idle": "2020-11-17T23:13:29.691427Z",
     "shell.execute_reply": "2020-11-17T23:13:29.691427Z",
     "shell.execute_reply.started": "2020-11-17T23:13:29.686442Z"
    }
   },
   "outputs": [
    {
     "data": {
      "text/plain": [
       "2476     90 minutes\n",
       "5142    105 minutes\n",
       "4343     93 minutes\n",
       "Name: Running time, dtype: object"
      ]
     },
     "execution_count": 118,
     "metadata": {},
     "output_type": "execute_result"
    }
   ],
   "source": [
    "wiki_movies_df['Running time'].sample(3)"
   ]
  },
  {
   "cell_type": "code",
   "execution_count": 108,
   "metadata": {
    "execution": {
     "iopub.execute_input": "2020-11-17T23:06:44.493204Z",
     "iopub.status.busy": "2020-11-17T23:06:44.492180Z",
     "iopub.status.idle": "2020-11-17T23:06:44.501181Z",
     "shell.execute_reply": "2020-11-17T23:06:44.501181Z",
     "shell.execute_reply.started": "2020-11-17T23:06:44.493204Z"
    }
   },
   "outputs": [],
   "source": [
    "running_time = wiki_movies_df['Running time'].dropna().apply(lambda x: ' '.join(x) if type(x) == list else x)"
   ]
  },
  {
   "cell_type": "code",
   "execution_count": null,
   "metadata": {},
   "outputs": [],
   "source": []
  },
  {
   "cell_type": "code",
   "execution_count": 126,
   "metadata": {
    "execution": {
     "iopub.execute_input": "2020-11-17T23:15:37.474511Z",
     "iopub.status.busy": "2020-11-17T23:15:37.474511Z",
     "iopub.status.idle": "2020-11-17T23:15:37.492490Z",
     "shell.execute_reply": "2020-11-17T23:15:37.491971Z",
     "shell.execute_reply.started": "2020-11-17T23:15:37.474511Z"
    }
   },
   "outputs": [
    {
     "data": {
      "text/plain": [
       "0    102 minutes\n",
       "1    114 minutes\n",
       "2    113 minutes\n",
       "3    106 minutes\n",
       "4     95 minutes\n",
       "Name: Running time, dtype: object"
      ]
     },
     "execution_count": 126,
     "metadata": {},
     "output_type": "execute_result"
    },
    {
     "data": {
      "text/plain": [
       "6528"
      ]
     },
     "execution_count": 126,
     "metadata": {},
     "output_type": "execute_result"
    }
   ],
   "source": [
    "# counting how many are in minutes format \n",
    "running_time[running_time.str.contains(r'^\\d*\\s*minutes$', flags=re.IGNORECASE)][0:5]\n",
    "running_time.str.contains(r'^\\d*\\s*minutes$', flags=re.IGNORECASE).sum()"
   ]
  },
  {
   "cell_type": "code",
   "execution_count": 131,
   "metadata": {
    "execution": {
     "iopub.execute_input": "2020-11-17T23:24:48.093658Z",
     "iopub.status.busy": "2020-11-17T23:24:48.093658Z",
     "iopub.status.idle": "2020-11-17T23:24:48.112765Z",
     "shell.execute_reply": "2020-11-17T23:24:48.112765Z",
     "shell.execute_reply.started": "2020-11-17T23:24:48.093658Z"
    }
   },
   "outputs": [
    {
     "data": {
      "text/plain": [
       "9                                                 102 min\n",
       "26                                                 93 min\n",
       "28                                                32 min.\n",
       "34                                                101 min\n",
       "35                                                 97 min\n",
       "                              ...                        \n",
       "6500       114 minutes [1] 120 minutes (extended edition)\n",
       "6643                                             104 mins\n",
       "6709    90 minutes (theatrical) [1] 91 minutes (unrate...\n",
       "7057    108 minutes (Original cut) 98 minutes (UK cut)...\n",
       "7075                Variable; 90 minutes for default path\n",
       "Name: Running time, Length: 366, dtype: object"
      ]
     },
     "execution_count": 131,
     "metadata": {},
     "output_type": "execute_result"
    },
    {
     "data": {
      "text/plain": [
       "366"
      ]
     },
     "execution_count": 131,
     "metadata": {},
     "output_type": "execute_result"
    }
   ],
   "source": [
    "# those that do not match the above format  \n",
    "running_time[running_time.str.contains(r'^\\d*\\s*minutes$', flags=re.IGNORECASE) != True]\n",
    "running_time[running_time.str.contains(r'^\\d*\\s*minutes$', flags=re.IGNORECASE) != True].count()"
   ]
  },
  {
   "cell_type": "code",
   "execution_count": 128,
   "metadata": {
    "execution": {
     "iopub.execute_input": "2020-11-17T23:22:28.747768Z",
     "iopub.status.busy": "2020-11-17T23:22:28.746769Z",
     "iopub.status.idle": "2020-11-17T23:22:28.759259Z",
     "shell.execute_reply": "2020-11-17T23:22:28.758736Z",
     "shell.execute_reply.started": "2020-11-17T23:22:28.747768Z"
    }
   },
   "outputs": [
    {
     "data": {
      "text/plain": [
       "6877"
      ]
     },
     "execution_count": 128,
     "metadata": {},
     "output_type": "execute_result"
    }
   ],
   "source": [
    "# more general count \n",
    "running_time.str.contains(r'^\\d*\\s*m', flags=re.IGNORECASE).sum()"
   ]
  },
  {
   "cell_type": "code",
   "execution_count": 133,
   "metadata": {
    "execution": {
     "iopub.execute_input": "2020-11-17T23:25:04.844138Z",
     "iopub.status.busy": "2020-11-17T23:25:04.844138Z",
     "iopub.status.idle": "2020-11-17T23:25:04.863110Z",
     "shell.execute_reply": "2020-11-17T23:25:04.863110Z",
     "shell.execute_reply.started": "2020-11-17T23:25:04.844138Z"
    }
   },
   "outputs": [
    {
     "data": {
      "text/plain": [
       "668                     UK:84 min (DVD version) US:86 min\n",
       "727                         78-102 min (depending on cut)\n",
       "840                       Varies (79 [3] –84 [1] minutes)\n",
       "1347                                              25 : 03\n",
       "1443    United States: 77 minutes Argentina: 94 minute...\n",
       "1499                                            1hr 35min\n",
       "1551                                               varies\n",
       "1774                    Netherlands:96 min, Canada:95 min\n",
       "1777                                       approx. 14 min\n",
       "2273                                           1 h 43 min\n",
       "2993                                               1h 48m\n",
       "3925                                              4 hours\n",
       "4425    US domestic version: 86 minutes Original versi...\n",
       "4967    Theatrical cut: 97 minutes Unrated cut: 107 mi...\n",
       "5424                    115 [1] /123 [2] /128 [3] minutes\n",
       "5447                                    1 hour 32 minutes\n",
       "7075                Variable; 90 minutes for default path\n",
       "Name: Running time, dtype: object"
      ]
     },
     "execution_count": 133,
     "metadata": {},
     "output_type": "execute_result"
    },
    {
     "data": {
      "text/plain": [
       "17"
      ]
     },
     "execution_count": 133,
     "metadata": {},
     "output_type": "execute_result"
    }
   ],
   "source": [
    "# those that dont meet the format above\n",
    "running_time[running_time.str.contains(r'^\\d*\\s*m', flags=re.IGNORECASE) != True]\n",
    "running_time[running_time.str.contains(r'^\\d*\\s*m', flags=re.IGNORECASE) != True].count()"
   ]
  },
  {
   "cell_type": "code",
   "execution_count": 135,
   "metadata": {
    "execution": {
     "iopub.execute_input": "2020-11-17T23:32:15.660546Z",
     "iopub.status.busy": "2020-11-17T23:32:15.660546Z",
     "iopub.status.idle": "2020-11-17T23:32:15.679493Z",
     "shell.execute_reply": "2020-11-17T23:32:15.679493Z",
     "shell.execute_reply.started": "2020-11-17T23:32:15.660546Z"
    }
   },
   "outputs": [],
   "source": [
    "# match all hour + minute patterns and extract\n",
    "running_time_extract = running_time.str.extract(r'(\\d+)\\s*ho?u?r?s?\\s*(\\d*)|(\\d+)\\s*m')"
   ]
  },
  {
   "cell_type": "markdown",
   "metadata": {},
   "source": [
    "the DataFrame is all strings, we'll need to convert them to numeric values. Because we may have captured empty strings, we'll use the to_numeric() method and set the errors argument to 'coerce'. Coercing the errors will turn the empty strings into Not a Number (NaN), then we can use fillna() to change all the NaNs to zeros."
   ]
  },
  {
   "cell_type": "code",
   "execution_count": 140,
   "metadata": {
    "execution": {
     "iopub.execute_input": "2020-11-17T23:44:19.484565Z",
     "iopub.status.busy": "2020-11-17T23:44:19.484565Z",
     "iopub.status.idle": "2020-11-17T23:44:19.492545Z",
     "shell.execute_reply": "2020-11-17T23:44:19.492545Z",
     "shell.execute_reply.started": "2020-11-17T23:44:19.484565Z"
    }
   },
   "outputs": [
    {
     "data": {
      "text/plain": [
       "0    102 minutes\n",
       "1    114 minutes\n",
       "2    113 minutes\n",
       "3    106 minutes\n",
       "4     95 minutes\n",
       "Name: Running time, dtype: object"
      ]
     },
     "execution_count": 140,
     "metadata": {},
     "output_type": "execute_result"
    },
    {
     "data": {
      "text/plain": [
       "'102 minutes'"
      ]
     },
     "execution_count": 140,
     "metadata": {},
     "output_type": "execute_result"
    }
   ],
   "source": [
    "wiki_movies_df['Running time'].head()\n",
    "wiki_movies_df['Running time'].iloc[0]"
   ]
  },
  {
   "cell_type": "code",
   "execution_count": 138,
   "metadata": {
    "execution": {
     "iopub.execute_input": "2020-11-17T23:34:49.185560Z",
     "iopub.status.busy": "2020-11-17T23:34:49.185560Z",
     "iopub.status.idle": "2020-11-17T23:34:49.227550Z",
     "shell.execute_reply": "2020-11-17T23:34:49.227550Z",
     "shell.execute_reply.started": "2020-11-17T23:34:49.185560Z"
    }
   },
   "outputs": [],
   "source": [
    "running_time_extract = running_time_extract.apply(lambda col: pd.to_numeric(col, errors='coerce')).fillna(0)"
   ]
  },
  {
   "cell_type": "code",
   "execution_count": 139,
   "metadata": {
    "execution": {
     "iopub.execute_input": "2020-11-17T23:43:42.204502Z",
     "iopub.status.busy": "2020-11-17T23:43:42.204502Z",
     "iopub.status.idle": "2020-11-17T23:43:42.214475Z",
     "shell.execute_reply": "2020-11-17T23:43:42.214475Z",
     "shell.execute_reply.started": "2020-11-17T23:43:42.204502Z"
    }
   },
   "outputs": [
    {
     "data": {
      "text/html": [
       "<div>\n",
       "<style scoped>\n",
       "    .dataframe tbody tr th:only-of-type {\n",
       "        vertical-align: middle;\n",
       "    }\n",
       "\n",
       "    .dataframe tbody tr th {\n",
       "        vertical-align: top;\n",
       "    }\n",
       "\n",
       "    .dataframe thead th {\n",
       "        text-align: right;\n",
       "    }\n",
       "</style>\n",
       "<table border=\"1\" class=\"dataframe\">\n",
       "  <thead>\n",
       "    <tr style=\"text-align: right;\">\n",
       "      <th></th>\n",
       "      <th>0</th>\n",
       "      <th>1</th>\n",
       "      <th>2</th>\n",
       "    </tr>\n",
       "  </thead>\n",
       "  <tbody>\n",
       "    <tr>\n",
       "      <th>0</th>\n",
       "      <td>0.0</td>\n",
       "      <td>0.0</td>\n",
       "      <td>102.0</td>\n",
       "    </tr>\n",
       "    <tr>\n",
       "      <th>1</th>\n",
       "      <td>0.0</td>\n",
       "      <td>0.0</td>\n",
       "      <td>114.0</td>\n",
       "    </tr>\n",
       "    <tr>\n",
       "      <th>2</th>\n",
       "      <td>0.0</td>\n",
       "      <td>0.0</td>\n",
       "      <td>113.0</td>\n",
       "    </tr>\n",
       "    <tr>\n",
       "      <th>3</th>\n",
       "      <td>0.0</td>\n",
       "      <td>0.0</td>\n",
       "      <td>106.0</td>\n",
       "    </tr>\n",
       "    <tr>\n",
       "      <th>4</th>\n",
       "      <td>0.0</td>\n",
       "      <td>0.0</td>\n",
       "      <td>95.0</td>\n",
       "    </tr>\n",
       "  </tbody>\n",
       "</table>\n",
       "</div>"
      ],
      "text/plain": [
       "     0    1      2\n",
       "0  0.0  0.0  102.0\n",
       "1  0.0  0.0  114.0\n",
       "2  0.0  0.0  113.0\n",
       "3  0.0  0.0  106.0\n",
       "4  0.0  0.0   95.0"
      ]
     },
     "execution_count": 139,
     "metadata": {},
     "output_type": "execute_result"
    }
   ],
   "source": [
    "running_time_extract.head()"
   ]
  },
  {
   "cell_type": "code",
   "execution_count": 155,
   "metadata": {
    "execution": {
     "iopub.execute_input": "2020-11-17T23:56:33.024875Z",
     "iopub.status.busy": "2020-11-17T23:56:33.023878Z",
     "iopub.status.idle": "2020-11-17T23:56:33.143091Z",
     "shell.execute_reply": "2020-11-17T23:56:33.143091Z",
     "shell.execute_reply.started": "2020-11-17T23:56:33.024875Z"
    }
   },
   "outputs": [],
   "source": [
    "# apply a function that will convert the hour capture groups and minute capture groups to minutes if the pure minutes capture group is zero\n",
    "wiki_movies_df['running_time'] = running_time_extract.apply(lambda row: row[0]*60 + row[1] if row[2] == 0 else row[2], axis=1)"
   ]
  },
  {
   "cell_type": "code",
   "execution_count": 156,
   "metadata": {
    "execution": {
     "iopub.execute_input": "2020-11-17T23:56:42.883144Z",
     "iopub.status.busy": "2020-11-17T23:56:42.883144Z",
     "iopub.status.idle": "2020-11-17T23:56:42.898448Z",
     "shell.execute_reply": "2020-11-17T23:56:42.897451Z",
     "shell.execute_reply.started": "2020-11-17T23:56:42.883144Z"
    }
   },
   "outputs": [],
   "source": [
    "wiki_movies_df.drop('Running time', axis=1, inplace=True)"
   ]
  },
  {
   "cell_type": "markdown",
   "metadata": {
    "execution": {
     "iopub.execute_input": "2020-11-18T18:56:54.505160Z",
     "iopub.status.busy": "2020-11-18T18:56:54.505160Z",
     "iopub.status.idle": "2020-11-18T18:56:54.508152Z",
     "shell.execute_reply": "2020-11-18T18:56:54.508152Z",
     "shell.execute_reply.started": "2020-11-18T18:56:54.505160Z"
    }
   },
   "source": [
    "## Kaggle Data"
   ]
  },
  {
   "cell_type": "code",
   "execution_count": 166,
   "metadata": {
    "execution": {
     "iopub.execute_input": "2020-11-18T19:08:58.601009Z",
     "iopub.status.busy": "2020-11-18T19:08:58.601009Z",
     "iopub.status.idle": "2020-11-18T19:08:58.662502Z",
     "shell.execute_reply": "2020-11-18T19:08:58.662502Z",
     "shell.execute_reply.started": "2020-11-18T19:08:58.601009Z"
    }
   },
   "outputs": [
    {
     "name": "stdout",
     "output_type": "stream",
     "text": [
      "<class 'pandas.core.frame.DataFrame'>\n",
      "RangeIndex: 45466 entries, 0 to 45465\n",
      "Data columns (total 24 columns):\n",
      " #   Column                 Non-Null Count  Dtype  \n",
      "---  ------                 --------------  -----  \n",
      " 0   adult                  45466 non-null  object \n",
      " 1   belongs_to_collection  4494 non-null   object \n",
      " 2   budget                 45466 non-null  object \n",
      " 3   genres                 45466 non-null  object \n",
      " 4   homepage               7782 non-null   object \n",
      " 5   id                     45466 non-null  object \n",
      " 6   imdb_id                45449 non-null  object \n",
      " 7   original_language      45455 non-null  object \n",
      " 8   original_title         45466 non-null  object \n",
      " 9   overview               44512 non-null  object \n",
      " 10  popularity             45461 non-null  object \n",
      " 11  poster_path            45080 non-null  object \n",
      " 12  production_companies   45463 non-null  object \n",
      " 13  production_countries   45463 non-null  object \n",
      " 14  release_date           45379 non-null  object \n",
      " 15  revenue                45460 non-null  float64\n",
      " 16  runtime                45203 non-null  float64\n",
      " 17  spoken_languages       45460 non-null  object \n",
      " 18  status                 45379 non-null  object \n",
      " 19  tagline                20412 non-null  object \n",
      " 20  title                  45460 non-null  object \n",
      " 21  video                  45460 non-null  object \n",
      " 22  vote_average           45460 non-null  float64\n",
      " 23  vote_count             45460 non-null  float64\n",
      "dtypes: float64(4), object(20)\n",
      "memory usage: 8.3+ MB\n"
     ]
    }
   ],
   "source": [
    "kaggle_metadata.info()"
   ]
  },
  {
   "cell_type": "code",
   "execution_count": 168,
   "metadata": {
    "execution": {
     "iopub.execute_input": "2020-11-18T19:16:24.530577Z",
     "iopub.status.busy": "2020-11-18T19:16:24.530577Z",
     "iopub.status.idle": "2020-11-18T19:16:24.552600Z",
     "shell.execute_reply": "2020-11-18T19:16:24.551601Z",
     "shell.execute_reply.started": "2020-11-18T19:16:24.530577Z"
    }
   },
   "outputs": [
    {
     "data": {
      "text/html": [
       "<div>\n",
       "<style scoped>\n",
       "    .dataframe tbody tr th:only-of-type {\n",
       "        vertical-align: middle;\n",
       "    }\n",
       "\n",
       "    .dataframe tbody tr th {\n",
       "        vertical-align: top;\n",
       "    }\n",
       "\n",
       "    .dataframe thead th {\n",
       "        text-align: right;\n",
       "    }\n",
       "</style>\n",
       "<table border=\"1\" class=\"dataframe\">\n",
       "  <thead>\n",
       "    <tr style=\"text-align: right;\">\n",
       "      <th></th>\n",
       "      <th>adult</th>\n",
       "      <th>belongs_to_collection</th>\n",
       "      <th>budget</th>\n",
       "      <th>genres</th>\n",
       "      <th>homepage</th>\n",
       "      <th>id</th>\n",
       "      <th>imdb_id</th>\n",
       "      <th>original_language</th>\n",
       "      <th>original_title</th>\n",
       "      <th>overview</th>\n",
       "      <th>...</th>\n",
       "      <th>release_date</th>\n",
       "      <th>revenue</th>\n",
       "      <th>runtime</th>\n",
       "      <th>spoken_languages</th>\n",
       "      <th>status</th>\n",
       "      <th>tagline</th>\n",
       "      <th>title</th>\n",
       "      <th>video</th>\n",
       "      <th>vote_average</th>\n",
       "      <th>vote_count</th>\n",
       "    </tr>\n",
       "  </thead>\n",
       "  <tbody>\n",
       "    <tr>\n",
       "      <th>28562</th>\n",
       "      <td>False</td>\n",
       "      <td>NaN</td>\n",
       "      <td>0</td>\n",
       "      <td>[{'id': 28, 'name': 'Action'}, {'id': 80, 'nam...</td>\n",
       "      <td>NaN</td>\n",
       "      <td>105853</td>\n",
       "      <td>tt0164220</td>\n",
       "      <td>en</td>\n",
       "      <td>I violenti di Roma bene</td>\n",
       "      <td>A gang of young and ruthless bikers terrorizes...</td>\n",
       "      <td>...</td>\n",
       "      <td>1979-03-03</td>\n",
       "      <td>0.0</td>\n",
       "      <td>88.0</td>\n",
       "      <td>[{'iso_639_1': 'it', 'name': 'Italiano'}]</td>\n",
       "      <td>Released</td>\n",
       "      <td>NaN</td>\n",
       "      <td>Violence for Kicks</td>\n",
       "      <td>False</td>\n",
       "      <td>6.0</td>\n",
       "      <td>1.0</td>\n",
       "    </tr>\n",
       "    <tr>\n",
       "      <th>23392</th>\n",
       "      <td>False</td>\n",
       "      <td>{'id': 96887, 'name': 'Zatôichi: The Blind Swo...</td>\n",
       "      <td>0</td>\n",
       "      <td>[{'id': 12, 'name': 'Adventure'}, {'id': 28, '...</td>\n",
       "      <td>NaN</td>\n",
       "      <td>54306</td>\n",
       "      <td>tt0201922</td>\n",
       "      <td>ja</td>\n",
       "      <td>Shin Zatōichi monogatari: Oreta tsue</td>\n",
       "      <td>Zatoichi tries to save a maiden in distress in...</td>\n",
       "      <td>...</td>\n",
       "      <td>1972-09-02</td>\n",
       "      <td>0.0</td>\n",
       "      <td>95.0</td>\n",
       "      <td>[{'iso_639_1': 'ja', 'name': '日本語'}]</td>\n",
       "      <td>Released</td>\n",
       "      <td>NaN</td>\n",
       "      <td>Zatôichi in Desperation</td>\n",
       "      <td>False</td>\n",
       "      <td>5.4</td>\n",
       "      <td>5.0</td>\n",
       "    </tr>\n",
       "  </tbody>\n",
       "</table>\n",
       "<p>2 rows × 24 columns</p>\n",
       "</div>"
      ],
      "text/plain": [
       "       adult                              belongs_to_collection budget  \\\n",
       "28562  False                                                NaN      0   \n",
       "23392  False  {'id': 96887, 'name': 'Zatôichi: The Blind Swo...      0   \n",
       "\n",
       "                                                  genres homepage      id  \\\n",
       "28562  [{'id': 28, 'name': 'Action'}, {'id': 80, 'nam...      NaN  105853   \n",
       "23392  [{'id': 12, 'name': 'Adventure'}, {'id': 28, '...      NaN   54306   \n",
       "\n",
       "         imdb_id original_language                        original_title  \\\n",
       "28562  tt0164220                en               I violenti di Roma bene   \n",
       "23392  tt0201922                ja  Shin Zatōichi monogatari: Oreta tsue   \n",
       "\n",
       "                                                overview  ... release_date  \\\n",
       "28562  A gang of young and ruthless bikers terrorizes...  ...   1979-03-03   \n",
       "23392  Zatoichi tries to save a maiden in distress in...  ...   1972-09-02   \n",
       "\n",
       "      revenue runtime                           spoken_languages    status  \\\n",
       "28562     0.0    88.0  [{'iso_639_1': 'it', 'name': 'Italiano'}]  Released   \n",
       "23392     0.0    95.0       [{'iso_639_1': 'ja', 'name': '日本語'}]  Released   \n",
       "\n",
       "       tagline                    title  video vote_average vote_count  \n",
       "28562      NaN       Violence for Kicks  False          6.0        1.0  \n",
       "23392      NaN  Zatôichi in Desperation  False          5.4        5.0  \n",
       "\n",
       "[2 rows x 24 columns]"
      ]
     },
     "execution_count": 168,
     "metadata": {},
     "output_type": "execute_result"
    }
   ],
   "source": [
    "kaggle_metadata.sample(2)"
   ]
  },
  {
   "cell_type": "markdown",
   "metadata": {
    "execution": {
     "iopub.execute_input": "2020-11-18T19:08:35.049622Z",
     "iopub.status.busy": "2020-11-18T19:08:35.049622Z",
     "iopub.status.idle": "2020-11-18T19:08:35.057571Z",
     "shell.execute_reply": "2020-11-18T19:08:35.056575Z",
     "shell.execute_reply.started": "2020-11-18T19:08:35.049622Z"
    }
   },
   "source": [
    "> convert "
   ]
  },
  {
   "cell_type": "code",
   "execution_count": 169,
   "metadata": {
    "execution": {
     "iopub.execute_input": "2020-11-18T19:16:58.878882Z",
     "iopub.status.busy": "2020-11-18T19:16:58.877884Z",
     "iopub.status.idle": "2020-11-18T19:16:58.889852Z",
     "shell.execute_reply": "2020-11-18T19:16:58.888856Z",
     "shell.execute_reply.started": "2020-11-18T19:16:58.878882Z"
    }
   },
   "outputs": [
    {
     "data": {
      "text/plain": [
       "False                                                                                                                             45454\n",
       "True                                                                                                                                  9\n",
       " Avalanche Sharks tells the story of a bikini contest that turns into a horrifying affair when it is hit by a shark avalanche.        1\n",
       " Rune Balot goes to a casino connected to the October corporation to try to wrap up her case once and for all.                        1\n",
       " - Written by Ørnås                                                                                                                   1\n",
       "Name: adult, dtype: int64"
      ]
     },
     "execution_count": 169,
     "metadata": {},
     "output_type": "execute_result"
    }
   ],
   "source": [
    "# adult column should be all boolean, however its of object type, meaning there are mixed data types\n",
    "kaggle_metadata['adult'].value_counts()"
   ]
  },
  {
   "cell_type": "code",
   "execution_count": 176,
   "metadata": {
    "execution": {
     "iopub.execute_input": "2020-11-18T20:32:21.048267Z",
     "iopub.status.busy": "2020-11-18T20:32:21.048267Z",
     "iopub.status.idle": "2020-11-18T20:32:21.070221Z",
     "shell.execute_reply": "2020-11-18T20:32:21.070221Z",
     "shell.execute_reply.started": "2020-11-18T20:32:21.048267Z"
    }
   },
   "outputs": [
    {
     "data": {
      "text/html": [
       "<div>\n",
       "<style scoped>\n",
       "    .dataframe tbody tr th:only-of-type {\n",
       "        vertical-align: middle;\n",
       "    }\n",
       "\n",
       "    .dataframe tbody tr th {\n",
       "        vertical-align: top;\n",
       "    }\n",
       "\n",
       "    .dataframe thead th {\n",
       "        text-align: right;\n",
       "    }\n",
       "</style>\n",
       "<table border=\"1\" class=\"dataframe\">\n",
       "  <thead>\n",
       "    <tr style=\"text-align: right;\">\n",
       "      <th></th>\n",
       "      <th>adult</th>\n",
       "      <th>belongs_to_collection</th>\n",
       "      <th>budget</th>\n",
       "      <th>genres</th>\n",
       "      <th>homepage</th>\n",
       "      <th>id</th>\n",
       "      <th>imdb_id</th>\n",
       "      <th>original_language</th>\n",
       "      <th>original_title</th>\n",
       "      <th>overview</th>\n",
       "      <th>...</th>\n",
       "      <th>release_date</th>\n",
       "      <th>revenue</th>\n",
       "      <th>runtime</th>\n",
       "      <th>spoken_languages</th>\n",
       "      <th>status</th>\n",
       "      <th>tagline</th>\n",
       "      <th>title</th>\n",
       "      <th>video</th>\n",
       "      <th>vote_average</th>\n",
       "      <th>vote_count</th>\n",
       "    </tr>\n",
       "  </thead>\n",
       "  <tbody>\n",
       "    <tr>\n",
       "      <th>19730</th>\n",
       "      <td>- Written by Ørnås</td>\n",
       "      <td>0.065736</td>\n",
       "      <td>/ff9qCepilowshEtG2GYWwzt2bs4.jpg</td>\n",
       "      <td>[{'name': 'Carousel Productions', 'id': 11176}...</td>\n",
       "      <td>[{'iso_3166_1': 'CA', 'name': 'Canada'}, {'iso...</td>\n",
       "      <td>1997-08-20</td>\n",
       "      <td>0</td>\n",
       "      <td>104.0</td>\n",
       "      <td>[{'iso_639_1': 'en', 'name': 'English'}]</td>\n",
       "      <td>Released</td>\n",
       "      <td>...</td>\n",
       "      <td>1</td>\n",
       "      <td>NaN</td>\n",
       "      <td>NaN</td>\n",
       "      <td>NaN</td>\n",
       "      <td>NaN</td>\n",
       "      <td>NaN</td>\n",
       "      <td>NaN</td>\n",
       "      <td>NaN</td>\n",
       "      <td>NaN</td>\n",
       "      <td>NaN</td>\n",
       "    </tr>\n",
       "    <tr>\n",
       "      <th>29503</th>\n",
       "      <td>Rune Balot goes to a casino connected to the ...</td>\n",
       "      <td>1.931659</td>\n",
       "      <td>/zV8bHuSL6WXoD6FWogP9j4x80bL.jpg</td>\n",
       "      <td>[{'name': 'Aniplex', 'id': 2883}, {'name': 'Go...</td>\n",
       "      <td>[{'iso_3166_1': 'US', 'name': 'United States o...</td>\n",
       "      <td>2012-09-29</td>\n",
       "      <td>0</td>\n",
       "      <td>68.0</td>\n",
       "      <td>[{'iso_639_1': 'ja', 'name': '日本語'}]</td>\n",
       "      <td>Released</td>\n",
       "      <td>...</td>\n",
       "      <td>12</td>\n",
       "      <td>NaN</td>\n",
       "      <td>NaN</td>\n",
       "      <td>NaN</td>\n",
       "      <td>NaN</td>\n",
       "      <td>NaN</td>\n",
       "      <td>NaN</td>\n",
       "      <td>NaN</td>\n",
       "      <td>NaN</td>\n",
       "      <td>NaN</td>\n",
       "    </tr>\n",
       "    <tr>\n",
       "      <th>35587</th>\n",
       "      <td>Avalanche Sharks tells the story of a bikini ...</td>\n",
       "      <td>2.185485</td>\n",
       "      <td>/zaSf5OG7V8X8gqFvly88zDdRm46.jpg</td>\n",
       "      <td>[{'name': 'Odyssey Media', 'id': 17161}, {'nam...</td>\n",
       "      <td>[{'iso_3166_1': 'CA', 'name': 'Canada'}]</td>\n",
       "      <td>2014-01-01</td>\n",
       "      <td>0</td>\n",
       "      <td>82.0</td>\n",
       "      <td>[{'iso_639_1': 'en', 'name': 'English'}]</td>\n",
       "      <td>Released</td>\n",
       "      <td>...</td>\n",
       "      <td>22</td>\n",
       "      <td>NaN</td>\n",
       "      <td>NaN</td>\n",
       "      <td>NaN</td>\n",
       "      <td>NaN</td>\n",
       "      <td>NaN</td>\n",
       "      <td>NaN</td>\n",
       "      <td>NaN</td>\n",
       "      <td>NaN</td>\n",
       "      <td>NaN</td>\n",
       "    </tr>\n",
       "  </tbody>\n",
       "</table>\n",
       "<p>3 rows × 24 columns</p>\n",
       "</div>"
      ],
      "text/plain": [
       "                                                   adult  \\\n",
       "19730                                 - Written by Ørnås   \n",
       "29503   Rune Balot goes to a casino connected to the ...   \n",
       "35587   Avalanche Sharks tells the story of a bikini ...   \n",
       "\n",
       "      belongs_to_collection                            budget  \\\n",
       "19730              0.065736  /ff9qCepilowshEtG2GYWwzt2bs4.jpg   \n",
       "29503              1.931659  /zV8bHuSL6WXoD6FWogP9j4x80bL.jpg   \n",
       "35587              2.185485  /zaSf5OG7V8X8gqFvly88zDdRm46.jpg   \n",
       "\n",
       "                                                  genres  \\\n",
       "19730  [{'name': 'Carousel Productions', 'id': 11176}...   \n",
       "29503  [{'name': 'Aniplex', 'id': 2883}, {'name': 'Go...   \n",
       "35587  [{'name': 'Odyssey Media', 'id': 17161}, {'nam...   \n",
       "\n",
       "                                                homepage          id imdb_id  \\\n",
       "19730  [{'iso_3166_1': 'CA', 'name': 'Canada'}, {'iso...  1997-08-20       0   \n",
       "29503  [{'iso_3166_1': 'US', 'name': 'United States o...  2012-09-29       0   \n",
       "35587           [{'iso_3166_1': 'CA', 'name': 'Canada'}]  2014-01-01       0   \n",
       "\n",
       "      original_language                            original_title  overview  \\\n",
       "19730             104.0  [{'iso_639_1': 'en', 'name': 'English'}]  Released   \n",
       "29503              68.0      [{'iso_639_1': 'ja', 'name': '日本語'}]  Released   \n",
       "35587              82.0  [{'iso_639_1': 'en', 'name': 'English'}]  Released   \n",
       "\n",
       "       ... release_date revenue runtime spoken_languages status  tagline  \\\n",
       "19730  ...            1     NaN     NaN              NaN    NaN      NaN   \n",
       "29503  ...           12     NaN     NaN              NaN    NaN      NaN   \n",
       "35587  ...           22     NaN     NaN              NaN    NaN      NaN   \n",
       "\n",
       "       title video vote_average vote_count  \n",
       "19730    NaN   NaN          NaN        NaN  \n",
       "29503    NaN   NaN          NaN        NaN  \n",
       "35587    NaN   NaN          NaN        NaN  \n",
       "\n",
       "[3 rows x 24 columns]"
      ]
     },
     "execution_count": 176,
     "metadata": {},
     "output_type": "execute_result"
    }
   ],
   "source": [
    "# \"~\" reverses the filter from what is True and False to what is not True and False \n",
    "# shows corrupt data with mistmatch data to rows\n",
    "kaggle_metadata[~kaggle_metadata['adult'].isin(['True','False'])]"
   ]
  },
  {
   "cell_type": "code",
   "execution_count": 177,
   "metadata": {
    "execution": {
     "iopub.execute_input": "2020-11-18T20:37:27.511695Z",
     "iopub.status.busy": "2020-11-18T20:37:27.511695Z",
     "iopub.status.idle": "2020-11-18T20:37:27.557572Z",
     "shell.execute_reply": "2020-11-18T20:37:27.557572Z",
     "shell.execute_reply.started": "2020-11-18T20:37:27.511695Z"
    }
   },
   "outputs": [],
   "source": [
    "# drop adult films( all rows that dont evaluate as false), therefore the column itself isnt needed and will be dropped \n",
    "kaggle_metadata = kaggle_metadata[kaggle_metadata['adult'] == 'False'].drop('adult',axis='columns')"
   ]
  },
  {
   "cell_type": "code",
   "execution_count": 178,
   "metadata": {
    "execution": {
     "iopub.execute_input": "2020-11-18T20:37:34.419378Z",
     "iopub.status.busy": "2020-11-18T20:37:34.419378Z",
     "iopub.status.idle": "2020-11-18T20:37:34.486746Z",
     "shell.execute_reply": "2020-11-18T20:37:34.486746Z",
     "shell.execute_reply.started": "2020-11-18T20:37:34.419378Z"
    }
   },
   "outputs": [
    {
     "name": "stdout",
     "output_type": "stream",
     "text": [
      "<class 'pandas.core.frame.DataFrame'>\n",
      "Int64Index: 45454 entries, 0 to 45465\n",
      "Data columns (total 23 columns):\n",
      " #   Column                 Non-Null Count  Dtype  \n",
      "---  ------                 --------------  -----  \n",
      " 0   belongs_to_collection  4491 non-null   object \n",
      " 1   budget                 45454 non-null  object \n",
      " 2   genres                 45454 non-null  object \n",
      " 3   homepage               7777 non-null   object \n",
      " 4   id                     45454 non-null  object \n",
      " 5   imdb_id                45437 non-null  object \n",
      " 6   original_language      45443 non-null  object \n",
      " 7   original_title         45454 non-null  object \n",
      " 8   overview               44500 non-null  object \n",
      " 9   popularity             45451 non-null  object \n",
      " 10  poster_path            45068 non-null  object \n",
      " 11  production_companies   45451 non-null  object \n",
      " 12  production_countries   45451 non-null  object \n",
      " 13  release_date           45368 non-null  object \n",
      " 14  revenue                45451 non-null  float64\n",
      " 15  runtime                45194 non-null  float64\n",
      " 16  spoken_languages       45451 non-null  object \n",
      " 17  status                 45370 non-null  object \n",
      " 18  tagline                20406 non-null  object \n",
      " 19  title                  45451 non-null  object \n",
      " 20  video                  45451 non-null  object \n",
      " 21  vote_average           45451 non-null  float64\n",
      " 22  vote_count             45451 non-null  float64\n",
      "dtypes: float64(4), object(19)\n",
      "memory usage: 8.3+ MB\n"
     ]
    }
   ],
   "source": [
    "kaggle_metadata.info()"
   ]
  },
  {
   "cell_type": "code",
   "execution_count": 180,
   "metadata": {
    "execution": {
     "iopub.execute_input": "2020-11-18T20:40:51.852370Z",
     "iopub.status.busy": "2020-11-18T20:40:51.852370Z",
     "iopub.status.idle": "2020-11-18T20:40:51.861346Z",
     "shell.execute_reply": "2020-11-18T20:40:51.861346Z",
     "shell.execute_reply.started": "2020-11-18T20:40:51.852370Z"
    }
   },
   "outputs": [
    {
     "data": {
      "text/plain": [
       "False    45358\n",
       "True        93\n",
       "Name: video, dtype: int64"
      ]
     },
     "execution_count": 180,
     "metadata": {},
     "output_type": "execute_result"
    }
   ],
   "source": [
    "# review column \n",
    "kaggle_metadata['video'].value_counts()"
   ]
  },
  {
   "cell_type": "code",
   "execution_count": 181,
   "metadata": {
    "execution": {
     "iopub.execute_input": "2020-11-18T20:41:52.335937Z",
     "iopub.status.busy": "2020-11-18T20:41:52.335937Z",
     "iopub.status.idle": "2020-11-18T20:41:52.361890Z",
     "shell.execute_reply": "2020-11-18T20:41:52.360894Z",
     "shell.execute_reply.started": "2020-11-18T20:41:52.335937Z"
    }
   },
   "outputs": [],
   "source": [
    "# convert column \n",
    "kaggle_metadata['video'] = kaggle_metadata['video'] == 'True'"
   ]
  },
  {
   "cell_type": "code",
   "execution_count": 182,
   "metadata": {
    "execution": {
     "iopub.execute_input": "2020-11-18T20:46:01.304422Z",
     "iopub.status.busy": "2020-11-18T20:46:01.304422Z",
     "iopub.status.idle": "2020-11-18T20:46:01.309968Z",
     "shell.execute_reply": "2020-11-18T20:46:01.309410Z",
     "shell.execute_reply.started": "2020-11-18T20:46:01.304422Z"
    }
   },
   "outputs": [
    {
     "data": {
      "text/plain": [
       "dtype('bool')"
      ]
     },
     "execution_count": 182,
     "metadata": {},
     "output_type": "execute_result"
    }
   ],
   "source": [
    "# chekc data type \n",
    "kaggle_metadata['video'].dtype"
   ]
  },
  {
   "cell_type": "code",
   "execution_count": 185,
   "metadata": {
    "execution": {
     "iopub.execute_input": "2020-11-18T20:48:44.129921Z",
     "iopub.status.busy": "2020-11-18T20:48:44.128924Z",
     "iopub.status.idle": "2020-11-18T20:48:44.160838Z",
     "shell.execute_reply": "2020-11-18T20:48:44.160838Z",
     "shell.execute_reply.started": "2020-11-18T20:48:44.129921Z"
    }
   },
   "outputs": [
    {
     "data": {
      "text/html": [
       "<div>\n",
       "<style scoped>\n",
       "    .dataframe tbody tr th:only-of-type {\n",
       "        vertical-align: middle;\n",
       "    }\n",
       "\n",
       "    .dataframe tbody tr th {\n",
       "        vertical-align: top;\n",
       "    }\n",
       "\n",
       "    .dataframe thead th {\n",
       "        text-align: right;\n",
       "    }\n",
       "</style>\n",
       "<table border=\"1\" class=\"dataframe\">\n",
       "  <thead>\n",
       "    <tr style=\"text-align: right;\">\n",
       "      <th></th>\n",
       "      <th>belongs_to_collection</th>\n",
       "      <th>budget</th>\n",
       "      <th>genres</th>\n",
       "      <th>homepage</th>\n",
       "      <th>id</th>\n",
       "      <th>imdb_id</th>\n",
       "      <th>original_language</th>\n",
       "      <th>original_title</th>\n",
       "      <th>overview</th>\n",
       "      <th>popularity</th>\n",
       "      <th>...</th>\n",
       "      <th>release_date</th>\n",
       "      <th>revenue</th>\n",
       "      <th>runtime</th>\n",
       "      <th>spoken_languages</th>\n",
       "      <th>status</th>\n",
       "      <th>tagline</th>\n",
       "      <th>title</th>\n",
       "      <th>video</th>\n",
       "      <th>vote_average</th>\n",
       "      <th>vote_count</th>\n",
       "    </tr>\n",
       "  </thead>\n",
       "  <tbody>\n",
       "    <tr>\n",
       "      <th>29025</th>\n",
       "      <td>NaN</td>\n",
       "      <td>0</td>\n",
       "      <td>[{'id': 35, 'name': 'Comedy'}]</td>\n",
       "      <td>NaN</td>\n",
       "      <td>214447</td>\n",
       "      <td>tt0097964</td>\n",
       "      <td>en</td>\n",
       "      <td>New Year's Day</td>\n",
       "      <td>A man returns to his sublet apartment to find ...</td>\n",
       "      <td>0.278804</td>\n",
       "      <td>...</td>\n",
       "      <td>1990-02-09</td>\n",
       "      <td>0.0</td>\n",
       "      <td>88.0</td>\n",
       "      <td>[]</td>\n",
       "      <td>Released</td>\n",
       "      <td>NaN</td>\n",
       "      <td>New Year's Day</td>\n",
       "      <td>False</td>\n",
       "      <td>5.5</td>\n",
       "      <td>2.0</td>\n",
       "    </tr>\n",
       "    <tr>\n",
       "      <th>11194</th>\n",
       "      <td>NaN</td>\n",
       "      <td>0</td>\n",
       "      <td>[{'id': 35, 'name': 'Comedy'}]</td>\n",
       "      <td>NaN</td>\n",
       "      <td>39797</td>\n",
       "      <td>tt0115587</td>\n",
       "      <td>en</td>\n",
       "      <td>Att stjäla en tjuv</td>\n",
       "      <td>Roger is a failed petty criminal living in Sto...</td>\n",
       "      <td>0.370968</td>\n",
       "      <td>...</td>\n",
       "      <td>1996-12-25</td>\n",
       "      <td>0.0</td>\n",
       "      <td>93.0</td>\n",
       "      <td>[{'iso_639_1': 'sv', 'name': 'svenska'}]</td>\n",
       "      <td>Released</td>\n",
       "      <td>Robert Gustafsson i en komedi om inbrott, avbr...</td>\n",
       "      <td>Att stjäla en tjuv</td>\n",
       "      <td>False</td>\n",
       "      <td>1.0</td>\n",
       "      <td>1.0</td>\n",
       "    </tr>\n",
       "    <tr>\n",
       "      <th>36880</th>\n",
       "      <td>NaN</td>\n",
       "      <td>0</td>\n",
       "      <td>[{'id': 18, 'name': 'Drama'}, {'id': 28, 'name...</td>\n",
       "      <td>NaN</td>\n",
       "      <td>92193</td>\n",
       "      <td>tt0831816</td>\n",
       "      <td>hi</td>\n",
       "      <td>Shiva</td>\n",
       "      <td>Sangli-based Shiva Kumar re-locates to Mumbai ...</td>\n",
       "      <td>0.079669</td>\n",
       "      <td>...</td>\n",
       "      <td>2006-09-15</td>\n",
       "      <td>0.0</td>\n",
       "      <td>119.0</td>\n",
       "      <td>[{'iso_639_1': 'hi', 'name': 'हिन्दी'}]</td>\n",
       "      <td>Released</td>\n",
       "      <td>NaN</td>\n",
       "      <td>Shiva</td>\n",
       "      <td>False</td>\n",
       "      <td>3.5</td>\n",
       "      <td>2.0</td>\n",
       "    </tr>\n",
       "  </tbody>\n",
       "</table>\n",
       "<p>3 rows × 23 columns</p>\n",
       "</div>"
      ],
      "text/plain": [
       "      belongs_to_collection budget  \\\n",
       "29025                   NaN      0   \n",
       "11194                   NaN      0   \n",
       "36880                   NaN      0   \n",
       "\n",
       "                                                  genres homepage      id  \\\n",
       "29025                     [{'id': 35, 'name': 'Comedy'}]      NaN  214447   \n",
       "11194                     [{'id': 35, 'name': 'Comedy'}]      NaN   39797   \n",
       "36880  [{'id': 18, 'name': 'Drama'}, {'id': 28, 'name...      NaN   92193   \n",
       "\n",
       "         imdb_id original_language      original_title  \\\n",
       "29025  tt0097964                en      New Year's Day   \n",
       "11194  tt0115587                en  Att stjäla en tjuv   \n",
       "36880  tt0831816                hi               Shiva   \n",
       "\n",
       "                                                overview popularity  ...  \\\n",
       "29025  A man returns to his sublet apartment to find ...   0.278804  ...   \n",
       "11194  Roger is a failed petty criminal living in Sto...   0.370968  ...   \n",
       "36880  Sangli-based Shiva Kumar re-locates to Mumbai ...   0.079669  ...   \n",
       "\n",
       "      release_date revenue runtime                          spoken_languages  \\\n",
       "29025   1990-02-09     0.0    88.0                                        []   \n",
       "11194   1996-12-25     0.0    93.0  [{'iso_639_1': 'sv', 'name': 'svenska'}]   \n",
       "36880   2006-09-15     0.0   119.0   [{'iso_639_1': 'hi', 'name': 'हिन्दी'}]   \n",
       "\n",
       "         status                                            tagline  \\\n",
       "29025  Released                                                NaN   \n",
       "11194  Released  Robert Gustafsson i en komedi om inbrott, avbr...   \n",
       "36880  Released                                                NaN   \n",
       "\n",
       "                    title  video vote_average vote_count  \n",
       "29025      New Year's Day  False          5.5        2.0  \n",
       "11194  Att stjäla en tjuv  False          1.0        1.0  \n",
       "36880               Shiva  False          3.5        2.0  \n",
       "\n",
       "[3 rows x 23 columns]"
      ]
     },
     "execution_count": 185,
     "metadata": {},
     "output_type": "execute_result"
    }
   ],
   "source": [
    "kaggle_metadata.sample(3)"
   ]
  },
  {
   "cell_type": "code",
   "execution_count": 188,
   "metadata": {
    "execution": {
     "iopub.execute_input": "2020-11-18T20:50:43.088089Z",
     "iopub.status.busy": "2020-11-18T20:50:43.088089Z",
     "iopub.status.idle": "2020-11-18T20:50:43.200300Z",
     "shell.execute_reply": "2020-11-18T20:50:43.200300Z",
     "shell.execute_reply.started": "2020-11-18T20:50:43.088089Z"
    }
   },
   "outputs": [],
   "source": [
    "kaggle_metadata['budget'] = kaggle_metadata['budget'].astype(int)\n",
    "# errors set to raise in case there is data that cant be converted to numbers \n",
    "kaggle_metadata['id'] = pd.to_numeric(kaggle_metadata['id'], errors='raise')\n",
    "kaggle_metadata['popularity'] = pd.to_numeric(kaggle_metadata['popularity'], errors='raise')"
   ]
  },
  {
   "cell_type": "code",
   "execution_count": 191,
   "metadata": {
    "execution": {
     "iopub.execute_input": "2020-11-18T20:54:12.278603Z",
     "iopub.status.busy": "2020-11-18T20:54:12.278603Z",
     "iopub.status.idle": "2020-11-18T20:54:12.285584Z",
     "shell.execute_reply": "2020-11-18T20:54:12.285584Z",
     "shell.execute_reply.started": "2020-11-18T20:54:12.278603Z"
    }
   },
   "outputs": [
    {
     "data": {
      "text/plain": [
       "9929     1966-10-10\n",
       "14384    2000-08-11\n",
       "40220    2007-03-16\n",
       "19691    2009-09-14\n",
       "Name: release_date, dtype: object"
      ]
     },
     "execution_count": 191,
     "metadata": {},
     "output_type": "execute_result"
    }
   ],
   "source": [
    "kaggle_metadata.release_date.sample(4)"
   ]
  },
  {
   "cell_type": "code",
   "execution_count": 192,
   "metadata": {
    "execution": {
     "iopub.execute_input": "2020-11-18T20:54:47.168849Z",
     "iopub.status.busy": "2020-11-18T20:54:47.168849Z",
     "iopub.status.idle": "2020-11-18T20:54:47.205748Z",
     "shell.execute_reply": "2020-11-18T20:54:47.205748Z",
     "shell.execute_reply.started": "2020-11-18T20:54:47.168849Z"
    }
   },
   "outputs": [],
   "source": [
    "# convert\n",
    "kaggle_metadata['release_date'] = pd.to_datetime(kaggle_metadata['release_date'])"
   ]
  },
  {
   "cell_type": "markdown",
   "metadata": {},
   "source": [
    "## Reviewing ratings data"
   ]
  },
  {
   "cell_type": "code",
   "execution_count": 202,
   "metadata": {
    "execution": {
     "iopub.execute_input": "2020-11-18T21:04:25.086428Z",
     "iopub.status.busy": "2020-11-18T21:04:25.086428Z",
     "iopub.status.idle": "2020-11-18T21:04:25.497329Z",
     "shell.execute_reply": "2020-11-18T21:04:25.496331Z",
     "shell.execute_reply.started": "2020-11-18T21:04:25.086428Z"
    }
   },
   "outputs": [
    {
     "name": "stdout",
     "output_type": "stream",
     "text": [
      "<class 'pandas.core.frame.DataFrame'>\n",
      "RangeIndex: 26024289 entries, 0 to 26024288\n",
      "Data columns (total 4 columns):\n",
      " #   Column     Non-Null Count     Dtype  \n",
      "---  ------     --------------     -----  \n",
      " 0   userId     26024289 non-null  int64  \n",
      " 1   movieId    26024289 non-null  int64  \n",
      " 2   rating     26024289 non-null  float64\n",
      " 3   timestamp  26024289 non-null  int64  \n",
      "dtypes: float64(1), int64(3)\n",
      "memory usage: 794.2 MB\n"
     ]
    }
   ],
   "source": [
    "# review data frame, set non-null coutns to true to show total counts, (total counts arent shown as defualt with large dataframes)\n",
    "ratings.info(null_counts=True)"
   ]
  },
  {
   "cell_type": "code",
   "execution_count": 205,
   "metadata": {
    "execution": {
     "iopub.execute_input": "2020-11-18T21:19:46.248924Z",
     "iopub.status.busy": "2020-11-18T21:19:46.248924Z",
     "iopub.status.idle": "2020-11-18T21:19:46.256878Z",
     "shell.execute_reply": "2020-11-18T21:19:46.255916Z",
     "shell.execute_reply.started": "2020-11-18T21:19:46.248924Z"
    }
   },
   "outputs": [
    {
     "data": {
      "text/html": [
       "<div>\n",
       "<style scoped>\n",
       "    .dataframe tbody tr th:only-of-type {\n",
       "        vertical-align: middle;\n",
       "    }\n",
       "\n",
       "    .dataframe tbody tr th {\n",
       "        vertical-align: top;\n",
       "    }\n",
       "\n",
       "    .dataframe thead th {\n",
       "        text-align: right;\n",
       "    }\n",
       "</style>\n",
       "<table border=\"1\" class=\"dataframe\">\n",
       "  <thead>\n",
       "    <tr style=\"text-align: right;\">\n",
       "      <th></th>\n",
       "      <th>userId</th>\n",
       "      <th>movieId</th>\n",
       "      <th>rating</th>\n",
       "      <th>timestamp</th>\n",
       "    </tr>\n",
       "  </thead>\n",
       "  <tbody>\n",
       "    <tr>\n",
       "      <th>0</th>\n",
       "      <td>1</td>\n",
       "      <td>110</td>\n",
       "      <td>1.0</td>\n",
       "      <td>1425941529</td>\n",
       "    </tr>\n",
       "    <tr>\n",
       "      <th>1</th>\n",
       "      <td>1</td>\n",
       "      <td>147</td>\n",
       "      <td>4.5</td>\n",
       "      <td>1425942435</td>\n",
       "    </tr>\n",
       "    <tr>\n",
       "      <th>2</th>\n",
       "      <td>1</td>\n",
       "      <td>858</td>\n",
       "      <td>5.0</td>\n",
       "      <td>1425941523</td>\n",
       "    </tr>\n",
       "    <tr>\n",
       "      <th>3</th>\n",
       "      <td>1</td>\n",
       "      <td>1221</td>\n",
       "      <td>5.0</td>\n",
       "      <td>1425941546</td>\n",
       "    </tr>\n",
       "    <tr>\n",
       "      <th>4</th>\n",
       "      <td>1</td>\n",
       "      <td>1246</td>\n",
       "      <td>5.0</td>\n",
       "      <td>1425941556</td>\n",
       "    </tr>\n",
       "  </tbody>\n",
       "</table>\n",
       "</div>"
      ],
      "text/plain": [
       "   userId  movieId  rating   timestamp\n",
       "0       1      110     1.0  1425941529\n",
       "1       1      147     4.5  1425942435\n",
       "2       1      858     5.0  1425941523\n",
       "3       1     1221     5.0  1425941546\n",
       "4       1     1246     5.0  1425941556"
      ]
     },
     "execution_count": 205,
     "metadata": {},
     "output_type": "execute_result"
    }
   ],
   "source": [
    "ratings.head()"
   ]
  },
  {
   "cell_type": "code",
   "execution_count": 207,
   "metadata": {
    "execution": {
     "iopub.execute_input": "2020-11-18T21:26:32.687779Z",
     "iopub.status.busy": "2020-11-18T21:26:32.686780Z",
     "iopub.status.idle": "2020-11-18T21:26:33.633359Z",
     "shell.execute_reply": "2020-11-18T21:26:33.632363Z",
     "shell.execute_reply.started": "2020-11-18T21:26:32.687779Z"
    }
   },
   "outputs": [
    {
     "data": {
      "text/plain": [
       "0          2015-03-09 22:52:09\n",
       "1          2015-03-09 23:07:15\n",
       "2          2015-03-09 22:52:03\n",
       "3          2015-03-09 22:52:26\n",
       "4          2015-03-09 22:52:36\n",
       "                   ...        \n",
       "26024284   2009-10-31 23:26:04\n",
       "26024285   2009-10-31 23:33:52\n",
       "26024286   2009-10-31 23:29:24\n",
       "26024287   2009-11-01 00:06:30\n",
       "26024288   2009-10-31 23:30:58\n",
       "Name: timestamp, Length: 26024289, dtype: datetime64[ns]"
      ]
     },
     "execution_count": 207,
     "metadata": {},
     "output_type": "execute_result"
    }
   ],
   "source": [
    "# convert timstamp column (which is in unix epoch format (seconds))\n",
    "# review \n",
    "pd.to_datetime(ratings['timestamp'], unit='s')"
   ]
  },
  {
   "cell_type": "code",
   "execution_count": 208,
   "metadata": {
    "execution": {
     "iopub.execute_input": "2020-11-18T21:28:27.214394Z",
     "iopub.status.busy": "2020-11-18T21:28:27.213396Z",
     "iopub.status.idle": "2020-11-18T21:28:28.585925Z",
     "shell.execute_reply": "2020-11-18T21:28:28.585925Z",
     "shell.execute_reply.started": "2020-11-18T21:28:27.214394Z"
    }
   },
   "outputs": [],
   "source": [
    "# finalize conversion \n",
    "ratings['timestamp'] = pd.to_datetime(ratings['timestamp'], unit='s')"
   ]
  },
  {
   "cell_type": "code",
   "execution_count": 210,
   "metadata": {
    "execution": {
     "iopub.execute_input": "2020-11-18T21:32:31.142537Z",
     "iopub.status.busy": "2020-11-18T21:32:31.142537Z",
     "iopub.status.idle": "2020-11-18T21:32:36.154464Z",
     "shell.execute_reply": "2020-11-18T21:32:36.154464Z",
     "shell.execute_reply.started": "2020-11-18T21:32:31.142537Z"
    }
   },
   "outputs": [
    {
     "data": {
      "text/plain": [
       "<AxesSubplot:ylabel='Frequency'>"
      ]
     },
     "execution_count": 210,
     "metadata": {},
     "output_type": "execute_result"
    },
    {
     "data": {
      "text/plain": [
       "count          26,024,289.00\n",
       "mean                    3.53\n",
       "std                     1.07\n",
       "min                     0.50\n",
       "25%                     3.00\n",
       "50%                     3.50\n",
       "75%                     4.00\n",
       "max                     5.00\n",
       "Name: rating, dtype: float64"
      ]
     },
     "execution_count": 210,
     "metadata": {},
     "output_type": "execute_result"
    },
    {
     "data": {
      "image/png": "[encoded data removed]",
      "text/plain": [
       "<Figure size 432x288 with 1 Axes>"
      ]
     },
     "metadata": {
      "needs_background": "light"
     },
     "output_type": "display_data"
    }
   ],
   "source": [
    "# review statitics and spread of data\n",
    "pd.options.display.float_format = '{:20,.2f}'.format\n",
    "ratings['rating'].plot(kind='hist')\n",
    "ratings['rating'].describe()"
   ]
  },
  {
   "cell_type": "markdown",
   "metadata": {},
   "source": [
    "## Joining Datasets"
   ]
  },
  {
   "cell_type": "code",
   "execution_count": 214,
   "metadata": {
    "execution": {
     "iopub.execute_input": "2020-11-18T22:13:24.305877Z",
     "iopub.status.busy": "2020-11-18T22:13:24.304880Z",
     "iopub.status.idle": "2020-11-18T22:13:24.388674Z",
     "shell.execute_reply": "2020-11-18T22:13:24.387679Z",
     "shell.execute_reply.started": "2020-11-18T22:13:24.305877Z"
    }
   },
   "outputs": [
    {
     "data": {
      "text/html": [
       "<div>\n",
       "<style scoped>\n",
       "    .dataframe tbody tr th:only-of-type {\n",
       "        vertical-align: middle;\n",
       "    }\n",
       "\n",
       "    .dataframe tbody tr th {\n",
       "        vertical-align: top;\n",
       "    }\n",
       "\n",
       "    .dataframe thead th {\n",
       "        text-align: right;\n",
       "    }\n",
       "</style>\n",
       "<table border=\"1\" class=\"dataframe\">\n",
       "  <thead>\n",
       "    <tr style=\"text-align: right;\">\n",
       "      <th></th>\n",
       "      <th>url</th>\n",
       "      <th>year</th>\n",
       "      <th>imdb_link</th>\n",
       "      <th>title</th>\n",
       "      <th>Based on</th>\n",
       "      <th>Starring</th>\n",
       "      <th>Cinematography</th>\n",
       "      <th>Release date</th>\n",
       "      <th>Country</th>\n",
       "      <th>Language</th>\n",
       "      <th>...</th>\n",
       "      <th>Distributor</th>\n",
       "      <th>Editor(s)</th>\n",
       "      <th>Composer(s)</th>\n",
       "      <th>Producer(s)</th>\n",
       "      <th>Production company(s)</th>\n",
       "      <th>Writer(s)</th>\n",
       "      <th>imdb_id</th>\n",
       "      <th>budget</th>\n",
       "      <th>release_date</th>\n",
       "      <th>running_time</th>\n",
       "    </tr>\n",
       "  </thead>\n",
       "  <tbody>\n",
       "    <tr>\n",
       "      <th>0</th>\n",
       "      <td>https://en.wikipedia.org/wiki/The_Adventures_o...</td>\n",
       "      <td>1990</td>\n",
       "      <td>https://www.imdb.com/title/tt0098987/</td>\n",
       "      <td>The Adventures of Ford Fairlane</td>\n",
       "      <td>[Characters, by Rex Weiner]</td>\n",
       "      <td>[Andrew Dice Clay, Wayne Newton, Priscilla Pre...</td>\n",
       "      <td>Oliver Wood</td>\n",
       "      <td>[July 11, 1990, (, 1990-07-11, )]</td>\n",
       "      <td>United States</td>\n",
       "      <td>English</td>\n",
       "      <td>...</td>\n",
       "      <td>20th Century Fox</td>\n",
       "      <td>Michael Tronick</td>\n",
       "      <td>[Cliff Eidelman, Yello]</td>\n",
       "      <td>[Steve Perry, Joel Silver]</td>\n",
       "      <td>Silver Pictures</td>\n",
       "      <td>[David Arnott, James Cappe]</td>\n",
       "      <td>tt0098987</td>\n",
       "      <td>20,000,000.00</td>\n",
       "      <td>1990-07-11</td>\n",
       "      <td>102.00</td>\n",
       "    </tr>\n",
       "  </tbody>\n",
       "</table>\n",
       "<p>1 rows × 22 columns</p>\n",
       "</div>"
      ],
      "text/plain": [
       "                                                 url  year  \\\n",
       "0  https://en.wikipedia.org/wiki/The_Adventures_o...  1990   \n",
       "\n",
       "                               imdb_link                            title  \\\n",
       "0  https://www.imdb.com/title/tt0098987/  The Adventures of Ford Fairlane   \n",
       "\n",
       "                      Based on  \\\n",
       "0  [Characters, by Rex Weiner]   \n",
       "\n",
       "                                            Starring Cinematography  \\\n",
       "0  [Andrew Dice Clay, Wayne Newton, Priscilla Pre...    Oliver Wood   \n",
       "\n",
       "                        Release date        Country Language  ...  \\\n",
       "0  [July 11, 1990, (, 1990-07-11, )]  United States  English  ...   \n",
       "\n",
       "        Distributor        Editor(s)              Composer(s)  \\\n",
       "0  20th Century Fox  Michael Tronick  [Cliff Eidelman, Yello]   \n",
       "\n",
       "                  Producer(s) Production company(s)  \\\n",
       "0  [Steve Perry, Joel Silver]       Silver Pictures   \n",
       "\n",
       "                     Writer(s)    imdb_id               budget release_date  \\\n",
       "0  [David Arnott, James Cappe]  tt0098987        20,000,000.00   1990-07-11   \n",
       "\n",
       "          running_time  \n",
       "0               102.00  \n",
       "\n",
       "[1 rows x 22 columns]"
      ]
     },
     "execution_count": 214,
     "metadata": {},
     "output_type": "execute_result"
    },
    {
     "data": {
      "text/html": [
       "<div>\n",
       "<style scoped>\n",
       "    .dataframe tbody tr th:only-of-type {\n",
       "        vertical-align: middle;\n",
       "    }\n",
       "\n",
       "    .dataframe tbody tr th {\n",
       "        vertical-align: top;\n",
       "    }\n",
       "\n",
       "    .dataframe thead th {\n",
       "        text-align: right;\n",
       "    }\n",
       "</style>\n",
       "<table border=\"1\" class=\"dataframe\">\n",
       "  <thead>\n",
       "    <tr style=\"text-align: right;\">\n",
       "      <th></th>\n",
       "      <th>belongs_to_collection</th>\n",
       "      <th>budget</th>\n",
       "      <th>genres</th>\n",
       "      <th>homepage</th>\n",
       "      <th>id</th>\n",
       "      <th>imdb_id</th>\n",
       "      <th>original_language</th>\n",
       "      <th>original_title</th>\n",
       "      <th>overview</th>\n",
       "      <th>popularity</th>\n",
       "      <th>...</th>\n",
       "      <th>release_date</th>\n",
       "      <th>revenue</th>\n",
       "      <th>runtime</th>\n",
       "      <th>spoken_languages</th>\n",
       "      <th>status</th>\n",
       "      <th>tagline</th>\n",
       "      <th>title</th>\n",
       "      <th>video</th>\n",
       "      <th>vote_average</th>\n",
       "      <th>vote_count</th>\n",
       "    </tr>\n",
       "  </thead>\n",
       "  <tbody>\n",
       "    <tr>\n",
       "      <th>0</th>\n",
       "      <td>{'id': 10194, 'name': 'Toy Story Collection', ...</td>\n",
       "      <td>30000000</td>\n",
       "      <td>[{'id': 16, 'name': 'Animation'}, {'id': 35, '...</td>\n",
       "      <td>http://toystory.disney.com/toy-story</td>\n",
       "      <td>862</td>\n",
       "      <td>tt0114709</td>\n",
       "      <td>en</td>\n",
       "      <td>Toy Story</td>\n",
       "      <td>Led by Woody, Andy's toys live happily in his ...</td>\n",
       "      <td>21.95</td>\n",
       "      <td>...</td>\n",
       "      <td>1995-10-30</td>\n",
       "      <td>373,554,033.00</td>\n",
       "      <td>81.00</td>\n",
       "      <td>[{'iso_639_1': 'en', 'name': 'English'}]</td>\n",
       "      <td>Released</td>\n",
       "      <td>NaN</td>\n",
       "      <td>Toy Story</td>\n",
       "      <td>False</td>\n",
       "      <td>7.70</td>\n",
       "      <td>5,415.00</td>\n",
       "    </tr>\n",
       "  </tbody>\n",
       "</table>\n",
       "<p>1 rows × 23 columns</p>\n",
       "</div>"
      ],
      "text/plain": [
       "                               belongs_to_collection    budget  \\\n",
       "0  {'id': 10194, 'name': 'Toy Story Collection', ...  30000000   \n",
       "\n",
       "                                              genres  \\\n",
       "0  [{'id': 16, 'name': 'Animation'}, {'id': 35, '...   \n",
       "\n",
       "                               homepage   id    imdb_id original_language  \\\n",
       "0  http://toystory.disney.com/toy-story  862  tt0114709                en   \n",
       "\n",
       "  original_title                                           overview  \\\n",
       "0      Toy Story  Led by Woody, Andy's toys live happily in his ...   \n",
       "\n",
       "            popularity  ... release_date              revenue  \\\n",
       "0                21.95  ...   1995-10-30       373,554,033.00   \n",
       "\n",
       "               runtime                          spoken_languages    status  \\\n",
       "0                81.00  [{'iso_639_1': 'en', 'name': 'English'}]  Released   \n",
       "\n",
       "   tagline      title  video         vote_average           vote_count  \n",
       "0      NaN  Toy Story  False                 7.70             5,415.00  \n",
       "\n",
       "[1 rows x 23 columns]"
      ]
     },
     "execution_count": 214,
     "metadata": {},
     "output_type": "execute_result"
    },
    {
     "data": {
      "text/html": [
       "<div>\n",
       "<style scoped>\n",
       "    .dataframe tbody tr th:only-of-type {\n",
       "        vertical-align: middle;\n",
       "    }\n",
       "\n",
       "    .dataframe tbody tr th {\n",
       "        vertical-align: top;\n",
       "    }\n",
       "\n",
       "    .dataframe thead th {\n",
       "        text-align: right;\n",
       "    }\n",
       "</style>\n",
       "<table border=\"1\" class=\"dataframe\">\n",
       "  <thead>\n",
       "    <tr style=\"text-align: right;\">\n",
       "      <th></th>\n",
       "      <th>userId</th>\n",
       "      <th>movieId</th>\n",
       "      <th>rating</th>\n",
       "      <th>timestamp</th>\n",
       "    </tr>\n",
       "  </thead>\n",
       "  <tbody>\n",
       "    <tr>\n",
       "      <th>0</th>\n",
       "      <td>1</td>\n",
       "      <td>110</td>\n",
       "      <td>1.00</td>\n",
       "      <td>2015-03-09 22:52:09</td>\n",
       "    </tr>\n",
       "  </tbody>\n",
       "</table>\n",
       "</div>"
      ],
      "text/plain": [
       "   userId  movieId               rating           timestamp\n",
       "0       1      110                 1.00 2015-03-09 22:52:09"
      ]
     },
     "execution_count": 214,
     "metadata": {},
     "output_type": "execute_result"
    }
   ],
   "source": [
    "wiki_movies_df.head(1)\n",
    "kaggle_metadata.head(1)\n",
    "ratings.head(1)"
   ]
  },
  {
   "cell_type": "code",
   "execution_count": 216,
   "metadata": {
    "execution": {
     "iopub.execute_input": "2020-11-18T22:15:50.089543Z",
     "iopub.status.busy": "2020-11-18T22:15:50.089543Z",
     "iopub.status.idle": "2020-11-18T22:15:50.097698Z",
     "shell.execute_reply": "2020-11-18T22:15:50.097698Z",
     "shell.execute_reply.started": "2020-11-18T22:15:50.089543Z"
    }
   },
   "outputs": [
    {
     "data": {
      "text/plain": [
       "Index(['url', 'year', 'imdb_link', 'title', 'Based on', 'Starring',\n",
       "       'Cinematography', 'Release date', 'Country', 'Language', 'Box office',\n",
       "       'Director', 'Distributor', 'Editor(s)', 'Composer(s)', 'Producer(s)',\n",
       "       'Production company(s)', 'Writer(s)', 'imdb_id', 'budget',\n",
       "       'release_date', 'running_time'],\n",
       "      dtype='object')"
      ]
     },
     "execution_count": 216,
     "metadata": {},
     "output_type": "execute_result"
    },
    {
     "data": {
      "text/plain": [
       "Index(['belongs_to_collection', 'budget', 'genres', 'homepage', 'id',\n",
       "       'imdb_id', 'original_language', 'original_title', 'overview',\n",
       "       'popularity', 'poster_path', 'production_companies',\n",
       "       'production_countries', 'release_date', 'revenue', 'runtime',\n",
       "       'spoken_languages', 'status', 'tagline', 'title', 'video',\n",
       "       'vote_average', 'vote_count'],\n",
       "      dtype='object')"
      ]
     },
     "execution_count": 216,
     "metadata": {},
     "output_type": "execute_result"
    },
    {
     "data": {
      "text/plain": [
       "Index(['userId', 'movieId', 'rating', 'timestamp'], dtype='object')"
      ]
     },
     "execution_count": 216,
     "metadata": {},
     "output_type": "execute_result"
    }
   ],
   "source": [
    "wiki_movies_df.columns \n",
    "kaggle_metadata.columns\n",
    "ratings.columns"
   ]
  },
  {
   "cell_type": "code",
   "execution_count": 217,
   "metadata": {
    "execution": {
     "iopub.execute_input": "2020-11-18T22:22:12.451693Z",
     "iopub.status.busy": "2020-11-18T22:22:12.450666Z",
     "iopub.status.idle": "2020-11-18T22:22:12.697531Z",
     "shell.execute_reply": "2020-11-18T22:22:12.696537Z",
     "shell.execute_reply.started": "2020-11-18T22:22:12.451693Z"
    }
   },
   "outputs": [],
   "source": [
    "movies_df = pd.merge(wiki_movies_df, kaggle_metadata, on='imdb_id', suffixes=['_wiki','_kaggle'])"
   ]
  },
  {
   "cell_type": "code",
   "execution_count": 220,
   "metadata": {
    "execution": {
     "iopub.execute_input": "2020-11-18T22:22:33.158622Z",
     "iopub.status.busy": "2020-11-18T22:22:33.158622Z",
     "iopub.status.idle": "2020-11-18T22:22:33.164607Z",
     "shell.execute_reply": "2020-11-18T22:22:33.164607Z",
     "shell.execute_reply.started": "2020-11-18T22:22:33.158622Z"
    }
   },
   "outputs": [
    {
     "data": {
      "text/plain": [
       "Index(['url', 'year', 'imdb_link', 'title_wiki', 'Based on', 'Starring',\n",
       "       'Cinematography', 'Release date', 'Country', 'Language', 'Box office',\n",
       "       'Director', 'Distributor', 'Editor(s)', 'Composer(s)', 'Producer(s)',\n",
       "       'Production company(s)', 'Writer(s)', 'imdb_id', 'budget_wiki',\n",
       "       'release_date_wiki', 'running_time', 'belongs_to_collection',\n",
       "       'budget_kaggle', 'genres', 'homepage', 'id', 'original_language',\n",
       "       'original_title', 'overview', 'popularity', 'poster_path',\n",
       "       'production_companies', 'production_countries', 'release_date_kaggle',\n",
       "       'revenue', 'runtime', 'spoken_languages', 'status', 'tagline',\n",
       "       'title_kaggle', 'video', 'vote_average', 'vote_count'],\n",
       "      dtype='object')"
      ]
     },
     "execution_count": 220,
     "metadata": {},
     "output_type": "execute_result"
    }
   ],
   "source": [
    "movies_df.columns"
   ]
  },
  {
   "cell_type": "markdown",
   "metadata": {
    "execution": {
     "iopub.execute_input": "2020-11-18T22:22:52.494505Z",
     "iopub.status.busy": "2020-11-18T22:22:52.493508Z",
     "iopub.status.idle": "2020-11-18T22:22:52.525445Z",
     "shell.execute_reply": "2020-11-18T22:22:52.525445Z",
     "shell.execute_reply.started": "2020-11-18T22:22:52.494505Z"
    }
   },
   "source": [
    "> handling with redundant columns\n",
    "\n",
    "> titles"
   ]
  },
  {
   "cell_type": "code",
   "execution_count": null,
   "metadata": {},
   "outputs": [],
   "source": [
    "# Competing data:\n",
    "# Wiki                     Movielens                Resolution\n",
    "#--------------------------------------------------------------------------\n",
    "# title_wiki               title_kaggle\n",
    "# running_time             runtime\n",
    "# budget_wiki              budget_kaggle\n",
    "# box_office               revenue\n",
    "# release_date_wiki        release_date_kaggle\n",
    "# Language                 original_language\n",
    "# Production company(s)    production_companies"
   ]
  },
  {
   "cell_type": "code",
   "execution_count": 223,
   "metadata": {
    "execution": {
     "iopub.execute_input": "2020-11-19T16:50:26.802002Z",
     "iopub.status.busy": "2020-11-19T16:50:26.801005Z",
     "iopub.status.idle": "2020-11-19T16:50:26.811976Z",
     "shell.execute_reply": "2020-11-19T16:50:26.811976Z",
     "shell.execute_reply.started": "2020-11-19T16:50:26.802002Z"
    }
   },
   "outputs": [
    {
     "data": {
      "text/html": [
       "<div>\n",
       "<style scoped>\n",
       "    .dataframe tbody tr th:only-of-type {\n",
       "        vertical-align: middle;\n",
       "    }\n",
       "\n",
       "    .dataframe tbody tr th {\n",
       "        vertical-align: top;\n",
       "    }\n",
       "\n",
       "    .dataframe thead th {\n",
       "        text-align: right;\n",
       "    }\n",
       "</style>\n",
       "<table border=\"1\" class=\"dataframe\">\n",
       "  <thead>\n",
       "    <tr style=\"text-align: right;\">\n",
       "      <th></th>\n",
       "      <th>title_wiki</th>\n",
       "      <th>title_kaggle</th>\n",
       "    </tr>\n",
       "  </thead>\n",
       "  <tbody>\n",
       "    <tr>\n",
       "      <th>0</th>\n",
       "      <td>The Adventures of Ford Fairlane</td>\n",
       "      <td>The Adventures of Ford Fairlane</td>\n",
       "    </tr>\n",
       "    <tr>\n",
       "      <th>1</th>\n",
       "      <td>After Dark, My Sweet</td>\n",
       "      <td>After Dark, My Sweet</td>\n",
       "    </tr>\n",
       "    <tr>\n",
       "      <th>2</th>\n",
       "      <td>Air America</td>\n",
       "      <td>Air America</td>\n",
       "    </tr>\n",
       "    <tr>\n",
       "      <th>3</th>\n",
       "      <td>Alice</td>\n",
       "      <td>Alice</td>\n",
       "    </tr>\n",
       "    <tr>\n",
       "      <th>4</th>\n",
       "      <td>Almost an Angel</td>\n",
       "      <td>Almost an Angel</td>\n",
       "    </tr>\n",
       "    <tr>\n",
       "      <th>...</th>\n",
       "      <td>...</td>\n",
       "      <td>...</td>\n",
       "    </tr>\n",
       "    <tr>\n",
       "      <th>6047</th>\n",
       "      <td>A Fantastic Woman</td>\n",
       "      <td>A Fantastic Woman</td>\n",
       "    </tr>\n",
       "    <tr>\n",
       "      <th>6048</th>\n",
       "      <td>Permission</td>\n",
       "      <td>Permission</td>\n",
       "    </tr>\n",
       "    <tr>\n",
       "      <th>6049</th>\n",
       "      <td>Loveless</td>\n",
       "      <td>Loveless</td>\n",
       "    </tr>\n",
       "    <tr>\n",
       "      <th>6050</th>\n",
       "      <td>Gemini</td>\n",
       "      <td>Gemini</td>\n",
       "    </tr>\n",
       "    <tr>\n",
       "      <th>6051</th>\n",
       "      <td>How to Talk to Girls at Parties</td>\n",
       "      <td>How to Talk to Girls at Parties</td>\n",
       "    </tr>\n",
       "  </tbody>\n",
       "</table>\n",
       "<p>6052 rows × 2 columns</p>\n",
       "</div>"
      ],
      "text/plain": [
       "                           title_wiki                     title_kaggle\n",
       "0     The Adventures of Ford Fairlane  The Adventures of Ford Fairlane\n",
       "1                After Dark, My Sweet             After Dark, My Sweet\n",
       "2                         Air America                      Air America\n",
       "3                               Alice                            Alice\n",
       "4                     Almost an Angel                  Almost an Angel\n",
       "...                               ...                              ...\n",
       "6047                A Fantastic Woman                A Fantastic Woman\n",
       "6048                       Permission                       Permission\n",
       "6049                         Loveless                         Loveless\n",
       "6050                           Gemini                           Gemini\n",
       "6051  How to Talk to Girls at Parties  How to Talk to Girls at Parties\n",
       "\n",
       "[6052 rows x 2 columns]"
      ]
     },
     "execution_count": 223,
     "metadata": {},
     "output_type": "execute_result"
    }
   ],
   "source": [
    "movies_df[['title_wiki','title_kaggle']]"
   ]
  },
  {
   "cell_type": "code",
   "execution_count": 225,
   "metadata": {
    "execution": {
     "iopub.execute_input": "2020-11-19T16:51:26.749293Z",
     "iopub.status.busy": "2020-11-19T16:51:26.749293Z",
     "iopub.status.idle": "2020-11-19T16:51:26.766246Z",
     "shell.execute_reply": "2020-11-19T16:51:26.766246Z",
     "shell.execute_reply.started": "2020-11-19T16:51:26.749293Z"
    }
   },
   "outputs": [
    {
     "data": {
      "text/html": [
       "<div>\n",
       "<style scoped>\n",
       "    .dataframe tbody tr th:only-of-type {\n",
       "        vertical-align: middle;\n",
       "    }\n",
       "\n",
       "    .dataframe tbody tr th {\n",
       "        vertical-align: top;\n",
       "    }\n",
       "\n",
       "    .dataframe thead th {\n",
       "        text-align: right;\n",
       "    }\n",
       "</style>\n",
       "<table border=\"1\" class=\"dataframe\">\n",
       "  <thead>\n",
       "    <tr style=\"text-align: right;\">\n",
       "      <th></th>\n",
       "      <th>title_wiki</th>\n",
       "      <th>title_kaggle</th>\n",
       "    </tr>\n",
       "  </thead>\n",
       "  <tbody>\n",
       "    <tr>\n",
       "      <th>27</th>\n",
       "      <td>China Cry</td>\n",
       "      <td>China Cry: A True Story</td>\n",
       "    </tr>\n",
       "    <tr>\n",
       "      <th>36</th>\n",
       "      <td>Daddy's Dyin' ...Who's Got the Will?</td>\n",
       "      <td>Daddy's Dyin'... Who's Got the Will?</td>\n",
       "    </tr>\n",
       "    <tr>\n",
       "      <th>38</th>\n",
       "      <td>The Dark Side of the Moon</td>\n",
       "      <td>The Dark Side of The Moon</td>\n",
       "    </tr>\n",
       "    <tr>\n",
       "      <th>42</th>\n",
       "      <td>Delta Force 2</td>\n",
       "      <td>Delta Force 2: The Colombian Connection</td>\n",
       "    </tr>\n",
       "    <tr>\n",
       "      <th>48</th>\n",
       "      <td>DuckTales the Movie:Treasure of the Lost Lamp</td>\n",
       "      <td>DuckTales: The Movie - Treasure of the Lost Lamp</td>\n",
       "    </tr>\n",
       "    <tr>\n",
       "      <th>...</th>\n",
       "      <td>...</td>\n",
       "      <td>...</td>\n",
       "    </tr>\n",
       "    <tr>\n",
       "      <th>5956</th>\n",
       "      <td>Chips</td>\n",
       "      <td>CHiPS</td>\n",
       "    </tr>\n",
       "    <tr>\n",
       "      <th>5971</th>\n",
       "      <td>Spark</td>\n",
       "      <td>Spark: A Space Tail</td>\n",
       "    </tr>\n",
       "    <tr>\n",
       "      <th>5994</th>\n",
       "      <td>Pirates of the Caribbean:Dead Men Tell No Tales</td>\n",
       "      <td>Pirates of the Caribbean: Dead Men Tell No Tales</td>\n",
       "    </tr>\n",
       "    <tr>\n",
       "      <th>6023</th>\n",
       "      <td>Valerian and the Cityof a Thousand Planets</td>\n",
       "      <td>Valerian and the City of a Thousand Planets</td>\n",
       "    </tr>\n",
       "    <tr>\n",
       "      <th>6028</th>\n",
       "      <td>An Inconvenient Sequel:Truth to Power</td>\n",
       "      <td>An Inconvenient Sequel: Truth to Power</td>\n",
       "    </tr>\n",
       "  </tbody>\n",
       "</table>\n",
       "<p>438 rows × 2 columns</p>\n",
       "</div>"
      ],
      "text/plain": [
       "                                           title_wiki  \\\n",
       "27                                          China Cry   \n",
       "36               Daddy's Dyin' ...Who's Got the Will?   \n",
       "38                          The Dark Side of the Moon   \n",
       "42                                      Delta Force 2   \n",
       "48      DuckTales the Movie:Treasure of the Lost Lamp   \n",
       "...                                               ...   \n",
       "5956                                            Chips   \n",
       "5971                                            Spark   \n",
       "5994  Pirates of the Caribbean:Dead Men Tell No Tales   \n",
       "6023       Valerian and the Cityof a Thousand Planets   \n",
       "6028            An Inconvenient Sequel:Truth to Power   \n",
       "\n",
       "                                          title_kaggle  \n",
       "27                             China Cry: A True Story  \n",
       "36                Daddy's Dyin'... Who's Got the Will?  \n",
       "38                           The Dark Side of The Moon  \n",
       "42             Delta Force 2: The Colombian Connection  \n",
       "48    DuckTales: The Movie - Treasure of the Lost Lamp  \n",
       "...                                                ...  \n",
       "5956                                             CHiPS  \n",
       "5971                               Spark: A Space Tail  \n",
       "5994  Pirates of the Caribbean: Dead Men Tell No Tales  \n",
       "6023       Valerian and the City of a Thousand Planets  \n",
       "6028            An Inconvenient Sequel: Truth to Power  \n",
       "\n",
       "[438 rows x 2 columns]"
      ]
     },
     "execution_count": 225,
     "metadata": {},
     "output_type": "execute_result"
    }
   ],
   "source": [
    "# review where titles do not match\n",
    "movies_df[movies_df['title_wiki'] != movies_df['title_kaggle']][['title_wiki','title_kaggle']]"
   ]
  },
  {
   "cell_type": "code",
   "execution_count": null,
   "metadata": {},
   "outputs": [],
   "source": []
  },
  {
   "cell_type": "code",
   "execution_count": 232,
   "metadata": {
    "execution": {
     "iopub.execute_input": "2020-11-19T17:06:33.657956Z",
     "iopub.status.busy": "2020-11-19T17:06:33.656958Z",
     "iopub.status.idle": "2020-11-19T17:06:33.687061Z",
     "shell.execute_reply": "2020-11-19T17:06:33.687061Z",
     "shell.execute_reply.started": "2020-11-19T17:06:33.657956Z"
    }
   },
   "outputs": [
    {
     "data": {
      "text/html": [
       "<div>\n",
       "<style scoped>\n",
       "    .dataframe tbody tr th:only-of-type {\n",
       "        vertical-align: middle;\n",
       "    }\n",
       "\n",
       "    .dataframe tbody tr th {\n",
       "        vertical-align: top;\n",
       "    }\n",
       "\n",
       "    .dataframe thead th {\n",
       "        text-align: right;\n",
       "    }\n",
       "</style>\n",
       "<table border=\"1\" class=\"dataframe\">\n",
       "  <thead>\n",
       "    <tr style=\"text-align: right;\">\n",
       "      <th></th>\n",
       "      <th>url</th>\n",
       "      <th>year</th>\n",
       "      <th>imdb_link</th>\n",
       "      <th>title_wiki</th>\n",
       "      <th>Based on</th>\n",
       "      <th>Starring</th>\n",
       "      <th>Cinematography</th>\n",
       "      <th>Release date</th>\n",
       "      <th>Country</th>\n",
       "      <th>Language</th>\n",
       "      <th>...</th>\n",
       "      <th>release_date_kaggle</th>\n",
       "      <th>revenue</th>\n",
       "      <th>runtime</th>\n",
       "      <th>spoken_languages</th>\n",
       "      <th>status</th>\n",
       "      <th>tagline</th>\n",
       "      <th>title_kaggle</th>\n",
       "      <th>video</th>\n",
       "      <th>vote_average</th>\n",
       "      <th>vote_count</th>\n",
       "    </tr>\n",
       "  </thead>\n",
       "  <tbody>\n",
       "  </tbody>\n",
       "</table>\n",
       "<p>0 rows × 44 columns</p>\n",
       "</div>"
      ],
      "text/plain": [
       "Empty DataFrame\n",
       "Columns: [url, year, imdb_link, title_wiki, Based on, Starring, Cinematography, Release date, Country, Language, Box office, Director, Distributor, Editor(s), Composer(s), Producer(s), Production company(s), Writer(s), imdb_id, budget_wiki, release_date_wiki, running_time, belongs_to_collection, budget_kaggle, genres, homepage, id, original_language, original_title, overview, popularity, poster_path, production_companies, production_countries, release_date_kaggle, revenue, runtime, spoken_languages, status, tagline, title_kaggle, video, vote_average, vote_count]\n",
       "Index: []\n",
       "\n",
       "[0 rows x 44 columns]"
      ]
     },
     "execution_count": 232,
     "metadata": {},
     "output_type": "execute_result"
    },
    {
     "data": {
      "text/html": [
       "<div>\n",
       "<style scoped>\n",
       "    .dataframe tbody tr th:only-of-type {\n",
       "        vertical-align: middle;\n",
       "    }\n",
       "\n",
       "    .dataframe tbody tr th {\n",
       "        vertical-align: top;\n",
       "    }\n",
       "\n",
       "    .dataframe thead th {\n",
       "        text-align: right;\n",
       "    }\n",
       "</style>\n",
       "<table border=\"1\" class=\"dataframe\">\n",
       "  <thead>\n",
       "    <tr style=\"text-align: right;\">\n",
       "      <th></th>\n",
       "      <th>url</th>\n",
       "      <th>year</th>\n",
       "      <th>imdb_link</th>\n",
       "      <th>title_wiki</th>\n",
       "      <th>Based on</th>\n",
       "      <th>Starring</th>\n",
       "      <th>Cinematography</th>\n",
       "      <th>Release date</th>\n",
       "      <th>Country</th>\n",
       "      <th>Language</th>\n",
       "      <th>...</th>\n",
       "      <th>release_date_kaggle</th>\n",
       "      <th>revenue</th>\n",
       "      <th>runtime</th>\n",
       "      <th>spoken_languages</th>\n",
       "      <th>status</th>\n",
       "      <th>tagline</th>\n",
       "      <th>title_kaggle</th>\n",
       "      <th>video</th>\n",
       "      <th>vote_average</th>\n",
       "      <th>vote_count</th>\n",
       "    </tr>\n",
       "  </thead>\n",
       "  <tbody>\n",
       "  </tbody>\n",
       "</table>\n",
       "<p>0 rows × 44 columns</p>\n",
       "</div>"
      ],
      "text/plain": [
       "Empty DataFrame\n",
       "Columns: [url, year, imdb_link, title_wiki, Based on, Starring, Cinematography, Release date, Country, Language, Box office, Director, Distributor, Editor(s), Composer(s), Producer(s), Production company(s), Writer(s), imdb_id, budget_wiki, release_date_wiki, running_time, belongs_to_collection, budget_kaggle, genres, homepage, id, original_language, original_title, overview, popularity, poster_path, production_companies, production_countries, release_date_kaggle, revenue, runtime, spoken_languages, status, tagline, title_kaggle, video, vote_average, vote_count]\n",
       "Index: []\n",
       "\n",
       "[0 rows x 44 columns]"
      ]
     },
     "execution_count": 232,
     "metadata": {},
     "output_type": "execute_result"
    }
   ],
   "source": [
    "# Show any rows where titles are empty is empty\n",
    "movies_df[(movies_df['title_kaggle'] == '') | (movies_df['title_kaggle'].isnull())]\n",
    "\n",
    "movies_df[(movies_df['title_wiki'] == '') | (movies_df['title_wiki'].isnull())]"
   ]
  },
  {
   "cell_type": "markdown",
   "metadata": {},
   "source": [
    "> resolution: Drop wiki titles\n",
    "\n",
    "> runtime "
   ]
  },
  {
   "cell_type": "code",
   "execution_count": 234,
   "metadata": {
    "execution": {
     "iopub.execute_input": "2020-11-19T17:33:20.017713Z",
     "iopub.status.busy": "2020-11-19T17:33:20.017713Z",
     "iopub.status.idle": "2020-11-19T17:33:21.322175Z",
     "shell.execute_reply": "2020-11-19T17:33:21.322175Z",
     "shell.execute_reply.started": "2020-11-19T17:33:20.017713Z"
    }
   },
   "outputs": [
    {
     "data": {
      "text/plain": [
       "<AxesSubplot:xlabel='running_time', ylabel='runtime'>"
      ]
     },
     "execution_count": 234,
     "metadata": {},
     "output_type": "execute_result"
    },
    {
     "data": {
      "image/png": "[encoded data removed]",
      "text/plain": [
       "<Figure size 432x288 with 1 Axes>"
      ]
     },
     "metadata": {
      "needs_background": "light"
     },
     "output_type": "display_data"
    }
   ],
   "source": [
    "# fill in missing values with 0, so that they are shown when plotting (plots do not show null values by default)\n",
    "# Any wildly different values will show up as dots far from that central line, and if one column is missing data, those values will fall on the x-axis or y-axis.\n",
    "# the more values match, the cleaner and more central of a line would be produced\n",
    "movies_df.fillna(0).plot(x='running_time', y='runtime', kind='scatter')"
   ]
  },
  {
   "cell_type": "markdown",
   "metadata": {
    "execution": {
     "iopub.execute_input": "2020-11-19T17:38:56.462120Z",
     "iopub.status.busy": "2020-11-19T17:38:56.461102Z",
     "iopub.status.idle": "2020-11-19T17:38:56.467090Z",
     "shell.execute_reply": "2020-11-19T17:38:56.466114Z",
     "shell.execute_reply.started": "2020-11-19T17:38:56.462120Z"
    }
   },
   "source": [
    "> There are more 0 on the y-axis(wiki) than the x_axis(kaggle)<br> \n",
    "> most of the runtimes are pretty close to each other but the Wikipedia data has some outliers, <br>\n",
    "> Resolution: Keep Kaggle; fill in zeros with Wikipedia data."
   ]
  },
  {
   "cell_type": "code",
   "execution_count": null,
   "metadata": {},
   "outputs": [],
   "source": []
  }
 ],
 "metadata": {
  "kernelspec": {
   "display_name": "PythonData",
   "language": "python",
   "name": "pythondata"
  },
  "language_info": {
   "codemirror_mode": {
    "name": "ipython",
    "version": 3
   },
   "file_extension": ".py",
   "mimetype": "text/x-python",
   "name": "python",
   "nbconvert_exporter": "python",
   "pygments_lexer": "ipython3",
   "version": "3.7.9"
  },
  "toc-autonumbering": false,
  "toc-showcode": false,
  "toc-showmarkdowntxt": true
 },
 "nbformat": 4,
 "nbformat_minor": 4
}
